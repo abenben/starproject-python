{
  "nbformat": 4,
  "nbformat_minor": 0,
  "metadata": {
    "colab": {
      "name": " tutorial05.ipynb",
      "provenance": [],
      "collapsed_sections": [],
      "toc_visible": true,
      "include_colab_link": true
    },
    "kernelspec": {
      "name": "python3",
      "display_name": "Python 3"
    }
  },
  "cells": [
    {
      "cell_type": "markdown",
      "metadata": {
        "id": "view-in-github",
        "colab_type": "text"
      },
      "source": [
        "<a href=\"https://colab.research.google.com/github/abenben/starproject-python/blob/master/tutorial05.ipynb\" target=\"_parent\"><img src=\"https://colab.research.google.com/assets/colab-badge.svg\" alt=\"Open In Colab\"/></a>"
      ]
    },
    {
      "cell_type": "markdown",
      "metadata": {
        "id": "vGWEolnGYIUx",
        "colab_type": "text"
      },
      "source": [
        "**Python基礎講座（4日目）**\n",
        "\n",
        "* [「Python・ブロックチェーン講座」の日程](https://www.facebook.com/photo.php?fbid=1186715631679052&set=gm.752573365315679&type=3&theater&ifg=1)"
      ]
    },
    {
      "cell_type": "markdown",
      "metadata": {
        "id": "lyPRjmkAkvEs",
        "colab_type": "text"
      },
      "source": [
        "---\n",
        "---\n",
        "----\n",
        "# 前回学んだこと\n",
        "---\n",
        "---\n",
        "---"
      ]
    },
    {
      "cell_type": "markdown",
      "metadata": {
        "id": "zKEvQy3qkx7o",
        "colab_type": "text"
      },
      "source": [
        "\n",
        "## 講義のチュートリアル、講義の一覧\n",
        "\n",
        "* 前回（3日目のチュートリアル）\n",
        " * https://github.com/abenben/starproject-python/blob/master/tutorial04.ipynb\n",
        "\n",
        "* [講義の一覧](https://github.com/abenben/starproject-python#3%E3%83%81%E3%83%A5%E3%83%BC%E3%83%88%E3%83%AA%E3%82%A2%E3%83%AB)\n"
      ]
    },
    {
      "cell_type": "markdown",
      "metadata": {
        "id": "GFuFKxqGkz0I",
        "colab_type": "text"
      },
      "source": [
        "## 前回講義のトピック\n",
        "\n",
        "### データ構造（コレクション）\n",
        "\n",
        "* リスト\n",
        "* タプル\n",
        "* セット（集合）\n",
        "* 辞書\n",
        "* numpy\n",
        "*　その他\n",
        "    * グラフ（mathplotlib）の表示\n",
        "    * 乱数の生成\n",
        "\n",
        "### 関数\n",
        "\n",
        "* 関数の作成\n",
        "* 関数の引数\n",
        "* 関数の戻り値"
      ]
    },
    {
      "cell_type": "markdown",
      "metadata": {
        "id": "hx_q8Fk2ijUi",
        "colab_type": "text"
      },
      "source": [
        "---\n",
        "---\n",
        "---\n",
        "# イベントご案内\n",
        "---\n",
        "---\n",
        "---\n",
        "\n",
        "* Pythonイベント(1)\n",
        "    * 2020.10.14(水) 19:00-21:00\n",
        "    * 『みんなのPython勉強会#62』\n",
        "    * https://startpython.connpass.com/event/187062\n",
        "* ブロックチェーンイベント(1)\n",
        "    * 2020.10.13(火) 19:00-21:00\n",
        "    * STARプロジェクトブロックチェーン講義 Vol.2\n",
        "    * タイトル：『（仮）ブロックチェーンビジネス、トークンエコノミー』\n",
        "    * 講師： [株式会社アヤナス](https://www.ayanasu.co/) 代表取締役 川本栄介\n",
        "    * （紹介はSTARプロジェクトFacebookから後日案内します）\n",
        "* フィンテック・金融イベント(1)\n",
        "    * 地方創生と地方金融（企画中）\n",
        "* その他イベント(1)\n",
        "    * 2020.09.30(水) 19:30-21:30\n",
        "    * カテゴリ：デザイン経営\n",
        "    * 『VUCA labo #006 篠原稔和さん「不確実な時代のデザインの役割」』\n",
        "    * https://vucalabo.connpass.com/event/188243/\n",
        "        * (有料ですが若干招待枠があるので個別に連絡下さい。)"
      ]
    },
    {
      "cell_type": "markdown",
      "metadata": {
        "id": "yB-pe2igk_R1",
        "colab_type": "text"
      },
      "source": [
        "---\n",
        "---\n",
        "---\n",
        "# 今日やること（一覧）\n",
        "---\n",
        "---\n",
        "---\n",
        "\n",
        "## 1.ファイル操作\n",
        "\n",
        "* Google Colab特有の前提知識共有\n",
        "* ファイル操作\n",
        "    * ファイル読み込み\n",
        "    * ファイル書き込み\n",
        "\n",
        "## 2.前回までの講義の補足説明\n",
        "\n",
        "*  データ構造\n",
        "    * sum()関数\n",
        "* 関数\n",
        "    * デフォルト引数\n",
        "    * 無名関数\n",
        "* エラー処理\n",
        "    * 例外\n",
        "    * try...catch\n",
        "\n",
        "## 3.標準ライブラリ（その1）\n",
        "\n",
        "* 標準ライブラリの一覧\n",
        "* OS モジュール\n",
        "* PathLib モジュール\n",
        "* Zip モジュール\n",
        "* 正規表現(re) モジュール\n",
        "* datetime<*復習> モジュール\n",
        "* json モジュール\n",
        "\n",
        "## 4.いろんなファイルの操作\n",
        "\n",
        "* CSVファイル\n",
        "* Excelファイル\n",
        "* PDFファイル\n",
        "* Word,Power Point\n",
        "* Google スプレッドシート"
      ]
    },
    {
      "cell_type": "markdown",
      "metadata": {
        "colab_type": "text",
        "id": "C2oU4zK9lO2n"
      },
      "source": [
        "---\n",
        "---\n",
        "---\n",
        "本日の講義\n",
        "---\n",
        "---\n",
        "---\n",
        "---\n"
      ]
    },
    {
      "cell_type": "markdown",
      "metadata": {
        "id": "BUfkwIDS5qrs",
        "colab_type": "text"
      },
      "source": [
        "# 1.ファイル操作"
      ]
    },
    {
      "cell_type": "markdown",
      "metadata": {
        "colab_type": "text",
        "id": "GkX912ERlTzK"
      },
      "source": [
        "## 1.1 はじめに\n",
        "\n",
        "プログラムにはなんらかの入出力が不可欠です。ここでは入力元、出力先としてファイルを操作する方法を説明します。\n",
        "\n",
        "ファイル操作の手順\n",
        "\n",
        "1. ファイルは必ずオープンする必要がある。\n",
        "\n",
        "2. ファイルを読み込んだり、書き込んだり（または追加）できる。\n",
        "\n",
        "3. ファイルはクローズする必要がある。\n"
      ]
    },
    {
      "cell_type": "markdown",
      "metadata": {
        "colab_type": "text",
        "id": "nPEH__x9toSJ"
      },
      "source": [
        "## 1.2 事前準備（おまじない）\n",
        "\n",
        "事前に講師が準備したファイルをGoogle Colabの環境上にアップロードします。\n",
        "\n",
        "以下のコマンドは、本講義の本題とは関係ありませんが、Web上から何らかのファイルを取得するときの方法としてもご参考下さい。\n",
        "\n",
        "では、さっそく csvファイルやtsvファイルをダウンロードします。以下のコマンドをそれぞれ実行して下さい。\n",
        "\n",
        "```bash\n",
        "▶ !rm store.csv store.tsv sample_word.docx store.xlsx\n",
        "▶ !wget https://github.com/abenben/starproject-python/raw/master/sampledata/tutorial05/sample.txt\n",
        "▶ !wget https://github.com/abenben/starproject-python/raw/master/sampledata/tutorial05/store.csv\n",
        "▶ !wget https://github.com/abenben/starproject-python/raw/master/sampledata/tutorial05/store.tsv\n",
        "▶ !wget https://github.com/abenben/starproject-python/raw/master/sampledata/tutorial05/sample_word.docx\n",
        "▶ !wget https://github.com/abenben/starproject-python/raw/master/sampledata/tutorial05/store.xlsx\n",
        "▶ !ls\n",
        "sample_data store.csv store.tsv store.xlsx sample_word.docx\n",
        "```\n",
        "（そのまま以下のコマンドを実行してください）"
      ]
    },
    {
      "cell_type": "code",
      "metadata": {
        "id": "3teBhUKXr-cc",
        "colab_type": "code",
        "colab": {
          "base_uri": "https://localhost:8080/",
          "height": 1000
        },
        "outputId": "96c95d1f-e5af-4775-99a5-337b6582604d"
      },
      "source": [
        "!rm sample.txt store.csv store.tsv sample_word.docx store.xlsx\n",
        "!wget https://github.com/abenben/starproject-python/raw/master/sampledata/tutorial05/sample.txt\n",
        "!wget https://github.com/abenben/starproject-python/raw/master/sampledata/tutorial05/store.csv\n",
        "!wget https://github.com/abenben/starproject-python/raw/master/sampledata/tutorial05/store.tsv\n",
        "!wget https://github.com/abenben/starproject-python/raw/master/sampledata/tutorial05/sample_word.docx\n",
        "!wget https://github.com/abenben/starproject-python/raw/master/sampledata/tutorial05/store.xlsx\n",
        "!ls"
      ],
      "execution_count": 92,
      "outputs": [
        {
          "output_type": "stream",
          "text": [
            "--2020-09-15 07:23:54--  https://github.com/abenben/starproject-python/raw/master/sampledata/tutorial05/sample.txt\n",
            "Resolving github.com (github.com)... 140.82.113.3\n",
            "Connecting to github.com (github.com)|140.82.113.3|:443... connected.\n",
            "HTTP request sent, awaiting response... 302 Found\n",
            "Location: https://raw.githubusercontent.com/abenben/starproject-python/master/sampledata/tutorial05/sample.txt [following]\n",
            "--2020-09-15 07:23:54--  https://raw.githubusercontent.com/abenben/starproject-python/master/sampledata/tutorial05/sample.txt\n",
            "Resolving raw.githubusercontent.com (raw.githubusercontent.com)... 151.101.0.133, 151.101.64.133, 151.101.128.133, ...\n",
            "Connecting to raw.githubusercontent.com (raw.githubusercontent.com)|151.101.0.133|:443... connected.\n",
            "HTTP request sent, awaiting response... 200 OK\n",
            "Length: 2291 (2.2K) [text/plain]\n",
            "Saving to: ‘sample.txt’\n",
            "\n",
            "\rsample.txt            0%[                    ]       0  --.-KB/s               \rsample.txt          100%[===================>]   2.24K  --.-KB/s    in 0s      \n",
            "\n",
            "2020-09-15 07:23:54 (30.4 MB/s) - ‘sample.txt’ saved [2291/2291]\n",
            "\n",
            "--2020-09-15 07:23:54--  https://github.com/abenben/starproject-python/raw/master/sampledata/tutorial05/store.csv\n",
            "Resolving github.com (github.com)... 140.82.113.3\n",
            "Connecting to github.com (github.com)|140.82.113.3|:443... connected.\n",
            "HTTP request sent, awaiting response... 302 Found\n",
            "Location: https://raw.githubusercontent.com/abenben/starproject-python/master/sampledata/tutorial05/store.csv [following]\n",
            "--2020-09-15 07:23:54--  https://raw.githubusercontent.com/abenben/starproject-python/master/sampledata/tutorial05/store.csv\n",
            "Resolving raw.githubusercontent.com (raw.githubusercontent.com)... 151.101.0.133, 151.101.64.133, 151.101.128.133, ...\n",
            "Connecting to raw.githubusercontent.com (raw.githubusercontent.com)|151.101.0.133|:443... connected.\n",
            "HTTP request sent, awaiting response... 200 OK\n",
            "Length: 171 [text/plain]\n",
            "Saving to: ‘store.csv’\n",
            "\n",
            "store.csv           100%[===================>]     171  --.-KB/s    in 0s      \n",
            "\n",
            "2020-09-15 07:23:54 (5.02 MB/s) - ‘store.csv’ saved [171/171]\n",
            "\n",
            "--2020-09-15 07:23:54--  https://github.com/abenben/starproject-python/raw/master/sampledata/tutorial05/store.tsv\n",
            "Resolving github.com (github.com)... 140.82.113.3\n",
            "Connecting to github.com (github.com)|140.82.113.3|:443... connected.\n",
            "HTTP request sent, awaiting response... 302 Found\n",
            "Location: https://raw.githubusercontent.com/abenben/starproject-python/master/sampledata/tutorial05/store.tsv [following]\n",
            "--2020-09-15 07:23:54--  https://raw.githubusercontent.com/abenben/starproject-python/master/sampledata/tutorial05/store.tsv\n",
            "Resolving raw.githubusercontent.com (raw.githubusercontent.com)... 151.101.0.133, 151.101.64.133, 151.101.128.133, ...\n",
            "Connecting to raw.githubusercontent.com (raw.githubusercontent.com)|151.101.0.133|:443... connected.\n",
            "HTTP request sent, awaiting response... 200 OK\n",
            "Length: 163 [text/plain]\n",
            "Saving to: ‘store.tsv’\n",
            "\n",
            "store.tsv           100%[===================>]     163  --.-KB/s    in 0s      \n",
            "\n",
            "2020-09-15 07:23:54 (6.60 MB/s) - ‘store.tsv’ saved [163/163]\n",
            "\n",
            "--2020-09-15 07:23:54--  https://github.com/abenben/starproject-python/raw/master/sampledata/tutorial05/sample_word.docx\n",
            "Resolving github.com (github.com)... 140.82.113.3\n",
            "Connecting to github.com (github.com)|140.82.113.3|:443... connected.\n",
            "HTTP request sent, awaiting response... 302 Found\n",
            "Location: https://raw.githubusercontent.com/abenben/starproject-python/master/sampledata/tutorial05/sample_word.docx [following]\n",
            "--2020-09-15 07:23:55--  https://raw.githubusercontent.com/abenben/starproject-python/master/sampledata/tutorial05/sample_word.docx\n",
            "Resolving raw.githubusercontent.com (raw.githubusercontent.com)... 151.101.0.133, 151.101.64.133, 151.101.128.133, ...\n",
            "Connecting to raw.githubusercontent.com (raw.githubusercontent.com)|151.101.0.133|:443... connected.\n",
            "HTTP request sent, awaiting response... 200 OK\n",
            "Length: 14557 (14K) [application/octet-stream]\n",
            "Saving to: ‘sample_word.docx’\n",
            "\n",
            "sample_word.docx    100%[===================>]  14.22K  --.-KB/s    in 0.01s   \n",
            "\n",
            "2020-09-15 07:23:55 (1.17 MB/s) - ‘sample_word.docx’ saved [14557/14557]\n",
            "\n",
            "--2020-09-15 07:23:55--  https://github.com/abenben/starproject-python/raw/master/sampledata/tutorial05/store.xlsx\n",
            "Resolving github.com (github.com)... 140.82.113.4\n",
            "Connecting to github.com (github.com)|140.82.113.4|:443... connected.\n",
            "HTTP request sent, awaiting response... 302 Found\n",
            "Location: https://raw.githubusercontent.com/abenben/starproject-python/master/sampledata/tutorial05/store.xlsx [following]\n",
            "--2020-09-15 07:23:55--  https://raw.githubusercontent.com/abenben/starproject-python/master/sampledata/tutorial05/store.xlsx\n",
            "Resolving raw.githubusercontent.com (raw.githubusercontent.com)... 151.101.0.133, 151.101.64.133, 151.101.128.133, ...\n",
            "Connecting to raw.githubusercontent.com (raw.githubusercontent.com)|151.101.0.133|:443... connected.\n",
            "HTTP request sent, awaiting response... 200 OK\n",
            "Length: 10003 (9.8K) [application/octet-stream]\n",
            "Saving to: ‘store.xlsx’\n",
            "\n",
            "store.xlsx          100%[===================>]   9.77K  --.-KB/s    in 0s      \n",
            "\n",
            "2020-09-15 07:23:55 (43.9 MB/s) - ‘store.xlsx’ saved [10003/10003]\n",
            "\n",
            "extract_dir  sample_data  sample_word.docx    store.csv  store.xlsx\n",
            "hello.txt    sample.txt   sample_word.docx.1  store.tsv  test.zip\n"
          ],
          "name": "stdout"
        }
      ]
    },
    {
      "cell_type": "markdown",
      "metadata": {
        "id": "nrzmOSIgDDKg",
        "colab_type": "text"
      },
      "source": [
        "## 1.3 ファイルの読み込み"
      ]
    },
    {
      "cell_type": "markdown",
      "metadata": {
        "id": "DjzVdGun6j-W",
        "colab_type": "text"
      },
      "source": [
        "### 1.3.1 ファイル全体をまとめて読み込む\n",
        "\n",
        "**read()メソッド**\n",
        "\n",
        "```python\n",
        "▶ f = open('sample.txt')\n",
        "▶ data = f.read()\n",
        "▶ print(data)\n",
        "▶ f.close()\n",
        "（ファイルの内容が表示）\n",
        "```\n",
        "[テキスト](https://github.com/abenben/starproject-python/blob/master/sampledata/tutorial05/sample.txt)の内容が表示されます。\n",
        "\n",
        "（コードを書いて実際に確認してみよう）"
      ]
    },
    {
      "cell_type": "code",
      "metadata": {
        "id": "4dOv7Wch_HYH",
        "colab_type": "code",
        "colab": {}
      },
      "source": [
        "# （ここに記述）"
      ],
      "execution_count": null,
      "outputs": []
    },
    {
      "cell_type": "markdown",
      "metadata": {
        "colab_type": "text",
        "id": "JYNKaPgxEGyZ"
      },
      "source": [
        "### 1.3.2 テキストファイルを1行だけ読み込む\n",
        "\n",
        "**readline()メソッド**\n",
        "\n",
        "```python\n",
        "▶ f = open('sample.txt','r')\n",
        "▶ data = f.readline()\n",
        "▶ print(data)\n",
        "▶ f.close()\n",
        "（ファイルの内容が表示）\n",
        "```\n",
        "\n",
        "（コードを書いて実際に確認してみよう）"
      ]
    },
    {
      "cell_type": "code",
      "metadata": {
        "colab_type": "code",
        "id": "CzuFfZaaEeyS",
        "colab": {}
      },
      "source": [
        "# （ここに記述）"
      ],
      "execution_count": null,
      "outputs": []
    },
    {
      "cell_type": "markdown",
      "metadata": {
        "colab_type": "text",
        "id": "cWTamY53EHH_"
      },
      "source": [
        "### 1.3.3 テキストファイルを一気にまとめて読み込む\n",
        "\n",
        "**readlines()メソッド**\n",
        "\n",
        "```python\n",
        "▶ f = open('sample.txt','r')\n",
        "▶ data = f.readlines()\n",
        "▶ print(data)\n",
        "▶ f.close()\n",
        "（ファイルの内容が表示）\n",
        "```\n",
        "\n",
        "（コードを書いて実際に確認してみよう）"
      ]
    },
    {
      "cell_type": "code",
      "metadata": {
        "colab_type": "code",
        "id": "e7HWKJ5jFPtM",
        "colab": {}
      },
      "source": [
        "# （ここに記述）"
      ],
      "execution_count": null,
      "outputs": []
    },
    {
      "cell_type": "markdown",
      "metadata": {
        "colab_type": "text",
        "id": "bgZPqWauEX4_"
      },
      "source": [
        "### 1.3.4 テキストファイルを一行ずつ読み込む\n",
        "\n",
        "**ストリーム**\n",
        "\n",
        "```python\n",
        "▶ f = open('sample.txt')\n",
        "▶ for line in f:\n",
        "▶     print(line.strip())\n",
        "▶ f.close()\n",
        "（ファイルの内容が表示）\n",
        "```\n",
        "\n",
        "（コードを書いて実際に確認してみよう）"
      ]
    },
    {
      "cell_type": "code",
      "metadata": {
        "colab_type": "code",
        "id": "616oWc1KEf5U",
        "colab": {}
      },
      "source": [
        "# （ここに記述）"
      ],
      "execution_count": null,
      "outputs": []
    },
    {
      "cell_type": "markdown",
      "metadata": {
        "id": "Zh6YfqGvG-ZC",
        "colab_type": "text"
      },
      "source": [
        "## 1.4 ファイルの書き込み"
      ]
    },
    {
      "cell_type": "markdown",
      "metadata": {
        "id": "6EJbsUgo6ubK",
        "colab_type": "text"
      },
      "source": [
        "## 1.4.1 テキストファイルの新規書き込み\n",
        "\n",
        "open()の引数modeを'w'とすると書き込み用としてファイルが開かれる。\n",
        "\n",
        "**（ファイルの新規書き込み）**\n",
        "\n",
        "```python\n",
        "▶ f = open('hello.txt', mode='w')\n",
        "▶ f.write(\"hello\")\n",
        "▶ f.write(\"hogehoge\")\n",
        "▶ f.close()\n",
        "```\n",
        "（コードを書いて実際に確認してみよう）"
      ]
    },
    {
      "cell_type": "code",
      "metadata": {
        "colab_type": "code",
        "id": "ULGTZqwi83FW",
        "colab": {}
      },
      "source": [
        "# （ここに記述）"
      ],
      "execution_count": 11,
      "outputs": []
    },
    {
      "cell_type": "markdown",
      "metadata": {
        "id": "HyAIV7YItPII",
        "colab_type": "text"
      },
      "source": [
        "ファイルの中身を確認すると、\"hello\"と\"hogehoge\"の文字がくっついてるのが確認できる。\n",
        "\n",
        "これだと、わかりずらいですよね。\n",
        "\n",
        "```bash\n",
        "▶ !cat hello.txt\n",
        "hellohogehoge\n",
        "```\n"
      ]
    },
    {
      "cell_type": "code",
      "metadata": {
        "id": "-hLOPkUgtUzV",
        "colab_type": "code",
        "colab": {
          "base_uri": "https://localhost:8080/",
          "height": 51
        },
        "outputId": "7359073b-4291-4fb7-80d1-71cc0df6bb92"
      },
      "source": [
        "# このまま実行しましょう\n",
        "!cat hello.txt"
      ],
      "execution_count": 8,
      "outputs": [
        {
          "output_type": "stream",
          "text": [
            "hello\n",
            "hogehoge\n"
          ],
          "name": "stdout"
        }
      ]
    },
    {
      "cell_type": "markdown",
      "metadata": {
        "id": "hu8TP4m_vfUZ",
        "colab_type": "text"
      },
      "source": [
        "open()の引数modeを'w'とすると書き込み用としてファイルが開かれる。\n",
        "\n",
        "**（ファイルの新規書き込み〜改行付き）**\n",
        "\n",
        "```python\n",
        "▶ f = open('hello.txt', mode='w')\n",
        "▶ f.write(\"hello\\n\")\n",
        "▶ f.write(\"hogehoge\\n\")\n",
        "▶ f.close()\n",
        "```\n",
        "（コードを書いて実際に確認してみよう）"
      ]
    },
    {
      "cell_type": "code",
      "metadata": {
        "colab_type": "code",
        "id": "38HBXESJujUx",
        "colab": {}
      },
      "source": [
        "# （ここに記述）"
      ],
      "execution_count": 14,
      "outputs": []
    },
    {
      "cell_type": "markdown",
      "metadata": {
        "id": "Ff-U364Bu0u3",
        "colab_type": "text"
      },
      "source": [
        "再びファイルの中身を確認すると、\"hello\"と\"hogehoge\"でそれそれ改行されてます。\n",
        "\n",
        "```bash\n",
        "▶ !cat hello.txt\n",
        "hello\n",
        "hogehoge\n",
        "```\n"
      ]
    },
    {
      "cell_type": "code",
      "metadata": {
        "colab_type": "code",
        "id": "Wlk7Nzicuvq4",
        "colab": {}
      },
      "source": [
        "# このまま実行しましょう\n",
        "!cat hello.txt"
      ],
      "execution_count": null,
      "outputs": []
    },
    {
      "cell_type": "markdown",
      "metadata": {
        "colab_type": "text",
        "id": "DDTbWt0fHGS6"
      },
      "source": [
        "## 1.4.2 テキストファイルの追加書き込み\n",
        "\n",
        "open()の引数modeを'a'とすると追記モードでファイルが開かれる。\n",
        "\n",
        "**（★コードの説明）**\n",
        "\n",
        "```python\n",
        "▶ f = open('hello.txt', mode='a')\n",
        "▶ f.write(\"fugafuga\\n\")\n",
        "▶ f.close()\n",
        "hello\n",
        "hogehoge\n",
        "fugafuga\n",
        "```\n",
        "（コードを書いて実際に確認してみよう）"
      ]
    },
    {
      "cell_type": "code",
      "metadata": {
        "colab_type": "code",
        "id": "W_V5AvjJ82b7",
        "colab": {}
      },
      "source": [
        "# （ここに記述）"
      ],
      "execution_count": 17,
      "outputs": []
    },
    {
      "cell_type": "code",
      "metadata": {
        "id": "ngG7SGCiwUVG",
        "colab_type": "code",
        "colab": {}
      },
      "source": [
        "# このまま実行しましょう\n",
        "!cat hello.txt"
      ],
      "execution_count": null,
      "outputs": []
    },
    {
      "cell_type": "markdown",
      "metadata": {
        "id": "ZjmfqBtRHOjO",
        "colab_type": "text"
      },
      "source": [
        "## 1.5 ファイルクローズ忘れを回避する方法\n",
        "\n",
        "withブロックを使うと、ブロックの終了時に自動的にファイルをクローズしてくれます。\n",
        "\n",
        "コレによって、close()を書き漏らしを回避することができます。"
      ]
    },
    {
      "cell_type": "markdown",
      "metadata": {
        "colab_type": "text",
        "id": "Nkhksqo-Hgdi"
      },
      "source": [
        "\n",
        "```python\n",
        "▶ with open('sample.txt','r') as f:\n",
        "▶     for line in f:\n",
        "▶         print(line.strip())\n",
        "（ファイルの内容が表示）\n",
        "```\n",
        "\n",
        "（コードを書いて実際に確認してみよう）"
      ]
    },
    {
      "cell_type": "code",
      "metadata": {
        "colab_type": "code",
        "id": "NMhHG4PKH8Yq",
        "colab": {}
      },
      "source": [
        "# （ここに記述）"
      ],
      "execution_count": null,
      "outputs": []
    },
    {
      "cell_type": "markdown",
      "metadata": {
        "id": "Ftkd4F8YjxQt",
        "colab_type": "text"
      },
      "source": [
        "---\n",
        "---\n",
        "---\n",
        "---\n",
        "---\n",
        "# 2.前回までの説明での補足"
      ]
    },
    {
      "cell_type": "markdown",
      "metadata": {
        "id": "RM8q6CcLjxds",
        "colab_type": "text"
      },
      "source": [
        "## 2.1 はじめに\n",
        "\n",
        "xxxxxx"
      ]
    },
    {
      "cell_type": "markdown",
      "metadata": {
        "colab_type": "text",
        "id": "EEq-fmhJ09U8"
      },
      "source": [
        "## 2.2 データ構造（コレクション）\n",
        "\n",
        "xxxxxx"
      ]
    },
    {
      "cell_type": "markdown",
      "metadata": {
        "colab_type": "text",
        "id": "u_btiSiY1EJ3"
      },
      "source": [
        "### 2.2.1 len()関数とsum()関数\n",
        "\n",
        "Python言語には配列(リスト)の長さを計算するlen関数と、合計を計算するsum関数が用意されています。\n",
        "\n",
        "これまでlen()関数しか説明してなかったので、sum関数も使ってみましょう。\n",
        "\n",
        "**（1から10のリストを作成する）**\n",
        "\n",
        "```python\n",
        "▶ import numpy as np\n",
        "▶ x = np.arange(1,11).tolist()\n",
        "▶ x\n",
        "[1, 2, 3, 4, 5, 6, 7, 8, 9, 10]\n",
        "```\n",
        "（コードを書いて実際に確認してみよう）"
      ]
    },
    {
      "cell_type": "code",
      "metadata": {
        "id": "84bc0j-JxXCH",
        "colab_type": "code",
        "colab": {
          "base_uri": "https://localhost:8080/",
          "height": 34
        },
        "outputId": "95b600fb-f1e9-4e19-8baf-de30b0129b72"
      },
      "source": [
        "# （ここに記述）\n",
        "import numpy as np\n",
        "x = np.arange(1,11).tolist()\n",
        "x"
      ],
      "execution_count": 22,
      "outputs": [
        {
          "output_type": "execute_result",
          "data": {
            "text/plain": [
              "[1, 2, 3, 4, 5, 6, 7, 8, 9, 10]"
            ]
          },
          "metadata": {
            "tags": []
          },
          "execution_count": 22
        }
      ]
    },
    {
      "cell_type": "markdown",
      "metadata": {
        "id": "zgL2qoCVz-Y3",
        "colab_type": "text"
      },
      "source": [
        "len()関数を使うとリストの長さを計算できます。\n",
        "\n",
        "（リストの長さ）\n",
        "\n",
        "```python\n",
        "▶ len(x)\n",
        "10\n",
        "```"
      ]
    },
    {
      "cell_type": "code",
      "metadata": {
        "id": "qlgtgN4w0D0O",
        "colab_type": "code",
        "colab": {}
      },
      "source": [
        "# （ここに記述）"
      ],
      "execution_count": 24,
      "outputs": []
    },
    {
      "cell_type": "markdown",
      "metadata": {
        "colab_type": "text",
        "id": "JzGNr50E0fUU"
      },
      "source": [
        "sum()関数を使うとリストの合計値を計算できます。\n",
        "\n",
        "（リストの合計を計算）\n",
        "\n",
        "```python\n",
        "▶ sum(x)\n",
        "55\n",
        "```"
      ]
    },
    {
      "cell_type": "code",
      "metadata": {
        "colab_type": "code",
        "id": "nX8Ahj-y0o9S",
        "colab": {}
      },
      "source": [
        "# （ここに記述）"
      ],
      "execution_count": 26,
      "outputs": []
    },
    {
      "cell_type": "markdown",
      "metadata": {
        "id": "pZ8aM1kp0-vT",
        "colab_type": "text"
      },
      "source": [
        "平均を計算する。\n",
        "\n",
        "$$\n",
        "\\overline{x} =　 \\frac{1}{N} \\sum_{i=1}^{N}x_{i}\n",
        "$$\n",
        "\n",
        "```python\n",
        "▶ sum(x) / len(x)\n",
        "5.5\n",
        "```"
      ]
    },
    {
      "cell_type": "code",
      "metadata": {
        "id": "GoP4yjZr3dU_",
        "colab_type": "code",
        "colab": {}
      },
      "source": [
        "# （ここに記述）"
      ],
      "execution_count": 28,
      "outputs": []
    },
    {
      "cell_type": "markdown",
      "metadata": {
        "colab_type": "text",
        "id": "PtS3lhVw09iS"
      },
      "source": [
        "## 2.3 関数\n",
        "\n",
        "前回のチュートリアルでは関数を学びました。そこでは関数に引数を指定する方法と、戻り値を返す方法まで紹介しました。今回は引数を省略したり、特定の引数だけに値を設定する方法と、名前を持たない関数を準備する方法を紹介します。"
      ]
    },
    {
      "cell_type": "markdown",
      "metadata": {
        "colab_type": "text",
        "id": "UwQT_tqN1iUo"
      },
      "source": [
        "### 2.3.1 デフォルト引数\n",
        "\n",
        "\n",
        "引数を受け取るように設定した関数で、仮引数に対してデフォルト値を設定しておくと関数を呼び出す時に引数を省略することができます。\n",
        "\n",
        "さらに引数を指定して関数を呼び出す時に、値だけを指定するのではなく関数側で定義されている仮引数の名前を使って 仮引数の名前=値 の形式で指定することができます。このような形式をキーワード引数と呼びます。\n",
        "\n",
        "ここでは引数にデフォルト値やキーワード引数と値を設定する方法について解説します。\n",
        "\n",
        "引き数名を指定して、\n",
        "\n",
        "**（デフォルト引数、キーワード引数に値を設定する例）**\n",
        "\n",
        "```python\n",
        "▶ def myfunc(msg = \"Hello\", times=1):\n",
        "▶     print(msg*times)\n",
        "▶ myfunc()                         #デフォルト値を利用\n",
        "▶ myfunc(\"こんにちは\")\n",
        "▶ myfunc(times=3)                 # キーワード引数で値を指定\n",
        "▶ myfunc(times=5, msg=\"はーい！\")  # キーワード引数で値を指定（引数の順番通りでなくてもOK）\n",
        "Hello\n",
        "こんにちは\n",
        "HelloHelloHello\n",
        "はーい！はーい！はーい！はーい！はーい！\n",
        "```\n",
        "\n",
        "（コードを書いて実際に確認してみよう）"
      ]
    },
    {
      "cell_type": "code",
      "metadata": {
        "id": "gay5vc38HNZA",
        "colab_type": "code",
        "colab": {}
      },
      "source": [
        "def myfunc(msg = \"Hello\", times=1):\n",
        "    print(msg*times)\n",
        "\n",
        "myfunc()\n",
        "myfunc(\"こんにちは\")\n",
        "myfunc(times=3)\n",
        "myfunc(times=5, msg=\"はーい！\")"
      ],
      "execution_count": null,
      "outputs": []
    },
    {
      "cell_type": "markdown",
      "metadata": {
        "colab_type": "text",
        "id": "MqQ9JAsF1ig4"
      },
      "source": [
        "### 2.3.2 無名関数\n",
        "\n",
        "Pythonではdef文で関数を定義するが、lambda（ラムダ式）で名前を持たない無名関数を作成することもできる。\n",
        "\n",
        "lambdaは引数として関数（呼び出し可能なオブジェクト）を指定する場合などに使うと便利です。\n",
        "\n",
        "【def文とlambda式の対応関係】\n",
        "\n",
        "def文による関数定義とそれに相当するラムダ式での無名関数の対応関係は以下のようになります。\n",
        "\n",
        "便宜上、ラムダ式に名前を割り当ててますが、実際には名前をつけることは非推奨となっています。\n",
        "\n",
        "```python\n",
        "def 名前(引数, 引数, ...):\n",
        "    return 式\n",
        "\n",
        "名前 = lambda 引数, 引数, ...: 式\n",
        "```\n",
        "\n",
        "**（def分とlambdaの対応関係）**\n",
        "\n",
        "```python\n",
        "▶ # def関数\n",
        "▶ def add_def(a, b=1):\n",
        "▶     return a + b\n",
        "▶ \n",
        "▶ # lambda\n",
        "▶ add_lambda = lambda a, b=1: a + b\n",
        "▶ \n",
        "▶ print(add_def(3, 4))\n",
        "▶ print(add_def(3))\n",
        "▶ print(add_lambda(3, 4))\n",
        "▶ print(add_lambda(3))\n",
        "7\n",
        "4\n",
        "7\n",
        "4\n",
        "```\n",
        "（コードを書いて実際に確認してみよう）"
      ]
    },
    {
      "cell_type": "code",
      "metadata": {
        "id": "Mg2BXJYINAhw",
        "colab_type": "code",
        "colab": {}
      },
      "source": [
        "# （ここに記述）"
      ],
      "execution_count": 35,
      "outputs": []
    },
    {
      "cell_type": "markdown",
      "metadata": {
        "id": "psUrlqN3P8_5",
        "colab_type": "text"
      },
      "source": [
        "#### (1) 無名関数の使い道1（コレクションをまとめて編集）\n",
        "\n",
        "map関数は、配列オブジェクト内のすべての要素に関数処理を適用するものです。ここの関数処理をLambdaとして準備します。\n",
        "\n",
        "メリットとしては、いちいち関数の名前をつけなくてもいいことです。\n",
        "\n",
        "**map関数の作成例**\n",
        "\n",
        "```python\n",
        "▶ or s in map(lambda i: \"No.\" + str(i), range(1,11)):\n",
        "▶     print(s, end=\"  \")\n",
        "No.1  No.2  No.3  No.4  No.5  No.6  No.7  No.8  No.9  No.10  \n",
        "```\n",
        "（コードを書いて実際に確認してみよう）"
      ]
    },
    {
      "cell_type": "code",
      "metadata": {
        "id": "FZDpxFH1QYwJ",
        "colab_type": "code",
        "colab": {}
      },
      "source": [
        "# （ここに記述）"
      ],
      "execution_count": 39,
      "outputs": []
    },
    {
      "cell_type": "markdown",
      "metadata": {
        "id": "Cid4l2cyQGau",
        "colab_type": "text"
      },
      "source": [
        "#### (2) 無名関数の使い道2（コレクションをフィルターする）\n",
        "\n",
        "filter関数はリストから条件にあった要素のみを取り出すものです。条件の判定する関数処理を準備しますが、Lambdaとして準備します。\n",
        "\n",
        "メリットとしては、いちいち関数の名前をつけなくてもいいことです。\n",
        "\n",
        "**map関数の作成例**\n",
        "\n",
        "```python\n",
        "▶ for s in filter(lambda i: i % 2 == 0, range(1,11)):\n",
        "▶     print(s, end=\"  \")\n",
        "2  4  6  8  10  \n",
        "```\n",
        "（コードを書いて実際に確認してみよう）"
      ]
    },
    {
      "cell_type": "code",
      "metadata": {
        "id": "bWPduMKLQwJd",
        "colab_type": "code",
        "colab": {}
      },
      "source": [
        "# （ここに記述）"
      ],
      "execution_count": 40,
      "outputs": []
    },
    {
      "cell_type": "markdown",
      "metadata": {
        "colab_type": "text",
        "id": "_4GZ5FS5090-"
      },
      "source": [
        "## 2.4 制御構文\n",
        "\n",
        "xxxxxx"
      ]
    },
    {
      "cell_type": "markdown",
      "metadata": {
        "colab_type": "text",
        "id": "3lfo_gbB17U9"
      },
      "source": [
        "### 2.4.1 エラー\n",
        "\n",
        "（★エラーの説明）"
      ]
    },
    {
      "cell_type": "markdown",
      "metadata": {
        "id": "d3v-88Pu7bWf",
        "colab_type": "text"
      },
      "source": [
        "\n",
        "（★説明）\n",
        "\n",
        "**（★コードの説明）**\n",
        "\n",
        "```python\n",
        "▶ （★コード）\n",
        "▶ \n",
        "▶ \n",
        "（★アウトプット）\n",
        "```\n",
        "（コードを書いて実際に確認してみよう）"
      ]
    },
    {
      "cell_type": "markdown",
      "metadata": {
        "colab_type": "text",
        "id": "Z8md6Xr417rD"
      },
      "source": [
        "### 2.4.2 例外の種類\n",
        "\n",
        "xxxxxx"
      ]
    },
    {
      "cell_type": "markdown",
      "metadata": {
        "id": "WsLf0mWR7iHJ",
        "colab_type": "text"
      },
      "source": [
        "\n",
        "（★説明）\n",
        "\n",
        "**（★コードの説明）**\n",
        "\n",
        "```python\n",
        "▶ （★コード）\n",
        "▶ \n",
        "▶ \n",
        "（★アウトプット）\n",
        "```\n",
        "（コードを書いて実際に確認してみよう）"
      ]
    },
    {
      "cell_type": "markdown",
      "metadata": {
        "colab_type": "text",
        "id": "c1HHumkW178p"
      },
      "source": [
        "### 2.4.3 例外のハンドリング\n",
        "\n",
        "\n",
        "（★説明）\n",
        "\n",
        "**（★コードの説明）**\n",
        "\n",
        "```python\n",
        "▶ （★コード）\n",
        "▶ \n",
        "▶ \n",
        "（★アウトプット）\n",
        "```\n",
        "（コードを書いて実際に確認してみよう）"
      ]
    },
    {
      "cell_type": "markdown",
      "metadata": {
        "colab_type": "text",
        "id": "kXUYhd4vlPki"
      },
      "source": [
        "---\n",
        "---\n",
        "---\n",
        "---\n",
        "---\n",
        "# 3.標準ライブラリ"
      ]
    },
    {
      "cell_type": "markdown",
      "metadata": {
        "colab_type": "text",
        "id": "d0gA8loWlUMq"
      },
      "source": [
        "## 3.1 はじめに\n",
        "\n",
        "xxxxxx"
      ]
    },
    {
      "cell_type": "markdown",
      "metadata": {
        "id": "sCKkWAtL4p6K",
        "colab_type": "text"
      },
      "source": [
        "## 3.2 標準ライブラリの一覧\n",
        "\n",
        "xxx\n",
        "\n",
        "|カテゴリ|xxxx|xxxx|\n",
        "|---|---|---|\n",
        "|aaaa|saaa|aaa|"
      ]
    },
    {
      "cell_type": "markdown",
      "metadata": {
        "id": "kbeT6ctT5BHi",
        "colab_type": "text"
      },
      "source": [
        "## 3.3  OS モジュール\n"
      ]
    },
    {
      "cell_type": "markdown",
      "metadata": {
        "id": "l8lRHCQq7pTN",
        "colab_type": "text"
      },
      "source": [
        "\n",
        "（★説明）\n",
        "\n",
        "**（★コードの説明）**\n",
        "\n",
        "```python\n",
        "▶ （★コード）\n",
        "▶ \n",
        "▶ \n",
        "（★アウトプット）\n",
        "```\n",
        "（コードを書いて実際に確認してみよう）"
      ]
    },
    {
      "cell_type": "code",
      "metadata": {
        "id": "BJwDioEWaqaW",
        "colab_type": "code",
        "colab": {}
      },
      "source": [
        "import os"
      ],
      "execution_count": 55,
      "outputs": []
    },
    {
      "cell_type": "code",
      "metadata": {
        "id": "mlFUnWaBa1ev",
        "colab_type": "code",
        "colab": {
          "base_uri": "https://localhost:8080/",
          "height": 34
        },
        "outputId": "7561f6ee-90f2-4b2e-a62e-04687daf26be"
      },
      "source": [
        "print(\"exists() : \",os.path.exists(\"hello.txt\"))"
      ],
      "execution_count": 49,
      "outputs": [
        {
          "output_type": "stream",
          "text": [
            "exists() True\n"
          ],
          "name": "stdout"
        }
      ]
    },
    {
      "cell_type": "code",
      "metadata": {
        "id": "lD9m8x6Ka94S",
        "colab_type": "code",
        "colab": {
          "base_uri": "https://localhost:8080/",
          "height": 51
        },
        "outputId": "fb8158a7-fcb4-437a-f57b-596843225e8d"
      },
      "source": [
        "print(\"isfile() : \",os.path.isfile(\"hello.txt\"))\n",
        "print(\"isdir() : \",os.path.isdir(\"sample_data\"))"
      ],
      "execution_count": 50,
      "outputs": [
        {
          "output_type": "stream",
          "text": [
            "isfile() :  True\n",
            "isdir() :  True\n"
          ],
          "name": "stdout"
        }
      ]
    },
    {
      "cell_type": "code",
      "metadata": {
        "id": "73Xj9sAvbtPS",
        "colab_type": "code",
        "colab": {
          "base_uri": "https://localhost:8080/",
          "height": 34
        },
        "outputId": "4482e022-9b61-41e1-fc35-856a5e68dba4"
      },
      "source": [
        "dir_path_name, file_name = os.path.split(\"./sample_data/mnist_test.csv\")\n",
        "dir_path_name, file_name"
      ],
      "execution_count": 54,
      "outputs": [
        {
          "output_type": "execute_result",
          "data": {
            "text/plain": [
              "('./sample_data', 'mnist_test.csv')"
            ]
          },
          "metadata": {
            "tags": []
          },
          "execution_count": 54
        }
      ]
    },
    {
      "cell_type": "markdown",
      "metadata": {
        "id": "0nTYWz_P5BqH",
        "colab_type": "text"
      },
      "source": [
        "## 3.4  PathLib モジュール\n"
      ]
    },
    {
      "cell_type": "markdown",
      "metadata": {
        "colab_type": "text",
        "id": "NgTY5ORb7717"
      },
      "source": [
        "\n",
        "（★説明）\n",
        "\n",
        "**（★コードの説明）**\n",
        "\n",
        "```python\n",
        "▶ （★コード）\n",
        "▶ \n",
        "▶ \n",
        "（★アウトプット）\n",
        "```\n",
        "（コードを書いて実際に確認してみよう）"
      ]
    },
    {
      "cell_type": "code",
      "metadata": {
        "id": "nIP3RrRychyn",
        "colab_type": "code",
        "colab": {}
      },
      "source": [
        "import pathlib"
      ],
      "execution_count": 59,
      "outputs": []
    },
    {
      "cell_type": "code",
      "metadata": {
        "id": "SEea08p-cp1H",
        "colab_type": "code",
        "colab": {
          "base_uri": "https://localhost:8080/",
          "height": 119
        },
        "outputId": "b4d523e1-cfad-426e-ac1f-9268715f8061"
      },
      "source": [
        "p = pathlib.Path('.')\n",
        "for fd in p.iterdir():\n",
        "    print(fd)"
      ],
      "execution_count": 60,
      "outputs": [
        {
          "output_type": "stream",
          "text": [
            ".config\n",
            "sample.txt\n",
            "hello.txt\n",
            "store.csv\n",
            "store.tsv\n",
            "sample_data\n"
          ],
          "name": "stdout"
        }
      ]
    },
    {
      "cell_type": "markdown",
      "metadata": {
        "id": "UgjLQPvD5FyX",
        "colab_type": "text"
      },
      "source": [
        "## 3.5  Zip モジュール\n"
      ]
    },
    {
      "cell_type": "markdown",
      "metadata": {
        "colab_type": "text",
        "id": "21wF1xyf78ho"
      },
      "source": [
        "\n",
        "（★説明）\n",
        "\n",
        "**（★コードの説明）**\n",
        "\n",
        "```python\n",
        "▶ （★コード）\n",
        "▶ \n",
        "▶ \n",
        "（★アウトプット）\n",
        "```\n",
        "（コードを書いて実際に確認してみよう）"
      ]
    },
    {
      "cell_type": "code",
      "metadata": {
        "id": "OsMCKdweemZJ",
        "colab_type": "code",
        "colab": {}
      },
      "source": [
        "!echo \"test1 hello\" > ./test1.txt\n",
        "!echo \"test2 こんにちは\" > ./test2.txt\n",
        "import zipfile\n",
        "\n",
        "with zipfile.ZipFile('test.zip', 'w') as zf:        #←書き込みモードでファイルを開く\n",
        "    zf.write('./test1.txt')        #← 圧縮したいファイルのパスを指定する\n",
        "    zf.write('./test2.txt')"
      ],
      "execution_count": 63,
      "outputs": []
    },
    {
      "cell_type": "code",
      "metadata": {
        "id": "yKrCfPdVe33V",
        "colab_type": "code",
        "colab": {
          "base_uri": "https://localhost:8080/",
          "height": 34
        },
        "outputId": "12b96677-356e-48f3-930f-427ef0efc7e1"
      },
      "source": [
        "!ls *.zip"
      ],
      "execution_count": 64,
      "outputs": [
        {
          "output_type": "stream",
          "text": [
            "test.zip\n"
          ],
          "name": "stdout"
        }
      ]
    },
    {
      "cell_type": "code",
      "metadata": {
        "id": "kgqItgQLe8DL",
        "colab_type": "code",
        "colab": {
          "base_uri": "https://localhost:8080/",
          "height": 102
        },
        "outputId": "ea76bf12-08e2-4f27-eb3b-fce9b80272d8"
      },
      "source": [
        "!unzip test.zip"
      ],
      "execution_count": 65,
      "outputs": [
        {
          "output_type": "stream",
          "text": [
            "Archive:  test.zip\n",
            "replace test1.txt? [y]es, [n]o, [A]ll, [N]one, [r]ename: y\n",
            " extracting: test1.txt               \n",
            "replace test2.txt? [y]es, [n]o, [A]ll, [N]one, [r]ename: A\n",
            " extracting: test2.txt               \n"
          ],
          "name": "stdout"
        }
      ]
    },
    {
      "cell_type": "code",
      "metadata": {
        "id": "8_ppjctKfD0f",
        "colab_type": "code",
        "colab": {
          "base_uri": "https://localhost:8080/",
          "height": 34
        },
        "outputId": "dfdac1d2-1546-43d9-b1b6-9b522f686084"
      },
      "source": [
        "!rm test1.txt test2.txt\n",
        "!ls"
      ],
      "execution_count": 66,
      "outputs": [
        {
          "output_type": "stream",
          "text": [
            "hello.txt  sample_data\tsample.txt  store.csv  store.tsv  test.zip\n"
          ],
          "name": "stdout"
        }
      ]
    },
    {
      "cell_type": "code",
      "metadata": {
        "id": "25xnbGNsfS4Y",
        "colab_type": "code",
        "colab": {}
      },
      "source": [
        "import zipfile\n",
        "\n",
        "with zipfile.ZipFile('test.zip', 'r') as zf:        #←読み込みモードでファイルを開く\n",
        "    zf.extractall('extract_dir')"
      ],
      "execution_count": 67,
      "outputs": []
    },
    {
      "cell_type": "code",
      "metadata": {
        "id": "UythgQo4fixk",
        "colab_type": "code",
        "colab": {
          "base_uri": "https://localhost:8080/",
          "height": 34
        },
        "outputId": "40b60914-8cda-494d-82af-a7dda0cbc4cc"
      },
      "source": [
        "!ls extract_dir"
      ],
      "execution_count": 69,
      "outputs": [
        {
          "output_type": "stream",
          "text": [
            "test1.txt  test2.txt\n"
          ],
          "name": "stdout"
        }
      ]
    },
    {
      "cell_type": "markdown",
      "metadata": {
        "id": "ykP9nZLY5JBV",
        "colab_type": "text"
      },
      "source": [
        "## 3.6  正規表現(re) モジュール\n"
      ]
    },
    {
      "cell_type": "markdown",
      "metadata": {
        "colab_type": "text",
        "id": "deS8EU6979Jf"
      },
      "source": [
        "\n",
        "（★説明）\n",
        "\n",
        "**（★コードの説明）**\n",
        "\n",
        "```python\n",
        "▶ （★コード）\n",
        "▶ \n",
        "▶ \n",
        "（★アウトプット）\n",
        "```\n",
        "（コードを書いて実際に確認してみよう）"
      ]
    },
    {
      "cell_type": "code",
      "metadata": {
        "id": "kdNKbScPd9s5",
        "colab_type": "code",
        "colab": {
          "base_uri": "https://localhost:8080/",
          "height": 51
        },
        "outputId": "b10c41b5-d3bd-44fb-dd4a-6a3073ac6c6e"
      },
      "source": [
        "import re\n",
        "\n",
        "text = input(f'郵便番号を入力してください: ')\n",
        "match = re.search(r'\\d{3}-\\d{2,4}', text)        #←正規表現にマッチするかを調べる\n",
        "if match is not None:        #←matchがNoneかどうかで正規表現にマッチしたかどうかがわかる\n",
        "    postcode = match.group(0)        #←マッチした最初のグループの文字列を取得する\n",
        "    print(f'{postcode} は正しい郵便番号のフォーマットです')\n",
        "else:\n",
        "    print(f'{text} は正しい郵便番号のフォーマットではありません')"
      ],
      "execution_count": 62,
      "outputs": [
        {
          "output_type": "stream",
          "text": [
            "郵便番号を入力してください: 12-21\n",
            "12-21 は正しい郵便番号のフォーマットではありません\n"
          ],
          "name": "stdout"
        }
      ]
    },
    {
      "cell_type": "markdown",
      "metadata": {
        "id": "mGll79y85Qiq",
        "colab_type": "text"
      },
      "source": [
        "## 3.7  datetime<復習> モジュール"
      ]
    },
    {
      "cell_type": "markdown",
      "metadata": {
        "colab_type": "text",
        "id": "1r_nu_5779iB"
      },
      "source": [
        "\n",
        "（★説明）\n",
        "\n",
        "**（★コードの説明）**\n",
        "\n",
        "```python\n",
        "▶ （★コード）\n",
        "▶ \n",
        "▶ \n",
        "（★アウトプット）\n",
        "```\n",
        "（コードを書いて実際に確認してみよう）"
      ]
    },
    {
      "cell_type": "markdown",
      "metadata": {
        "id": "ra45ooPm5Q9W",
        "colab_type": "text"
      },
      "source": [
        "## 3.8  json モジュール\n"
      ]
    },
    {
      "cell_type": "markdown",
      "metadata": {
        "colab_type": "text",
        "id": "XPci-YOs7-Br"
      },
      "source": [
        "\n",
        "（★説明）\n",
        "\n",
        "**（★コードの説明）**\n",
        "\n",
        "```python\n",
        "▶ （★コード）\n",
        "▶ \n",
        "▶ \n",
        "（★アウトプット）\n",
        "```\n",
        "（コードを書いて実際に確認してみよう）"
      ]
    },
    {
      "cell_type": "markdown",
      "metadata": {
        "colab_type": "text",
        "id": "FdJzO9f5tiaL"
      },
      "source": [
        "---\n",
        "---\n",
        "---\n",
        "---\n",
        "---\n",
        "# 4.いろんなファイルの操作"
      ]
    },
    {
      "cell_type": "markdown",
      "metadata": {
        "colab_type": "text",
        "id": "dMRX7qAktj-H"
      },
      "source": [
        "## 4.1 はじめに\n",
        "\n",
        "pythonにはバイナリファイルやテキスト以外のファイル形式をサポートするライブラリが存在します。\n",
        "\n",
        "ここでは利用頻度の高いcsv（またはtsv）ファイルや、Excel,PDF,Word,Power PointとGoogleスプレッドシートの操作を学びます。"
      ]
    },
    {
      "cell_type": "markdown",
      "metadata": {
        "id": "71gBidoIvvX5",
        "colab_type": "text"
      },
      "source": [
        "## 4.2 CSVファイル"
      ]
    },
    {
      "cell_type": "markdown",
      "metadata": {
        "colab_type": "text",
        "id": "kZHkEoqm7-8N"
      },
      "source": [
        "\n",
        "（★説明）\n",
        "\n",
        "**（★コードの説明）**\n",
        "\n",
        "```python\n",
        "▶ （★コード）\n",
        "▶ \n",
        "▶ \n",
        "（★アウトプット）\n",
        "```\n",
        "（コードを書いて実際に確認してみよう）"
      ]
    },
    {
      "cell_type": "code",
      "metadata": {
        "id": "zZdDpBk4iI6v",
        "colab_type": "code",
        "colab": {
          "base_uri": "https://localhost:8080/",
          "height": 204
        },
        "outputId": "535933c5-f4c4-4905-bdb5-57b4dff2044d"
      },
      "source": [
        "import pandas as pd        #←pandas を pd と別名にすることでタイプ数や冗長性を削減\n",
        "\n",
        "df = pd.read_csv('store.csv', encoding='utf-8', header=0)        #←先頭行がヘッダー行\n",
        "df"
      ],
      "execution_count": 73,
      "outputs": [
        {
          "output_type": "execute_result",
          "data": {
            "text/html": [
              "<div>\n",
              "<style scoped>\n",
              "    .dataframe tbody tr th:only-of-type {\n",
              "        vertical-align: middle;\n",
              "    }\n",
              "\n",
              "    .dataframe tbody tr th {\n",
              "        vertical-align: top;\n",
              "    }\n",
              "\n",
              "    .dataframe thead th {\n",
              "        text-align: right;\n",
              "    }\n",
              "</style>\n",
              "<table border=\"1\" class=\"dataframe\">\n",
              "  <thead>\n",
              "    <tr style=\"text-align: right;\">\n",
              "      <th></th>\n",
              "      <th>店舗名</th>\n",
              "      <th>期首在庫数</th>\n",
              "      <th>売上数</th>\n",
              "      <th>仕入数</th>\n",
              "    </tr>\n",
              "  </thead>\n",
              "  <tbody>\n",
              "    <tr>\n",
              "      <th>0</th>\n",
              "      <td>新宿店</td>\n",
              "      <td>100</td>\n",
              "      <td>50</td>\n",
              "      <td>100</td>\n",
              "    </tr>\n",
              "    <tr>\n",
              "      <th>1</th>\n",
              "      <td>池袋店</td>\n",
              "      <td>500</td>\n",
              "      <td>200</td>\n",
              "      <td>1000</td>\n",
              "    </tr>\n",
              "    <tr>\n",
              "      <th>2</th>\n",
              "      <td>銀座店</td>\n",
              "      <td>800</td>\n",
              "      <td>300</td>\n",
              "      <td>600</td>\n",
              "    </tr>\n",
              "    <tr>\n",
              "      <th>3</th>\n",
              "      <td>秋葉原店</td>\n",
              "      <td>300</td>\n",
              "      <td>100</td>\n",
              "      <td>500</td>\n",
              "    </tr>\n",
              "    <tr>\n",
              "      <th>4</th>\n",
              "      <td>大手町店</td>\n",
              "      <td>700</td>\n",
              "      <td>200</td>\n",
              "      <td>1000</td>\n",
              "    </tr>\n",
              "  </tbody>\n",
              "</table>\n",
              "</div>"
            ],
            "text/plain": [
              "    店舗名  期首在庫数  売上数   仕入数\n",
              "0   新宿店    100   50   100\n",
              "1   池袋店    500  200  1000\n",
              "2   銀座店    800  300   600\n",
              "3  秋葉原店    300  100   500\n",
              "4  大手町店    700  200  1000"
            ]
          },
          "metadata": {
            "tags": []
          },
          "execution_count": 73
        }
      ]
    },
    {
      "cell_type": "code",
      "metadata": {
        "id": "WLgOHI2uiRUg",
        "colab_type": "code",
        "colab": {
          "base_uri": "https://localhost:8080/",
          "height": 34
        },
        "outputId": "c5f2b0f7-a3f3-49fa-f0de-e095296996a5"
      },
      "source": [
        "sales = sum(df['売上数'])\n",
        "print(f'売上数合計: {sales}')"
      ],
      "execution_count": 72,
      "outputs": [
        {
          "output_type": "stream",
          "text": [
            "売上数合計: 850\n"
          ],
          "name": "stdout"
        }
      ]
    },
    {
      "cell_type": "markdown",
      "metadata": {
        "id": "xz7B-nOPvv0B",
        "colab_type": "text"
      },
      "source": [
        "## 4.3 Excelファイル\n"
      ]
    },
    {
      "cell_type": "markdown",
      "metadata": {
        "colab_type": "text",
        "id": "EjYNUsRw7_U8"
      },
      "source": [
        "\n",
        "（★説明）\n",
        "\n",
        "**（★コードの説明）**\n",
        "\n",
        "```python\n",
        "▶ （★コード）\n",
        "▶ \n",
        "▶ \n",
        "（★アウトプット）\n",
        "```\n",
        "（コードを書いて実際に確認してみよう）"
      ]
    },
    {
      "cell_type": "code",
      "metadata": {
        "id": "Ezro8w5Ko06N",
        "colab_type": "code",
        "colab": {
          "base_uri": "https://localhost:8080/",
          "height": 238
        },
        "outputId": "a9268e0c-95c3-4017-fb8f-501f9fd7f840"
      },
      "source": [
        "from openpyxl import load_workbook\n",
        "\n",
        "wb = load_workbook('store.xlsx', read_only=True)        #←ワークブックを読み込む\n",
        "\n",
        "for ws in wb.worksheets:        #←すべてのワークシートの列と行の情報を調べる\n",
        "    print(f'ワークシート名: {ws.title}')\n",
        "    print(f'- 列の値 最小:{ws.min_column}, 最大:{ws.max_column}')\n",
        "    print(f'- 行の値 最小:{ws.min_row}, 最大:{ws.max_row}')\n",
        "\n",
        "ws0 = wb.worksheets[0]        #←最初のワークシートを取得する\n",
        "print(f'{ws0.title} のセルを1行ずつ表示します')\n",
        "for row in ws0:        #←行を読み込む\n",
        "    values = [str(column.value) for column in row]        #←列を読み込む\n",
        "    print(values)"
      ],
      "execution_count": 94,
      "outputs": [
        {
          "output_type": "stream",
          "text": [
            "ワークシート名: 売り上げ\n",
            "- 列の値 最小:1, 最大:4\n",
            "- 行の値 最小:1, 最大:6\n",
            "ワークシート名: 社員数\n",
            "- 列の値 最小:1, 最大:2\n",
            "- 行の値 最小:1, 最大:6\n",
            "売り上げ のセルを1行ずつ表示します\n",
            "['店舗名', '期首在庫数', '売上数', '仕入数']\n",
            "['新宿店', '100', '50', '100']\n",
            "['池袋店', '500', '200', '1000']\n",
            "['銀座店', '800', '300', '600']\n",
            "['秋葉原店', '300', '100', '500']\n",
            "['大手町店', '700', '200', '1000']\n"
          ],
          "name": "stdout"
        }
      ]
    },
    {
      "cell_type": "markdown",
      "metadata": {
        "id": "LIekrx-cvwF3",
        "colab_type": "text"
      },
      "source": [
        "## 4.4 PDFファイル"
      ]
    },
    {
      "cell_type": "markdown",
      "metadata": {
        "colab_type": "text",
        "id": "dhuTEkrt8AFE"
      },
      "source": [
        "\n",
        "（★説明）\n",
        "\n",
        "**（★コードの説明）**\n",
        "\n",
        "```python\n",
        "▶ （★コード）\n",
        "▶ \n",
        "▶ \n",
        "（★アウトプット）\n",
        "```\n",
        "（コードを書いて実際に確認してみよう）"
      ]
    },
    {
      "cell_type": "markdown",
      "metadata": {
        "id": "diRRVMXgvwW8",
        "colab_type": "text"
      },
      "source": [
        "## 4.5 Word"
      ]
    },
    {
      "cell_type": "markdown",
      "metadata": {
        "colab_type": "text",
        "id": "0CDP8_nC8BW4"
      },
      "source": [
        "\n",
        "（★説明）\n",
        "\n",
        "**（★コードの説明）**\n",
        "\n",
        "```python\n",
        "▶ （★コード）\n",
        "▶ \n",
        "▶ \n",
        "（★アウトプット）\n",
        "```\n",
        "（コードを書いて実際に確認してみよう）"
      ]
    },
    {
      "cell_type": "code",
      "metadata": {
        "id": "HK-vA5V9i6sR",
        "colab_type": "code",
        "colab": {
          "base_uri": "https://localhost:8080/",
          "height": 204
        },
        "outputId": "c710893b-d1c8-4927-df9d-2e2166a6b57d"
      },
      "source": [
        "!pip install python-docx"
      ],
      "execution_count": 77,
      "outputs": [
        {
          "output_type": "stream",
          "text": [
            "Collecting python-docx\n",
            "\u001b[?25l  Downloading https://files.pythonhosted.org/packages/e4/83/c66a1934ed5ed8ab1dbb9931f1779079f8bca0f6bbc5793c06c4b5e7d671/python-docx-0.8.10.tar.gz (5.5MB)\n",
            "\u001b[K     |████████████████████████████████| 5.5MB 2.5MB/s \n",
            "\u001b[?25hRequirement already satisfied: lxml>=2.3.2 in /usr/local/lib/python3.6/dist-packages (from python-docx) (4.2.6)\n",
            "Building wheels for collected packages: python-docx\n",
            "  Building wheel for python-docx (setup.py) ... \u001b[?25l\u001b[?25hdone\n",
            "  Created wheel for python-docx: filename=python_docx-0.8.10-cp36-none-any.whl size=184491 sha256=d1d28c50743842115dd5ef2300e02ef0675cad3d82a3d95be1da7e310c335eb0\n",
            "  Stored in directory: /root/.cache/pip/wheels/18/0b/a0/1dd62ff812c857c9e487f27d80d53d2b40531bec1acecfa47b\n",
            "Successfully built python-docx\n",
            "Installing collected packages: python-docx\n",
            "Successfully installed python-docx-0.8.10\n"
          ],
          "name": "stdout"
        }
      ]
    },
    {
      "cell_type": "code",
      "metadata": {
        "id": "aDXirBy5i4Nz",
        "colab_type": "code",
        "colab": {}
      },
      "source": [
        "import docx"
      ],
      "execution_count": 78,
      "outputs": []
    },
    {
      "cell_type": "code",
      "metadata": {
        "id": "SFGhE3kgjeNI",
        "colab_type": "code",
        "colab": {
          "base_uri": "https://localhost:8080/",
          "height": 289
        },
        "outputId": "06c4b6ad-d0fd-4603-9201-459f7d9ac9f8"
      },
      "source": [
        "doc = docx.Document('sample_word.docx')\n",
        "all_body = '\\n'.join(paragraph.text for paragraph in doc.paragraphs)\n",
        "print(all_body)"
      ],
      "execution_count": 86,
      "outputs": [
        {
          "output_type": "stream",
          "text": [
            "皆様、お疲れ様です。Python講義のスケジュールについてお知らせします。年内は10回の開催を予定しております。\n",
            "\n",
            "1.\tスケジュール\n",
            "#\t日時\tタイトル\n",
            "第1回\t2020.08.04(火) 19:00-\t\n",
            "第2回\t2020.08.04(火) 19:00-\t\n",
            "第3回\t2020.09.01(火) 19:00-\t\n",
            "第4回\t2020.09.15(火) 19:00-\t\n",
            "第5回\t2020.10.06(火) 19:00-\tチュートリアル5\n",
            "第6回\t2020.10.20(火) 19:00-\tチュートリアル6\n",
            "第7回\t2020.11.10(火) 19:00-\tチュートリアル7\n",
            "第8回\t2020.11.24(火) 19:00-\tチュートリアル8\n",
            "第9回\t2020.12.08(火) 19:00-\tチュートリアル9\t\t\n",
            "第10回\t2020.12.22(火) 19:00-\tチュートリアル10\n",
            "\n",
            "引き続きよろしくお願いいたします。\n"
          ],
          "name": "stdout"
        }
      ]
    },
    {
      "cell_type": "markdown",
      "metadata": {
        "id": "ABWX9Zihvwjg",
        "colab_type": "text"
      },
      "source": [
        "## 4.6 Google スプレッドシート"
      ]
    },
    {
      "cell_type": "markdown",
      "metadata": {
        "colab_type": "text",
        "id": "gzRAS7QQ8C_S"
      },
      "source": [
        "\n",
        "（★説明）\n",
        "\n",
        "**（★コードの説明）**\n",
        "\n",
        "```python\n",
        "▶ （★コード）\n",
        "▶ \n",
        "▶ \n",
        "（★アウトプット）\n",
        "```\n",
        "（コードを書いて実際に確認してみよう）"
      ]
    },
    {
      "cell_type": "markdown",
      "metadata": {
        "id": "JRc7jFZ1ZfBh",
        "colab_type": "text"
      },
      "source": [
        "---\n",
        "---\n",
        "---\n",
        "---\n",
        "---\n",
        "---\n",
        "---\n",
        "# 補足 Pythonの公式な言語リファレンス\n",
        "\n",
        "* 公式なマニュアルはこちらですが、内容は難しいので最初はわかりやすい情報や、本などを参考にしましょう。\n",
        "* 英語\n",
        " * https://docs.python.org/3/reference/index.html\n",
        "* 日本語\n",
        " * https://docs.python.org/ja/3/reference/index.html"
      ]
    },
    {
      "cell_type": "code",
      "metadata": {
        "id": "Dy0XMN2kKODY",
        "colab_type": "code",
        "colab": {}
      },
      "source": [
        ""
      ],
      "execution_count": null,
      "outputs": []
    }
  ]
}
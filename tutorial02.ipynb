{
  "nbformat": 4,
  "nbformat_minor": 0,
  "metadata": {
    "colab": {
      "name": "tutorial02.ipynb",
      "provenance": [],
      "private_outputs": true,
      "collapsed_sections": [],
      "toc_visible": true,
      "authorship_tag": "ABX9TyPrBDGcnRfVpUrx91jraxFA",
      "include_colab_link": true
    },
    "kernelspec": {
      "name": "python3",
      "display_name": "Python 3"
    }
  },
  "cells": [
    {
      "cell_type": "markdown",
      "metadata": {
        "id": "view-in-github",
        "colab_type": "text"
      },
      "source": [
        "<a href=\"https://colab.research.google.com/github/abenben/starproject-python/blob/master/tutorial02.ipynb\" target=\"_parent\"><img src=\"https://colab.research.google.com/assets/colab-badge.svg\" alt=\"Open In Colab\"/></a>"
      ]
    },
    {
      "cell_type": "markdown",
      "metadata": {
        "id": "tQRKRreDqBra",
        "colab_type": "text"
      },
      "source": [
        "# 2.Pythonを始めよう\n",
        "\n",
        "```\n",
        "実践を通したPythonの特徴と基本の紹介\n",
        "```\n",
        "\n",
        "Pythonの特徴と基本を紹介します。 ただ紹介するだけではなく、簡単なプログラムを実装しつつ実践的に学んでいきます。"
      ]
    },
    {
      "cell_type": "markdown",
      "metadata": {
        "colab_type": "text",
        "id": "ytBBwMAOepHM"
      },
      "source": [
        "## 2.1. Pythonを楽しもう\n",
        "\n",
        "ここではPythonの基本の基本を紹介します。 Python対話形式コマンドで入力し結果を確認しながら、Pythonにふれあいましょう。\n",
        "\n",
        "ここでは、「FizzBuzz」という簡単なプログラム（詳細は後述）を実装できることを目的にします。\n",
        "\n",
        "Pythonについてより詳しくは、後述の節で説明します。 つまり、ここで説明したことのすべてをいま理解しようとしなくても大丈夫です。次節以降でおさらいをしていきます。"
      ]
    },
    {
      "cell_type": "markdown",
      "metadata": {
        "colab_type": "text",
        "id": "zgOEX79XepUf"
      },
      "source": [
        "### 2.1.1 Pythonのコードを動かす\n",
        "\n",
        "さっそくPythonで遊んでみましょう。\n",
        "\n",
        "Google Coraboratoryは、「+コード」をクリックするとPythonこコードを書くボックスが作成されます。\n",
        "\n",
        "その中にコードを書いて、SHIFT+ENTERを実行すると、処理が実行されます。\n",
        "\n",
        "このチュートリアルは、事前にコードボックスが準備されているので、コードを実際に入力しながら確認を行います。\n",
        "\n",
        "できるだけコピーはせずに、直接入力することで体感的に学びましょう。\n",
        "\n",
        "**pythonを電卓にする。**\n",
        "\n",
        "それでは、手始めに電卓のようにPythonを使ってみましょう。"
      ]
    },
    {
      "cell_type": "markdown",
      "metadata": {
        "id": "M6IHoS-hZMKB",
        "colab_type": "text"
      },
      "source": [
        "#### 足し算(+)\n",
        "\n",
        "```\n",
        "▶ 2 + 2\n",
        "4\n",
        "```\n",
        "（コードを書いて実際に動かしてみよう。）\n"
      ]
    },
    {
      "cell_type": "code",
      "metadata": {
        "id": "JZTqTGe9sndG",
        "colab_type": "code",
        "colab": {}
      },
      "source": [
        ""
      ],
      "execution_count": null,
      "outputs": []
    },
    {
      "cell_type": "markdown",
      "metadata": {
        "id": "7RUzuOB2ZZsc",
        "colab_type": "text"
      },
      "source": [
        "#### 引き算(-)\n",
        "\n",
        "```\n",
        "▶ 3 - 8\n",
        "-5\n",
        "```\n",
        "（コードを書いて実際に動かしてみよう。）"
      ]
    },
    {
      "cell_type": "code",
      "metadata": {
        "id": "zBXG7m4it5bD",
        "colab_type": "code",
        "colab": {}
      },
      "source": [
        ""
      ],
      "execution_count": null,
      "outputs": []
    },
    {
      "cell_type": "markdown",
      "metadata": {
        "id": "EfAuDWIJZisd",
        "colab_type": "text"
      },
      "source": [
        "#### かけ算(*)\n",
        "\n",
        "```\n",
        "▶ 6 * 9\n",
        "54\n",
        "```\n",
        "（コードを書いて実際に動かしてみよう。）"
      ]
    },
    {
      "cell_type": "code",
      "metadata": {
        "id": "5xasIY-ft9oA",
        "colab_type": "code",
        "colab": {}
      },
      "source": [
        ""
      ],
      "execution_count": null,
      "outputs": []
    },
    {
      "cell_type": "markdown",
      "metadata": {
        "id": "-nWdxkS6fTEe",
        "colab_type": "text"
      },
      "source": [
        "#### 割り算(/)\n",
        "\n",
        "```\n",
        "▶ 8 / 2\n",
        "4.0\n",
        "```\n",
        "（コードを書いて実際に動かしてみよう。）"
      ]
    },
    {
      "cell_type": "code",
      "metadata": {
        "id": "g4BejBY2fW9s",
        "colab_type": "code",
        "colab": {}
      },
      "source": [
        ""
      ],
      "execution_count": null,
      "outputs": []
    },
    {
      "cell_type": "markdown",
      "metadata": {
        "id": "YLwEOgCGZqtr",
        "colab_type": "text"
      },
      "source": [
        "#### 剰余（%）\n",
        "\n",
        "```\n",
        "▶ 5 % 2\n",
        "1\n",
        "```\n",
        "（コードを書いて実際に動かしてみよう。）"
      ]
    },
    {
      "cell_type": "code",
      "metadata": {
        "id": "vSieKqz_uKTk",
        "colab_type": "code",
        "colab": {}
      },
      "source": [
        ""
      ],
      "execution_count": null,
      "outputs": []
    },
    {
      "cell_type": "markdown",
      "metadata": {
        "id": "d-StTKFVaAnx",
        "colab_type": "text"
      },
      "source": [
        "#### 変数に入れて計算する\n",
        "\n",
        "```\n",
        "▶ width = 60\n",
        "▶ height = 90\n",
        "▶ width * height\n",
        "5400\n",
        "```\n",
        "（コードを書いて実際に動かしてみよう。）"
      ]
    },
    {
      "cell_type": "markdown",
      "metadata": {
        "id": "R4OCwRbqfjBl",
        "colab_type": "text"
      },
      "source": [
        ""
      ]
    },
    {
      "cell_type": "code",
      "metadata": {
        "id": "5WKv8oqDuPRt",
        "colab_type": "code",
        "colab": {}
      },
      "source": [
        ""
      ],
      "execution_count": null,
      "outputs": []
    },
    {
      "cell_type": "markdown",
      "metadata": {
        "id": "Nf6jKKU3uvyv",
        "colab_type": "text"
      },
      "source": [
        "初めの4つは整数型（int）での四則演算（+、-、*、/）と剰余（%）です。\n",
        "\n",
        "次に等号（=）を使って値を代入しています。\n",
        "\n",
        "width (幅)、 height (高さ)という変数を作成し、2つを掛け合わせて面積を求めています。\n",
        "\n",
        "**変数を作成** とは、データ(ここでは60など)にラベル(ここではwidthなど)を付けて、後で使用できるようにすることです。"
      ]
    },
    {
      "cell_type": "markdown",
      "metadata": {
        "id": "r1gLM3xCu14p",
        "colab_type": "text"
      },
      "source": [
        "### 2.1.2. 文字列\n",
        "\n",
        "数字だけを扱うなら卓上電卓で十分ですね。文字列型（str）を使ってみましょう。\n",
        "シングルクォート（'）かダブルクォート（\"）の間に文字を入力することで、文字列を定義します"
      ]
    },
    {
      "cell_type": "markdown",
      "metadata": {
        "id": "V2FolnYCayGJ",
        "colab_type": "text"
      },
      "source": [
        "文字列（シングルクォート）\n",
        "\n",
        "```\n",
        "▶ 'Hello,world'\n",
        "'Hello,world'\n",
        "```\n",
        "（コードを書いて実際に動かしてみよう。）"
      ]
    },
    {
      "cell_type": "code",
      "metadata": {
        "id": "yBkOHb9hWkKz",
        "colab_type": "code",
        "colab": {}
      },
      "source": [
        ""
      ],
      "execution_count": null,
      "outputs": []
    },
    {
      "cell_type": "markdown",
      "metadata": {
        "id": "OCnIqehoa9f1",
        "colab_type": "text"
      },
      "source": [
        "文字列（ダブルクォート）\n",
        "\n",
        "```\n",
        "▶ \"Monty Python's Flying Circus\"\n",
        "'Monty Python's Flying Circus'\n",
        "```\n",
        "（コードを書いて実際に動かしてみよう。）"
      ]
    },
    {
      "cell_type": "code",
      "metadata": {
        "colab_type": "code",
        "id": "gB0FLjkHYC3p",
        "colab": {}
      },
      "source": [
        ""
      ],
      "execution_count": null,
      "outputs": []
    },
    {
      "cell_type": "markdown",
      "metadata": {
        "id": "mzA7H6sFWtP4",
        "colab_type": "text"
      },
      "source": [
        "文字列中にシングルクォートを含む場合はダブルクォートを使います （ 文字列型（str） で説明する文字のエスケープも使えます）。\n",
        "\n",
        "文字列は順序を持つシーケンス型の1つです。"
      ]
    },
    {
      "cell_type": "markdown",
      "metadata": {
        "id": "aRjjFUx2XGqX",
        "colab_type": "text"
      },
      "source": [
        "### 2.1.3. リスト\n",
        "リスト（list）は、複数のデータ型の入れ物として使えます（リスト 2.4）。\n"
      ]
    },
    {
      "cell_type": "markdown",
      "metadata": {
        "id": "_faJg0s5bitO",
        "colab_type": "text"
      },
      "source": [
        "リスト\n",
        "\n",
        "```\n",
        "▶ ['Hello', 3]\n",
        "['Hello', 3]\n",
        "```\n",
        "\n",
        "（コードを書いて実際に動かしてみよう。）"
      ]
    },
    {
      "cell_type": "code",
      "metadata": {
        "id": "zgA2LHFJWsKS",
        "colab_type": "code",
        "colab": {}
      },
      "source": [
        ""
      ],
      "execution_count": null,
      "outputs": []
    },
    {
      "cell_type": "markdown",
      "metadata": {
        "id": "2MB0vOCGXXRc",
        "colab_type": "text"
      },
      "source": [
        "\n",
        "リストも文字列と同じで、順序を持つ繰返し可能な型(シーケンス)の1つです。\n",
        "\n",
        "複数のデータ型と組み合わせて使えるコレクションの1つでもあります。"
      ]
    },
    {
      "cell_type": "markdown",
      "metadata": {
        "id": "H1PtPzq4XqbJ",
        "colab_type": "text"
      },
      "source": [
        "### 2.1.4. コメント\n",
        "より右以降の文字列は「コメント」となり、プログラムとして実行されません。"
      ]
    },
    {
      "cell_type": "markdown",
      "metadata": {
        "id": "EiEcitnyb2n4",
        "colab_type": "text"
      },
      "source": [
        "```\n",
        "# ここはコメント文\n",
        "```\n",
        "\n",
        "（コードを書いて実際に動かしてみよう。）"
      ]
    },
    {
      "cell_type": "code",
      "metadata": {
        "id": "LlKfCg3nXuWO",
        "colab_type": "code",
        "colab": {}
      },
      "source": [
        ""
      ],
      "execution_count": null,
      "outputs": []
    },
    {
      "cell_type": "markdown",
      "metadata": {
        "id": "rvxHuj3Jb3lT",
        "colab_type": "text"
      },
      "source": [
        "```\n",
        "a = 1  # コードの右側にも書ける\n",
        "```\n",
        "（コードを書いて実際に動かしてみよう。）"
      ]
    },
    {
      "cell_type": "code",
      "metadata": {
        "colab_type": "code",
        "id": "dEeoMB55YNiv",
        "colab": {}
      },
      "source": [
        ""
      ],
      "execution_count": null,
      "outputs": []
    },
    {
      "cell_type": "markdown",
      "metadata": {
        "id": "2vl2uIEGNvsj",
        "colab_type": "text"
      },
      "source": [
        "### 2.1.5. 関数\n",
        "関数とはプログラムの中で処理をひとまとめにしたものです。 Pythonでは関数は、 def を使って以下のように書きます。 末尾にはコロン（:）が必要です。\n",
        "\n",
        "```\n",
        "def ＜関数名＞(＜引数の変数名＞):\n",
        "```\n",
        "\n",
        "値を返すには、 return を使います。引数を2つ受け取り、合計値を返す関数は 以下のようになります。"
      ]
    },
    {
      "cell_type": "markdown",
      "metadata": {
        "id": "AeCSJFT4cNt-",
        "colab_type": "text"
      },
      "source": [
        "```\n",
        "def add(a, b):\n",
        "    return a + b\n",
        "add(1, 3)\n",
        "```\n",
        "\n",
        "（コードを書いて実際に動かしてみよう。）"
      ]
    },
    {
      "cell_type": "code",
      "metadata": {
        "id": "wk2aHRANX4JD",
        "colab_type": "code",
        "colab": {}
      },
      "source": [
        ""
      ],
      "execution_count": null,
      "outputs": []
    },
    {
      "cell_type": "markdown",
      "metadata": {
        "id": "DYcApzKXO0p4",
        "colab_type": "text"
      },
      "source": [
        "Python はブロック構造を **インデント** （通常は4つのスペース）で書きます。\n",
        "\n",
        "C言語のように波括弧（{ }）で囲む必要はなく、インデント自体が文の構造となります。\n",
        "\n",
        "add() 関数内の1行目のreturn文は関数の中身なので、インデントで字下げします。\n",
        "\n",
        "関数を呼び出すには関数名に括弧（( )）を付けて実行します。\n",
        "\n",
        "引数がある場合は、括弧内に引数を渡します。1と3を足した値、4が返されています。"
      ]
    },
    {
      "cell_type": "markdown",
      "metadata": {
        "id": "7wZ9F2uAPYfn",
        "colab_type": "text"
      },
      "source": [
        "**組み込み関数**\n",
        "\n",
        "Pythonには標準でいくつか関数が提供されています。これを組み込み関数と呼びます。\n",
        "\n",
        "たとえば、指定された小数点を丸めた値を作成する round() 関数は、 このように使います。"
      ]
    },
    {
      "cell_type": "markdown",
      "metadata": {
        "id": "yUtIYTljco0E",
        "colab_type": "text"
      },
      "source": [
        "```\n",
        "▶ round(10.4)\n",
        "10\n",
        "```\n",
        "\n",
        "（コードを書いて実際に動かしてみよう。）"
      ]
    },
    {
      "cell_type": "code",
      "metadata": {
        "id": "3wq10fsTPJiR",
        "colab_type": "code",
        "colab": {}
      },
      "source": [
        ""
      ],
      "execution_count": null,
      "outputs": []
    },
    {
      "cell_type": "markdown",
      "metadata": {
        "id": "0RilxYR9Rs-U",
        "colab_type": "text"
      },
      "source": [
        "## 2.2. FizzBuzz\n",
        "ここで「FizzBuzz」というゲームを解くプログラムをPythonで書いてみましょう。\n",
        "\n",
        "FizzBuzzとは、複数の人が集まって行うゲームです。\n",
        "\n",
        "ひとりひとりが1から順に数字を発言し、数字が3で割り切れる場合は「Fizz」、5で割り切れる場合は「Buzz」、3 と5 で割り切れる場合は「FizzBuzz」と発言するゲームです。\n",
        "\n",
        "1から15までの答えを並べると次のようになります。\n",
        "\n",
        "【FizzBuzzの15までの回答】\n",
        "\n",
        "```\n",
        "\n",
        "1, 2, Fizz, 4, Buzz, Fizz, 7, 8, Fizz, Buzz, 11, Fizz, 13, 14, FizzBuzz\n",
        "\n",
        "```\n",
        "\n",
        "1から100までのFizzBuzzを表示するPythonプログラムを作りましょう。\n",
        "\n",
        "FizzBuzzは簡単な問題ですが、実装する言語の制御文(繰り返し、条件分岐)を使いこなす必要があり、言語入門の第一歩としてちょうどよい題材です"
      ]
    },
    {
      "cell_type": "markdown",
      "metadata": {
        "id": "KrZ0bBrhUbVL",
        "colab_type": "text"
      },
      "source": [
        "### 2.2.1. 関数（その2）\n",
        "fizzbuzz関数を作成しFizzBuzzを実装していきましょう。\n",
        "\n",
        "手始めに以下ののように書きます。"
      ]
    },
    {
      "cell_type": "markdown",
      "metadata": {
        "id": "FMi4JAESdBKg",
        "colab_type": "text"
      },
      "source": [
        "```\n",
        "def fizzbuzz(num):\n",
        "    return num\n",
        "\n",
        "print(fizzbuzz(4))\n",
        "```\n",
        "（コードを書いて実際に動かしてみよう。）"
      ]
    },
    {
      "cell_type": "code",
      "metadata": {
        "id": "sXXyY0A1U_bI",
        "colab_type": "code",
        "colab": {}
      },
      "source": [
        ""
      ],
      "execution_count": null,
      "outputs": []
    },
    {
      "cell_type": "markdown",
      "metadata": {
        "id": "p_kPRGtXVJGH",
        "colab_type": "text"
      },
      "source": [
        "この fizzbuzz() 関数はなにも処理をせず引数をそのまま返します。これから処理を追加していくので安心してください。\n",
        "\n",
        "print 関数を使っているのは実行結果を表示するためです。\n",
        "\n",
        "対話モードでは、変数の値や関数の戻り値を変数に代入しない場合に、自動的に値を表示してくれました。\n",
        "\n",
        "処理の最中に値を表示するには print 関数が必要です。"
      ]
    },
    {
      "cell_type": "markdown",
      "metadata": {
        "id": "Pv98bHImYhQv",
        "colab_type": "text"
      },
      "source": [
        "### 2.2.2. for文\n",
        "\n",
        "「1から100までのFizzBuzzを表示する」ために fizzbuzz() 関数に1から100までの数値を順に与えます。\n",
        "\n",
        "for 文を使って繰り返し処理を実装しましょう。"
      ]
    },
    {
      "cell_type": "markdown",
      "metadata": {
        "id": "cbQmlX6ydaiq",
        "colab_type": "text"
      },
      "source": [
        "```\n",
        "def fizzbuzz(num):\n",
        "    return num\n",
        "\n",
        "for num in range(1, 101):\n",
        "    print(fizzbuzz(num))\n",
        "```\n",
        "（コードを書いて実際に動かしてみよう。）"
      ]
    },
    {
      "cell_type": "code",
      "metadata": {
        "id": "h8393m3IVed2",
        "colab_type": "code",
        "colab": {}
      },
      "source": [
        "def fizzbuzz(num):\n",
        "    return num\n",
        "\n",
        "# ここにfor文を追加"
      ],
      "execution_count": null,
      "outputs": []
    },
    {
      "cell_type": "markdown",
      "metadata": {
        "id": "f1ZgDSTJeF2b",
        "colab_type": "text"
      },
      "source": [
        "実行すると1から100までの数字が表示されます。\n",
        "\n",
        "数字を順番に使って処理したい場合、組み込み関数 range() が便利です。\n",
        "\n",
        "range(1, 101)のように記述すると、1から100までの数字を順番に得ることができ、\n",
        "\n",
        "結果として fizzbuzz() 関数には1 から100までの数字が順に与えられています。\n",
        "\n",
        "現時点の fizzbuzz() 関数は与えられた引数をそのまま返す実装なので、これで問題ありません。"
      ]
    },
    {
      "cell_type": "markdown",
      "metadata": {
        "id": "NpOKQ5c7eNJc",
        "colab_type": "text"
      },
      "source": [
        "for文は次のように書きます。\n",
        "\n",
        "```\n",
        "for ＜変数名＞ in ＜シーケンス＞:\n",
        "```\n",
        "\n",
        "＜変数名＞ にはループ内で繰り返される変数名、 ＜シーケンス＞ には繰り返しのための変数（繰返し可能な型(シーケンス)のオブジェクト）を書きます。\n",
        "\n",
        "リスト 2.12 では、繰り返される変数 num が fizzbuzz() 関数に渡されています。\n",
        "\n",
        "繰り返しのための変数は range(1, 101) の実行結果（1から100までのイテレータ）です。\n",
        "\n",
        "関数の結果として数値が順番に返され、ひとつひとつの数字が繰り返し用の変数（num）に渡され、 for のブロックが実行されます"
      ]
    },
    {
      "cell_type": "markdown",
      "metadata": {
        "id": "hwDqF8Hqgfta",
        "colab_type": "text"
      },
      "source": [
        "### 2.2.3. if文\n",
        "\n",
        "FizzBuzzの処理を作るには、引数の数字（num）に応じて処理を分岐する必要があります。\n",
        "\n",
        "処理の流れとしては次のようになります。\n",
        "\n",
        "引数 num を受け取る\n",
        "\n",
        "num と3の剰余が0（3で割り切れる）、かつ num と5の剰余が0である（5で割り切れる）場合に、 'FizzBuzz' を返す\n",
        "\n",
        "num と3の剰余が0の場合に、 'Fizz' を返す\n",
        "\n",
        "num と5の剰余が0の場合に、 'Buzz' を返す\n",
        "\n",
        "2〜4のどれでもない場合、引数 num を文字列にして返す\n",
        "\n",
        "Pythonで条件による処理の分岐を扱うにはif文を使います。"
      ]
    },
    {
      "cell_type": "markdown",
      "metadata": {
        "id": "OAO2V7Fygpvh",
        "colab_type": "text"
      },
      "source": [
        "fizzbuzz() 関数は、 以下ののようになります。\n",
        "\n",
        "```\n",
        "def fizzbuzz(num):\n",
        "    if num % 3 == 0 and num % 5 == 0:\n",
        "        return 'FizzBuzz'\n",
        "    elif num % 3 == 0:\n",
        "        return 'Fizz'\n",
        "    elif num % 5 == 0:\n",
        "        return 'Buzz'\n",
        "    else:\n",
        "        return str(num)\n",
        "\n",
        "for num in range(1, 101):\n",
        "    print(fizzbuzz(num))\n",
        "```\n",
        "（コードを書いて実際に動かしてみよう。）"
      ]
    },
    {
      "cell_type": "code",
      "metadata": {
        "id": "4nKyrvOTeIZe",
        "colab_type": "code",
        "colab": {}
      },
      "source": [
        "def fizzbuzz(num):\n",
        "    ;\n",
        "    # ここにif文を書く\n",
        " \n",
        "for num in range(1, 101):\n",
        "    print(fizzbuzz(num))"
      ],
      "execution_count": null,
      "outputs": []
    },
    {
      "cell_type": "markdown",
      "metadata": {
        "id": "oXF6bxKLhbAh",
        "colab_type": "text"
      },
      "source": [
        "紹介していない要素がいくつか登場しています。\n",
        "\n",
        "**if 文**\n",
        "\n",
        "if 文は、条件に与えられた式が真と評価できる場合に、 if ブロックの処理を実行します。\n",
        "\n",
        "elif 文は、 if 文の条件が偽の場合に、追加の条件を与えます。追加の条件が真の場合に、 elif ブロックの処理を実行します。\n",
        "\n",
        "else ブロックは、どの条件にも当てはまらない場合に実行されます。\n",
        "\n",
        "**演算子**\n",
        "\n",
        "== は比較演算子の1つで、左辺と右辺が値が同じ場合に真（True） を返します。それ以外の場合には偽（False）を返します。\n",
        "\n",
        "and はブール演算子の1つで、左右の条件が True の場合に True を返します（より正確には、左の条件が真と評価できる場合に右を評価して結果を返します）。\n",
        "\n",
        "**str() 関数**\n",
        "\n",
        "引数を文字列に変換して返します。"
      ]
    },
    {
      "cell_type": "markdown",
      "metadata": {
        "id": "gPHjW4cffkUz",
        "colab_type": "text"
      },
      "source": [
        "# 参考文献\n",
        "\n",
        "このテキストはPython Boot Campのチュートリアル（クリエイティブ・コモンズ　ライセンス）を参考に作成しています。\n",
        "\n",
        "https://pycamp.pycon.jp/organize/0_about.html"
      ]
    }
  ]
}

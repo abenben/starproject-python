{
 "cells": [
  {
   "cell_type": "markdown",
   "metadata": {},
   "source": [
    "## 箱ひげ図"
   ]
  },
  {
   "cell_type": "code",
   "execution_count": 1,
   "metadata": {},
   "outputs": [
    {
     "data": {
      "image/png": "[encoded data removed]",
      "text/plain": [
       "<Figure size 432x288 with 1 Axes>"
      ]
     },
     "metadata": {
      "needs_background": "light"
     },
     "output_type": "display_data"
    }
   ],
   "source": [
    "# リスト 4.7.1　箱ひげ図の描画\n",
    "\n",
    "import numpy as np\n",
    "import matplotlib.pyplot as plt\n",
    "\n",
    "np.random.seed(12345)\n",
    "%matplotlib inline\n",
    "\n",
    "# 箱ひげ図の描画\n",
    "values = np.random.normal(100, 10, 1000)\n",
    "fig, ax = plt.subplots(1, 1)\n",
    "ax.boxplot(values)"
   ]
  },
  {
   "cell_type": "code",
   "execution_count": 2,
   "metadata": {},
   "outputs": [
    {
     "data": {
      "text/plain": [
       "{'whiskers': [<matplotlib.lines.Line2D at 0x7f499ce144d0>,\n",
       "  <matplotlib.lines.Line2D at 0x7f499ce14a10>,\n",
       "  <matplotlib.lines.Line2D at 0x7f499cda4a50>,\n",
       "  <matplotlib.lines.Line2D at 0x7f499cda4f50>],\n",
       " 'caps': [<matplotlib.lines.Line2D at 0x7f499ce14f50>,\n",
       "  <matplotlib.lines.Line2D at 0x7f499cd9b4d0>,\n",
       "  <matplotlib.lines.Line2D at 0x7f499cdab4d0>,\n",
       "  <matplotlib.lines.Line2D at 0x7f499cdaba10>],\n",
       " 'boxes': [<matplotlib.lines.Line2D at 0x7f499ce0ded0>,\n",
       "  <matplotlib.lines.Line2D at 0x7f499cda4510>],\n",
       " 'medians': [<matplotlib.lines.Line2D at 0x7f499cd9ba50>,\n",
       "  <matplotlib.lines.Line2D at 0x7f499cdabf50>],\n",
       " 'fliers': [<matplotlib.lines.Line2D at 0x7f499cd9bf90>,\n",
       "  <matplotlib.lines.Line2D at 0x7f499cdb34d0>],\n",
       " 'means': []}"
      ]
     },
     "execution_count": 2,
     "metadata": {},
     "output_type": "execute_result"
    },
    {
     "data": {
      "image/png": "[encoded data removed]",
      "text/plain": [
       "<Figure size 432x288 with 1 Axes>"
      ]
     },
     "metadata": {
      "needs_background": "light"
     },
     "output_type": "display_data"
    }
   ],
   "source": [
    "# リスト 4.7.2　複数の箱ひげ図の描画\n",
    "\n",
    "# データ作成\n",
    "values_A = np.random.normal(100, 10, 1000)\n",
    "values_B = np.random.normal(120, 20, 1000)\n",
    "values_AB = [values_A, values_B]\n",
    "labels = [\"A\", \"B\"]\n",
    "fig, ax = plt.subplots(1, 1)\n",
    "\n",
    "# データとラベルを指定\n",
    "ax.boxplot(values_AB, labels=labels)"
   ]
  },
  {
   "cell_type": "code",
   "execution_count": 3,
   "metadata": {},
   "outputs": [
    {
     "data": {
      "text/html": [
       "<div>\n",
       "<style scoped>\n",
       "    .dataframe tbody tr th:only-of-type {\n",
       "        vertical-align: middle;\n",
       "    }\n",
       "\n",
       "    .dataframe tbody tr th {\n",
       "        vertical-align: top;\n",
       "    }\n",
       "\n",
       "    .dataframe thead th {\n",
       "        text-align: right;\n",
       "    }\n",
       "</style>\n",
       "<table border=\"1\" class=\"dataframe\">\n",
       "  <thead>\n",
       "    <tr style=\"text-align: right;\">\n",
       "      <th></th>\n",
       "      <th>name</th>\n",
       "      <th>genre</th>\n",
       "      <th>type</th>\n",
       "      <th>episodes</th>\n",
       "      <th>rating</th>\n",
       "      <th>members</th>\n",
       "    </tr>\n",
       "    <tr>\n",
       "      <th>anime_id</th>\n",
       "      <th></th>\n",
       "      <th></th>\n",
       "      <th></th>\n",
       "      <th></th>\n",
       "      <th></th>\n",
       "      <th></th>\n",
       "    </tr>\n",
       "  </thead>\n",
       "  <tbody>\n",
       "    <tr>\n",
       "      <th>32281</th>\n",
       "      <td>Kimi no Na wa.</td>\n",
       "      <td>Drama, Romance, School, Supernatural</td>\n",
       "      <td>Movie</td>\n",
       "      <td>1</td>\n",
       "      <td>9.37</td>\n",
       "      <td>200630</td>\n",
       "    </tr>\n",
       "    <tr>\n",
       "      <th>5114</th>\n",
       "      <td>Fullmetal Alchemist: Brotherhood</td>\n",
       "      <td>Action, Adventure, Drama, Fantasy, Magic, Mili...</td>\n",
       "      <td>TV</td>\n",
       "      <td>64</td>\n",
       "      <td>9.26</td>\n",
       "      <td>793665</td>\n",
       "    </tr>\n",
       "    <tr>\n",
       "      <th>28977</th>\n",
       "      <td>Gintama°</td>\n",
       "      <td>Action, Comedy, Historical, Parody, Samurai, S...</td>\n",
       "      <td>TV</td>\n",
       "      <td>51</td>\n",
       "      <td>9.25</td>\n",
       "      <td>114262</td>\n",
       "    </tr>\n",
       "  </tbody>\n",
       "</table>\n",
       "</div>"
      ],
      "text/plain": [
       "                                      name  \\\n",
       "anime_id                                     \n",
       "32281                       Kimi no Na wa.   \n",
       "5114      Fullmetal Alchemist: Brotherhood   \n",
       "28977                             Gintama°   \n",
       "\n",
       "                                                      genre   type  episodes  \\\n",
       "anime_id                                                                       \n",
       "32281                  Drama, Romance, School, Supernatural  Movie         1   \n",
       "5114      Action, Adventure, Drama, Fantasy, Magic, Mili...     TV        64   \n",
       "28977     Action, Comedy, Historical, Parody, Samurai, S...     TV        51   \n",
       "\n",
       "          rating  members  \n",
       "anime_id                   \n",
       "32281       9.37   200630  \n",
       "5114        9.26   793665  \n",
       "28977       9.25   114262  "
      ]
     },
     "execution_count": 3,
     "metadata": {},
     "output_type": "execute_result"
    }
   ],
   "source": [
    "# リスト 4.7.3　anime_master.csv ファイルの読み込み\n",
    "\n",
    "from urllib.parse import urljoin\n",
    "import pandas as pd\n",
    "\n",
    "base_url = \"https://raw.githubusercontent.com/practical-jupyter/sample-data/master/anime/\"\n",
    "anime_master_csv = urljoin(base_url, \"anime_master.csv\")\n",
    "df = pd.read_csv(anime_master_csv, index_col=\"anime_id\")\n",
    "df.head(3)"
   ]
  },
  {
   "cell_type": "code",
   "execution_count": 4,
   "metadata": {},
   "outputs": [
    {
     "data": {
      "image/png": "[encoded data removed]",
      "text/plain": [
       "<Figure size 432x288 with 1 Axes>"
      ]
     },
     "metadata": {
      "needs_background": "light"
     },
     "output_type": "display_data"
    }
   ],
   "source": [
    "# リスト 4.7.4　メディア種別ごとのエピソード数を可視化\n",
    "\n",
    "labels = []\n",
    "types = []\n",
    "\n",
    "# メディア種別ごとのエピソード数の情報をリスト化\n",
    "for label, df_per_type in df.groupby(\"type\"):\n",
    "    labels.append(label)\n",
    "    types.append(df_per_type[\"episodes\"].tolist())\n",
    "\n",
    "fig, ax = plt.subplots(1, 1)\n",
    "ax.boxplot(types, labels=labels)\n",
    "ax.set_ylabel(\"Episodes\")"
   ]
  },
  {
   "cell_type": "code",
   "execution_count": 5,
   "metadata": {},
   "outputs": [
    {
     "data": {
      "image/png": "[encoded data removed]",
      "text/plain": [
       "<Figure size 432x288 with 1 Axes>"
      ]
     },
     "metadata": {
      "needs_background": "light"
     },
     "output_type": "display_data"
    }
   ],
   "source": [
    "# リスト 4.7.5　描画範囲を限定した箱ひげ図\n",
    "\n",
    "fig, ax = plt.subplots(1, 1)\n",
    "ax.boxplot(types, labels=labels)\n",
    "\n",
    "# Y軸の描画範囲を0から 100までに限定\n",
    "ax.set_ylim(0, 100)\n",
    "ax.set_ylabel(\"Episodes\")"
   ]
  },
  {
   "cell_type": "code",
   "execution_count": 6,
   "metadata": {},
   "outputs": [
    {
     "data": {
      "text/html": [
       "<div>\n",
       "<style scoped>\n",
       "    .dataframe tbody tr th:only-of-type {\n",
       "        vertical-align: middle;\n",
       "    }\n",
       "\n",
       "    .dataframe tbody tr th {\n",
       "        vertical-align: top;\n",
       "    }\n",
       "\n",
       "    .dataframe thead th {\n",
       "        text-align: right;\n",
       "    }\n",
       "</style>\n",
       "<table border=\"1\" class=\"dataframe\">\n",
       "  <thead>\n",
       "    <tr style=\"text-align: right;\">\n",
       "      <th>type</th>\n",
       "      <th>Movie</th>\n",
       "      <th>Music</th>\n",
       "      <th>ONA</th>\n",
       "      <th>OVA</th>\n",
       "      <th>Special</th>\n",
       "      <th>TV</th>\n",
       "    </tr>\n",
       "  </thead>\n",
       "  <tbody>\n",
       "    <tr>\n",
       "      <th>count</th>\n",
       "      <td>2220.0</td>\n",
       "      <td>485.0</td>\n",
       "      <td>591.0</td>\n",
       "      <td>1932.0</td>\n",
       "      <td>1517.0</td>\n",
       "      <td>3330.0</td>\n",
       "    </tr>\n",
       "    <tr>\n",
       "      <th>mean</th>\n",
       "      <td>1.1</td>\n",
       "      <td>1.1</td>\n",
       "      <td>6.8</td>\n",
       "      <td>2.5</td>\n",
       "      <td>2.5</td>\n",
       "      <td>37.5</td>\n",
       "    </tr>\n",
       "    <tr>\n",
       "      <th>std</th>\n",
       "      <td>2.2</td>\n",
       "      <td>1.3</td>\n",
       "      <td>11.5</td>\n",
       "      <td>3.9</td>\n",
       "      <td>3.8</td>\n",
       "      <td>83.3</td>\n",
       "    </tr>\n",
       "    <tr>\n",
       "      <th>min</th>\n",
       "      <td>1.0</td>\n",
       "      <td>1.0</td>\n",
       "      <td>1.0</td>\n",
       "      <td>1.0</td>\n",
       "      <td>1.0</td>\n",
       "      <td>3.0</td>\n",
       "    </tr>\n",
       "    <tr>\n",
       "      <th>25%</th>\n",
       "      <td>1.0</td>\n",
       "      <td>1.0</td>\n",
       "      <td>1.0</td>\n",
       "      <td>1.0</td>\n",
       "      <td>1.0</td>\n",
       "      <td>13.0</td>\n",
       "    </tr>\n",
       "    <tr>\n",
       "      <th>50%</th>\n",
       "      <td>1.0</td>\n",
       "      <td>1.0</td>\n",
       "      <td>2.0</td>\n",
       "      <td>1.0</td>\n",
       "      <td>1.0</td>\n",
       "      <td>25.0</td>\n",
       "    </tr>\n",
       "    <tr>\n",
       "      <th>75%</th>\n",
       "      <td>1.0</td>\n",
       "      <td>1.0</td>\n",
       "      <td>8.0</td>\n",
       "      <td>3.0</td>\n",
       "      <td>2.0</td>\n",
       "      <td>43.0</td>\n",
       "    </tr>\n",
       "    <tr>\n",
       "      <th>max</th>\n",
       "      <td>100.0</td>\n",
       "      <td>24.0</td>\n",
       "      <td>84.0</td>\n",
       "      <td>110.0</td>\n",
       "      <td>51.0</td>\n",
       "      <td>1818.0</td>\n",
       "    </tr>\n",
       "  </tbody>\n",
       "</table>\n",
       "</div>"
      ],
      "text/plain": [
       "type    Movie  Music    ONA     OVA  Special      TV\n",
       "count  2220.0  485.0  591.0  1932.0   1517.0  3330.0\n",
       "mean      1.1    1.1    6.8     2.5      2.5    37.5\n",
       "std       2.2    1.3   11.5     3.9      3.8    83.3\n",
       "min       1.0    1.0    1.0     1.0      1.0     3.0\n",
       "25%       1.0    1.0    1.0     1.0      1.0    13.0\n",
       "50%       1.0    1.0    2.0     1.0      1.0    25.0\n",
       "75%       1.0    1.0    8.0     3.0      2.0    43.0\n",
       "max     100.0   24.0   84.0   110.0     51.0  1818.0"
      ]
     },
     "execution_count": 6,
     "metadata": {},
     "output_type": "execute_result"
    }
   ],
   "source": [
    "# リスト 4.7.6　四分位点の値を describe() で確認\n",
    "\n",
    "df.groupby(\"type\")[\"episodes\"].describe().T.round(1)"
   ]
  },
  {
   "cell_type": "code",
   "execution_count": 7,
   "metadata": {},
   "outputs": [
    {
     "data": {
      "image/png": "[encoded data removed]",
      "text/plain": [
       "<Figure size 432x288 with 1 Axes>"
      ]
     },
     "metadata": {
      "needs_background": "light"
     },
     "output_type": "display_data"
    }
   ],
   "source": [
    "# リスト 4.7.7　書式を一括設定して箱ひげ図を描画\n",
    "\n",
    "# 書式辞書の作成\n",
    "# はずれ値の書式辞書\n",
    "flierprop = {\n",
    "    \"color\": \"#EC407A\",\n",
    "    \"marker\": \"o\",\n",
    "    \"markerfacecolor\": \"#2196F3\",\n",
    "    \"markeredgecolor\": \"white\",\n",
    "    \"markersize\": 5,\n",
    "    \"linestyle\": \"None\",\n",
    "    \"linewidth\": 0.1,\n",
    "}\n",
    "\n",
    "# 箱の書式辞書\n",
    "boxprop = {\n",
    "    \"color\": \"#2196F3\",\n",
    "    \"facecolor\": \"#BBDEFB\",\n",
    "    \"linewidth\": 1,\n",
    "    \"linestyle\": \"-\",\n",
    "}\n",
    "\n",
    "# ヒゲの書式辞書\n",
    "whiskerprop = {\"color\": \"#2196F3\", \"linewidth\": 1, \"linestyle\": \"-\"}\n",
    "\n",
    "# ヒゲ末端キャップの書式辞書\n",
    "capprop = {\"color\": \"#2196F3\", \"linewidth\": 1, \"linestyle\": \"-\"}\n",
    "\n",
    "# 中央値の書式辞書\n",
    "medianprop = {\"color\": \"#2196F3\", \"linewidth\": 2, \"linestyle\": \"-\"}\n",
    "\n",
    "# 平均値の書式辞書\n",
    "meanprop = {\n",
    "    \"color\": \"#2196F3\",\n",
    "    \"marker\": \"x\",\n",
    "    \"markerfacecolor\": \"#2196F3\",\n",
    "    \"markeredgecolor\": \"#2196F3\",\n",
    "    \"markersize\": 10,\n",
    "    \"linewidth\": 1,\n",
    "    \"linestyle\": \"\",\n",
    "}\n",
    "\n",
    "# 書式を設定して箱ひげ図を描画\n",
    "fig, ax = plt.subplots(1, 1)\n",
    "ax.boxplot(\n",
    "    types,\n",
    "    patch_artist=\"Patch\",\n",
    "    labels=labels,\n",
    "    showmeans=True,\n",
    "    flierprops=flierprop,\n",
    "    boxprops=boxprop,\n",
    "    whiskerprops=whiskerprop,\n",
    "    capprops=capprop,\n",
    "    medianprops=medianprop,\n",
    "    meanprops=meanprop,\n",
    ")\n",
    "\n",
    "# Y軸の描画範囲を0から 100までに限定\n",
    "ax.set_ylim(0, 100)\n",
    "\n",
    "# Y軸ラベルを設定\n",
    "ax.set_ylabel(\"Episodes\")"
   ]
  },
  {
   "cell_type": "code",
   "execution_count": 8,
   "metadata": {},
   "outputs": [
    {
     "data": {
      "image/png": "[encoded data removed]",
      "text/plain": [
       "<Figure size 432x288 with 1 Axes>"
      ]
     },
     "metadata": {
      "needs_background": "light"
     },
     "output_type": "display_data"
    }
   ],
   "source": [
    "# リスト 4.7.8　グループごとに異なる書式を設定する\n",
    "\n",
    "# カラーセット作成用にインポート\n",
    "import matplotlib.cm as cm\n",
    "\n",
    "# 図の描画\n",
    "fig, ax = plt.subplots(1, 1)\n",
    "bp = ax.boxplot(types, patch_artist=\"Patch\", labels=labels, showmeans=True)\n",
    "\n",
    "# Y軸の描画範囲を0から 100までに限定\n",
    "ax.set_ylim(0, 100)\n",
    "\n",
    "# Y軸ラベルを設定\n",
    "ax.set_ylabel(\"Episodes\")\n",
    "\n",
    "# 書式設定\n",
    "# カラーセットを作成\n",
    "deep_colors = [cm.tab20(i * 2 / 20) for i in range(6)]\n",
    "pale_colors = [cm.tab20((i * 2 + 1) / 20) for i in range(6)]\n",
    "\n",
    "# 上下に分かれた要素に設定するための用の数列\n",
    "n = [0, 0, 1, 1, 2, 2, 3, 3, 4, 4, 5, 5, 6, 6]\n",
    "\n",
    "# 箱とはずれ値、中央値、平均値の書式設定\n",
    "for params in zip(\n",
    "    bp[\"boxes\"],\n",
    "    bp[\"fliers\"],\n",
    "    bp[\"medians\"],\n",
    "    bp[\"means\"],\n",
    "    deep_colors,\n",
    "    pale_colors,\n",
    "):\n",
    "    bpbox, bpflier, bpmedian, bpmean, dcolor, pcolor = params\n",
    "\n",
    "    # 箱の書式設定\n",
    "    bpbox.set_color(dcolor)\n",
    "    bpbox.set_facecolor(pcolor)\n",
    "    bpbox.set_linewidth(1)\n",
    "\n",
    "    # 外れ値の書式設定\n",
    "    bpflier.set(marker=\"o\", color=pcolor, markersize=4)\n",
    "    bpflier.set_markeredgecolor(dcolor)\n",
    "    bpflier.set_markerfacecolor(pcolor)\n",
    "    bpflier.set_linewidth(0.1)\n",
    "\n",
    "    # 中央値の書式設定\n",
    "    bpmedian.set_color(dcolor)\n",
    "    bpmedian.set_linewidth(1.5)\n",
    "\n",
    "    # 平均値の書式設定\n",
    "    bpmean.set(marker=\"x\")\n",
    "    bpmean.set_markeredgecolor(dcolor)\n",
    "\n",
    "# ヒゲとヒゲの末端キャップの書式設定\n",
    "for bpcap, bpwhisker, m in zip(bp[\"caps\"], bp[\"whiskers\"], n):\n",
    "    bpcap.set_color(deep_colors[m])\n",
    "    bpcap.set_linewidth(1)\n",
    "    bpwhisker.set_color(deep_colors[m])\n",
    "    bpwhisker.set_linewidth(1)"
   ]
  }
 ],
 "metadata": {
  "kernelspec": {
   "display_name": "Python 3",
   "language": "python",
   "name": "python3"
  },
  "language_info": {
   "codemirror_mode": {
    "name": "ipython",
    "version": 3
   },
   "file_extension": ".py",
   "mimetype": "text/x-python",
   "name": "python",
   "nbconvert_exporter": "python",
   "pygments_lexer": "ipython3",
   "version": "3.8.2"
  }
 },
 "nbformat": 4,
 "nbformat_minor": 4
}

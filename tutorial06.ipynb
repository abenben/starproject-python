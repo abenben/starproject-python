{
  "nbformat": 4,
  "nbformat_minor": 0,
  "metadata": {
    "colab": {
      "name": "tutorial06.ipynb",
      "provenance": [],
      "collapsed_sections": [],
      "toc_visible": true,
      "include_colab_link": true
    },
    "kernelspec": {
      "name": "python3",
      "display_name": "Python 3"
    }
  },
  "cells": [
    {
      "cell_type": "markdown",
      "metadata": {
        "id": "view-in-github",
        "colab_type": "text"
      },
      "source": [
        "<a href=\"https://colab.research.google.com/github/abenben/starproject-python/blob/master/tutorial06.ipynb\" target=\"_parent\"><img src=\"https://colab.research.google.com/assets/colab-badge.svg\" alt=\"Open In Colab\"/></a>"
      ]
    },
    {
      "cell_type": "markdown",
      "metadata": {
        "id": "vGWEolnGYIUx"
      },
      "source": [
        "**Python基礎講座（6日目）**\n",
        "\n",
        "* [「Python・ブロックチェーン講座」の日程](https://www.facebook.com/photo.php?fbid=1186715631679052&set=gm.752573365315679&type=3&theater&ifg=1)"
      ]
    },
    {
      "cell_type": "markdown",
      "metadata": {
        "id": "C2oU4zK9lO2n"
      },
      "source": [
        "---\n",
        "---\n",
        "---\n",
        "本日の講義（データ処理）\n",
        "---\n",
        "---\n",
        "---\n",
        "---\n"
      ]
    },
    {
      "cell_type": "markdown",
      "metadata": {
        "id": "BUfkwIDS5qrs"
      },
      "source": [
        "# 1.Pandas（Series編）"
      ]
    },
    {
      "cell_type": "markdown",
      "metadata": {
        "id": "4mf9oGUMVSxh"
      },
      "source": [
        "## 1.0 宣言\n",
        "\n",
        "pandas\n",
        "\n",
        "```python\n",
        "▶ import pandas as pd\n",
        "```\n",
        "\n",
        "（コードを実際に実行してみましょう）"
      ]
    },
    {
      "cell_type": "code",
      "metadata": {
        "id": "vrS3hSBUV9t8"
      },
      "source": [
        "# （実行しましょう）\n",
        "import pandas as pd"
      ],
      "execution_count": 2,
      "outputs": []
    },
    {
      "cell_type": "markdown",
      "metadata": {
        "id": "ZjmfqBtRHOjO"
      },
      "source": [
        "## 1.1 シリーズ\n",
        "\n"
      ]
    },
    {
      "cell_type": "markdown",
      "metadata": {
        "id": "DNCvwdUDEEeY"
      },
      "source": [
        "### 1.1.1(a) 生成（その1)\n",
        "\n",
        "```python\n",
        ">>> ser = pd.Series([10, 20, 30, 40])\n",
        ">>> print(ser)\n",
        "0    10\n",
        "1    20\n",
        "2    30\n",
        "3    40\n",
        "dtype: int64\n",
        "```\n",
        "\n",
        "（コードを書いて実際に確認してみよう）"
      ]
    },
    {
      "cell_type": "code",
      "metadata": {
        "id": "La_9oDAhWMz6"
      },
      "source": [
        "# （ここに記述）"
      ],
      "execution_count": null,
      "outputs": []
    },
    {
      "cell_type": "markdown",
      "metadata": {
        "id": "fu3-lGuoWc8B"
      },
      "source": [
        "### 1.1.1(b) 生成（その2)\n",
        "\n",
        "```python\n",
        ">>> height = [170,172,165,180,174]\n",
        ">>> ser = pd.Series(height)\n",
        ">>> print(ser)\n",
        "0    10\n",
        "1    20\n",
        "2    30\n",
        "3    40\n",
        "dtype: int64\n",
        "```\n",
        "\n",
        "（コードを書いて実際に確認してみよう）"
      ]
    },
    {
      "cell_type": "code",
      "metadata": {
        "id": "NMhHG4PKH8Yq"
      },
      "source": [
        "# （ここに記述）"
      ],
      "execution_count": null,
      "outputs": []
    },
    {
      "cell_type": "markdown",
      "metadata": {
        "id": "ILhsMdsqXExs"
      },
      "source": [
        "### 1.1.1(c) 生成（その3)\n",
        "\n",
        "```python\n",
        ">>> import numpy as np\n",
        ">>> height = np.array([170,172,165,180,174])\n",
        ">>> ser = pd.Series(height)\n",
        ">>> print(ser)\n",
        "0    170\n",
        "1    172\n",
        "2    165\n",
        "3    180\n",
        "4    174\n",
        "dtype: int64\n",
        "```\n",
        "\n",
        "（コードを書いて実際に確認してみよう）"
      ]
    },
    {
      "cell_type": "code",
      "metadata": {
        "id": "7bGjPEE6XHU1"
      },
      "source": [
        "# （ここに記述）"
      ],
      "execution_count": null,
      "outputs": []
    },
    {
      "cell_type": "markdown",
      "metadata": {
        "id": "KAGtKDluXnA0"
      },
      "source": [
        "### 1.1.1(d) 生成（その4)\n",
        "\n",
        "```python\n",
        ">>> name = ['sato','suzuki','tanaka','kato','watanabe']\n",
        ">>> height = [170,172,165,180,174]\n",
        ">>> ser = pd.Series(height,index=name)\n",
        ">>> print(ser)\n",
        "sato 170\n",
        "suzuki 172\n",
        "tanaka 165\n",
        "kato 180\n",
        "watanabe 174\n",
        "dtype: int64\n",
        "```\n",
        "\n",
        "（コードを書いて実際に確認してみよう）"
      ]
    },
    {
      "cell_type": "code",
      "metadata": {
        "id": "np4pR446X66s"
      },
      "source": [
        "# （ここに記述）"
      ],
      "execution_count": null,
      "outputs": []
    },
    {
      "cell_type": "markdown",
      "metadata": {
        "id": "e5nxMLiNYE6A"
      },
      "source": [
        "### 1.1.1(d-2) ラベル取得\n",
        "\n",
        "```python\n",
        ">>> print(ser.index)\n",
        "Index(['sato', 'suzuki', 'tanaka', 'kato', 'watanabe'], dtype='object')\n",
        "```\n",
        "\n",
        "（コードを書いて実際に確認してみよう）"
      ]
    },
    {
      "cell_type": "code",
      "metadata": {
        "id": "JjEWeHW8Ya7E"
      },
      "source": [
        "# （ここに記述）"
      ],
      "execution_count": null,
      "outputs": []
    },
    {
      "cell_type": "markdown",
      "metadata": {
        "id": "P1ojlCaLY2IV"
      },
      "source": [
        "### 1.1.1(d) 生成（その5)\n",
        "\n",
        "```python\n",
        ">>> dic = { 'sato':170, 'suzuki':172, 'tanaka':165, 'kato':180, 'watanabe':174 }\n",
        ">>> ser = pd.Series(dic)\n",
        ">>> print(ser)\n",
        "sato        170\n",
        "suzuki      172\n",
        "tanaka      165\n",
        "kato        180\n",
        "watanabe    174\n",
        "dtype: int64\n",
        "```\n",
        "\n",
        "（コードを書いて実際に確認してみよう）"
      ]
    },
    {
      "cell_type": "code",
      "metadata": {
        "id": "cVBB9FK1Y959"
      },
      "source": [
        "# （ここに記述）"
      ],
      "execution_count": null,
      "outputs": []
    },
    {
      "cell_type": "markdown",
      "metadata": {
        "id": "CnB6rDrcaofM"
      },
      "source": [
        "### 1.1.2(a) データ参照1\n",
        "\n",
        "```python\n",
        ">>> print(ser.index)\n",
        "165\n",
        "```\n",
        "\n",
        "（コードを書いて実際に確認してみよう）"
      ]
    },
    {
      "cell_type": "code",
      "metadata": {
        "id": "msM2yLHgawQi"
      },
      "source": [
        "# （ここに記述）"
      ],
      "execution_count": null,
      "outputs": []
    },
    {
      "cell_type": "markdown",
      "metadata": {
        "id": "PPzOJd_ebFtG"
      },
      "source": [
        "### 1.1.2(b) データ参照2\n",
        "\n",
        "```python\n",
        ">>> ser['suzuki':'kato']\n",
        "suzuki    172\n",
        "tanaka    165\n",
        "kato      180\n",
        "dtype: int64\n",
        "```\n",
        "\n",
        "（コードを書いて実際に確認してみよう）"
      ]
    },
    {
      "cell_type": "code",
      "metadata": {
        "id": "KlKAM1eybMx5"
      },
      "source": [
        "# （ここに記述）"
      ],
      "execution_count": null,
      "outputs": []
    },
    {
      "cell_type": "markdown",
      "metadata": {
        "id": "pmt4cfOZcOCz"
      },
      "source": [
        "### 1.1.2(c) データ参照3\n",
        "\n",
        "```python\n",
        ">>> print(ser['tanaka'])\n",
        ">>> print(ser.iloc[2])\n",
        "165\n",
        "165\n",
        "```\n",
        "\n",
        "（コードを書いて実際に確認してみよう）"
      ]
    },
    {
      "cell_type": "code",
      "metadata": {
        "id": "FCQfY8akcSfT"
      },
      "source": [
        "# （ここに記述）"
      ],
      "execution_count": null,
      "outputs": []
    },
    {
      "cell_type": "markdown",
      "metadata": {
        "id": "9RZUdIZCdOcl"
      },
      "source": [
        "### 1.1.2(d) データ参照4\n",
        "\n",
        "```python\n",
        ">>> ser[ser > 170]\n",
        "suzuki      172\n",
        "kato        180\n",
        "watanabe    174\n",
        "dtype: int64\n",
        "```\n",
        "\n",
        "（コードを書いて実際に確認してみよう）"
      ]
    },
    {
      "cell_type": "code",
      "metadata": {
        "id": "4yKnUHc-dCtS"
      },
      "source": [
        "# （ここに記述）"
      ],
      "execution_count": null,
      "outputs": []
    },
    {
      "cell_type": "markdown",
      "metadata": {
        "id": "OEuN7j9Oeyjm"
      },
      "source": [
        "### 1.1.3(a) 演算1\n",
        "\n",
        "```python\n",
        ">>> print(\"*** 乗算 ***\")\n",
        ">>> print(ser * 2)\n",
        ">>> print(\"*** 元データは変わっていない ***\")\n",
        ">>> print(ser)\n",
        "*** 乗算 ***\n",
        "sato        340\n",
        "suzuki      344\n",
        "tanaka      330\n",
        "kato        360\n",
        "watanabe    348\n",
        "dtype: int64\n",
        "*** 元データは変わっていない ***\n",
        "sato        170\n",
        "suzuki      172\n",
        "tanaka      165\n",
        "kato        180\n",
        "watanabe    174\n",
        "dtype: int64\n",
        "```\n",
        "\n",
        "（コードを書いて実際に確認してみよう）"
      ]
    },
    {
      "cell_type": "code",
      "metadata": {
        "id": "A8TnHsfoeDH9"
      },
      "source": [
        "# （ここに記述）"
      ],
      "execution_count": null,
      "outputs": []
    },
    {
      "cell_type": "markdown",
      "metadata": {
        "id": "_tidVPjgfFI3"
      },
      "source": [
        "### 1.1.3(b) 演算2\n",
        "\n",
        "```python\n",
        ">>> ser *= 2\n",
        ">>> print(ser)\n",
        "乗算追加\n",
        "sato        340\n",
        "suzuki      344\n",
        "tanaka      330\n",
        "kato        360\n",
        "watanabe    348\n",
        "dtype: int64\n",
        "```\n",
        "\n",
        "（コードを書いて実際に確認してみよう）"
      ]
    },
    {
      "cell_type": "code",
      "metadata": {
        "id": "gFxnVNfTeNY6"
      },
      "source": [
        "# （ここに記述）"
      ],
      "execution_count": null,
      "outputs": []
    },
    {
      "cell_type": "markdown",
      "metadata": {
        "id": "a0maZft_l2ii"
      },
      "source": [
        "### 1.1.4(a) 要素の追加\n",
        "\n",
        "```python\n",
        ">>> #初期データの準備\n",
        ">>> dic = { 'abe':70, 'inoue':65, 'ueda':76 }\n",
        ">>> ser = pd.Series(dic)\n",
        ">>> print(ser)\n",
        "abe      70\n",
        "inoue    65\n",
        "ueda     76\n",
        "dtype: int64\n",
        "```"
      ]
    },
    {
      "cell_type": "code",
      "metadata": {
        "id": "IPjILT1tjDmF",
        "outputId": "7a2b5b85-dc54-4358-cb8d-9a978d05bd65",
        "colab": {
          "base_uri": "https://localhost:8080/",
          "height": 85
        }
      },
      "source": [
        "# （このまま実行：初期データの準備）\n",
        "dic = { 'abe':70, 'inoue':65, 'ueda':76 }\n",
        "ser = pd.Series(dic)\n",
        "print(ser)"
      ],
      "execution_count": null,
      "outputs": [
        {
          "output_type": "stream",
          "text": [
            "abe      70\n",
            "inoue    65\n",
            "ueda     76\n",
            "dtype: int64\n"
          ],
          "name": "stdout"
        }
      ]
    },
    {
      "cell_type": "markdown",
      "metadata": {
        "id": "9fB2hJBSoh4m"
      },
      "source": [
        "```python\n",
        ">>> ser2=pd.Series([79,52],index=['endo','okada'])\n",
        ">>> print(ser.append(ser2))\n",
        "abe      70\n",
        "inoue    65\n",
        "ueda     76\n",
        "endo     79\n",
        "okada    52\n",
        "dtype: int64\n",
        "```\n",
        "\n",
        "（コードを書いて実際に確認してみよう）"
      ]
    },
    {
      "cell_type": "code",
      "metadata": {
        "id": "k92WLplEk5to"
      },
      "source": [
        "# （ここに記述）"
      ],
      "execution_count": null,
      "outputs": []
    },
    {
      "cell_type": "markdown",
      "metadata": {
        "id": "rHNs1ZTJmsyL"
      },
      "source": [
        "### 1.1.4(b) 要素の変更\n",
        "\n",
        "```python\n",
        ">>> ser['abe':'inoue']=72\n",
        ">>> ser\n",
        "abe      72\n",
        "inoue    72\n",
        "ueda     76\n",
        "dtype: int64\n",
        "```\n",
        "\n",
        "（コードを書いて実際に確認してみよう）"
      ]
    },
    {
      "cell_type": "code",
      "metadata": {
        "id": "JxwJpyRrldCO"
      },
      "source": [
        "# （ここに記述）"
      ],
      "execution_count": null,
      "outputs": []
    },
    {
      "cell_type": "markdown",
      "metadata": {
        "id": "XNGZRsFVm987"
      },
      "source": [
        "### 1.1.4(c) 要素の削除\n",
        "\n",
        "```python\n",
        ">>> del ser['abe']\n",
        ">>> ser\n",
        "noue    65\n",
        "ueda     76\n",
        "dtype: int64\n",
        "```\n",
        "\n",
        "（コードを書いて実際に確認してみよう）"
      ]
    },
    {
      "cell_type": "code",
      "metadata": {
        "id": "93DqgjFrs3Bl"
      },
      "source": [
        "# （ここに記述）"
      ],
      "execution_count": null,
      "outputs": []
    },
    {
      "cell_type": "markdown",
      "metadata": {
        "id": "wbd3ksu5vLG0"
      },
      "source": [
        "### 1.1.5 重複データの削除\n",
        "\n",
        "```python\n",
        ">>> # （このまま実行：初期データの準備）\n",
        ">>> dic = { 'A':1, 'B':2, 'C':3, 'D':1, 'E':5 }\n",
        ">>> ser = pd.Series(dic)\n",
        ">>> ser\n",
        "A    1\n",
        "B    2\n",
        "C    3\n",
        "D    1\n",
        "E    5\n",
        "dtype: int64\n",
        "```"
      ]
    },
    {
      "cell_type": "code",
      "metadata": {
        "id": "yvbA11I8tSLX"
      },
      "source": [
        "# （このまま実行：初期データの準備）\n",
        "dic = { 'A':1, 'B':2, 'C':3, 'D':1, 'E':5 }\n",
        "ser = pd.Series(dic)\n",
        "ser"
      ],
      "execution_count": 20,
      "outputs": []
    },
    {
      "cell_type": "markdown",
      "metadata": {
        "id": "_2ExgGwAvTbK"
      },
      "source": [
        "```python\n",
        ">>> ser.drop_duplicates(keep='first')\n",
        "A    1\n",
        "B    2\n",
        "C    3\n",
        "E    5\n",
        "dtype: int64\n",
        "```\n",
        "\n",
        "（コードを書いて実際に確認してみよう）"
      ]
    },
    {
      "cell_type": "code",
      "metadata": {
        "id": "Cn3etoFxtctK"
      },
      "source": [
        "# （ここに記述）"
      ],
      "execution_count": 21,
      "outputs": []
    },
    {
      "cell_type": "markdown",
      "metadata": {
        "id": "XxAJXTQpvNAs"
      },
      "source": [
        "### 1.1.6 欠損データの削除\n",
        "\n",
        "```python\n",
        ">>> # （このまま実行：初期データの準備）\n",
        ">>> dic = { 'A':1, 'B':np.nan, 'C':3, 'D':4, 'E':5 }\n",
        ">>> ser = pd.Series(dic)\n",
        ">>> ser\n",
        "A    1.0\n",
        "B    NaN\n",
        "C    3.0\n",
        "D    4.0\n",
        "E    5.0\n",
        "dtype: float64\n",
        "```"
      ]
    },
    {
      "cell_type": "code",
      "metadata": {
        "id": "0i4M42kBuwnu",
        "outputId": "9d901ef7-462e-467c-d3cc-a2c44b29c48f",
        "colab": {
          "base_uri": "https://localhost:8080/",
          "height": 119
        }
      },
      "source": [
        "# （このまま実行：初期データの準備）\n",
        "dic = { 'A':1, 'B':np.nan, 'C':3, 'D':4, 'E':5 }\n",
        "ser = pd.Series(dic)\n",
        "ser"
      ],
      "execution_count": null,
      "outputs": [
        {
          "output_type": "execute_result",
          "data": {
            "text/plain": [
              "A    1.0\n",
              "B    NaN\n",
              "C    3.0\n",
              "D    4.0\n",
              "E    5.0\n",
              "dtype: float64"
            ]
          },
          "metadata": {
            "tags": []
          },
          "execution_count": 80
        }
      ]
    },
    {
      "cell_type": "markdown",
      "metadata": {
        "id": "DpZYXPavvSFV"
      },
      "source": [
        "```python\n",
        ">>> ser.dropna()\n",
        "A    1.0\n",
        "C    3.0\n",
        "D    4.0\n",
        "E    5.0\n",
        "dtype: float64\n",
        "```\n",
        "\n",
        "（コードを書いて実際に確認してみよう）"
      ]
    },
    {
      "cell_type": "code",
      "metadata": {
        "id": "GqYb8UrKu3w9"
      },
      "source": [
        "# （ここに記述）"
      ],
      "execution_count": 22,
      "outputs": []
    },
    {
      "cell_type": "markdown",
      "metadata": {
        "id": "NgFgEwn1s1Iu"
      },
      "source": [
        "### 1.1.7 統計量\n",
        "\n",
        "```python\n",
        ">>> dic = { 'sato':170, 'suzuki':172, 'tanaka':165, 'kato':180, 'watanabe':174 }\n",
        ">>> ser = pd.Series(dic)\n",
        ">>> ser.describe()\n",
        "count      5.000000\n",
        "mean     172.200000\n",
        "std        5.495453\n",
        "min      165.000000\n",
        "25%      170.000000\n",
        "50%      172.000000\n",
        "75%      174.000000\n",
        "max      180.000000\n",
        "dtype: float64\n",
        "```\n",
        "\n",
        "（コードを書いて実際に確認してみよう）"
      ]
    },
    {
      "cell_type": "code",
      "metadata": {
        "id": "17j_5FgDlApk"
      },
      "source": [
        "# （ここに記述）"
      ],
      "execution_count": null,
      "outputs": []
    },
    {
      "cell_type": "markdown",
      "metadata": {
        "id": "kXUYhd4vlPki"
      },
      "source": [
        "---\n",
        "---\n",
        "---\n",
        "---\n",
        "---\n",
        "## 1.2.DataFrame編"
      ]
    },
    {
      "cell_type": "markdown",
      "metadata": {
        "id": "XfdNmF29uAKz"
      },
      "source": [
        "### 1.2.1(a) 生成（その1)\n",
        "\n",
        "```python\n",
        ">>> df = pd.DataFrame([[10, \"a\", True],\n",
        ">>> [20, \"b\", False,],\n",
        ">>> [30, \"c\", False],\n",
        ">>> [40, \"d\", True]])\n",
        ">>> df\n",
        "\t0\t1\t2\n",
        "0\t10\ta\tTrue\n",
        "1\t20\tb\tFalse\n",
        "2\t30\tc\tFalse\n",
        "3\t40\td\tTru\n",
        "```\n",
        "\n",
        "（コードを書いて実際に確認してみよう）"
      ]
    },
    {
      "cell_type": "code",
      "metadata": {
        "id": "BJwDioEWaqaW"
      },
      "source": [
        "# （ここに記述）"
      ],
      "execution_count": 23,
      "outputs": []
    },
    {
      "cell_type": "markdown",
      "metadata": {
        "id": "fnJ3uRUlzmag"
      },
      "source": [
        "### 1.2.1(b) 生成（その2)\n",
        "\n",
        "```python\n",
        ">>> val = ['a',1,0.5]\n",
        ">>> df = pd.DataFrame(val)\n",
        ">>> df\n",
        "\t0\n",
        "0\ta\n",
        "1\t1\n",
        "2\t0.5\n",
        "```\n",
        "\n",
        "（コードを書いて実際に確認してみよう）"
      ]
    },
    {
      "cell_type": "code",
      "metadata": {
        "id": "_BAsEOvwuqlh"
      },
      "source": [
        "# （ここに記述）"
      ],
      "execution_count": 24,
      "outputs": []
    },
    {
      "cell_type": "markdown",
      "metadata": {
        "id": "yHfUmeZnz1-i"
      },
      "source": [
        "### 1.2.1(c) 生成（その3)\n",
        "\n",
        "```python\n",
        ">>> val = [[1,2,3],[4,5,6]]\n",
        ">>> df = pd.DataFrame(val, index=['a','b'], columns=['c','d','e'])\n",
        ">>> df\n",
        "\tc\td\te\n",
        "a\t1\t2\t3\n",
        "b\t4\t5\t6\n",
        "```\n",
        "\n",
        "（コードを書いて実際に確認してみよう）"
      ]
    },
    {
      "cell_type": "code",
      "metadata": {
        "id": "sXXnywYLu9zW"
      },
      "source": [
        "# （ここに記述）"
      ],
      "execution_count": 25,
      "outputs": []
    },
    {
      "cell_type": "markdown",
      "metadata": {
        "id": "ILpcE-z40Cb8"
      },
      "source": [
        "### 1.2.1(d) 生成（その4)\n",
        "\n",
        "```python\n",
        ">>> dic = {'a':[1,2,3], 'b':[4,5,6]}\n",
        ">>> df = pd.DataFrame(dic)\n",
        ">>> df\n",
        "\ta\tb\n",
        "0\t1\t4\n",
        "1\t2\t5\n",
        "2\t3\t6\n",
        "```\n",
        "\n",
        "（コードを書いて実際に確認してみよう）"
      ]
    },
    {
      "cell_type": "code",
      "metadata": {
        "id": "Bv5fIIRrv8Cc"
      },
      "source": [
        "# （ここに記述）"
      ],
      "execution_count": 26,
      "outputs": []
    },
    {
      "cell_type": "markdown",
      "metadata": {
        "id": "cJzwdrgm0TKy"
      },
      "source": [
        "### 1.2.1(e) 生成（その5)\n",
        "\n",
        "```python\n",
        ">>> age_data = pd.Series([19,22,20], index=['sato','tanaka','suzuki'])\n",
        ">>> sex_data = pd.Series(['F','M','F'], index=['sato','suzuki','watanabe'])\n",
        ">>> df = pd.DataFrame({'age':age_data, 'sex':sex_data})\n",
        ">>> df\n",
        "\tage\tsex\n",
        "sato\t19.0\tF\n",
        "suzuki\t20.0\tM\n",
        "tanaka\t22.0\tNaN\n",
        "watanabe\tNaN\tF\n",
        "```\n",
        "\n",
        "（コードを書いて実際に確認してみよう）"
      ]
    },
    {
      "cell_type": "code",
      "metadata": {
        "id": "R10cfyeVwMCc"
      },
      "source": [
        "# （ここに記述）"
      ],
      "execution_count": 27,
      "outputs": []
    },
    {
      "cell_type": "markdown",
      "metadata": {
        "id": "vAA8gTAg0Yd_"
      },
      "source": [
        "### 1.2.1(g) 生成（その6)\n",
        "\n",
        "```python\n",
        ">>> dics = {\n",
        ">>>     'age':{'sato':19,'tanaka':22,'suzuki':20},\n",
        ">>>     'sex':{'sato':'F','suzuki':'M','watanabe':'F'}\n",
        ">>> }\n",
        ">>> df = pd.DataFrame(dics)\n",
        ">>> df\n",
        "age\tsex\n",
        "sato\t19.0\tF\n",
        "tanaka\t22.0\tNaN\n",
        "suzuki\t20.0\tM\n",
        "watanabe\tNaN\tF\n",
        "```\n",
        "\n",
        "（コードを書いて実際に確認してみよう）"
      ]
    },
    {
      "cell_type": "code",
      "metadata": {
        "id": "7TLc_DCIypzu"
      },
      "source": [
        "# （ここに記述）"
      ],
      "execution_count": 28,
      "outputs": []
    },
    {
      "cell_type": "markdown",
      "metadata": {
        "id": "pN-adjSI3b5z"
      },
      "source": [
        "### 1.2.2 CSVファイル読み込み\n",
        "\n",
        "札幌の住民基本台帳に基づく人口・世帯数のデータ\n",
        "\n",
        "https://ckan.pf-sapporo.jp/dataset/juuki_3\n",
        "\n",
        "今回は直近データを利用\n",
        "\n",
        "https://ckan.pf-sapporo.jp/dataset/juuki_3/resource/0173c5fe-d7f6-4282-af39-a179addd6419\n",
        "\n",
        "CSVファイルを読み込みます。ディスクからでもWebでも読み込めます。\n",
        "\n",
        "```python\n",
        ">>> df = pd.read_csv(\"https://ckan.pf-sapporo.jp/dataset/74351e60-a426-4ac1-b0cc-56cbcbbb9e92/resource/0173c5fe-d7f6-4282-af39-a179addd6419/download/ren202010.csv\", index_col=0)\n",
        ">>> df\n",
        "世帯数\t人口の総数\t男の人口\t女の人口\n",
        "まちづくりセンター\t\t\t\t\n",
        "全市\t1078155\t1961682\t916779\t1044903\n",
        "中央区\t145872\t239858\t108663\t131195\n",
        "本府・中央\t1565\t2234\t1005\t1229\n",
        "東北\t5426\t8513\t3960\t4553\n",
        "苗穂\t3056\t5284\t2415\t2869\n",
        "...\t...\t...\t...\t...\n",
        "前田\t14089\t28237\t13345\t14892\n",
        "新発寒\t8586\t18608\t8969\t9639\n",
        "富丘西宮の沢\t13293\t25815\t12037\t13778\n",
        "稲穂金山\t8458\t16873\t7958\t8915\n",
        "星置\t7240\t15894\t7472\t8422\n",
        "```\n",
        "\n",
        "（コードを書いて実際に確認してみよう）"
      ]
    },
    {
      "cell_type": "code",
      "metadata": {
        "id": "_73pdn_JUkEq"
      },
      "source": [
        "# （ここに記述）"
      ],
      "execution_count": 86,
      "outputs": []
    },
    {
      "cell_type": "markdown",
      "metadata": {
        "id": "MEaXDGLgHt0n"
      },
      "source": [
        "### 1.2.2_a クリーニング\n",
        "\n",
        "データのクリーニングを行います。\n",
        "今回は不要な行（行インデックスが\"全市\"）を削除します。\n",
        "\n",
        "```python\n",
        ">>> df.drop(\"全市\",inplace=True)\n",
        ">>> df\n",
        "\t世帯数\t人口の総数\t男の人口\t女の人口\n",
        "まちづくりセンター\t\t\t\t\n",
        "中央区\t145872\t239858\t108663\t131195\n",
        "本府・中央\t1565\t2234\t1005\t1229\n",
        "東北\t5426\t8513\t3960\t4553\n",
        "苗穂\t3056\t5284\t2415\t2869\n",
        "東\t6724\t9404\t4312\t5092\n",
        "...\t...\t...\t...\t...\n",
        "前田\t14089\t28237\t13345\t14892\n",
        "新発寒\t8586\t18608\t8969\t9639\n",
        "富丘西宮の沢\t13293\t25815\t12037\t13778\n",
        "稲穂金山\t8458\t16873\t7958\t8915\n",
        "星置\t7240\t15894\t7472\t8422\n",
        "```\n",
        "\n",
        "（コードを書いて実際に確認してみよう）"
      ]
    },
    {
      "cell_type": "code",
      "metadata": {
        "id": "VTFc5dkk5POb"
      },
      "source": [
        "# （ここに記述）"
      ],
      "execution_count": 87,
      "outputs": []
    },
    {
      "cell_type": "markdown",
      "metadata": {
        "id": "5G-r8AgKIRvs"
      },
      "source": [
        "### 1.2.2_b 集計\n",
        "\n",
        "列ごとにデータを集計してみます\n",
        "\n",
        "```python\n",
        ">>> df.sum()\n",
        "世帯数      2156310\n",
        "人口の総数    3923364\n",
        "男の人口     1833558\n",
        "女の人口     2089806\n",
        "dtype: int64\n",
        "```\n",
        "\n",
        "（コードを書いて実際に確認してみよう）"
      ]
    },
    {
      "cell_type": "code",
      "metadata": {
        "id": "11d9zkYFHAQx"
      },
      "source": [
        "# （ここに記述）"
      ],
      "execution_count": 88,
      "outputs": []
    },
    {
      "cell_type": "markdown",
      "metadata": {
        "id": "F0WrrUSpIrAd"
      },
      "source": [
        "### 1.2.2_c 統計量\n",
        "\n",
        "統計量を確認します。\n",
        "describeは指数で表示されるので、pandas全体の表示フォーマットを変更します。\n",
        "\n",
        "```python\n",
        ">>> pd.options.display.float_format = '{:.1f}'.format\n",
        ">>> df.describe()\n",
        "世帯数\t人口の総数\t男の人口\t女の人口\n",
        "count\t97.0\t97.0\t97.0\t97.0\n",
        "mean\t22230.0\t40447.1\t18902.7\t21544.4\n",
        "std\t31862.0\t57149.5\t26745.7\t30417.0\n",
        "min\t813.0\t1099.0\t549.0\t550.0\n",
        "25%\t8430.0\t16611.0\t7645.0\t8915.0\n",
        "50%\t14089.0\t23917.0\t11317.0\t12923.0\n",
        "75%\t17928.0\t33454.0\t15228.0\t17890.0\n",
        "max\t153699.0\t285784.0\t135802.0\t149982.0\n",
        "```\n",
        "\n",
        "（コードを書いて実際に確認してみよう）"
      ]
    },
    {
      "cell_type": "code",
      "metadata": {
        "id": "dauHoI7a5Pl_"
      },
      "source": [
        "# （ここに記述）"
      ],
      "execution_count": 89,
      "outputs": []
    },
    {
      "cell_type": "markdown",
      "metadata": {
        "id": "slg9rZ3OL63q"
      },
      "source": [
        "### 1.2.2_d グラフに表示する\n",
        "\n",
        "pandasからグラフを表示できます。\n",
        "※日本語フォントがないと警告が出たり、文字化けします。\n",
        "\n",
        "```python\n",
        ">>> import matplotlib.pyplot as plt\n",
        ">>> df['世帯数'].plot(kind=\"bar\")\n",
        ">>> plt.show()\n",
        "```\n",
        "\n",
        "（コードを書いて実際に確認してみよう）"
      ]
    },
    {
      "cell_type": "code",
      "metadata": {
        "id": "NDZEmKkmJYRY"
      },
      "source": [
        "# （ここに記述）"
      ],
      "execution_count": 90,
      "outputs": []
    },
    {
      "cell_type": "markdown",
      "metadata": {
        "id": "JRc7jFZ1ZfBh"
      },
      "source": [
        "---\n",
        "---\n",
        "---\n",
        "---\n",
        "---\n",
        "---\n",
        "---\n",
        "# 補足 Pythonの公式な言語リファレンス\n",
        "\n",
        "* 公式なマニュアルはこちらですが、内容は難しいので最初はわかりやすい情報や、本などを参考にしましょう。\n",
        "* 英語\n",
        " * https://docs.python.org/3/reference/index.html\n",
        "* 日本語\n",
        " * https://docs.python.org/ja/3/reference/index.html"
      ]
    }
  ]
}

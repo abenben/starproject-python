{
  "nbformat": 4,
  "nbformat_minor": 0,
  "metadata": {
    "colab": {
      "name": "tutorial07.ipynb",
      "provenance": [],
      "collapsed_sections": [],
      "toc_visible": true,
      "include_colab_link": true
    },
    "kernelspec": {
      "name": "python3",
      "display_name": "Python 3"
    }
  },
  "cells": [
    {
      "cell_type": "markdown",
      "metadata": {
        "id": "view-in-github",
        "colab_type": "text"
      },
      "source": [
        "<a href=\"https://colab.research.google.com/github/abenben/starproject-python/blob/master/tutorial07.ipynb\" target=\"_parent\"><img src=\"https://colab.research.google.com/assets/colab-badge.svg\" alt=\"Open In Colab\"/></a>"
      ]
    },
    {
      "cell_type": "markdown",
      "metadata": {
        "id": "vGWEolnGYIUx"
      },
      "source": [
        "**Python基礎講座（6日目）**\n",
        "\n",
        "* [「Python・ブロックチェーン講座」の日程](https://www.facebook.com/photo.php?fbid=1186715631679052&set=gm.752573365315679&type=3&theater&ifg=1)"
      ]
    },
    {
      "cell_type": "markdown",
      "metadata": {
        "id": "C2oU4zK9lO2n"
      },
      "source": [
        "---\n",
        "---\n",
        "---\n",
        "本日の講義（データ処理）\n",
        "---\n",
        "---\n",
        "---\n",
        "---\n"
      ]
    },
    {
      "cell_type": "markdown",
      "metadata": {
        "id": "BUfkwIDS5qrs"
      },
      "source": [
        "# 1.Pandas（Series編）"
      ]
    },
    {
      "cell_type": "markdown",
      "metadata": {
        "id": "4mf9oGUMVSxh"
      },
      "source": [
        "## 1.0 宣言\n",
        "\n",
        "pandas\n",
        "\n",
        "```python\n",
        "▶ import pandas as pd\n",
        "```\n",
        "\n",
        "（コードを実際に実行してみましょう）"
      ]
    },
    {
      "cell_type": "code",
      "metadata": {
        "id": "vrS3hSBUV9t8"
      },
      "source": [
        "# （実行しましょう）\n",
        "import pandas as pd"
      ],
      "execution_count": null,
      "outputs": []
    },
    {
      "cell_type": "markdown",
      "metadata": {
        "id": "ZjmfqBtRHOjO"
      },
      "source": [
        "## 1.1 シリーズ\n",
        "\n"
      ]
    },
    {
      "cell_type": "markdown",
      "metadata": {
        "id": "DNCvwdUDEEeY"
      },
      "source": [
        "### 1.1.1(a) 生成（その1)\n",
        "\n",
        "```python\n",
        ">>> ser = pd.Series([10, 20, 30, 40])\n",
        ">>> print(ser)\n",
        "0    10\n",
        "1    20\n",
        "2    30\n",
        "3    40\n",
        "dtype: int64\n",
        "```\n",
        "\n",
        "（コードを書いて実際に確認してみよう）"
      ]
    },
    {
      "cell_type": "code",
      "metadata": {
        "id": "La_9oDAhWMz6"
      },
      "source": [
        "# （ここに記述）"
      ],
      "execution_count": null,
      "outputs": []
    },
    {
      "cell_type": "markdown",
      "metadata": {
        "id": "fu3-lGuoWc8B"
      },
      "source": [
        "### 1.1.1(b) 生成（その2)\n",
        "\n",
        "```python\n",
        ">>> height = [170,172,165,180,174]\n",
        ">>> ser = pd.Series(height)\n",
        ">>> print(ser)\n",
        "0    10\n",
        "1    20\n",
        "2    30\n",
        "3    40\n",
        "dtype: int64\n",
        "```\n",
        "\n",
        "（コードを書いて実際に確認してみよう）"
      ]
    },
    {
      "cell_type": "code",
      "metadata": {
        "id": "NMhHG4PKH8Yq"
      },
      "source": [
        "# （ここに記述）"
      ],
      "execution_count": null,
      "outputs": []
    },
    {
      "cell_type": "markdown",
      "metadata": {
        "id": "ILhsMdsqXExs"
      },
      "source": [
        "### 1.1.1(c) 生成（その3)\n",
        "\n",
        "```python\n",
        ">>> import numpy as np\n",
        ">>> height = np.array([170,172,165,180,174])\n",
        ">>> ser = pd.Series(height)\n",
        ">>> print(ser)\n",
        "0    170\n",
        "1    172\n",
        "2    165\n",
        "3    180\n",
        "4    174\n",
        "dtype: int64\n",
        "```\n",
        "\n",
        "（コードを書いて実際に確認してみよう）"
      ]
    },
    {
      "cell_type": "code",
      "metadata": {
        "id": "7bGjPEE6XHU1"
      },
      "source": [
        "# （ここに記述）"
      ],
      "execution_count": null,
      "outputs": []
    },
    {
      "cell_type": "markdown",
      "metadata": {
        "id": "KAGtKDluXnA0"
      },
      "source": [
        "### 1.1.1(d) 生成（その4)\n",
        "\n",
        "```python\n",
        ">>> name = ['sato','suzuki','tanaka','kato','watanabe']\n",
        ">>> height = [170,172,165,180,174]\n",
        ">>> ser = pd.Series(height,index=name)\n",
        ">>> print(ser)\n",
        "sato 170\n",
        "suzuki 172\n",
        "tanaka 165\n",
        "kato 180\n",
        "watanabe 174\n",
        "dtype: int64\n",
        "```\n",
        "\n",
        "（コードを書いて実際に確認してみよう）"
      ]
    },
    {
      "cell_type": "code",
      "metadata": {
        "id": "np4pR446X66s"
      },
      "source": [
        "# （ここに記述）"
      ],
      "execution_count": null,
      "outputs": []
    },
    {
      "cell_type": "markdown",
      "metadata": {
        "id": "e5nxMLiNYE6A"
      },
      "source": [
        "### 1.1.1(d-2) ラベル取得\n",
        "\n",
        "```python\n",
        ">>> print(ser.index)\n",
        "Index(['sato', 'suzuki', 'tanaka', 'kato', 'watanabe'], dtype='object')\n",
        "```\n",
        "\n",
        "（コードを書いて実際に確認してみよう）"
      ]
    },
    {
      "cell_type": "code",
      "metadata": {
        "id": "JjEWeHW8Ya7E"
      },
      "source": [
        "# （ここに記述）"
      ],
      "execution_count": null,
      "outputs": []
    },
    {
      "cell_type": "markdown",
      "metadata": {
        "id": "P1ojlCaLY2IV"
      },
      "source": [
        "### 1.1.1(d) 生成（その5)\n",
        "\n",
        "```python\n",
        ">>> dic = { 'sato':170, 'suzuki':172, 'tanaka':165, 'kato':180, 'watanabe':174 }\n",
        ">>> ser = pd.Series(dic)\n",
        ">>> print(ser)\n",
        "sato        170\n",
        "suzuki      172\n",
        "tanaka      165\n",
        "kato        180\n",
        "watanabe    174\n",
        "dtype: int64\n",
        "```\n",
        "\n",
        "（コードを書いて実際に確認してみよう）"
      ]
    },
    {
      "cell_type": "code",
      "metadata": {
        "id": "cVBB9FK1Y959"
      },
      "source": [
        "# （ここに記述）"
      ],
      "execution_count": null,
      "outputs": []
    },
    {
      "cell_type": "markdown",
      "metadata": {
        "id": "CnB6rDrcaofM"
      },
      "source": [
        "### 1.1.2(a) データ参照1\n",
        "\n",
        "```python\n",
        ">>> print(ser.index)\n",
        "165\n",
        "```\n",
        "\n",
        "（コードを書いて実際に確認してみよう）"
      ]
    },
    {
      "cell_type": "code",
      "metadata": {
        "id": "msM2yLHgawQi"
      },
      "source": [
        "# （ここに記述）"
      ],
      "execution_count": null,
      "outputs": []
    },
    {
      "cell_type": "markdown",
      "metadata": {
        "id": "PPzOJd_ebFtG"
      },
      "source": [
        "### 1.1.2(b) データ参照2\n",
        "\n",
        "```python\n",
        ">>> ser['suzuki':'kato']\n",
        "suzuki    172\n",
        "tanaka    165\n",
        "kato      180\n",
        "dtype: int64\n",
        "```\n",
        "\n",
        "（コードを書いて実際に確認してみよう）"
      ]
    },
    {
      "cell_type": "code",
      "metadata": {
        "id": "KlKAM1eybMx5"
      },
      "source": [
        "# （ここに記述）"
      ],
      "execution_count": null,
      "outputs": []
    },
    {
      "cell_type": "markdown",
      "metadata": {
        "id": "pmt4cfOZcOCz"
      },
      "source": [
        "### 1.1.2(c) データ参照3\n",
        "\n",
        "```python\n",
        ">>> print(ser['tanaka'])\n",
        ">>> print(ser.iloc[2])\n",
        "165\n",
        "165\n",
        "```\n",
        "\n",
        "（コードを書いて実際に確認してみよう）"
      ]
    },
    {
      "cell_type": "code",
      "metadata": {
        "id": "FCQfY8akcSfT"
      },
      "source": [
        "# （ここに記述）"
      ],
      "execution_count": null,
      "outputs": []
    },
    {
      "cell_type": "markdown",
      "metadata": {
        "id": "9RZUdIZCdOcl"
      },
      "source": [
        "### 1.1.2(d) データ参照4\n",
        "\n",
        "```python\n",
        ">>> ser[ser > 170]\n",
        "suzuki      172\n",
        "kato        180\n",
        "watanabe    174\n",
        "dtype: int64\n",
        "```\n",
        "\n",
        "（コードを書いて実際に確認してみよう）"
      ]
    },
    {
      "cell_type": "code",
      "metadata": {
        "id": "4yKnUHc-dCtS"
      },
      "source": [
        "# （ここに記述）"
      ],
      "execution_count": null,
      "outputs": []
    },
    {
      "cell_type": "markdown",
      "metadata": {
        "id": "OEuN7j9Oeyjm"
      },
      "source": [
        "### 1.1.3(a) 演算1\n",
        "\n",
        "```python\n",
        ">>> print(\"*** 乗算 ***\")\n",
        ">>> print(ser * 2)\n",
        ">>> print(\"*** 元データは変わっていない ***\")\n",
        ">>> print(ser)\n",
        "*** 乗算 ***\n",
        "sato        340\n",
        "suzuki      344\n",
        "tanaka      330\n",
        "kato        360\n",
        "watanabe    348\n",
        "dtype: int64\n",
        "*** 元データは変わっていない ***\n",
        "sato        170\n",
        "suzuki      172\n",
        "tanaka      165\n",
        "kato        180\n",
        "watanabe    174\n",
        "dtype: int64\n",
        "```\n",
        "\n",
        "（コードを書いて実際に確認してみよう）"
      ]
    },
    {
      "cell_type": "code",
      "metadata": {
        "id": "A8TnHsfoeDH9"
      },
      "source": [
        "# （ここに記述）"
      ],
      "execution_count": null,
      "outputs": []
    },
    {
      "cell_type": "markdown",
      "metadata": {
        "id": "_tidVPjgfFI3"
      },
      "source": [
        "### 1.1.3(b) 演算2\n",
        "\n",
        "```python\n",
        ">>> ser *= 2\n",
        ">>> print(ser)\n",
        "乗算追加\n",
        "sato        340\n",
        "suzuki      344\n",
        "tanaka      330\n",
        "kato        360\n",
        "watanabe    348\n",
        "dtype: int64\n",
        "```\n",
        "\n",
        "（コードを書いて実際に確認してみよう）"
      ]
    },
    {
      "cell_type": "code",
      "metadata": {
        "id": "gFxnVNfTeNY6"
      },
      "source": [
        "# （ここに記述）"
      ],
      "execution_count": null,
      "outputs": []
    },
    {
      "cell_type": "markdown",
      "metadata": {
        "id": "a0maZft_l2ii"
      },
      "source": [
        "### 1.1.4(a) 要素の追加\n",
        "\n",
        "```python\n",
        ">>> #初期データの準備\n",
        ">>> dic = { 'abe':70, 'inoue':65, 'ueda':76 }\n",
        ">>> ser = pd.Series(dic)\n",
        ">>> print(ser)\n",
        "abe      70\n",
        "inoue    65\n",
        "ueda     76\n",
        "dtype: int64\n",
        "```"
      ]
    },
    {
      "cell_type": "code",
      "metadata": {
        "id": "IPjILT1tjDmF",
        "outputId": "7a2b5b85-dc54-4358-cb8d-9a978d05bd65",
        "colab": {
          "base_uri": "https://localhost:8080/",
          "height": 85
        }
      },
      "source": [
        "# （このまま実行：初期データの準備）\n",
        "dic = { 'abe':70, 'inoue':65, 'ueda':76 }\n",
        "ser = pd.Series(dic)\n",
        "print(ser)"
      ],
      "execution_count": null,
      "outputs": [
        {
          "output_type": "stream",
          "text": [
            "abe      70\n",
            "inoue    65\n",
            "ueda     76\n",
            "dtype: int64\n"
          ],
          "name": "stdout"
        }
      ]
    },
    {
      "cell_type": "markdown",
      "metadata": {
        "id": "9fB2hJBSoh4m"
      },
      "source": [
        "```python\n",
        ">>> ser2=pd.Series([79,52],index=['endo','okada'])\n",
        ">>> print(ser.append(ser2))\n",
        "abe      70\n",
        "inoue    65\n",
        "ueda     76\n",
        "endo     79\n",
        "okada    52\n",
        "dtype: int64\n",
        "```\n",
        "\n",
        "（コードを書いて実際に確認してみよう）"
      ]
    },
    {
      "cell_type": "code",
      "metadata": {
        "id": "k92WLplEk5to"
      },
      "source": [
        "# （ここに記述）"
      ],
      "execution_count": null,
      "outputs": []
    },
    {
      "cell_type": "markdown",
      "metadata": {
        "id": "rHNs1ZTJmsyL"
      },
      "source": [
        "### 1.1.4(b) 要素の変更\n",
        "\n",
        "```python\n",
        ">>> ser['abe':'inoue']=72\n",
        ">>> ser\n",
        "abe      72\n",
        "inoue    72\n",
        "ueda     76\n",
        "dtype: int64\n",
        "```\n",
        "\n",
        "（コードを書いて実際に確認してみよう）"
      ]
    },
    {
      "cell_type": "code",
      "metadata": {
        "id": "JxwJpyRrldCO"
      },
      "source": [
        "# （ここに記述）"
      ],
      "execution_count": null,
      "outputs": []
    },
    {
      "cell_type": "markdown",
      "metadata": {
        "id": "XNGZRsFVm987"
      },
      "source": [
        "### 1.1.4(c) 要素の削除\n",
        "\n",
        "```python\n",
        ">>> del ser['abe']\n",
        ">>> ser\n",
        "noue    65\n",
        "ueda     76\n",
        "dtype: int64\n",
        "```\n",
        "\n",
        "（コードを書いて実際に確認してみよう）"
      ]
    },
    {
      "cell_type": "code",
      "metadata": {
        "id": "93DqgjFrs3Bl"
      },
      "source": [
        "# （ここに記述）"
      ],
      "execution_count": null,
      "outputs": []
    },
    {
      "cell_type": "markdown",
      "metadata": {
        "id": "wbd3ksu5vLG0"
      },
      "source": [
        "### 1.1.5 重複データの削除\n",
        "\n",
        "```python\n",
        ">>> # （このまま実行：初期データの準備）\n",
        ">>> dic = { 'A':1, 'B':2, 'C':3, 'D':1, 'E':5 }\n",
        ">>> ser = pd.Series(dic)\n",
        ">>> ser\n",
        "A    1\n",
        "B    2\n",
        "C    3\n",
        "D    1\n",
        "E    5\n",
        "dtype: int64\n",
        "```"
      ]
    },
    {
      "cell_type": "code",
      "metadata": {
        "id": "yvbA11I8tSLX"
      },
      "source": [
        "# （このまま実行：初期データの準備）"
      ],
      "execution_count": null,
      "outputs": []
    },
    {
      "cell_type": "markdown",
      "metadata": {
        "id": "_2ExgGwAvTbK"
      },
      "source": [
        "```python\n",
        ">>> ser.drop_duplicates(keep='first')\n",
        "A    1\n",
        "B    2\n",
        "C    3\n",
        "E    5\n",
        "dtype: int64\n",
        "```\n",
        "\n",
        "（コードを書いて実際に確認してみよう）"
      ]
    },
    {
      "cell_type": "code",
      "metadata": {
        "id": "Cn3etoFxtctK",
        "outputId": "60e2d3bc-06c8-4e7a-f1ee-a315b46c30e0",
        "colab": {
          "base_uri": "https://localhost:8080/",
          "height": 102
        }
      },
      "source": [
        "ser.drop_duplicates(keep='first')"
      ],
      "execution_count": null,
      "outputs": [
        {
          "output_type": "execute_result",
          "data": {
            "text/plain": [
              "A    1\n",
              "B    2\n",
              "C    3\n",
              "E    5\n",
              "dtype: int64"
            ]
          },
          "metadata": {
            "tags": []
          },
          "execution_count": 78
        }
      ]
    },
    {
      "cell_type": "markdown",
      "metadata": {
        "id": "XxAJXTQpvNAs"
      },
      "source": [
        "### 1.1.6 欠損データの削除\n",
        "\n",
        "```python\n",
        ">>> # （このまま実行：初期データの準備）\n",
        ">>> dic = { 'A':1, 'B':np.nan, 'C':3, 'D':4, 'E':5 }\n",
        ">>> ser = pd.Series(dic)\n",
        ">>> ser\n",
        "A    1.0\n",
        "B    NaN\n",
        "C    3.0\n",
        "D    4.0\n",
        "E    5.0\n",
        "dtype: float64\n",
        "```"
      ]
    },
    {
      "cell_type": "code",
      "metadata": {
        "id": "0i4M42kBuwnu",
        "outputId": "9d901ef7-462e-467c-d3cc-a2c44b29c48f",
        "colab": {
          "base_uri": "https://localhost:8080/",
          "height": 119
        }
      },
      "source": [
        "# （このまま実行：初期データの準備）\n",
        "dic = { 'A':1, 'B':np.nan, 'C':3, 'D':4, 'E':5 }\n",
        "ser = pd.Series(dic)\n",
        "ser"
      ],
      "execution_count": null,
      "outputs": [
        {
          "output_type": "execute_result",
          "data": {
            "text/plain": [
              "A    1.0\n",
              "B    NaN\n",
              "C    3.0\n",
              "D    4.0\n",
              "E    5.0\n",
              "dtype: float64"
            ]
          },
          "metadata": {
            "tags": []
          },
          "execution_count": 80
        }
      ]
    },
    {
      "cell_type": "markdown",
      "metadata": {
        "id": "DpZYXPavvSFV"
      },
      "source": [
        "```python\n",
        ">>> ser.dropna()\n",
        "A    1.0\n",
        "C    3.0\n",
        "D    4.0\n",
        "E    5.0\n",
        "dtype: float64\n",
        "```\n",
        "\n",
        "（コードを書いて実際に確認してみよう）"
      ]
    },
    {
      "cell_type": "code",
      "metadata": {
        "id": "GqYb8UrKu3w9",
        "outputId": "2d99eac6-3635-4e60-9a10-d2f7d21deee0",
        "colab": {
          "base_uri": "https://localhost:8080/",
          "height": 102
        }
      },
      "source": [
        "ser.dropna()"
      ],
      "execution_count": null,
      "outputs": [
        {
          "output_type": "execute_result",
          "data": {
            "text/plain": [
              "A    1.0\n",
              "C    3.0\n",
              "D    4.0\n",
              "E    5.0\n",
              "dtype: float64"
            ]
          },
          "metadata": {
            "tags": []
          },
          "execution_count": 81
        }
      ]
    },
    {
      "cell_type": "markdown",
      "metadata": {
        "id": "NgFgEwn1s1Iu"
      },
      "source": [
        "### 1.1.7 統計量\n",
        "\n",
        "```python\n",
        ">>> dic = { 'sato':170, 'suzuki':172, 'tanaka':165, 'kato':180, 'watanabe':174 }\n",
        ">>> ser = pd.Series(dic)\n",
        ">>> ser.describe()\n",
        "count      5.000000\n",
        "mean     172.200000\n",
        "std        5.495453\n",
        "min      165.000000\n",
        "25%      170.000000\n",
        "50%      172.000000\n",
        "75%      174.000000\n",
        "max      180.000000\n",
        "dtype: float64\n",
        "```\n",
        "\n",
        "（コードを書いて実際に確認してみよう）"
      ]
    },
    {
      "cell_type": "code",
      "metadata": {
        "id": "17j_5FgDlApk"
      },
      "source": [
        "# （ここに記述）"
      ],
      "execution_count": null,
      "outputs": []
    },
    {
      "cell_type": "markdown",
      "metadata": {
        "id": "kXUYhd4vlPki"
      },
      "source": [
        "---\n",
        "---\n",
        "---\n",
        "---\n",
        "---\n",
        "# 2.Pandas（DataFrame編）"
      ]
    },
    {
      "cell_type": "markdown",
      "metadata": {
        "id": "kbeT6ctT5BHi"
      },
      "source": [
        "## 2.1 xxx\n"
      ]
    },
    {
      "cell_type": "markdown",
      "metadata": {
        "id": "xOoZ9OmAExhA"
      },
      "source": [
        "### 2.1.1 xxx"
      ]
    },
    {
      "cell_type": "markdown",
      "metadata": {
        "id": "l8lRHCQq7pTN"
      },
      "source": [
        "\n",
        "```python\n",
        "▶ \n",
        "▶ \n",
        "▶ \n",
        "▶ \n",
        "▶ \n",
        "\n",
        "\n",
        "\n",
        "\n",
        "\n",
        "```\n",
        "（コードを書いて実際に確認してみよう）"
      ]
    },
    {
      "cell_type": "code",
      "metadata": {
        "id": "BJwDioEWaqaW"
      },
      "source": [
        "# （ここに記述）"
      ],
      "execution_count": null,
      "outputs": []
    },
    {
      "cell_type": "markdown",
      "metadata": {
        "id": "0nTYWz_P5BqH"
      },
      "source": [
        "## 2.2 xxx\n"
      ]
    },
    {
      "cell_type": "markdown",
      "metadata": {
        "id": "7GLHAurOFKpQ"
      },
      "source": [
        "### 2.2.1 xxx"
      ]
    },
    {
      "cell_type": "markdown",
      "metadata": {
        "id": "NgTY5ORb7717"
      },
      "source": [
        "```python\n",
        "▶ \n",
        "▶ \n",
        "▶ \n",
        "▶ \n",
        "▶ \n",
        "\n",
        "\n",
        "\n",
        "\n",
        "\n",
        "```\n",
        "（コードを書いて実際に確認してみよう）"
      ]
    },
    {
      "cell_type": "code",
      "metadata": {
        "id": "nIP3RrRychyn"
      },
      "source": [
        "# （ここに記述）"
      ],
      "execution_count": null,
      "outputs": []
    },
    {
      "cell_type": "markdown",
      "metadata": {
        "id": "JRc7jFZ1ZfBh"
      },
      "source": [
        "---\n",
        "---\n",
        "---\n",
        "---\n",
        "---\n",
        "---\n",
        "---\n",
        "# 補足 Pythonの公式な言語リファレンス\n",
        "\n",
        "* 公式なマニュアルはこちらですが、内容は難しいので最初はわかりやすい情報や、本などを参考にしましょう。\n",
        "* 英語\n",
        " * https://docs.python.org/3/reference/index.html\n",
        "* 日本語\n",
        " * https://docs.python.org/ja/3/reference/index.html"
      ]
    },
    {
      "cell_type": "code",
      "metadata": {
        "id": "22ueqR1fUhV7"
      },
      "source": [
        "import pandas as pd"
      ],
      "execution_count": null,
      "outputs": []
    },
    {
      "cell_type": "code",
      "metadata": {
        "id": "_73pdn_JUkEq"
      },
      "source": [
        "df = pd.read_csv(\"https://ckan.pf-sapporo.jp/dataset/5d3c18f1-62dc-4ce2-b73e-75d8c54f86a0/resource/ffd6b3ca-1f56-468c-b809-dbc94a033b14/download/jou202010.csv\", index_col=1)"
      ],
      "execution_count": null,
      "outputs": []
    },
    {
      "cell_type": "code",
      "metadata": {
        "id": "LWCqMIN2U7RW",
        "outputId": "4965142b-53aa-4d55-e96a-76ce1b4f626a",
        "colab": {
          "base_uri": "https://localhost:8080/",
          "height": 450
        }
      },
      "source": [
        "df"
      ],
      "execution_count": null,
      "outputs": [
        {
          "output_type": "execute_result",
          "data": {
            "text/html": [
              "<div>\n",
              "<style scoped>\n",
              "    .dataframe tbody tr th:only-of-type {\n",
              "        vertical-align: middle;\n",
              "    }\n",
              "\n",
              "    .dataframe tbody tr th {\n",
              "        vertical-align: top;\n",
              "    }\n",
              "\n",
              "    .dataframe thead th {\n",
              "        text-align: right;\n",
              "    }\n",
              "</style>\n",
              "<table border=\"1\" class=\"dataframe\">\n",
              "  <thead>\n",
              "    <tr style=\"text-align: right;\">\n",
              "      <th></th>\n",
              "      <th>区別</th>\n",
              "      <th>世帯数</th>\n",
              "      <th>総数</th>\n",
              "      <th>男</th>\n",
              "      <th>女</th>\n",
              "    </tr>\n",
              "    <tr>\n",
              "      <th>町条丁目</th>\n",
              "      <th></th>\n",
              "      <th></th>\n",
              "      <th></th>\n",
              "      <th></th>\n",
              "      <th></th>\n",
              "    </tr>\n",
              "  </thead>\n",
              "  <tbody>\n",
              "    <tr>\n",
              "      <th>大通東２丁目</th>\n",
              "      <td>中央区</td>\n",
              "      <td>149</td>\n",
              "      <td>278</td>\n",
              "      <td>124</td>\n",
              "      <td>154</td>\n",
              "    </tr>\n",
              "    <tr>\n",
              "      <th>大通東３丁目</th>\n",
              "      <td>中央区</td>\n",
              "      <td>292</td>\n",
              "      <td>432</td>\n",
              "      <td>229</td>\n",
              "      <td>203</td>\n",
              "    </tr>\n",
              "    <tr>\n",
              "      <th>大通東４丁目</th>\n",
              "      <td>中央区</td>\n",
              "      <td>190</td>\n",
              "      <td>303</td>\n",
              "      <td>129</td>\n",
              "      <td>174</td>\n",
              "    </tr>\n",
              "    <tr>\n",
              "      <th>大通東５丁目</th>\n",
              "      <td>中央区</td>\n",
              "      <td>216</td>\n",
              "      <td>259</td>\n",
              "      <td>116</td>\n",
              "      <td>143</td>\n",
              "    </tr>\n",
              "    <tr>\n",
              "      <th>大通東６丁目</th>\n",
              "      <td>中央区</td>\n",
              "      <td>135</td>\n",
              "      <td>265</td>\n",
              "      <td>110</td>\n",
              "      <td>155</td>\n",
              "    </tr>\n",
              "    <tr>\n",
              "      <th>...</th>\n",
              "      <td>...</td>\n",
              "      <td>...</td>\n",
              "      <td>...</td>\n",
              "      <td>...</td>\n",
              "      <td>...</td>\n",
              "    </tr>\n",
              "    <tr>\n",
              "      <th>明日風５丁目</th>\n",
              "      <td>手稲区</td>\n",
              "      <td>409</td>\n",
              "      <td>1226</td>\n",
              "      <td>606</td>\n",
              "      <td>620</td>\n",
              "    </tr>\n",
              "    <tr>\n",
              "      <th>明日風６丁目</th>\n",
              "      <td>手稲区</td>\n",
              "      <td>41</td>\n",
              "      <td>128</td>\n",
              "      <td>58</td>\n",
              "      <td>70</td>\n",
              "    </tr>\n",
              "    <tr>\n",
              "      <th>明日風</th>\n",
              "      <td>手稲区</td>\n",
              "      <td>1443</td>\n",
              "      <td>4383</td>\n",
              "      <td>2160</td>\n",
              "      <td>2223</td>\n",
              "    </tr>\n",
              "    <tr>\n",
              "      <th>合　　　　計</th>\n",
              "      <td>手稲区</td>\n",
              "      <td>70205</td>\n",
              "      <td>141932</td>\n",
              "      <td>66867</td>\n",
              "      <td>75065</td>\n",
              "    </tr>\n",
              "    <tr>\n",
              "      <th>全 市 Ｔ Ｏ Ｔ Ａ Ｌ</th>\n",
              "      <td>全　区</td>\n",
              "      <td>1078155</td>\n",
              "      <td>1961682</td>\n",
              "      <td>916779</td>\n",
              "      <td>1044903</td>\n",
              "    </tr>\n",
              "  </tbody>\n",
              "</table>\n",
              "<p>5594 rows × 5 columns</p>\n",
              "</div>"
            ],
            "text/plain": [
              "                区別      世帯数       総数       男        女\n",
              "町条丁目                                                 \n",
              "大通東２丁目         中央区      149      278     124      154\n",
              "大通東３丁目         中央区      292      432     229      203\n",
              "大通東４丁目         中央区      190      303     129      174\n",
              "大通東５丁目         中央区      216      259     116      143\n",
              "大通東６丁目         中央区      135      265     110      155\n",
              "...            ...      ...      ...     ...      ...\n",
              "明日風５丁目         手稲区      409     1226     606      620\n",
              "明日風６丁目         手稲区       41      128      58       70\n",
              "明日風            手稲区     1443     4383    2160     2223\n",
              "　　　合　　　　計      手稲区    70205   141932   66867    75065\n",
              "全 市 Ｔ Ｏ Ｔ Ａ Ｌ  全　区  1078155  1961682  916779  1044903\n",
              "\n",
              "[5594 rows x 5 columns]"
            ]
          },
          "metadata": {
            "tags": []
          },
          "execution_count": 21
        }
      ]
    },
    {
      "cell_type": "code",
      "metadata": {
        "id": "aWzHVr9jU8jg"
      },
      "source": [
        "df=df.drop(index=\"全市\")"
      ],
      "execution_count": null,
      "outputs": []
    },
    {
      "cell_type": "code",
      "metadata": {
        "id": "zKuElA-aWoay",
        "outputId": "d04abe50-af45-4b69-e5dc-ca2e1a9417d3",
        "colab": {
          "base_uri": "https://localhost:8080/",
          "height": 450
        }
      },
      "source": [
        "df"
      ],
      "execution_count": null,
      "outputs": [
        {
          "output_type": "execute_result",
          "data": {
            "text/html": [
              "<div>\n",
              "<style scoped>\n",
              "    .dataframe tbody tr th:only-of-type {\n",
              "        vertical-align: middle;\n",
              "    }\n",
              "\n",
              "    .dataframe tbody tr th {\n",
              "        vertical-align: top;\n",
              "    }\n",
              "\n",
              "    .dataframe thead th {\n",
              "        text-align: right;\n",
              "    }\n",
              "</style>\n",
              "<table border=\"1\" class=\"dataframe\">\n",
              "  <thead>\n",
              "    <tr style=\"text-align: right;\">\n",
              "      <th></th>\n",
              "      <th>世帯数</th>\n",
              "      <th>人口の総数</th>\n",
              "      <th>男の人口</th>\n",
              "      <th>女の人口</th>\n",
              "    </tr>\n",
              "    <tr>\n",
              "      <th>連絡所</th>\n",
              "      <th></th>\n",
              "      <th></th>\n",
              "      <th></th>\n",
              "      <th></th>\n",
              "    </tr>\n",
              "  </thead>\n",
              "  <tbody>\n",
              "    <tr>\n",
              "      <th>中央区</th>\n",
              "      <td>92682</td>\n",
              "      <td>174124</td>\n",
              "      <td>80086</td>\n",
              "      <td>94038</td>\n",
              "    </tr>\n",
              "    <tr>\n",
              "      <th>大通公園</th>\n",
              "      <td>3646</td>\n",
              "      <td>5321</td>\n",
              "      <td>2277</td>\n",
              "      <td>3044</td>\n",
              "    </tr>\n",
              "    <tr>\n",
              "      <th>東北</th>\n",
              "      <td>1209</td>\n",
              "      <td>2222</td>\n",
              "      <td>1007</td>\n",
              "      <td>1215</td>\n",
              "    </tr>\n",
              "    <tr>\n",
              "      <th>苗穂</th>\n",
              "      <td>1781</td>\n",
              "      <td>3574</td>\n",
              "      <td>1671</td>\n",
              "      <td>1903</td>\n",
              "    </tr>\n",
              "    <tr>\n",
              "      <th>東</th>\n",
              "      <td>2395</td>\n",
              "      <td>3880</td>\n",
              "      <td>1738</td>\n",
              "      <td>2142</td>\n",
              "    </tr>\n",
              "    <tr>\n",
              "      <th>...</th>\n",
              "      <td>...</td>\n",
              "      <td>...</td>\n",
              "      <td>...</td>\n",
              "      <td>...</td>\n",
              "    </tr>\n",
              "    <tr>\n",
              "      <th>前田</th>\n",
              "      <td>10797</td>\n",
              "      <td>29911</td>\n",
              "      <td>14544</td>\n",
              "      <td>15367</td>\n",
              "    </tr>\n",
              "    <tr>\n",
              "      <th>新発寒</th>\n",
              "      <td>6322</td>\n",
              "      <td>18319</td>\n",
              "      <td>9065</td>\n",
              "      <td>9254</td>\n",
              "    </tr>\n",
              "    <tr>\n",
              "      <th>富丘西宮の沢</th>\n",
              "      <td>9108</td>\n",
              "      <td>23076</td>\n",
              "      <td>11145</td>\n",
              "      <td>11931</td>\n",
              "    </tr>\n",
              "    <tr>\n",
              "      <th>稲穂</th>\n",
              "      <td>6562</td>\n",
              "      <td>17400</td>\n",
              "      <td>8351</td>\n",
              "      <td>9049</td>\n",
              "    </tr>\n",
              "    <tr>\n",
              "      <th>星置</th>\n",
              "      <td>5088</td>\n",
              "      <td>14869</td>\n",
              "      <td>7037</td>\n",
              "      <td>7832</td>\n",
              "    </tr>\n",
              "  </tbody>\n",
              "</table>\n",
              "<p>97 rows × 4 columns</p>\n",
              "</div>"
            ],
            "text/plain": [
              "          世帯数   人口の総数   男の人口   女の人口\n",
              "連絡所                                \n",
              "中央区     92682  174124  80086  94038\n",
              "大通公園     3646    5321   2277   3044\n",
              "東北       1209    2222   1007   1215\n",
              "苗穂       1781    3574   1671   1903\n",
              "東        2395    3880   1738   2142\n",
              "...       ...     ...    ...    ...\n",
              "前田      10797   29911  14544  15367\n",
              "新発寒      6322   18319   9065   9254\n",
              "富丘西宮の沢   9108   23076  11145  11931\n",
              "稲穂       6562   17400   8351   9049\n",
              "星置       5088   14869   7037   7832\n",
              "\n",
              "[97 rows x 4 columns]"
            ]
          },
          "metadata": {
            "tags": []
          },
          "execution_count": 16
        }
      ]
    },
    {
      "cell_type": "code",
      "metadata": {
        "id": "iN-d875rWu7h",
        "outputId": "051b734c-94ad-4414-991f-4336e494e207",
        "colab": {
          "base_uri": "https://localhost:8080/",
          "height": 297
        }
      },
      "source": [
        "df.describe()"
      ],
      "execution_count": null,
      "outputs": [
        {
          "output_type": "execute_result",
          "data": {
            "text/html": [
              "<div>\n",
              "<style scoped>\n",
              "    .dataframe tbody tr th:only-of-type {\n",
              "        vertical-align: middle;\n",
              "    }\n",
              "\n",
              "    .dataframe tbody tr th {\n",
              "        vertical-align: top;\n",
              "    }\n",
              "\n",
              "    .dataframe thead th {\n",
              "        text-align: right;\n",
              "    }\n",
              "</style>\n",
              "<table border=\"1\" class=\"dataframe\">\n",
              "  <thead>\n",
              "    <tr style=\"text-align: right;\">\n",
              "      <th></th>\n",
              "      <th>世帯数</th>\n",
              "      <th>人口の総数</th>\n",
              "      <th>男の人口</th>\n",
              "      <th>女の人口</th>\n",
              "    </tr>\n",
              "  </thead>\n",
              "  <tbody>\n",
              "    <tr>\n",
              "      <th>count</th>\n",
              "      <td>97.000000</td>\n",
              "      <td>97.000000</td>\n",
              "      <td>97.000000</td>\n",
              "      <td>97.000000</td>\n",
              "    </tr>\n",
              "    <tr>\n",
              "      <th>mean</th>\n",
              "      <td>16417.298969</td>\n",
              "      <td>37029.154639</td>\n",
              "      <td>17809.257732</td>\n",
              "      <td>19219.896907</td>\n",
              "    </tr>\n",
              "    <tr>\n",
              "      <th>std</th>\n",
              "      <td>23419.614183</td>\n",
              "      <td>51735.511269</td>\n",
              "      <td>24948.055728</td>\n",
              "      <td>26798.422837</td>\n",
              "    </tr>\n",
              "    <tr>\n",
              "      <th>min</th>\n",
              "      <td>1173.000000</td>\n",
              "      <td>2004.000000</td>\n",
              "      <td>936.000000</td>\n",
              "      <td>1068.000000</td>\n",
              "    </tr>\n",
              "    <tr>\n",
              "      <th>25%</th>\n",
              "      <td>6562.000000</td>\n",
              "      <td>16131.000000</td>\n",
              "      <td>7648.000000</td>\n",
              "      <td>8283.000000</td>\n",
              "    </tr>\n",
              "    <tr>\n",
              "      <th>50%</th>\n",
              "      <td>9674.000000</td>\n",
              "      <td>21333.000000</td>\n",
              "      <td>10015.000000</td>\n",
              "      <td>11226.000000</td>\n",
              "    </tr>\n",
              "    <tr>\n",
              "      <th>75%</th>\n",
              "      <td>13304.000000</td>\n",
              "      <td>29901.000000</td>\n",
              "      <td>14544.000000</td>\n",
              "      <td>15532.000000</td>\n",
              "    </tr>\n",
              "    <tr>\n",
              "      <th>max</th>\n",
              "      <td>113182.000000</td>\n",
              "      <td>256419.000000</td>\n",
              "      <td>124429.000000</td>\n",
              "      <td>131990.000000</td>\n",
              "    </tr>\n",
              "  </tbody>\n",
              "</table>\n",
              "</div>"
            ],
            "text/plain": [
              "                 世帯数          人口の総数           男の人口           女の人口\n",
              "count      97.000000      97.000000      97.000000      97.000000\n",
              "mean    16417.298969   37029.154639   17809.257732   19219.896907\n",
              "std     23419.614183   51735.511269   24948.055728   26798.422837\n",
              "min      1173.000000    2004.000000     936.000000    1068.000000\n",
              "25%      6562.000000   16131.000000    7648.000000    8283.000000\n",
              "50%      9674.000000   21333.000000   10015.000000   11226.000000\n",
              "75%     13304.000000   29901.000000   14544.000000   15532.000000\n",
              "max    113182.000000  256419.000000  124429.000000  131990.000000"
            ]
          },
          "metadata": {
            "tags": []
          },
          "execution_count": 11
        }
      ]
    },
    {
      "cell_type": "code",
      "metadata": {
        "id": "lXI6zrKXW03M",
        "outputId": "3954f5d7-531e-40a7-fbe9-5376e1a844f4",
        "colab": {
          "base_uri": "https://localhost:8080/",
          "height": 102
        }
      },
      "source": [
        "df.sum()"
      ],
      "execution_count": null,
      "outputs": [
        {
          "output_type": "execute_result",
          "data": {
            "text/plain": [
              "世帯数      1592478\n",
              "人口の総数    3591828\n",
              "男の人口     1727498\n",
              "女の人口     1864330\n",
              "dtype: int64"
            ]
          },
          "metadata": {
            "tags": []
          },
          "execution_count": 17
        }
      ]
    },
    {
      "cell_type": "code",
      "metadata": {
        "id": "Eso6wJFBW5Hd"
      },
      "source": [
        ""
      ],
      "execution_count": null,
      "outputs": []
    }
  ]
}
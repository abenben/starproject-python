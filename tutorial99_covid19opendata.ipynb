{
  "nbformat": 4,
  "nbformat_minor": 0,
  "metadata": {
    "colab": {
      "name": "tutorial99-covid19opendata.ipynb",
      "provenance": [],
      "private_outputs": true,
      "authorship_tag": "ABX9TyPLSt5Y3uINVrRuYDS/b/uX",
      "include_colab_link": true
    },
    "kernelspec": {
      "name": "python3",
      "display_name": "Python 3"
    }
  },
  "cells": [
    {
      "cell_type": "markdown",
      "metadata": {
        "id": "view-in-github",
        "colab_type": "text"
      },
      "source": [
        "<a href=\"https://colab.research.google.com/github/abenben/starproject-python/blob/master/tutorial99_covid19opendata.ipynb\" target=\"_parent\"><img src=\"https://colab.research.google.com/assets/colab-badge.svg\" alt=\"Open In Colab\"/></a>"
      ]
    },
    {
      "cell_type": "markdown",
      "metadata": {
        "id": "gxMZo3HbXzlf",
        "colab_type": "text"
      },
      "source": [
        "# 参考URL\n",
        "\n",
        "「Python, pandasによるデータ分析の実践 （東京都COVID-19データ編）」\n",
        "\n",
        "https://qiita.com/nkmk/items/8b291ba019ee33429f1b"
      ]
    },
    {
      "cell_type": "code",
      "metadata": {
        "id": "twSEPPiKUvxh",
        "colab_type": "code",
        "colab": {}
      },
      "source": [
        "import math\n",
        "import sys\n",
        "\n",
        "import pandas as pd\n",
        "import matplotlib as mpl\n",
        "import matplotlib.pyplot as plt\n",
        "import seaborn as sns"
      ],
      "execution_count": null,
      "outputs": []
    },
    {
      "cell_type": "code",
      "metadata": {
        "id": "oUSn4jsZU4z_",
        "colab_type": "code",
        "colab": {}
      },
      "source": [
        "print(pd.__version__)\n",
        "print(mpl.__version__)\n",
        "print(sns.__version__)\n",
        "print(sys.version)"
      ],
      "execution_count": null,
      "outputs": []
    },
    {
      "cell_type": "code",
      "metadata": {
        "id": "lxnUpYkTVEre",
        "colab_type": "code",
        "colab": {}
      },
      "source": [
        "df = pd.read_csv('https://stopcovid19.metro.tokyo.lg.jp/data/130001_tokyo_covid19_patients.csv')"
      ],
      "execution_count": null,
      "outputs": []
    },
    {
      "cell_type": "code",
      "metadata": {
        "id": "s_ZUHr4XVNef",
        "colab_type": "code",
        "colab": {}
      },
      "source": [
        "print(df.shape)"
      ],
      "execution_count": null,
      "outputs": []
    },
    {
      "cell_type": "code",
      "metadata": {
        "id": "szjFXCgrVSws",
        "colab_type": "code",
        "colab": {}
      },
      "source": [
        "print(df.head)"
      ],
      "execution_count": null,
      "outputs": []
    },
    {
      "cell_type": "code",
      "metadata": {
        "id": "w1-IwtK5VUMp",
        "colab_type": "code",
        "colab": {}
      },
      "source": [
        "print(df.tail)"
      ],
      "execution_count": null,
      "outputs": []
    },
    {
      "cell_type": "code",
      "metadata": {
        "id": "HJNYI70GVV4T",
        "colab_type": "code",
        "colab": {}
      },
      "source": [
        "df = df[['公表_年月日', '患者_年代', '退院済フラグ']].copy()\n",
        "df.rename(columns={'公表_年月日': 'date_str', '患者_年代': 'age_org', '退院済フラグ': 'discharged'},inplace=True)\n",
        "print(df)"
      ],
      "execution_count": null,
      "outputs": []
    },
    {
      "cell_type": "code",
      "metadata": {
        "id": "syNBWV2jYuKC",
        "colab_type": "code",
        "colab": {}
      },
      "source": [
        "print(df['age_org'].unique())"
      ],
      "execution_count": null,
      "outputs": []
    },
    {
      "cell_type": "code",
      "metadata": {
        "id": "IBA3Eb24WBTG",
        "colab_type": "code",
        "colab": {}
      },
      "source": [
        "df = df[~df['age_org'].isin(['不明', \"'-\"])]\n",
        "print(df)"
      ],
      "execution_count": null,
      "outputs": []
    },
    {
      "cell_type": "code",
      "metadata": {
        "id": "XuZZErnDWF6G",
        "colab_type": "code",
        "colab": {}
      },
      "source": [
        "print(df['age_org'].unique())"
      ],
      "execution_count": null,
      "outputs": []
    },
    {
      "cell_type": "code",
      "metadata": {
        "id": "k0aTWuE4WMy2",
        "colab_type": "code",
        "colab": {}
      },
      "source": [
        "df['date'] = pd.to_datetime(df['date_str'])\n",
        "print(df.dtypes)"
      ],
      "execution_count": null,
      "outputs": []
    },
    {
      "cell_type": "code",
      "metadata": {
        "id": "F6LyrOvlWfGi",
        "colab_type": "code",
        "colab": {}
      },
      "source": [
        "df['age'] = (\n",
        "    df['age_org'].replace(['10歳未満', '10代'], '0-19')\n",
        "    .replace(['20代', '30代'], '20-39')\n",
        "    .replace(['40代', '50代'], '40-59')\n",
        "    .replace(['60代', '70代', '80代', '90代', '100歳以上'], '60-')\n",
        ")"
      ],
      "execution_count": null,
      "outputs": []
    },
    {
      "cell_type": "code",
      "metadata": {
        "id": "lUROOSLEWT0c",
        "colab_type": "code",
        "colab": {}
      },
      "source": [
        "df_ct = pd.crosstab(df['date'], df['age'])\n",
        "print(df_ct)"
      ],
      "execution_count": null,
      "outputs": []
    },
    {
      "cell_type": "code",
      "metadata": {
        "id": "1lVJpMepWXOL",
        "colab_type": "code",
        "colab": {}
      },
      "source": [
        "df_ct_week = df_ct.resample('W', label='left').sum()\n",
        "print(df_ct_week)"
      ],
      "execution_count": null,
      "outputs": []
    },
    {
      "cell_type": "code",
      "metadata": {
        "id": "se_0gpOWWmud",
        "colab_type": "code",
        "colab": {}
      },
      "source": [
        "df_ct_week[:-1].plot.bar(stacked=True)"
      ],
      "execution_count": null,
      "outputs": []
    },
    {
      "cell_type": "code",
      "metadata": {
        "id": "bXj92TH5Wr_f",
        "colab_type": "code",
        "colab": {}
      },
      "source": [
        "df_ct_week_str = df_ct_week.copy()\n",
        "df_ct_week_str.index = df_ct_week_str.index.strftime('%Y-%m-%d')\n",
        "df_ct_week_str[:-1].plot.bar(stacked=True, figsize=(8, 4))"
      ],
      "execution_count": null,
      "outputs": []
    },
    {
      "cell_type": "code",
      "metadata": {
        "id": "ypBKKUOfXF-j",
        "colab_type": "code",
        "colab": {}
      },
      "source": [
        "df_week_ratio = df_ct_week / df_ct_week.shift()\n",
        "print(df_week_ratio)\n",
        "df_week_ratio['2020-05-03':'2020-07-25'].plot(grid=True)"
      ],
      "execution_count": null,
      "outputs": []
    },
    {
      "cell_type": "code",
      "metadata": {
        "id": "LGvXii7OXcPE",
        "colab_type": "code",
        "colab": {}
      },
      "source": [
        ""
      ],
      "execution_count": null,
      "outputs": []
    }
  ]
}
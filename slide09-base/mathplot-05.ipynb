{
  "nbformat": 4,
  "nbformat_minor": 0,
  "metadata": {
    "kernelspec": {
      "display_name": "Python 3",
      "language": "python",
      "name": "python3"
    },
    "language_info": {
      "codemirror_mode": {
        "name": "ipython",
        "version": 3
      },
      "file_extension": ".py",
      "mimetype": "text/x-python",
      "name": "python",
      "nbconvert_exporter": "python",
      "pygments_lexer": "ipython3",
      "version": "3.8.2"
    },
    "colab": {
      "name": "mathplot-05.ipynb",
      "provenance": [],
      "include_colab_link": true
    }
  },
  "cells": [
    {
      "cell_type": "markdown",
      "metadata": {
        "id": "view-in-github",
        "colab_type": "text"
      },
      "source": [
        "<a href=\"https://colab.research.google.com/github/abenben/starproject-python/blob/master/slide09-base/mathplot-05.ipynb\" target=\"_parent\"><img src=\"https://colab.research.google.com/assets/colab-badge.svg\" alt=\"Open In Colab\"/></a>"
      ]
    },
    {
      "cell_type": "markdown",
      "metadata": {
        "id": "wTLbyBLFSZhD"
      },
      "source": [
        "## 2.5.ヒストグラム(matplotlib)"
      ]
    },
    {
      "cell_type": "code",
      "metadata": {
        "id": "dLoGh3jFUATm"
      },
      "source": [
        "import numpy as np\n",
        "import matplotlib.pyplot as plt\n",
        "\n",
        "import warnings\n",
        "warnings.filterwarnings(\"ignore\", module=\"matplotlib\")\n",
        "\n",
        "%matplotlib inline"
      ],
      "execution_count": 1,
      "outputs": []
    },
    {
      "cell_type": "code",
      "metadata": {
        "id": "5MLYLxx_SZhE",
        "outputId": "9af3bcaf-cae0-465f-d012-a4125d185639",
        "colab": {
          "base_uri": "https://localhost:8080/",
          "height": 337
        }
      },
      "source": [
        "# 2.5.1　ヒストグラムの描画\n",
        "\n",
        "np.random.seed(12345)\n",
        "x = np.random.normal(100, 20, 10000)\n",
        "\n",
        "# ヒストグラムの描画\n",
        "fig, ax = plt.subplots(1, 1)\n",
        "ax.hist(x)"
      ],
      "execution_count": 2,
      "outputs": [
        {
          "output_type": "execute_result",
          "data": {
            "text/plain": [
              "(array([  22.,  129.,  577., 1834., 2805., 2674., 1468.,  424.,   60.,\n",
              "           7.]), array([ 25.09288245,  40.43865029,  55.78441813,  71.13018596,\n",
              "         86.4759538 , 101.82172163, 117.16748947, 132.51325731,\n",
              "        147.85902514, 163.20479298, 178.55056082]), <a list of 10 Patch objects>)"
            ]
          },
          "metadata": {
            "tags": []
          },
          "execution_count": 2
        },
        {
          "output_type": "display_data",
          "data": {
            "image/png": "[encoded data removed]",
            "text/plain": [
              "<Figure size 432x288 with 1 Axes>"
            ]
          },
          "metadata": {
            "tags": [],
            "needs_background": "light"
          }
        }
      ]
    },
    {
      "cell_type": "code",
      "metadata": {
        "id": "q4SIzaVeSZhF",
        "outputId": "cbe16624-e607-4d94-cfb8-3a309bbe8c81",
        "colab": {
          "base_uri": "https://localhost:8080/",
          "height": 481
        }
      },
      "source": [
        "# 2.5.2　引数を指定したヒストグラムの描画\n",
        "\n",
        "fig, ax = plt.subplots(1, 1)\n",
        "ax.hist(x, bins=32, range=(0, 200), edgecolor=\"black\")"
      ],
      "execution_count": 3,
      "outputs": [
        {
          "output_type": "execute_result",
          "data": {
            "text/plain": [
              "(array([0.000e+00, 0.000e+00, 0.000e+00, 0.000e+00, 5.000e+00, 8.000e+00,\n",
              "        2.100e+01, 4.000e+01, 8.400e+01, 1.580e+02, 2.730e+02, 4.520e+02,\n",
              "        7.190e+02, 9.410e+02, 1.150e+03, 1.195e+03, 1.177e+03, 1.136e+03,\n",
              "        9.000e+02, 7.010e+02, 4.810e+02, 2.650e+02, 1.660e+02, 8.700e+01,\n",
              "        2.600e+01, 8.000e+00, 5.000e+00, 1.000e+00, 1.000e+00, 0.000e+00,\n",
              "        0.000e+00, 0.000e+00]),\n",
              " array([  0.  ,   6.25,  12.5 ,  18.75,  25.  ,  31.25,  37.5 ,  43.75,\n",
              "         50.  ,  56.25,  62.5 ,  68.75,  75.  ,  81.25,  87.5 ,  93.75,\n",
              "        100.  , 106.25, 112.5 , 118.75, 125.  , 131.25, 137.5 , 143.75,\n",
              "        150.  , 156.25, 162.5 , 168.75, 175.  , 181.25, 187.5 , 193.75,\n",
              "        200.  ]),\n",
              " <a list of 32 Patch objects>)"
            ]
          },
          "metadata": {
            "tags": []
          },
          "execution_count": 3
        },
        {
          "output_type": "display_data",
          "data": {
            "image/png": "[encoded data removed]",
            "text/plain": [
              "<Figure size 432x288 with 1 Axes>"
            ]
          },
          "metadata": {
            "tags": [],
            "needs_background": "light"
          }
        }
      ]
    },
    {
      "cell_type": "code",
      "metadata": {
        "id": "i-sTGx6nSZhF",
        "outputId": "f7b08dd9-7dee-4dab-cac4-8207e82ccb74",
        "colab": {
          "base_uri": "https://localhost:8080/",
          "height": 481
        }
      },
      "source": [
        "# 2.5.3　横向きのヒストグラムの描画\n",
        "\n",
        "fig, ax = plt.subplots(1, 1)\n",
        "ax.hist(x, bins=32, range=(0, 200), orientation=\"horizontal\", edgecolor=\"black\")"
      ],
      "execution_count": 4,
      "outputs": [
        {
          "output_type": "execute_result",
          "data": {
            "text/plain": [
              "(array([0.000e+00, 0.000e+00, 0.000e+00, 0.000e+00, 5.000e+00, 8.000e+00,\n",
              "        2.100e+01, 4.000e+01, 8.400e+01, 1.580e+02, 2.730e+02, 4.520e+02,\n",
              "        7.190e+02, 9.410e+02, 1.150e+03, 1.195e+03, 1.177e+03, 1.136e+03,\n",
              "        9.000e+02, 7.010e+02, 4.810e+02, 2.650e+02, 1.660e+02, 8.700e+01,\n",
              "        2.600e+01, 8.000e+00, 5.000e+00, 1.000e+00, 1.000e+00, 0.000e+00,\n",
              "        0.000e+00, 0.000e+00]),\n",
              " array([  0.  ,   6.25,  12.5 ,  18.75,  25.  ,  31.25,  37.5 ,  43.75,\n",
              "         50.  ,  56.25,  62.5 ,  68.75,  75.  ,  81.25,  87.5 ,  93.75,\n",
              "        100.  , 106.25, 112.5 , 118.75, 125.  , 131.25, 137.5 , 143.75,\n",
              "        150.  , 156.25, 162.5 , 168.75, 175.  , 181.25, 187.5 , 193.75,\n",
              "        200.  ]),\n",
              " <a list of 32 Patch objects>)"
            ]
          },
          "metadata": {
            "tags": []
          },
          "execution_count": 4
        },
        {
          "output_type": "display_data",
          "data": {
            "image/png": "[encoded data removed]",
            "text/plain": [
              "<Figure size 432x288 with 1 Axes>"
            ]
          },
          "metadata": {
            "tags": [],
            "needs_background": "light"
          }
        }
      ]
    },
    {
      "cell_type": "code",
      "metadata": {
        "id": "RDa9sSiTSZhF",
        "outputId": "15fa64f8-3320-4160-a44c-83124667ea3e",
        "colab": {
          "base_uri": "https://localhost:8080/",
          "height": 235
        }
      },
      "source": [
        "# 2.5.4　anime_master.csv ファイルの読み込み\n",
        "\n",
        "from urllib.parse import urljoin\n",
        "import pandas as pd\n",
        "\n",
        "base_url = \"https://raw.githubusercontent.com/practical-jupyter/sample-data/master/anime/\"\n",
        "anime_master_csv = urljoin(base_url, \"anime_master.csv\")\n",
        "df_master = pd.read_csv(anime_master_csv, index_col=\"anime_id\")\n",
        "df_master.head()"
      ],
      "execution_count": 5,
      "outputs": [
        {
          "output_type": "execute_result",
          "data": {
            "text/html": [
              "<div>\n",
              "<style scoped>\n",
              "    .dataframe tbody tr th:only-of-type {\n",
              "        vertical-align: middle;\n",
              "    }\n",
              "\n",
              "    .dataframe tbody tr th {\n",
              "        vertical-align: top;\n",
              "    }\n",
              "\n",
              "    .dataframe thead th {\n",
              "        text-align: right;\n",
              "    }\n",
              "</style>\n",
              "<table border=\"1\" class=\"dataframe\">\n",
              "  <thead>\n",
              "    <tr style=\"text-align: right;\">\n",
              "      <th></th>\n",
              "      <th>name</th>\n",
              "      <th>genre</th>\n",
              "      <th>type</th>\n",
              "      <th>episodes</th>\n",
              "      <th>rating</th>\n",
              "      <th>members</th>\n",
              "    </tr>\n",
              "    <tr>\n",
              "      <th>anime_id</th>\n",
              "      <th></th>\n",
              "      <th></th>\n",
              "      <th></th>\n",
              "      <th></th>\n",
              "      <th></th>\n",
              "      <th></th>\n",
              "    </tr>\n",
              "  </thead>\n",
              "  <tbody>\n",
              "    <tr>\n",
              "      <th>32281</th>\n",
              "      <td>Kimi no Na wa.</td>\n",
              "      <td>Drama, Romance, School, Supernatural</td>\n",
              "      <td>Movie</td>\n",
              "      <td>1</td>\n",
              "      <td>9.37</td>\n",
              "      <td>200630</td>\n",
              "    </tr>\n",
              "    <tr>\n",
              "      <th>5114</th>\n",
              "      <td>Fullmetal Alchemist: Brotherhood</td>\n",
              "      <td>Action, Adventure, Drama, Fantasy, Magic, Mili...</td>\n",
              "      <td>TV</td>\n",
              "      <td>64</td>\n",
              "      <td>9.26</td>\n",
              "      <td>793665</td>\n",
              "    </tr>\n",
              "    <tr>\n",
              "      <th>28977</th>\n",
              "      <td>Gintama°</td>\n",
              "      <td>Action, Comedy, Historical, Parody, Samurai, S...</td>\n",
              "      <td>TV</td>\n",
              "      <td>51</td>\n",
              "      <td>9.25</td>\n",
              "      <td>114262</td>\n",
              "    </tr>\n",
              "    <tr>\n",
              "      <th>9253</th>\n",
              "      <td>Steins;Gate</td>\n",
              "      <td>Sci-Fi, Thriller</td>\n",
              "      <td>TV</td>\n",
              "      <td>24</td>\n",
              "      <td>9.17</td>\n",
              "      <td>673572</td>\n",
              "    </tr>\n",
              "    <tr>\n",
              "      <th>9969</th>\n",
              "      <td>Gintama'</td>\n",
              "      <td>Action, Comedy, Historical, Parody, Samurai, S...</td>\n",
              "      <td>TV</td>\n",
              "      <td>51</td>\n",
              "      <td>9.16</td>\n",
              "      <td>151266</td>\n",
              "    </tr>\n",
              "  </tbody>\n",
              "</table>\n",
              "</div>"
            ],
            "text/plain": [
              "                                      name  ... members\n",
              "anime_id                                    ...        \n",
              "32281                       Kimi no Na wa.  ...  200630\n",
              "5114      Fullmetal Alchemist: Brotherhood  ...  793665\n",
              "28977                             Gintama°  ...  114262\n",
              "9253                           Steins;Gate  ...  673572\n",
              "9969                              Gintama'  ...  151266\n",
              "\n",
              "[5 rows x 6 columns]"
            ]
          },
          "metadata": {
            "tags": []
          },
          "execution_count": 5
        }
      ]
    },
    {
      "cell_type": "code",
      "metadata": {
        "id": "FKCR4-53SZhF",
        "outputId": "4c3d957b-7234-4d12-ebc5-6391a68d0613",
        "colab": {
          "base_uri": "https://localhost:8080/"
        }
      },
      "source": [
        "# 2.5.5　エピソード数の記述統計量を出力\n",
        "\n",
        "df_tv = df_master[df_master[\"type\"] == \"TV\"]\n",
        "episode_number = df_tv[\"episodes\"]\n",
        "episode_number.describe()"
      ],
      "execution_count": 6,
      "outputs": [
        {
          "output_type": "execute_result",
          "data": {
            "text/plain": [
              "count    3330.000000\n",
              "mean       37.456156\n",
              "std        83.326301\n",
              "min         3.000000\n",
              "25%        13.000000\n",
              "50%        25.000000\n",
              "75%        43.000000\n",
              "max      1818.000000\n",
              "Name: episodes, dtype: float64"
            ]
          },
          "metadata": {
            "tags": []
          },
          "execution_count": 6
        }
      ]
    },
    {
      "cell_type": "code",
      "metadata": {
        "id": "NHDv98n0SZhF",
        "outputId": "c5c268ef-5d1a-4028-8516-5f9eb7d4ade3",
        "colab": {
          "base_uri": "https://localhost:8080/",
          "height": 299
        }
      },
      "source": [
        "# 2.5.6　エピソード数の可視化\n",
        "\n",
        "fig, ax = plt.subplots(1, 1)\n",
        "ax.hist(episode_number, bins=16, range=(0, 2000), edgecolor=\"black\")\n",
        "ax.set_title(\"Episodes\")"
      ],
      "execution_count": 7,
      "outputs": [
        {
          "output_type": "execute_result",
          "data": {
            "text/plain": [
              "Text(0.5, 1.0, 'Episodes')"
            ]
          },
          "metadata": {
            "tags": []
          },
          "execution_count": 7
        },
        {
          "output_type": "display_data",
          "data": {
            "image/png": "[encoded data removed]",
            "text/plain": [
              "<Figure size 432x288 with 1 Axes>"
            ]
          },
          "metadata": {
            "tags": [],
            "needs_background": "light"
          }
        }
      ]
    },
    {
      "cell_type": "code",
      "metadata": {
        "id": "gpRaOKbCSZhG",
        "outputId": "db304725-3d22-4d87-b52f-06894414db86",
        "colab": {
          "base_uri": "https://localhost:8080/",
          "height": 299
        }
      },
      "source": [
        "# 2.5.7　エピソード数の可視化（描画範囲を制限）\n",
        "\n",
        "fig, ax = plt.subplots(1, 1)\n",
        "ax.hist(episode_number, bins=15, range=(0, 390), edgecolor=\"black\")\n",
        "ax.set_xticks(np.arange(0, 391, 26).astype(\"int64\"))\n",
        "ax.set_title(\"Episodes\")"
      ],
      "execution_count": 8,
      "outputs": [
        {
          "output_type": "execute_result",
          "data": {
            "text/plain": [
              "Text(0.5, 1.0, 'Episodes')"
            ]
          },
          "metadata": {
            "tags": []
          },
          "execution_count": 8
        },
        {
          "output_type": "display_data",
          "data": {
            "image/png": "[encoded data removed]",
            "text/plain": [
              "<Figure size 432x288 with 1 Axes>"
            ]
          },
          "metadata": {
            "tags": [],
            "needs_background": "light"
          }
        }
      ]
    },
    {
      "cell_type": "code",
      "metadata": {
        "id": "eb1c-MHbSZhG",
        "outputId": "f6d6fd8f-f4c9-418d-eef6-cd582227a6d2",
        "colab": {
          "base_uri": "https://localhost:8080/",
          "height": 299
        }
      },
      "source": [
        "# 2.5.8　エピソード数の可視化（対数軸）\n",
        "\n",
        "fig, ax = plt.subplots(1, 1)\n",
        "ax.hist(episode_number, bins=16, range=(0, 2000), log=True, edgecolor=\"black\")\n",
        "ax.set_title(\"Episodes\")"
      ],
      "execution_count": 9,
      "outputs": [
        {
          "output_type": "execute_result",
          "data": {
            "text/plain": [
              "Text(0.5, 1.0, 'Episodes')"
            ]
          },
          "metadata": {
            "tags": []
          },
          "execution_count": 9
        },
        {
          "output_type": "display_data",
          "data": {
            "image/png": "[encoded data removed]",
            "text/plain": [
              "<Figure size 432x288 with 1 Axes>"
            ]
          },
          "metadata": {
            "tags": [],
            "needs_background": "light"
          }
        }
      ]
    },
    {
      "cell_type": "code",
      "metadata": {
        "id": "dTFmBSswSZhG",
        "outputId": "589e6d54-8e64-478a-ad04-819ff93ad61a",
        "colab": {
          "base_uri": "https://localhost:8080/",
          "height": 299
        }
      },
      "source": [
        "# 2.5.9　レーティングの可視化\n",
        "\n",
        "df_rating = df_master[\"rating\"]\n",
        "rating_range = (0, 10)\n",
        "fig, ax = plt.subplots(1, 1)\n",
        "ax.hist(df_rating, range=rating_range, edgecolor=\"black\")\n",
        "ax.set_title(\"Rating\")"
      ],
      "execution_count": 10,
      "outputs": [
        {
          "output_type": "execute_result",
          "data": {
            "text/plain": [
              "Text(0.5, 1.0, 'Rating')"
            ]
          },
          "metadata": {
            "tags": []
          },
          "execution_count": 10
        },
        {
          "output_type": "display_data",
          "data": {
            "image/png": "[encoded data removed]",
            "text/plain": [
              "<Figure size 432x288 with 1 Axes>"
            ]
          },
          "metadata": {
            "tags": [],
            "needs_background": "light"
          }
        }
      ]
    },
    {
      "cell_type": "code",
      "metadata": {
        "id": "rNdEbPNSSZhG",
        "outputId": "941d2305-d42a-4b33-ef0d-4d92c5045070",
        "colab": {
          "base_uri": "https://localhost:8080/",
          "height": 299
        }
      },
      "source": [
        "# 2.5.10　相対度数の累積ヒストグラムの描画\n",
        "\n",
        "fig, ax = plt.subplots(1, 1)\n",
        "\n",
        "# cumulativeをTrueに指定\n",
        "ax.hist(\n",
        "    df_rating,\n",
        "    range=rating_range,\n",
        "    density=True,\n",
        "    cumulative=True,\n",
        "    edgecolor=\"black\",\n",
        ")\n",
        "ax.set_title(\"Rating (cumulated)\")"
      ],
      "execution_count": 11,
      "outputs": [
        {
          "output_type": "execute_result",
          "data": {
            "text/plain": [
              "Text(0.5, 1.0, 'Rating (cumulated)')"
            ]
          },
          "metadata": {
            "tags": []
          },
          "execution_count": 11
        },
        {
          "output_type": "display_data",
          "data": {
            "image/png": "[encoded data removed]",
            "text/plain": [
              "<Figure size 432x288 with 1 Axes>"
            ]
          },
          "metadata": {
            "tags": [],
            "needs_background": "light"
          }
        }
      ]
    },
    {
      "cell_type": "code",
      "metadata": {
        "id": "wJD2h3FISZhG",
        "outputId": "8115e95f-f7cf-4795-bdf5-48cf63776427",
        "colab": {
          "base_uri": "https://localhost:8080/",
          "height": 299
        }
      },
      "source": [
        "# 2.5.11　近似曲線の追加\n",
        "\n",
        "from scipy.stats import norm\n",
        "\n",
        "# 階級数\n",
        "bins = 50\n",
        "\n",
        "# 平均と標準偏差\n",
        "mu, sigma = df_rating.mean(), df_rating.std()\n",
        "\n",
        "# ヒストグラムの描画\n",
        "fig, ax = plt.subplots(1, 1)\n",
        "ax.hist(df_rating, bins=bins, range=rating_range, density=True)\n",
        "\n",
        "# X値（ビンの区切りの値）\n",
        "x = np.linspace(rating_range[0], rating_range[1], bins)\n",
        "\n",
        "# Y値（近似的な確率密度関数を使用して生成）\n",
        "y = norm.pdf(x, mu, sigma)\n",
        "\n",
        "# 近似曲線の描画\n",
        "ax.plot(x, y)\n",
        "ax.set_title(\"Rating (normed) with approximate curve\")"
      ],
      "execution_count": 12,
      "outputs": [
        {
          "output_type": "execute_result",
          "data": {
            "text/plain": [
              "Text(0.5, 1.0, 'Rating (normed) with approximate curve')"
            ]
          },
          "metadata": {
            "tags": []
          },
          "execution_count": 12
        },
        {
          "output_type": "display_data",
          "data": {
            "image/png": "[encoded data removed]",
            "text/plain": [
              "<Figure size 432x288 with 1 Axes>"
            ]
          },
          "metadata": {
            "tags": [],
            "needs_background": "light"
          }
        }
      ]
    },
    {
      "cell_type": "code",
      "metadata": {
        "id": "ckeDklm4SZhG",
        "outputId": "12e3f6a2-ea8a-4f1c-a880-1ea0058b8fbd",
        "colab": {
          "base_uri": "https://localhost:8080/",
          "height": 297
        }
      },
      "source": [
        "# 2.5.12　複数グループのヒストグラムを重ねて描画\n",
        "\n",
        "fig, ax = plt.subplots(1, 1)\n",
        "\n",
        "for type_, data in df_master.groupby(\"type\"):\n",
        "    ax.hist(data[\"rating\"], range=rating_range, alpha=0.5, label=type_)\n",
        "\n",
        "ax.legend()\n",
        "ax.set_xlabel(\"Rating\")\n",
        "ax.set_ylabel(\"Count(rating)\")"
      ],
      "execution_count": 13,
      "outputs": [
        {
          "output_type": "execute_result",
          "data": {
            "text/plain": [
              "Text(0, 0.5, 'Count(rating)')"
            ]
          },
          "metadata": {
            "tags": []
          },
          "execution_count": 13
        },
        {
          "output_type": "display_data",
          "data": {
            "image/png": "[encoded data removed]",
            "text/plain": [
              "<Figure size 432x288 with 1 Axes>"
            ]
          },
          "metadata": {
            "tags": [],
            "needs_background": "light"
          }
        }
      ]
    },
    {
      "cell_type": "code",
      "metadata": {
        "id": "GGvDWxnWSZhG",
        "outputId": "7c3cded8-c688-4e39-c6fc-19793ce61554",
        "colab": {
          "base_uri": "https://localhost:8080/",
          "height": 297
        }
      },
      "source": [
        "# 2.5.13　複数グループのヒストグラムを並べて描画\n",
        "\n",
        "# データセットの作成\n",
        "types = df_master[\"type\"].unique()\n",
        "dataset = [\n",
        "    df_master.loc[df_master[\"type\"] == type_, \"rating\"] for type_ in types\n",
        "]\n",
        "fig, ax = plt.subplots(1, 1)\n",
        "ax.hist(dataset, range=rating_range, label=types)\n",
        "ax.legend()\n",
        "ax.set_xlabel(\"rating\")\n",
        "ax.set_ylabel(\"Count(rating)\")"
      ],
      "execution_count": 14,
      "outputs": [
        {
          "output_type": "execute_result",
          "data": {
            "text/plain": [
              "Text(0, 0.5, 'Count(rating)')"
            ]
          },
          "metadata": {
            "tags": []
          },
          "execution_count": 14
        },
        {
          "output_type": "display_data",
          "data": {
            "image/png": "[encoded data removed]",
            "text/plain": [
              "<Figure size 432x288 with 1 Axes>"
            ]
          },
          "metadata": {
            "tags": [],
            "needs_background": "light"
          }
        }
      ]
    },
    {
      "cell_type": "code",
      "metadata": {
        "id": "FtAsMIIpSZhG",
        "outputId": "cced4481-c0cd-42a9-faa8-d66eaacfcc54",
        "colab": {
          "base_uri": "https://localhost:8080/",
          "height": 297
        }
      },
      "source": [
        "# 2.5.14　積み上げヒストグラムの描画\n",
        "\n",
        "# dataset, labelsは「並べて描画」で作成したものを使用\n",
        "fig, ax = plt.subplots(1, 1)\n",
        "ax.hist(dataset, range=rating_range, label=types, stacked=True)\n",
        "ax.legend()\n",
        "ax.set_xlabel(\"rating\")\n",
        "ax.set_ylabel(\"Count(rating)\")"
      ],
      "execution_count": 15,
      "outputs": [
        {
          "output_type": "execute_result",
          "data": {
            "text/plain": [
              "Text(0, 0.5, 'Count(rating)')"
            ]
          },
          "metadata": {
            "tags": []
          },
          "execution_count": 15
        },
        {
          "output_type": "display_data",
          "data": {
            "image/png": "[encoded data removed]",
            "text/plain": [
              "<Figure size 432x288 with 1 Axes>"
            ]
          },
          "metadata": {
            "tags": [],
            "needs_background": "light"
          }
        }
      ]
    }
  ]
}
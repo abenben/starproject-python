{
  "nbformat": 4,
  "nbformat_minor": 0,
  "metadata": {
    "colab": {
      "name": "tutorial01.ipynb",
      "provenance": [],
      "collapsed_sections": [],
      "toc_visible": true,
      "include_colab_link": true
    },
    "kernelspec": {
      "name": "python3",
      "display_name": "Python 3"
    }
  },
  "cells": [
    {
      "cell_type": "markdown",
      "metadata": {
        "id": "view-in-github",
        "colab_type": "text"
      },
      "source": [
        "<a href=\"https://colab.research.google.com/github/abenben/starproject-python/blob/master/tutorial01.ipynb\" target=\"_parent\"><img src=\"https://colab.research.google.com/assets/colab-badge.svg\" alt=\"Open In Colab\"/></a>"
      ]
    },
    {
      "cell_type": "markdown",
      "metadata": {
        "id": "tQRKRreDqBra"
      },
      "source": [
        "# 2.Pythonを始めよう\n",
        "\n",
        "```\n",
        "実践を通したPythonの特徴と基本の紹介\n",
        "```\n",
        "\n",
        "Pythonの特徴と基本を紹介します。 ただ紹介するだけではなく、簡単なプログラムを実装しつつ実践的に学んでいきます。"
      ]
    },
    {
      "cell_type": "markdown",
      "metadata": {
        "id": "ytBBwMAOepHM"
      },
      "source": [
        "## 2.1. Pythonを楽しもう\n",
        "\n",
        "ここではPythonの基本の基本を紹介します。 Python対話形式コマンドで入力し結果を確認しながら、Pythonにふれあいましょう。\n",
        "\n",
        "ここでは、「FizzBuzz」という簡単なプログラム（詳細は後述）を実装できることを目的にします。\n",
        "\n",
        "Pythonについてより詳しくは、後述の節で説明します。 つまり、ここで説明したことのすべてをいま理解しようとしなくても大丈夫です。次節以降でおさらいをしていきます。"
      ]
    },
    {
      "cell_type": "markdown",
      "metadata": {
        "id": "zgOEX79XepUf"
      },
      "source": [
        "### 2.1.1 Pythonのコードを動かす\n",
        "\n",
        "さっそくPythonで遊んでみましょう。\n",
        "\n",
        "Google Coraboratoryは、「+コード」をクリックするとPythonこコードを書くボックスが作成されます。\n",
        "\n",
        "その中にコードを書いて、SHIFT+ENTERを実行すると、処理が実行されます。\n",
        "\n",
        "このチュートリアルは、事前にコードボックスが準備されているので、コードを実際に入力しながら確認を行います。\n",
        "\n",
        "できるだけコピーはせずに、直接入力することで体感的に学びましょう。\n",
        "\n",
        "**pythonを電卓にする。**\n",
        "\n",
        "それでは、手始めに電卓のようにPythonを使ってみましょう。"
      ]
    },
    {
      "cell_type": "markdown",
      "metadata": {
        "id": "M6IHoS-hZMKB"
      },
      "source": [
        "#### 足し算(+)\n",
        "\n",
        "```\n",
        "▶ 2 + 2\n",
        "4\n",
        "```\n",
        "（コードを書いて実際に動かしてみよう。）\n"
      ]
    },
    {
      "cell_type": "code",
      "metadata": {
        "id": "JZTqTGe9sndG",
        "outputId": "1e409ef7-44fe-478b-abcc-5e0fcae3c57c",
        "colab": {
          "base_uri": "https://localhost:8080/"
        }
      },
      "source": [
        "2+2"
      ],
      "execution_count": 1,
      "outputs": [
        {
          "output_type": "execute_result",
          "data": {
            "text/plain": [
              "4"
            ]
          },
          "metadata": {
            "tags": []
          },
          "execution_count": 1
        }
      ]
    },
    {
      "cell_type": "markdown",
      "metadata": {
        "id": "7RUzuOB2ZZsc"
      },
      "source": [
        "#### 引き算(-)\n",
        "\n",
        "```\n",
        "▶ 3 - 8\n",
        "-5\n",
        "```\n",
        "（コードを書いて実際に動かしてみよう。）"
      ]
    },
    {
      "cell_type": "code",
      "metadata": {
        "id": "zBXG7m4it5bD",
        "outputId": "144b5662-11c5-4b5a-e2a9-976feb91cc99",
        "colab": {
          "base_uri": "https://localhost:8080/"
        }
      },
      "source": [
        "3-8"
      ],
      "execution_count": 2,
      "outputs": [
        {
          "output_type": "execute_result",
          "data": {
            "text/plain": [
              "-5"
            ]
          },
          "metadata": {
            "tags": []
          },
          "execution_count": 2
        }
      ]
    },
    {
      "cell_type": "markdown",
      "metadata": {
        "id": "EfAuDWIJZisd"
      },
      "source": [
        "#### かけ算(*)\n",
        "\n",
        "```\n",
        "▶ 6 * 9\n",
        "54\n",
        "```\n",
        "（コードを書いて実際に動かしてみよう。）"
      ]
    },
    {
      "cell_type": "code",
      "metadata": {
        "id": "5xasIY-ft9oA",
        "outputId": "ece3dab1-33f3-4e72-d8ac-365d8378157f",
        "colab": {
          "base_uri": "https://localhost:8080/"
        }
      },
      "source": [
        "6+9"
      ],
      "execution_count": 3,
      "outputs": [
        {
          "output_type": "execute_result",
          "data": {
            "text/plain": [
              "15"
            ]
          },
          "metadata": {
            "tags": []
          },
          "execution_count": 3
        }
      ]
    },
    {
      "cell_type": "markdown",
      "metadata": {
        "id": "-nWdxkS6fTEe"
      },
      "source": [
        "#### 割り算(/)\n",
        "\n",
        "```\n",
        "▶ 8 / 2\n",
        "4.0\n",
        "```\n",
        "（コードを書いて実際に動かしてみよう。）"
      ]
    },
    {
      "cell_type": "code",
      "metadata": {
        "id": "g4BejBY2fW9s",
        "outputId": "e65462bc-6f92-43b6-ffa4-41af93f84940",
        "colab": {
          "base_uri": "https://localhost:8080/"
        }
      },
      "source": [
        "8 / 2"
      ],
      "execution_count": 4,
      "outputs": [
        {
          "output_type": "execute_result",
          "data": {
            "text/plain": [
              "4.0"
            ]
          },
          "metadata": {
            "tags": []
          },
          "execution_count": 4
        }
      ]
    },
    {
      "cell_type": "markdown",
      "metadata": {
        "id": "YLwEOgCGZqtr"
      },
      "source": [
        "#### 剰余（%）\n",
        "\n",
        "```\n",
        "▶ 5 % 2\n",
        "1\n",
        "```\n",
        "（コードを書いて実際に動かしてみよう。）"
      ]
    },
    {
      "cell_type": "code",
      "metadata": {
        "id": "vSieKqz_uKTk",
        "outputId": "582d0e4c-8322-47cb-c4e3-1d83cddfbc01",
        "colab": {
          "base_uri": "https://localhost:8080/"
        }
      },
      "source": [
        "5 % 2"
      ],
      "execution_count": 5,
      "outputs": [
        {
          "output_type": "execute_result",
          "data": {
            "text/plain": [
              "1"
            ]
          },
          "metadata": {
            "tags": []
          },
          "execution_count": 5
        }
      ]
    },
    {
      "cell_type": "markdown",
      "metadata": {
        "id": "d-StTKFVaAnx"
      },
      "source": [
        "#### 変数に入れて計算する\n",
        "\n",
        "```\n",
        "▶ width = 60\n",
        "▶ height = 90\n",
        "▶ width * height\n",
        "5400\n",
        "```\n",
        "（コードを書いて実際に動かしてみよう。）"
      ]
    },
    {
      "cell_type": "markdown",
      "metadata": {
        "id": "R4OCwRbqfjBl"
      },
      "source": [
        ""
      ]
    },
    {
      "cell_type": "code",
      "metadata": {
        "id": "5WKv8oqDuPRt",
        "outputId": "2af963dc-4cb1-47fd-aa57-87b748befcc3",
        "colab": {
          "base_uri": "https://localhost:8080/"
        }
      },
      "source": [
        "width = 60\n",
        "height = 90\n",
        "width * height"
      ],
      "execution_count": 6,
      "outputs": [
        {
          "output_type": "execute_result",
          "data": {
            "text/plain": [
              "5400"
            ]
          },
          "metadata": {
            "tags": []
          },
          "execution_count": 6
        }
      ]
    },
    {
      "cell_type": "markdown",
      "metadata": {
        "id": "Nf6jKKU3uvyv"
      },
      "source": [
        "初めの4つは整数型（int）での四則演算（+、-、*、/）と剰余（%）です。\n",
        "\n",
        "次に等号（=）を使って値を代入しています。\n",
        "\n",
        "width (幅)、 height (高さ)という変数を作成し、2つを掛け合わせて面積を求めています。\n",
        "\n",
        "**変数を作成** とは、データ(ここでは60など)にラベル(ここではwidthなど)を付けて、後で使用できるようにすることです。"
      ]
    },
    {
      "cell_type": "markdown",
      "metadata": {
        "id": "r1gLM3xCu14p"
      },
      "source": [
        "### 2.1.2. 文字列\n",
        "\n",
        "数字だけを扱うなら卓上電卓で十分ですね。文字列型（str）を使ってみましょう。\n",
        "シングルクォート（'）かダブルクォート（\"）の間に文字を入力することで、文字列を定義します"
      ]
    },
    {
      "cell_type": "markdown",
      "metadata": {
        "id": "V2FolnYCayGJ"
      },
      "source": [
        "文字列（シングルクォート）\n",
        "\n",
        "```\n",
        "▶ 'Hello,world'\n",
        "'Hello,world'\n",
        "```\n",
        "（コードを書いて実際に動かしてみよう。）"
      ]
    },
    {
      "cell_type": "code",
      "metadata": {
        "id": "yBkOHb9hWkKz",
        "outputId": "e5f2c4e1-766b-4376-c96d-e282b05ab07d",
        "colab": {
          "base_uri": "https://localhost:8080/",
          "height": 35
        }
      },
      "source": [
        "'Hello,world'"
      ],
      "execution_count": 7,
      "outputs": [
        {
          "output_type": "execute_result",
          "data": {
            "application/vnd.google.colaboratory.intrinsic+json": {
              "type": "string"
            },
            "text/plain": [
              "'Hello,world'"
            ]
          },
          "metadata": {
            "tags": []
          },
          "execution_count": 7
        }
      ]
    },
    {
      "cell_type": "markdown",
      "metadata": {
        "id": "OCnIqehoa9f1"
      },
      "source": [
        "文字列（ダブルクォート）\n",
        "\n",
        "```\n",
        "▶ \"Monty Python's Flying Circus\"\n",
        "'Monty Python's Flying Circus'\n",
        "```\n",
        "（コードを書いて実際に動かしてみよう。）"
      ]
    },
    {
      "cell_type": "code",
      "metadata": {
        "id": "gB0FLjkHYC3p",
        "outputId": "1b1875a1-679b-4abf-f740-3fc2846fbec7",
        "colab": {
          "base_uri": "https://localhost:8080/",
          "height": 35
        }
      },
      "source": [
        "\"Monty Python's Flying Circus\""
      ],
      "execution_count": 8,
      "outputs": [
        {
          "output_type": "execute_result",
          "data": {
            "application/vnd.google.colaboratory.intrinsic+json": {
              "type": "string"
            },
            "text/plain": [
              "\"Monty Python's Flying Circus\""
            ]
          },
          "metadata": {
            "tags": []
          },
          "execution_count": 8
        }
      ]
    },
    {
      "cell_type": "markdown",
      "metadata": {
        "id": "mzA7H6sFWtP4"
      },
      "source": [
        "文字列中にシングルクォートを含む場合はダブルクォートを使います （ 文字列型（str） で説明する文字のエスケープも使えます）。\n",
        "\n",
        "文字列は順序を持つシーケンス型の1つです。"
      ]
    },
    {
      "cell_type": "markdown",
      "metadata": {
        "id": "aRjjFUx2XGqX"
      },
      "source": [
        "### 2.1.3. リスト\n",
        "リスト（list）は、複数のデータ型の入れ物として使えます（リスト 2.4）。\n"
      ]
    },
    {
      "cell_type": "markdown",
      "metadata": {
        "id": "_faJg0s5bitO"
      },
      "source": [
        "リスト\n",
        "\n",
        "```\n",
        "▶ ['Hello', 3]\n",
        "['Hello', 3]\n",
        "```\n",
        "\n",
        "（コードを書いて実際に動かしてみよう。）"
      ]
    },
    {
      "cell_type": "code",
      "metadata": {
        "id": "zgA2LHFJWsKS",
        "outputId": "06560cb9-2289-44ac-fb74-6bd8c42659f1",
        "colab": {
          "base_uri": "https://localhost:8080/"
        }
      },
      "source": [
        "['Hello', 3]"
      ],
      "execution_count": 9,
      "outputs": [
        {
          "output_type": "execute_result",
          "data": {
            "text/plain": [
              "['Hello', 3]"
            ]
          },
          "metadata": {
            "tags": []
          },
          "execution_count": 9
        }
      ]
    },
    {
      "cell_type": "markdown",
      "metadata": {
        "id": "2MB0vOCGXXRc"
      },
      "source": [
        "\n",
        "リストも文字列と同じで、順序を持つ繰返し可能な型(シーケンス)の1つです。\n",
        "\n",
        "複数のデータ型と組み合わせて使えるコレクションの1つでもあります。"
      ]
    },
    {
      "cell_type": "markdown",
      "metadata": {
        "id": "H1PtPzq4XqbJ"
      },
      "source": [
        "### 2.1.4. コメント\n",
        "より右以降の文字列は「コメント」となり、プログラムとして実行されません。"
      ]
    },
    {
      "cell_type": "markdown",
      "metadata": {
        "id": "EiEcitnyb2n4"
      },
      "source": [
        "```\n",
        "# ここはコメント文\n",
        "```\n",
        "\n",
        "（コードを書いて実際に動かしてみよう。）"
      ]
    },
    {
      "cell_type": "code",
      "metadata": {
        "id": "LlKfCg3nXuWO"
      },
      "source": [
        "# ここはコメント文"
      ],
      "execution_count": 10,
      "outputs": []
    },
    {
      "cell_type": "markdown",
      "metadata": {
        "id": "rvxHuj3Jb3lT"
      },
      "source": [
        "```\n",
        "a = 1  # コードの右側にも書ける\n",
        "```\n",
        "（コードを書いて実際に動かしてみよう。）"
      ]
    },
    {
      "cell_type": "code",
      "metadata": {
        "id": "dEeoMB55YNiv"
      },
      "source": [
        "a = 1  # コードの右側にも書ける"
      ],
      "execution_count": 11,
      "outputs": []
    },
    {
      "cell_type": "markdown",
      "metadata": {
        "id": "2vl2uIEGNvsj"
      },
      "source": [
        "### 2.1.5. 関数\n",
        "関数とはプログラムの中で処理をひとまとめにしたものです。 Pythonでは関数は、 def を使って以下のように書きます。 末尾にはコロン（:）が必要です。\n",
        "\n",
        "```\n",
        "def ＜関数名＞(＜引数の変数名＞):\n",
        "```\n",
        "\n",
        "値を返すには、 return を使います。引数を2つ受け取り、合計値を返す関数は 以下のようになります。"
      ]
    },
    {
      "cell_type": "markdown",
      "metadata": {
        "id": "AeCSJFT4cNt-"
      },
      "source": [
        "```\n",
        "def add(a, b):\n",
        "    return a + b\n",
        "add(1, 3)\n",
        "```\n",
        "\n",
        "（コードを書いて実際に動かしてみよう。）"
      ]
    },
    {
      "cell_type": "code",
      "metadata": {
        "id": "wk2aHRANX4JD",
        "outputId": "2d6034e8-5d26-46df-c412-e85abd6af3cf",
        "colab": {
          "base_uri": "https://localhost:8080/"
        }
      },
      "source": [
        "def add(a, b):\n",
        "    return a + b\n",
        "add(1, 3)"
      ],
      "execution_count": 12,
      "outputs": [
        {
          "output_type": "execute_result",
          "data": {
            "text/plain": [
              "4"
            ]
          },
          "metadata": {
            "tags": []
          },
          "execution_count": 12
        }
      ]
    },
    {
      "cell_type": "markdown",
      "metadata": {
        "id": "DYcApzKXO0p4"
      },
      "source": [
        "Python はブロック構造を **インデント** （通常は4つのスペース）で書きます。\n",
        "\n",
        "C言語のように波括弧（{ }）で囲む必要はなく、インデント自体が文の構造となります。\n",
        "\n",
        "add() 関数内の1行目のreturn文は関数の中身なので、インデントで字下げします。\n",
        "\n",
        "関数を呼び出すには関数名に括弧（( )）を付けて実行します。\n",
        "\n",
        "引数がある場合は、括弧内に引数を渡します。1と3を足した値、4が返されています。"
      ]
    },
    {
      "cell_type": "markdown",
      "metadata": {
        "id": "7wZ9F2uAPYfn"
      },
      "source": [
        "**組み込み関数**\n",
        "\n",
        "Pythonには標準でいくつか関数が提供されています。これを組み込み関数と呼びます。\n",
        "\n",
        "たとえば、指定された小数点を丸めた値を作成する round() 関数は、 このように使います。"
      ]
    },
    {
      "cell_type": "markdown",
      "metadata": {
        "id": "yUtIYTljco0E"
      },
      "source": [
        "```\n",
        "▶ round(10.4)\n",
        "10\n",
        "```\n",
        "\n",
        "（コードを書いて実際に動かしてみよう。）"
      ]
    },
    {
      "cell_type": "code",
      "metadata": {
        "id": "3wq10fsTPJiR",
        "outputId": "0a85b690-6dbe-4d79-bb48-07551ca7ca9b",
        "colab": {
          "base_uri": "https://localhost:8080/"
        }
      },
      "source": [
        "round(10.4)"
      ],
      "execution_count": 13,
      "outputs": [
        {
          "output_type": "execute_result",
          "data": {
            "text/plain": [
              "10"
            ]
          },
          "metadata": {
            "tags": []
          },
          "execution_count": 13
        }
      ]
    },
    {
      "cell_type": "markdown",
      "metadata": {
        "id": "0RilxYR9Rs-U"
      },
      "source": [
        "## 2.2. FizzBuzz\n",
        "ここで「FizzBuzz」というゲームを解くプログラムをPythonで書いてみましょう。\n",
        "\n",
        "FizzBuzzとは、複数の人が集まって行うゲームです。\n",
        "\n",
        "ひとりひとりが1から順に数字を発言し、数字が3で割り切れる場合は「Fizz」、5で割り切れる場合は「Buzz」、3 と5 で割り切れる場合は「FizzBuzz」と発言するゲームです。\n",
        "\n",
        "1から15までの答えを並べると次のようになります。\n",
        "\n",
        "【FizzBuzzの15までの回答】\n",
        "\n",
        "```\n",
        "\n",
        "1, 2, Fizz, 4, Buzz, Fizz, 7, 8, Fizz, Buzz, 11, Fizz, 13, 14, FizzBuzz\n",
        "\n",
        "```\n",
        "\n",
        "1から100までのFizzBuzzを表示するPythonプログラムを作りましょう。\n",
        "\n",
        "FizzBuzzは簡単な問題ですが、実装する言語の制御文(繰り返し、条件分岐)を使いこなす必要があり、言語入門の第一歩としてちょうどよい題材です"
      ]
    },
    {
      "cell_type": "markdown",
      "metadata": {
        "id": "KrZ0bBrhUbVL"
      },
      "source": [
        "### 2.2.1. 関数（その2）\n",
        "fizzbuzz関数を作成しFizzBuzzを実装していきましょう。\n",
        "\n",
        "手始めに以下ののように書きます。"
      ]
    },
    {
      "cell_type": "markdown",
      "metadata": {
        "id": "FMi4JAESdBKg"
      },
      "source": [
        "```\n",
        "def fizzbuzz(num):\n",
        "    return num\n",
        "\n",
        "print(fizzbuzz(4))\n",
        "```\n",
        "（コードを書いて実際に動かしてみよう。）"
      ]
    },
    {
      "cell_type": "code",
      "metadata": {
        "id": "sXXyY0A1U_bI",
        "outputId": "365a9a10-ee42-4854-f6bd-a402c35a93c9",
        "colab": {
          "base_uri": "https://localhost:8080/"
        }
      },
      "source": [
        "def fizzbuzz(num):\n",
        "    return num\n",
        " \n",
        "print(fizzbuzz(4))"
      ],
      "execution_count": 14,
      "outputs": [
        {
          "output_type": "stream",
          "text": [
            "4\n"
          ],
          "name": "stdout"
        }
      ]
    },
    {
      "cell_type": "markdown",
      "metadata": {
        "id": "p_kPRGtXVJGH"
      },
      "source": [
        "この fizzbuzz() 関数はなにも処理をせず引数をそのまま返します。これから処理を追加していくので安心してください。\n",
        "\n",
        "print 関数を使っているのは実行結果を表示するためです。\n",
        "\n",
        "対話モードでは、変数の値や関数の戻り値を変数に代入しない場合に、自動的に値を表示してくれました。\n",
        "\n",
        "処理の最中に値を表示するには print 関数が必要です。"
      ]
    },
    {
      "cell_type": "markdown",
      "metadata": {
        "id": "Pv98bHImYhQv"
      },
      "source": [
        "### 2.2.2. for文\n",
        "\n",
        "「1から100までのFizzBuzzを表示する」ために fizzbuzz() 関数に1から100までの数値を順に与えます。\n",
        "\n",
        "for 文を使って繰り返し処理を実装しましょう。"
      ]
    },
    {
      "cell_type": "markdown",
      "metadata": {
        "id": "cbQmlX6ydaiq"
      },
      "source": [
        "```\n",
        "def fizzbuzz(num):\n",
        "    return num\n",
        "\n",
        "for num in range(1, 101):\n",
        "    print(fizzbuzz(num))\n",
        "```\n",
        "（コードを書いて実際に動かしてみよう。）"
      ]
    },
    {
      "cell_type": "code",
      "metadata": {
        "id": "h8393m3IVed2",
        "outputId": "cda4224a-b762-468f-f032-cb3b48156ce9",
        "colab": {
          "base_uri": "https://localhost:8080/"
        }
      },
      "source": [
        "def fizzbuzz(num):\n",
        "    return num\n",
        " \n",
        "for num in range(1, 101):\n",
        "    print(fizzbuzz(num))"
      ],
      "execution_count": 15,
      "outputs": [
        {
          "output_type": "stream",
          "text": [
            "1\n",
            "2\n",
            "3\n",
            "4\n",
            "5\n",
            "6\n",
            "7\n",
            "8\n",
            "9\n",
            "10\n",
            "11\n",
            "12\n",
            "13\n",
            "14\n",
            "15\n",
            "16\n",
            "17\n",
            "18\n",
            "19\n",
            "20\n",
            "21\n",
            "22\n",
            "23\n",
            "24\n",
            "25\n",
            "26\n",
            "27\n",
            "28\n",
            "29\n",
            "30\n",
            "31\n",
            "32\n",
            "33\n",
            "34\n",
            "35\n",
            "36\n",
            "37\n",
            "38\n",
            "39\n",
            "40\n",
            "41\n",
            "42\n",
            "43\n",
            "44\n",
            "45\n",
            "46\n",
            "47\n",
            "48\n",
            "49\n",
            "50\n",
            "51\n",
            "52\n",
            "53\n",
            "54\n",
            "55\n",
            "56\n",
            "57\n",
            "58\n",
            "59\n",
            "60\n",
            "61\n",
            "62\n",
            "63\n",
            "64\n",
            "65\n",
            "66\n",
            "67\n",
            "68\n",
            "69\n",
            "70\n",
            "71\n",
            "72\n",
            "73\n",
            "74\n",
            "75\n",
            "76\n",
            "77\n",
            "78\n",
            "79\n",
            "80\n",
            "81\n",
            "82\n",
            "83\n",
            "84\n",
            "85\n",
            "86\n",
            "87\n",
            "88\n",
            "89\n",
            "90\n",
            "91\n",
            "92\n",
            "93\n",
            "94\n",
            "95\n",
            "96\n",
            "97\n",
            "98\n",
            "99\n",
            "100\n"
          ],
          "name": "stdout"
        }
      ]
    },
    {
      "cell_type": "markdown",
      "metadata": {
        "id": "f1ZgDSTJeF2b"
      },
      "source": [
        "実行すると1から100までの数字が表示されます。\n",
        "\n",
        "数字を順番に使って処理したい場合、組み込み関数 range() が便利です。\n",
        "\n",
        "range(1, 101)のように記述すると、1から100までの数字を順番に得ることができ、\n",
        "\n",
        "結果として fizzbuzz() 関数には1 から100までの数字が順に与えられています。\n",
        "\n",
        "現時点の fizzbuzz() 関数は与えられた引数をそのまま返す実装なので、これで問題ありません。"
      ]
    },
    {
      "cell_type": "markdown",
      "metadata": {
        "id": "NpOKQ5c7eNJc"
      },
      "source": [
        "for文は次のように書きます。\n",
        "\n",
        "```\n",
        "for ＜変数名＞ in ＜シーケンス＞:\n",
        "```\n",
        "\n",
        "＜変数名＞ にはループ内で繰り返される変数名、 ＜シーケンス＞ には繰り返しのための変数（繰返し可能な型(シーケンス)のオブジェクト）を書きます。\n",
        "\n",
        "リスト 2.12 では、繰り返される変数 num が fizzbuzz() 関数に渡されています。\n",
        "\n",
        "繰り返しのための変数は range(1, 101) の実行結果（1から100までのイテレータ）です。\n",
        "\n",
        "関数の結果として数値が順番に返され、ひとつひとつの数字が繰り返し用の変数（num）に渡され、 for のブロックが実行されます"
      ]
    },
    {
      "cell_type": "markdown",
      "metadata": {
        "id": "hwDqF8Hqgfta"
      },
      "source": [
        "### 2.2.3. if文\n",
        "\n",
        "FizzBuzzの処理を作るには、引数の数字（num）に応じて処理を分岐する必要があります。\n",
        "\n",
        "処理の流れとしては次のようになります。\n",
        "\n",
        "引数 num を受け取る\n",
        "\n",
        "num と3の剰余が0（3で割り切れる）、かつ num と5の剰余が0である（5で割り切れる）場合に、 'FizzBuzz' を返す\n",
        "\n",
        "num と3の剰余が0の場合に、 'Fizz' を返す\n",
        "\n",
        "num と5の剰余が0の場合に、 'Buzz' を返す\n",
        "\n",
        "2〜4のどれでもない場合、引数 num を文字列にして返す\n",
        "\n",
        "Pythonで条件による処理の分岐を扱うにはif文を使います。"
      ]
    },
    {
      "cell_type": "markdown",
      "metadata": {
        "id": "OAO2V7Fygpvh"
      },
      "source": [
        "fizzbuzz() 関数は、 以下ののようになります。\n",
        "\n",
        "```\n",
        "def fizzbuzz(num):\n",
        "    if num % 3 == 0 and num % 5 == 0:\n",
        "        return 'FizzBuzz'\n",
        "    elif num % 3 == 0:\n",
        "        return 'Fizz'\n",
        "    elif num % 5 == 0:\n",
        "        return 'Buzz'\n",
        "    else:\n",
        "        return str(num)\n",
        "\n",
        "for num in range(1, 101):\n",
        "    print(fizzbuzz(num))\n",
        "```\n",
        "（コードを書いて実際に動かしてみよう。）"
      ]
    },
    {
      "cell_type": "code",
      "metadata": {
        "id": "4nKyrvOTeIZe",
        "outputId": "ce0517ec-8340-4f27-89c1-f6cf7ed8d230",
        "colab": {
          "base_uri": "https://localhost:8080/"
        }
      },
      "source": [
        "def fizzbuzz(num):\n",
        "    if num % 3 == 0 and num % 5 == 0:\n",
        "        return 'FizzBuzz'\n",
        "    elif num % 3 == 0:\n",
        "        return 'Fizz'\n",
        "    elif num % 5 == 0:\n",
        "        return 'Buzz'\n",
        "    else:\n",
        "        return str(num)\n",
        " \n",
        "for num in range(1, 101):\n",
        "    print(fizzbuzz(num))"
      ],
      "execution_count": 16,
      "outputs": [
        {
          "output_type": "stream",
          "text": [
            "1\n",
            "2\n",
            "Fizz\n",
            "4\n",
            "Buzz\n",
            "Fizz\n",
            "7\n",
            "8\n",
            "Fizz\n",
            "Buzz\n",
            "11\n",
            "Fizz\n",
            "13\n",
            "14\n",
            "FizzBuzz\n",
            "16\n",
            "17\n",
            "Fizz\n",
            "19\n",
            "Buzz\n",
            "Fizz\n",
            "22\n",
            "23\n",
            "Fizz\n",
            "Buzz\n",
            "26\n",
            "Fizz\n",
            "28\n",
            "29\n",
            "FizzBuzz\n",
            "31\n",
            "32\n",
            "Fizz\n",
            "34\n",
            "Buzz\n",
            "Fizz\n",
            "37\n",
            "38\n",
            "Fizz\n",
            "Buzz\n",
            "41\n",
            "Fizz\n",
            "43\n",
            "44\n",
            "FizzBuzz\n",
            "46\n",
            "47\n",
            "Fizz\n",
            "49\n",
            "Buzz\n",
            "Fizz\n",
            "52\n",
            "53\n",
            "Fizz\n",
            "Buzz\n",
            "56\n",
            "Fizz\n",
            "58\n",
            "59\n",
            "FizzBuzz\n",
            "61\n",
            "62\n",
            "Fizz\n",
            "64\n",
            "Buzz\n",
            "Fizz\n",
            "67\n",
            "68\n",
            "Fizz\n",
            "Buzz\n",
            "71\n",
            "Fizz\n",
            "73\n",
            "74\n",
            "FizzBuzz\n",
            "76\n",
            "77\n",
            "Fizz\n",
            "79\n",
            "Buzz\n",
            "Fizz\n",
            "82\n",
            "83\n",
            "Fizz\n",
            "Buzz\n",
            "86\n",
            "Fizz\n",
            "88\n",
            "89\n",
            "FizzBuzz\n",
            "91\n",
            "92\n",
            "Fizz\n",
            "94\n",
            "Buzz\n",
            "Fizz\n",
            "97\n",
            "98\n",
            "Fizz\n",
            "Buzz\n"
          ],
          "name": "stdout"
        }
      ]
    },
    {
      "cell_type": "markdown",
      "metadata": {
        "id": "oXF6bxKLhbAh"
      },
      "source": [
        "紹介していない要素がいくつか登場しています。\n",
        "\n",
        "**if 文**\n",
        "\n",
        "if 文は、条件に与えられた式が真と評価できる場合に、 if ブロックの処理を実行します。\n",
        "\n",
        "elif 文は、 if 文の条件が偽の場合に、追加の条件を与えます。追加の条件が真の場合に、 elif ブロックの処理を実行します。\n",
        "\n",
        "else ブロックは、どの条件にも当てはまらない場合に実行されます。\n",
        "\n",
        "**演算子**\n",
        "\n",
        "== は比較演算子の1つで、左辺と右辺が値が同じ場合に真（True） を返します。それ以外の場合には偽（False）を返します。\n",
        "\n",
        "and はブール演算子の1つで、左右の条件が True の場合に True を返します（より正確には、左の条件が真と評価できる場合に右を評価して結果を返します）。\n",
        "\n",
        "**str() 関数**\n",
        "\n",
        "引数を文字列に変換して返します。"
      ]
    },
    {
      "cell_type": "markdown",
      "metadata": {
        "id": "gPHjW4cffkUz"
      },
      "source": [
        "# 参考文献\n",
        "\n",
        "このテキストはPython Boot Campのチュートリアル（クリエイティブ・コモンズ　ライセンス）を参考に作成しています。\n",
        "\n",
        "https://pycamp.pycon.jp/organize/0_about.html"
      ]
    }
  ]
}
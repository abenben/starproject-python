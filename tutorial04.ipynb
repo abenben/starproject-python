{
  "nbformat": 4,
  "nbformat_minor": 0,
  "metadata": {
    "colab": {
      "name": " tutorial05.ipynb",
      "provenance": [],
      "collapsed_sections": [],
      "toc_visible": true,
      "include_colab_link": true
    },
    "kernelspec": {
      "name": "python3",
      "display_name": "Python 3"
    }
  },
  "cells": [
    {
      "cell_type": "markdown",
      "metadata": {
        "id": "view-in-github",
        "colab_type": "text"
      },
      "source": [
        "<a href=\"https://colab.research.google.com/github/abenben/starproject-python/blob/master/tutorial05.ipynb\" target=\"_parent\"><img src=\"https://colab.research.google.com/assets/colab-badge.svg\" alt=\"Open In Colab\"/></a>"
      ]
    },
    {
      "cell_type": "markdown",
      "metadata": {
        "id": "vGWEolnGYIUx",
        "colab_type": "text"
      },
      "source": [
        "**Python基礎講座（4日目）**\n",
        "\n",
        "* [「Python・ブロックチェーン講座」の日程](https://www.facebook.com/photo.php?fbid=1186715631679052&set=gm.752573365315679&type=3&theater&ifg=1)"
      ]
    },
    {
      "cell_type": "markdown",
      "metadata": {
        "id": "lyPRjmkAkvEs",
        "colab_type": "text"
      },
      "source": [
        "---\n",
        "---\n",
        "----\n",
        "# 前回学んだこと\n",
        "---\n",
        "---\n",
        "---"
      ]
    },
    {
      "cell_type": "markdown",
      "metadata": {
        "id": "zKEvQy3qkx7o",
        "colab_type": "text"
      },
      "source": [
        "\n",
        "## 講義のチュートリアル、講義の一覧\n",
        "\n",
        "* 前回（3日目のチュートリアル）\n",
        " * https://github.com/abenben/starproject-python/blob/master/tutorial04.ipynb\n",
        "\n",
        "* [講義の一覧](https://github.com/abenben/starproject-python#3%E3%83%81%E3%83%A5%E3%83%BC%E3%83%88%E3%83%AA%E3%82%A2%E3%83%AB)\n"
      ]
    },
    {
      "cell_type": "markdown",
      "metadata": {
        "id": "GFuFKxqGkz0I",
        "colab_type": "text"
      },
      "source": [
        "## 前回講義のトピック\n",
        "\n",
        "### データ構造（コレクション）\n",
        "\n",
        "* リスト\n",
        "* タプル\n",
        "* セット（集合）\n",
        "* 辞書\n",
        "* numpy\n",
        "*　その他\n",
        "    * グラフ（mathplotlib）の表示\n",
        "    * 乱数の生成\n",
        "\n",
        "### 関数\n",
        "\n",
        "* 関数の作成\n",
        "* 関数の引数\n",
        "* 関数の戻り値"
      ]
    },
    {
      "cell_type": "markdown",
      "metadata": {
        "id": "hx_q8Fk2ijUi",
        "colab_type": "text"
      },
      "source": [
        "---\n",
        "---\n",
        "---\n",
        "# イベントご案内\n",
        "---\n",
        "---\n",
        "---\n",
        "\n",
        "* Pythonイベント(1)\n",
        "    * 2020.10.14(水) 19:00-21:00\n",
        "    * 『みんなのPython勉強会#62』\n",
        "    * https://startpython.connpass.com/event/187062\n",
        "* ブロックチェーンイベント(1)\n",
        "    * 2020.10.13(火) 19:00-21:00\n",
        "    * STARプロジェクトブロックチェーン講義 Vol.2\n",
        "    * タイトル：『（仮）ブロックチェーンビジネス、トークンエコノミー』\n",
        "    * 講師： [株式会社アヤナス](https://www.ayanasu.co/) 代表取締役 川本栄介\n",
        "    * （紹介はSTARプロジェクトFacebookから後日案内します）\n",
        "* フィンテック・金融イベント(1)\n",
        "    * 地方創生と地方金融（企画中）\n",
        "* その他イベント(1)\n",
        "    * 2020.09.30(水) 19:30-21:30\n",
        "    * カテゴリ：デザイン経営\n",
        "    * 『VUCA labo #006 篠原稔和さん「不確実な時代のデザインの役割」』\n",
        "    * https://vucalabo.connpass.com/event/188243/\n",
        "        * (有料ですが若干招待枠があるので個別に連絡下さい。)"
      ]
    },
    {
      "cell_type": "markdown",
      "metadata": {
        "id": "yB-pe2igk_R1",
        "colab_type": "text"
      },
      "source": [
        "---\n",
        "---\n",
        "---\n",
        "# 今日やること（一覧）\n",
        "---\n",
        "---\n",
        "---\n",
        "\n",
        "## 1.ファイル操作\n",
        "\n",
        "* Google Colab特有の前提知識共有\n",
        "* ファイル操作\n",
        "    * ファイル読み込み\n",
        "    * ファイル書き込み\n",
        "\n",
        "## 2.前回までの講義の補足説明\n",
        "\n",
        "*  データ構造\n",
        "    * sum()関数\n",
        "* 関数\n",
        "    * デフォルト引数\n",
        "    * 無名関数\n",
        "\n",
        "## 3.標準ライブラリ（その1）\n",
        "\n",
        "* 標準ライブラリの一覧\n",
        "* OS モジュール\n",
        "* PathLib モジュール\n",
        "* Zip モジュール\n",
        "* 正規表現(re) モジュール\n",
        "* datetime<*復習> モジュール\n",
        "* json モジュール\n",
        "\n",
        "## 4.いろんなファイルの操作\n",
        "\n",
        "* CSVファイル\n",
        "* Excelファイル\n",
        "* PDFファイル\n",
        "* Word,Power Point\n",
        "* Google スプレッドシート"
      ]
    },
    {
      "cell_type": "markdown",
      "metadata": {
        "colab_type": "text",
        "id": "C2oU4zK9lO2n"
      },
      "source": [
        "---\n",
        "---\n",
        "---\n",
        "本日の講義\n",
        "---\n",
        "---\n",
        "---\n",
        "---\n"
      ]
    },
    {
      "cell_type": "markdown",
      "metadata": {
        "id": "BUfkwIDS5qrs",
        "colab_type": "text"
      },
      "source": [
        "# 1.ファイル操作"
      ]
    },
    {
      "cell_type": "markdown",
      "metadata": {
        "colab_type": "text",
        "id": "GkX912ERlTzK"
      },
      "source": [
        "## 1.1 はじめに\n",
        "\n",
        "プログラムにはなんらかの入出力が不可欠です。ここでは入力元、出力先としてファイルを操作する方法を説明します。\n",
        "\n",
        "ファイル操作の手順\n",
        "\n",
        "1. ファイルは必ずオープンする必要がある。\n",
        "\n",
        "2. ファイルを読み込んだり、書き込んだり（または追加）できる。\n",
        "\n",
        "3. ファイルはクローズする必要がある。\n"
      ]
    },
    {
      "cell_type": "markdown",
      "metadata": {
        "colab_type": "text",
        "id": "nPEH__x9toSJ"
      },
      "source": [
        "## 1.2 事前準備（おまじない）\n",
        "\n",
        "事前に講師が準備したファイルをGoogle Colabの環境上にアップロードします。\n",
        "\n",
        "以下のコマンドは、本講義の本題とは関係ありませんが、Web上から何らかのファイルを取得するときの方法としてもご参考下さい。\n",
        "\n",
        "では、さっそく csvファイルやtsvファイルをダウンロードします。以下のコマンドをそれぞれ実行して下さい。\n",
        "\n",
        "```bash\n",
        "▶ !rm store.csv store.tsv sample_word.docx store.xlsx\n",
        "▶ !wget https://github.com/abenben/starproject-python/raw/master/sampledata/tutorial05/sample.txt\n",
        "▶ !wget https://github.com/abenben/starproject-python/raw/master/sampledata/tutorial05/store.csv\n",
        "▶ !wget https://github.com/abenben/starproject-python/raw/master/sampledata/tutorial05/store.tsv\n",
        "▶ !wget https://github.com/abenben/starproject-python/raw/master/sampledata/tutorial05/sample_word.docx\n",
        "▶ !wget https://github.com/abenben/starproject-python/raw/master/sampledata/tutorial05/store.xlsx\n",
        "▶ !wget https://global.toyota/pages/global_toyota/ir/library/securities-report/archives/archives_2020_03.pdf\n",
        "▶ !ls\n",
        "sample_data store.csv store.tsv store.xlsx sample_word.docx\n",
        "```\n",
        "（そのまま以下のコマンドを実行してください）"
      ]
    },
    {
      "cell_type": "code",
      "metadata": {
        "id": "3teBhUKXr-cc",
        "colab_type": "code",
        "colab": {}
      },
      "source": [
        "!rm sample.txt store.csv store.tsv sample_word.docx store.xlsx\n",
        "!wget https://github.com/abenben/starproject-python/raw/master/sampledata/tutorial05/sample.txt\n",
        "!wget https://github.com/abenben/starproject-python/raw/master/sampledata/tutorial05/store.csv\n",
        "!wget https://github.com/abenben/starproject-python/raw/master/sampledata/tutorial05/store.tsv\n",
        "!wget https://github.com/abenben/starproject-python/raw/master/sampledata/tutorial05/sample_word.docx\n",
        "!wget https://github.com/abenben/starproject-python/raw/master/sampledata/tutorial05/store.xlsx\n",
        "!wget https://global.toyota/pages/global_toyota/ir/library/securities-report/archives/archives_2020_03.pdf\n",
        "!ls"
      ],
      "execution_count": null,
      "outputs": []
    },
    {
      "cell_type": "markdown",
      "metadata": {
        "id": "nrzmOSIgDDKg",
        "colab_type": "text"
      },
      "source": [
        "## 1.3 ファイルの読み込み"
      ]
    },
    {
      "cell_type": "markdown",
      "metadata": {
        "id": "DjzVdGun6j-W",
        "colab_type": "text"
      },
      "source": [
        "### 1.3.1 ファイル全体をまとめて読み込む\n",
        "\n",
        "**read()メソッド**\n",
        "\n",
        "```python\n",
        "▶ f = open('sample.txt')\n",
        "▶ data = f.read()\n",
        "▶ print(data)\n",
        "▶ f.close()\n",
        "（ファイルの内容が表示）\n",
        "```\n",
        "[テキスト](https://github.com/abenben/starproject-python/blob/master/sampledata/tutorial05/sample.txt)の内容が表示されます。\n",
        "\n",
        "（コードを書いて実際に確認してみよう）"
      ]
    },
    {
      "cell_type": "code",
      "metadata": {
        "id": "4dOv7Wch_HYH",
        "colab_type": "code",
        "colab": {}
      },
      "source": [
        "# （ここに記述）"
      ],
      "execution_count": null,
      "outputs": []
    },
    {
      "cell_type": "markdown",
      "metadata": {
        "colab_type": "text",
        "id": "JYNKaPgxEGyZ"
      },
      "source": [
        "### 1.3.2 テキストファイルを1行だけ読み込む\n",
        "\n",
        "**readline()メソッド**\n",
        "\n",
        "```python\n",
        "▶ f = open('sample.txt','r')\n",
        "▶ data = f.readline()\n",
        "▶ print(data)\n",
        "▶ f.close()\n",
        "（ファイルの内容が表示）\n",
        "```\n",
        "\n",
        "（コードを書いて実際に確認してみよう）"
      ]
    },
    {
      "cell_type": "code",
      "metadata": {
        "colab_type": "code",
        "id": "CzuFfZaaEeyS",
        "colab": {}
      },
      "source": [
        "# （ここに記述）"
      ],
      "execution_count": null,
      "outputs": []
    },
    {
      "cell_type": "markdown",
      "metadata": {
        "colab_type": "text",
        "id": "cWTamY53EHH_"
      },
      "source": [
        "### 1.3.3 テキストファイルを一気にまとめて読み込む\n",
        "\n",
        "**readlines()メソッド**\n",
        "\n",
        "```python\n",
        "▶ f = open('sample.txt','r')\n",
        "▶ data = f.readlines()\n",
        "▶ print(data)\n",
        "▶ f.close()\n",
        "（ファイルの内容が表示）\n",
        "```\n",
        "\n",
        "（コードを書いて実際に確認してみよう）"
      ]
    },
    {
      "cell_type": "code",
      "metadata": {
        "colab_type": "code",
        "id": "e7HWKJ5jFPtM",
        "colab": {}
      },
      "source": [
        "# （ここに記述）"
      ],
      "execution_count": null,
      "outputs": []
    },
    {
      "cell_type": "markdown",
      "metadata": {
        "colab_type": "text",
        "id": "bgZPqWauEX4_"
      },
      "source": [
        "### 1.3.4 テキストファイルを一行ずつ読み込む\n",
        "\n",
        "**ストリーム**\n",
        "\n",
        "```python\n",
        "▶ f = open('sample.txt')\n",
        "▶ for line in f:\n",
        "▶     print(line.strip())\n",
        "▶ f.close()\n",
        "（ファイルの内容が表示）\n",
        "```\n",
        "\n",
        "（コードを書いて実際に確認してみよう）"
      ]
    },
    {
      "cell_type": "code",
      "metadata": {
        "colab_type": "code",
        "id": "616oWc1KEf5U",
        "colab": {}
      },
      "source": [
        "# （ここに記述）"
      ],
      "execution_count": null,
      "outputs": []
    },
    {
      "cell_type": "markdown",
      "metadata": {
        "id": "Zh6YfqGvG-ZC",
        "colab_type": "text"
      },
      "source": [
        "## 1.4 ファイルの書き込み"
      ]
    },
    {
      "cell_type": "markdown",
      "metadata": {
        "id": "6EJbsUgo6ubK",
        "colab_type": "text"
      },
      "source": [
        "## 1.4.1 テキストファイルの新規書き込み\n",
        "\n",
        "open()の引数modeを'w'とすると書き込み用としてファイルが開かれる。\n",
        "\n",
        "**（ファイルの新規書き込み）**\n",
        "\n",
        "```python\n",
        "▶ f = open('hello.txt', mode='w')\n",
        "▶ f.write(\"hello\")\n",
        "▶ f.write(\"hogehoge\")\n",
        "▶ f.close()\n",
        "```\n",
        "（コードを書いて実際に確認してみよう）"
      ]
    },
    {
      "cell_type": "code",
      "metadata": {
        "colab_type": "code",
        "id": "ULGTZqwi83FW",
        "colab": {}
      },
      "source": [
        "# （ここに記述）"
      ],
      "execution_count": null,
      "outputs": []
    },
    {
      "cell_type": "markdown",
      "metadata": {
        "id": "HyAIV7YItPII",
        "colab_type": "text"
      },
      "source": [
        "ファイルの中身を確認すると、\"hello\"と\"hogehoge\"の文字がくっついてるのが確認できる。\n",
        "\n",
        "これだと、わかりずらいですよね。\n",
        "\n",
        "```bash\n",
        "▶ !cat hello.txt\n",
        "hellohogehoge\n",
        "```\n"
      ]
    },
    {
      "cell_type": "code",
      "metadata": {
        "id": "-hLOPkUgtUzV",
        "colab_type": "code",
        "colab": {}
      },
      "source": [
        "# このまま実行しましょう\n",
        "!cat hello.txt"
      ],
      "execution_count": null,
      "outputs": []
    },
    {
      "cell_type": "markdown",
      "metadata": {
        "id": "hu8TP4m_vfUZ",
        "colab_type": "text"
      },
      "source": [
        "open()の引数modeを'w'とすると書き込み用としてファイルが開かれる。\n",
        "\n",
        "**（ファイルの新規書き込み〜改行付き）**\n",
        "\n",
        "```python\n",
        "▶ f = open('hello.txt', mode='w')\n",
        "▶ f.write(\"hello\\n\")\n",
        "▶ f.write(\"hogehoge\\n\")\n",
        "▶ f.close()\n",
        "```\n",
        "（コードを書いて実際に確認してみよう）"
      ]
    },
    {
      "cell_type": "code",
      "metadata": {
        "colab_type": "code",
        "id": "38HBXESJujUx",
        "colab": {}
      },
      "source": [
        "# （ここに記述）"
      ],
      "execution_count": null,
      "outputs": []
    },
    {
      "cell_type": "markdown",
      "metadata": {
        "id": "Ff-U364Bu0u3",
        "colab_type": "text"
      },
      "source": [
        "再びファイルの中身を確認すると、\"hello\"と\"hogehoge\"でそれそれ改行されてます。\n",
        "\n",
        "```bash\n",
        "▶ !cat hello.txt\n",
        "hello\n",
        "hogehoge\n",
        "```\n"
      ]
    },
    {
      "cell_type": "code",
      "metadata": {
        "colab_type": "code",
        "id": "Wlk7Nzicuvq4",
        "colab": {}
      },
      "source": [
        "# このまま実行しましょう\n",
        "!cat hello.txt"
      ],
      "execution_count": null,
      "outputs": []
    },
    {
      "cell_type": "markdown",
      "metadata": {
        "colab_type": "text",
        "id": "DDTbWt0fHGS6"
      },
      "source": [
        "## 1.4.2 テキストファイルの追加書き込み\n",
        "\n",
        "open()の引数modeを'a'とすると追記モードでファイルが開かれる。\n",
        "\n",
        "**（ファイルの追加書き込み）**\n",
        "\n",
        "```python\n",
        "▶ f = open('hello.txt', mode='a')\n",
        "▶ f.write(\"fugafuga\\n\")\n",
        "▶ f.close()\n",
        "```\n",
        "（コードを書いて実際に確認してみよう）"
      ]
    },
    {
      "cell_type": "code",
      "metadata": {
        "colab_type": "code",
        "id": "W_V5AvjJ82b7",
        "colab": {}
      },
      "source": [
        "# （ここに記述）"
      ],
      "execution_count": null,
      "outputs": []
    },
    {
      "cell_type": "markdown",
      "metadata": {
        "id": "eJQVdZ_h8qmb",
        "colab_type": "text"
      },
      "source": [
        "実際にファイルが作成されて、データが追加されているかコマンドで確認してみましょう。"
      ]
    },
    {
      "cell_type": "code",
      "metadata": {
        "id": "ngG7SGCiwUVG",
        "colab_type": "code",
        "colab": {}
      },
      "source": [
        "# このまま実行しましょう\n",
        "!cat hello.txt"
      ],
      "execution_count": null,
      "outputs": []
    },
    {
      "cell_type": "markdown",
      "metadata": {
        "id": "ZjmfqBtRHOjO",
        "colab_type": "text"
      },
      "source": [
        "## 1.5 ファイルクローズ忘れを回避する方法\n",
        "\n",
        "withブロックを使うと、ブロックの終了時に自動的にファイルをクローズしてくれます。\n",
        "\n",
        "コレによって、close()を書き漏らしを回避することができます。"
      ]
    },
    {
      "cell_type": "markdown",
      "metadata": {
        "colab_type": "text",
        "id": "Nkhksqo-Hgdi"
      },
      "source": [
        "\n",
        "```python\n",
        "▶ with open('sample.txt','r') as f:\n",
        "▶     for line in f:\n",
        "▶         print(line.strip())\n",
        "（ファイルの内容が表示）\n",
        "```\n",
        "\n",
        "（コードを書いて実際に確認してみよう）"
      ]
    },
    {
      "cell_type": "code",
      "metadata": {
        "colab_type": "code",
        "id": "NMhHG4PKH8Yq",
        "colab": {}
      },
      "source": [
        "# （ここに記述）"
      ],
      "execution_count": null,
      "outputs": []
    },
    {
      "cell_type": "markdown",
      "metadata": {
        "id": "Ftkd4F8YjxQt",
        "colab_type": "text"
      },
      "source": [
        "---\n",
        "---\n",
        "---\n",
        "---\n",
        "---\n",
        "# 2.前回までの説明での補足"
      ]
    },
    {
      "cell_type": "markdown",
      "metadata": {
        "id": "RM8q6CcLjxds",
        "colab_type": "text"
      },
      "source": [
        "## 2.1 はじめに\n",
        "\n",
        "xxxxxx"
      ]
    },
    {
      "cell_type": "markdown",
      "metadata": {
        "colab_type": "text",
        "id": "EEq-fmhJ09U8"
      },
      "source": [
        "## 2.2 データ構造（コレクション）\n",
        "\n",
        "xxxxxx"
      ]
    },
    {
      "cell_type": "markdown",
      "metadata": {
        "colab_type": "text",
        "id": "u_btiSiY1EJ3"
      },
      "source": [
        "### 2.2.1 len()関数とsum()関数\n",
        "\n",
        "Python言語には配列(リスト)の長さを計算するlen関数と、合計を計算するsum関数が用意されています。\n",
        "\n",
        "これまでlen()関数しか説明してなかったので、sum関数も使ってみましょう。\n",
        "\n",
        "**（1から10のリストを作成する）**\n",
        "\n",
        "```python\n",
        "▶ import numpy as np\n",
        "▶ x = np.arange(1,11).tolist()\n",
        "▶ x\n",
        "[1, 2, 3, 4, 5, 6, 7, 8, 9, 10]\n",
        "```\n",
        "（コードを書いて実際に確認してみよう）"
      ]
    },
    {
      "cell_type": "code",
      "metadata": {
        "id": "84bc0j-JxXCH",
        "colab_type": "code",
        "colab": {}
      },
      "source": [
        "# （ここに記述）"
      ],
      "execution_count": null,
      "outputs": []
    },
    {
      "cell_type": "markdown",
      "metadata": {
        "id": "zgL2qoCVz-Y3",
        "colab_type": "text"
      },
      "source": [
        "len()関数を使うとリストの長さを計算できます。\n",
        "\n",
        "**（リストの長さ）**\n",
        "\n",
        "```python\n",
        "▶ len(x)\n",
        "10\n",
        "```"
      ]
    },
    {
      "cell_type": "code",
      "metadata": {
        "id": "qlgtgN4w0D0O",
        "colab_type": "code",
        "colab": {}
      },
      "source": [
        "# （ここに記述）"
      ],
      "execution_count": null,
      "outputs": []
    },
    {
      "cell_type": "markdown",
      "metadata": {
        "colab_type": "text",
        "id": "JzGNr50E0fUU"
      },
      "source": [
        "sum()関数を使うとリストの合計値を計算できます。\n",
        "\n",
        "（リストの合計を計算）\n",
        "\n",
        "```python\n",
        "▶ sum(x)\n",
        "55\n",
        "```"
      ]
    },
    {
      "cell_type": "code",
      "metadata": {
        "colab_type": "code",
        "id": "nX8Ahj-y0o9S",
        "colab": {}
      },
      "source": [
        "# （ここに記述）"
      ],
      "execution_count": null,
      "outputs": []
    },
    {
      "cell_type": "markdown",
      "metadata": {
        "id": "pZ8aM1kp0-vT",
        "colab_type": "text"
      },
      "source": [
        "平均を計算する。\n",
        "\n",
        "$$\n",
        "\\overline{x} =　 \\frac{1}{N} \\sum_{i=1}^{N}x_{i}\n",
        "$$\n",
        "\n",
        "（平均＝合計÷数）\n",
        "```python\n",
        "▶ sum(x) / len(x)\n",
        "5.5\n",
        "```"
      ]
    },
    {
      "cell_type": "code",
      "metadata": {
        "id": "GoP4yjZr3dU_",
        "colab_type": "code",
        "colab": {}
      },
      "source": [
        "# （ここに記述）"
      ],
      "execution_count": null,
      "outputs": []
    },
    {
      "cell_type": "markdown",
      "metadata": {
        "colab_type": "text",
        "id": "PtS3lhVw09iS"
      },
      "source": [
        "## 2.3 関数\n",
        "\n",
        "前回のチュートリアルでは関数を学びました。そこでは関数に引数を指定する方法と、戻り値を返す方法まで紹介しました。今回は引数を省略したり、特定の引数だけに値を設定する方法と、名前を持たない関数を準備する方法を紹介します。"
      ]
    },
    {
      "cell_type": "markdown",
      "metadata": {
        "colab_type": "text",
        "id": "UwQT_tqN1iUo"
      },
      "source": [
        "### 2.3.1 デフォルト引数\n",
        "\n",
        "\n",
        "引数を受け取るように設定した関数で、仮引数に対してデフォルト値を設定しておくと関数を呼び出す時に引数を省略することができます。\n",
        "\n",
        "さらに引数を指定して関数を呼び出す時に、値だけを指定するのではなく関数側で定義されている仮引数の名前を使って 仮引数の名前=値 の形式で指定することができます。このような形式をキーワード引数と呼びます。\n",
        "\n",
        "ここでは引数にデフォルト値やキーワード引数と値を設定する方法について解説します。\n",
        "\n",
        "引き数名を指定して、\n",
        "\n",
        "**（デフォルト引数、キーワード引数に値を設定する例）**\n",
        "\n",
        "```python\n",
        "▶ def myfunc(msg = \"Hello\", times=1):\n",
        "▶     print(msg*times)\n",
        "▶ myfunc()                         #デフォルト値を利用\n",
        "▶ myfunc(\"こんにちは\")\n",
        "▶ myfunc(times=3)                 # キーワード引数で値を指定\n",
        "▶ myfunc(times=5, msg=\"はーい！\")  # キーワード引数で値を指定（引数の順番通りでなくてもOK）\n",
        "Hello\n",
        "こんにちは\n",
        "HelloHelloHello\n",
        "はーい！はーい！はーい！はーい！はーい！\n",
        "```\n",
        "\n",
        "（コードを書いて実際に確認してみよう）"
      ]
    },
    {
      "cell_type": "code",
      "metadata": {
        "id": "gay5vc38HNZA",
        "colab_type": "code",
        "colab": {}
      },
      "source": [
        "# （ここに記述）"
      ],
      "execution_count": null,
      "outputs": []
    },
    {
      "cell_type": "markdown",
      "metadata": {
        "colab_type": "text",
        "id": "MqQ9JAsF1ig4"
      },
      "source": [
        "### 2.3.2 無名関数\n",
        "\n",
        "Pythonではdef文で関数を定義するが、lambda（ラムダ式）で名前を持たない無名関数を作成することもできる。\n",
        "\n",
        "lambdaは引数として関数（呼び出し可能なオブジェクト）を指定する場合などに使うと便利です。\n",
        "\n",
        "【def文とlambda式の対応関係】\n",
        "\n",
        "def文による関数定義とそれに相当するラムダ式での無名関数の対応関係は以下のようになります。\n",
        "\n",
        "便宜上、ラムダ式に名前を割り当ててますが、実際には名前をつけることは非推奨となっています。\n",
        "\n",
        "```python\n",
        "def 名前(引数, 引数, ...):\n",
        "    return 式\n",
        "\n",
        "名前 = lambda 引数, 引数, ...: 式\n",
        "```\n",
        "\n",
        "**（def分とlambdaの対応関係）**\n",
        "\n",
        "```python\n",
        "▶ # def関数\n",
        "▶ def add_def(a, b=1):\n",
        "▶     return a + b\n",
        "▶ \n",
        "▶ # lambda\n",
        "▶ add_lambda = lambda a, b=1: a + b\n",
        "▶ \n",
        "▶ print(add_def(3, 4))\n",
        "▶ print(add_def(3))\n",
        "▶ print(add_lambda(3, 4))\n",
        "▶ print(add_lambda(3))\n",
        "7\n",
        "4\n",
        "7\n",
        "4\n",
        "```\n",
        "（コードを書いて実際に確認してみよう）"
      ]
    },
    {
      "cell_type": "code",
      "metadata": {
        "id": "Mg2BXJYINAhw",
        "colab_type": "code",
        "colab": {}
      },
      "source": [
        "# （ここに記述）"
      ],
      "execution_count": null,
      "outputs": []
    },
    {
      "cell_type": "markdown",
      "metadata": {
        "id": "psUrlqN3P8_5",
        "colab_type": "text"
      },
      "source": [
        "#### (1) 無名関数の使い道1（コレクションをまとめて編集）\n",
        "\n",
        "map関数は、配列オブジェクト内のすべての要素に関数処理を適用するものです。ここの関数処理をLambdaとして準備します。\n",
        "\n",
        "メリットとしては、いちいち関数の名前をつけなくてもいいことです。\n",
        "\n",
        "**map関数の作成例**\n",
        "\n",
        "```python\n",
        "▶ or s in map(lambda i: \"No.\" + str(i), range(1,11)):\n",
        "▶     print(s, end=\"  \")\n",
        "No.1  No.2  No.3  No.4  No.5  No.6  No.7  No.8  No.9  No.10  \n",
        "```\n",
        "（コードを書いて実際に確認してみよう）"
      ]
    },
    {
      "cell_type": "code",
      "metadata": {
        "id": "FZDpxFH1QYwJ",
        "colab_type": "code",
        "colab": {}
      },
      "source": [
        "# （ここに記述）"
      ],
      "execution_count": null,
      "outputs": []
    },
    {
      "cell_type": "markdown",
      "metadata": {
        "id": "Cid4l2cyQGau",
        "colab_type": "text"
      },
      "source": [
        "#### (2) 無名関数の使い道2（コレクションをフィルターする）\n",
        "\n",
        "filter関数はリストから条件にあった要素のみを取り出すものです。条件の判定する関数処理を準備しますが、Lambdaとして準備します。\n",
        "\n",
        "メリットとしては、いちいち関数の名前をつけなくてもいいことです。\n",
        "\n",
        "**map関数の作成例**\n",
        "\n",
        "```python\n",
        "▶ for s in filter(lambda i: i % 2 == 0, range(1,11)):\n",
        "▶     print(s, end=\"  \")\n",
        "2  4  6  8  10  \n",
        "```\n",
        "（コードを書いて実際に確認してみよう）"
      ]
    },
    {
      "cell_type": "code",
      "metadata": {
        "id": "bWPduMKLQwJd",
        "colab_type": "code",
        "colab": {}
      },
      "source": [
        "# （ここに記述）"
      ],
      "execution_count": null,
      "outputs": []
    },
    {
      "cell_type": "markdown",
      "metadata": {
        "colab_type": "text",
        "id": "kXUYhd4vlPki"
      },
      "source": [
        "---\n",
        "---\n",
        "---\n",
        "---\n",
        "---\n",
        "# 3.標準ライブラリ"
      ]
    },
    {
      "cell_type": "markdown",
      "metadata": {
        "colab_type": "text",
        "id": "d0gA8loWlUMq"
      },
      "source": [
        "## 3.1 はじめに\n",
        "\n",
        "pythonには非常に多くの標準ライブラリが備わっています。\n",
        "\n",
        "今回はその中から、よく使いそうなものを少しだ抜粋して紹介します。"
      ]
    },
    {
      "cell_type": "markdown",
      "metadata": {
        "id": "sCKkWAtL4p6K",
        "colab_type": "text"
      },
      "source": [
        "## 3.2 標準ライブラリの一覧\n",
        "\n",
        "Pythonのリファレンスに、標準ライブラリが全て載ってるがたくさんありすぎて紹介しきれない。\n",
        "\n",
        "[標準ライブラリの一覧](https://docs.python.org/ja/3/library/index.html)"
      ]
    },
    {
      "cell_type": "markdown",
      "metadata": {
        "id": "kbeT6ctT5BHi",
        "colab_type": "text"
      },
      "source": [
        "## 3.3  OS モジュール\n"
      ]
    },
    {
      "cell_type": "markdown",
      "metadata": {
        "id": "l8lRHCQq7pTN",
        "colab_type": "text"
      },
      "source": [
        "\n",
        "osモジュールはオペレーションシステムに関連する処理を集めたものです。\n",
        "\n",
        "ファイルやフォルダ、プロセスなどの情報を参照したり、操作します。\n",
        "\n",
        "**（OSライブラリのインポート）**\n",
        "\n",
        "```python\n",
        "▶ import os\n",
        "```\n",
        "（コードを書いて実際に確認してみよう）"
      ]
    },
    {
      "cell_type": "code",
      "metadata": {
        "id": "BJwDioEWaqaW",
        "colab_type": "code",
        "colab": {}
      },
      "source": [
        "import os"
      ],
      "execution_count": null,
      "outputs": []
    },
    {
      "cell_type": "markdown",
      "metadata": {
        "id": "76OPkRGpE9nm",
        "colab_type": "text"
      },
      "source": [
        "【ファイルの存在チェック】\n",
        "\n",
        "```python\n",
        "▶ print(\"exists() : \",os.path.exists(\"hello.txt\"))\n",
        "exists() True\n",
        "```\n",
        "（コードを書いて実際に確認してみよう）"
      ]
    },
    {
      "cell_type": "code",
      "metadata": {
        "id": "mlFUnWaBa1ev",
        "colab_type": "code",
        "colab": {}
      },
      "source": [
        "#ここにコードを記述"
      ],
      "execution_count": null,
      "outputs": []
    },
    {
      "cell_type": "markdown",
      "metadata": {
        "id": "sxiN_qdtLdsV",
        "colab_type": "text"
      },
      "source": [
        "【ファイルなのか、フォルダなのかのチェック】\n",
        "\n",
        "```python\n",
        "▶ print(\"isfile() : \",os.path.isfile(\"hello.txt\"))\n",
        "▶ print(\"isdir() : \",os.path.isdir(\"sample_data\"))\n",
        "isfile() :  True\n",
        "isdir() :  True\n",
        "```\n",
        "（コードを書いて実際に確認してみよう）"
      ]
    },
    {
      "cell_type": "code",
      "metadata": {
        "id": "lD9m8x6Ka94S",
        "colab_type": "code",
        "colab": {}
      },
      "source": [
        "#ここにコードを記述"
      ],
      "execution_count": null,
      "outputs": []
    },
    {
      "cell_type": "markdown",
      "metadata": {
        "id": "xjtuW0CcLFqD",
        "colab_type": "text"
      },
      "source": [
        "【フォルダ名とパスを分割】\n",
        "\n",
        "```python\n",
        "▶ dir_path_name, file_name = os.path.split(\"./sample_data/mnist_test.csv\")\n",
        "▶ dir_path_name, file_name\n",
        "('./sample_data', 'mnist_test.csv')\n",
        "```\n",
        "（コードを書いて実際に確認してみよう）"
      ]
    },
    {
      "cell_type": "code",
      "metadata": {
        "id": "73Xj9sAvbtPS",
        "colab_type": "code",
        "colab": {}
      },
      "source": [
        "# ここにコードを記述"
      ],
      "execution_count": null,
      "outputs": []
    },
    {
      "cell_type": "markdown",
      "metadata": {
        "id": "0nTYWz_P5BqH",
        "colab_type": "text"
      },
      "source": [
        "## 3.4  PathLib モジュール\n"
      ]
    },
    {
      "cell_type": "markdown",
      "metadata": {
        "colab_type": "text",
        "id": "NgTY5ORb7717"
      },
      "source": [
        "\n",
        "PathLibはファイルやディレクトリのパス情報を加工したり、チェック（存在チェックなど）できる機能です。\n",
        "\n",
        "パスに関するいろいろなことができますが、今回のサンプルではカレントパス上のファイルやフォルダの一覧を表示してましょう。\n",
        "\n",
        "**（PathLibライブラリのインポート）**\n",
        "\n",
        "```python\n",
        "▶ import pathlib\n",
        "```\n",
        "（コードを書いて実際に確認してみよう）"
      ]
    },
    {
      "cell_type": "code",
      "metadata": {
        "id": "nIP3RrRychyn",
        "colab_type": "code",
        "colab": {}
      },
      "source": [
        "import pathlib"
      ],
      "execution_count": null,
      "outputs": []
    },
    {
      "cell_type": "markdown",
      "metadata": {
        "id": "dfVxlAZEHQEA",
        "colab_type": "text"
      },
      "source": [
        "**（カレントフォルダ上のファイルやフォルダ名を表示する）**\n",
        "\n",
        "```python\n",
        "▶ p = pathlib.Path('.')\n",
        "▶ for fd in p.iterdir():\n",
        "▶     print(fd)\n",
        ".config\n",
        "sample_word.docx\n",
        "sample.txt\n",
        "hello.txt\n",
        "store.csv\n",
        "store.tsv\n",
        "store.xlsx\n",
        "archives_2020_03.pdf\n",
        "sample_data\n",
        "```\n",
        "（コードを書いて実際に確認してみよう）"
      ]
    },
    {
      "cell_type": "code",
      "metadata": {
        "id": "SEea08p-cp1H",
        "colab_type": "code",
        "colab": {}
      },
      "source": [
        "# （ここに記述）"
      ],
      "execution_count": null,
      "outputs": []
    },
    {
      "cell_type": "markdown",
      "metadata": {
        "id": "UgjLQPvD5FyX",
        "colab_type": "text"
      },
      "source": [
        "## 3.5  Zip モジュール\n"
      ]
    },
    {
      "cell_type": "markdown",
      "metadata": {
        "colab_type": "text",
        "id": "21wF1xyf78ho"
      },
      "source": [
        "\n",
        "ファイルを圧縮したり・解凍する形式にはZip形式があります。\n",
        "\n",
        "zipfileを使うとZip形式への圧縮や解凍が行えます。\n",
        "\n",
        "実際に小さなファイルを使って確認してみましょう。\n",
        "\n",
        "**（Zipfileライブラリのインポート）**\n",
        "\n",
        "```python\n",
        "▶ import zipfile\n",
        "```\n",
        "（コードを書いて実際に確認してみよう）"
      ]
    },
    {
      "cell_type": "code",
      "metadata": {
        "id": "OsMCKdweemZJ",
        "colab_type": "code",
        "colab": {}
      },
      "source": [
        "#ここにコードを記述\n"
      ],
      "execution_count": null,
      "outputs": []
    },
    {
      "cell_type": "markdown",
      "metadata": {
        "colab_type": "text",
        "id": "IE3gUVoxHyUp"
      },
      "source": [
        "続いて圧縮対象になるファイルを準備しましょう。\n",
        "\n",
        "今回は1行程度のファイルを2種類用意します。\n",
        "\n",
        "```bash\n",
        "▶ !echo \"test1 hello\" > ./test1.txt\n",
        "▶ !echo \"test2 こんにちは\" > ./test2.txt\n",
        "```\n",
        "（このまま実行してください）"
      ]
    },
    {
      "cell_type": "code",
      "metadata": {
        "id": "T1iEAyg9HzlJ",
        "colab_type": "code",
        "colab": {}
      },
      "source": [
        "!echo \"test1 hello\" > ./test1.txt\n",
        "!echo \"test2 こんにちは\" > ./test2.txt"
      ],
      "execution_count": null,
      "outputs": []
    },
    {
      "cell_type": "markdown",
      "metadata": {
        "colab_type": "text",
        "id": "wyzWFCBgIcsF"
      },
      "source": [
        "今作成したファイルをまとめてZipファイルとして圧縮してみましょう。\n",
        "\n",
        "\n",
        "```python\n",
        "▶ with zipfile.ZipFile('test.zip', 'w') as zf:        #←書き込みモードでファイルを開く\n",
        "▶     zf.write('./test1.txt')        #← 圧縮したいファイルのパスを指定する\n",
        "▶     zf.write('./test2.txt')\n",
        "```\n",
        "（コードを書いて実際に確認してみよう）\n",
        "\n",
        "```\n",
        "# これはコードとして書式設定されます\n",
        "```\n",
        "\n"
      ]
    },
    {
      "cell_type": "code",
      "metadata": {
        "id": "xTMjtY5vIVBS",
        "colab_type": "code",
        "colab": {}
      },
      "source": [
        "#ここにコードを記述"
      ],
      "execution_count": null,
      "outputs": []
    },
    {
      "cell_type": "markdown",
      "metadata": {
        "id": "Pjb4uzGVI9lr",
        "colab_type": "text"
      },
      "source": [
        "実際にZipファイルができているか確認してみましょう。\n",
        "\n",
        "```bash\n",
        "▶ !ls *.zip\n",
        "```\n",
        "（このまま実行してください）"
      ]
    },
    {
      "cell_type": "code",
      "metadata": {
        "id": "yKrCfPdVe33V",
        "colab_type": "code",
        "colab": {}
      },
      "source": [
        "!ls *.zip"
      ],
      "execution_count": null,
      "outputs": []
    },
    {
      "cell_type": "markdown",
      "metadata": {
        "id": "tDoVfaa4JHxW",
        "colab_type": "text"
      },
      "source": [
        "Zipファイルを解凍して、2つともファイルがあるのか確認してみましょう。\n",
        "\n",
        "```bash\n",
        "▶ !unzip test.zip\n",
        "```\n",
        "（このまま実行してください）"
      ]
    },
    {
      "cell_type": "code",
      "metadata": {
        "id": "kgqItgQLe8DL",
        "colab_type": "code",
        "colab": {}
      },
      "source": [
        "!unzip test.zip"
      ],
      "execution_count": null,
      "outputs": []
    },
    {
      "cell_type": "markdown",
      "metadata": {
        "id": "aH2FNafXJQiT",
        "colab_type": "text"
      },
      "source": [
        "いろいろ準備やチェックをして、フォルダの中を汚してしまったので、Zipファイル以外のデータを削除しましょう。\n",
        "\n",
        "```bash\n",
        "▶ !rm test1.txt test2.txt\n",
        "▶ !ls\n",
        "```\n",
        "（このまま実行してください）"
      ]
    },
    {
      "cell_type": "code",
      "metadata": {
        "id": "8_ppjctKfD0f",
        "colab_type": "code",
        "colab": {}
      },
      "source": [
        "!rm -fr test1.txt test2.txt extract_dir\n",
        "!ls"
      ],
      "execution_count": null,
      "outputs": []
    },
    {
      "cell_type": "markdown",
      "metadata": {
        "id": "qrcb9po4KeGs",
        "colab_type": "text"
      },
      "source": [
        "今度はZipファイルを保存フォルダに解凍してみましょう。\n",
        "\n",
        "**（Zipファイルの解凍）**\n",
        "\n",
        "```python\n",
        "▶ import zipfile\n",
        "▶ \n",
        "▶ with zipfile.ZipFile('test.zip', 'r') as zf:        #←読み込みモードでファイルを開く\n",
        "▶     zf.extractall('extract_dir')\n",
        "```\n",
        "（コードを書いて実際に確認してみよう）\n",
        "\n",
        "```\n",
        "# これはコードとして書式設定されます\n",
        "```"
      ]
    },
    {
      "cell_type": "code",
      "metadata": {
        "id": "25xnbGNsfS4Y",
        "colab_type": "code",
        "colab": {}
      },
      "source": [
        "import zipfile\n",
        "\n",
        "with zipfile.ZipFile('test.zip', 'r') as zf:        #←読み込みモードでファイルを開く\n",
        "    zf.extractall('extract_dir')"
      ],
      "execution_count": null,
      "outputs": []
    },
    {
      "cell_type": "markdown",
      "metadata": {
        "id": "DFDX-FboKQ2b",
        "colab_type": "text"
      },
      "source": [
        "実際に指定したフォルダ（extract_dir）にファイルが解凍されているか確認してみましょう。\n",
        "\n",
        "```bash\n",
        "▶ !ls extract_dir\n",
        "```\n",
        "（このまま実行してください）"
      ]
    },
    {
      "cell_type": "code",
      "metadata": {
        "id": "UythgQo4fixk",
        "colab_type": "code",
        "colab": {}
      },
      "source": [
        "!ls extract_dir"
      ],
      "execution_count": null,
      "outputs": []
    },
    {
      "cell_type": "markdown",
      "metadata": {
        "id": "ykP9nZLY5JBV",
        "colab_type": "text"
      },
      "source": [
        "## 3.6  正規表現(re) モジュール\n"
      ]
    },
    {
      "cell_type": "markdown",
      "metadata": {
        "colab_type": "text",
        "id": "deS8EU6979Jf"
      },
      "source": [
        "\n",
        "正規表現についてはこちらを参照\n",
        "\n",
        "**（正規表現の例）**\n",
        "\n",
        "```python\n",
        "▶ import re\n",
        "▶ \n",
        "▶ text = input(f'郵便番号を入力してください: ')\n",
        "▶ match = re.search(r'\\d{3}-\\d{2,4}', text)        #←正規表現にマッチするかを調べる\n",
        "▶ if match is not None:        #←matchがNoneかどうかで正規表現にマッチしたかどうかがわかる\n",
        "▶     postcode = match.group(0)        #←マッチした最初のグループの文字列を取得する\n",
        "▶     print(f'{postcode} は正しい郵便番号のフォーマットです')\n",
        "▶ else:\n",
        "▶     print(f'{text} は正しい郵便番号のフォーマットではありません')\n",
        "郵便番号を入力してください: 123-4567\n",
        "123-4567 は正しい郵便番号のフォーマットです\n",
        "```\n",
        "（今回は写経はせずにこのまま実行してみましょう）"
      ]
    },
    {
      "cell_type": "code",
      "metadata": {
        "id": "kdNKbScPd9s5",
        "colab_type": "code",
        "colab": {}
      },
      "source": [
        "import re\n",
        "\n",
        "text = input(f'郵便番号を入力してください: ')\n",
        "match = re.search(r'\\d{3}-\\d{2,4}', text)        #←正規表現にマッチするかを調べる\n",
        "if match is not None:        #←matchがNoneかどうかで正規表現にマッチしたかどうかがわかる\n",
        "    postcode = match.group(0)        #←マッチした最初のグループの文字列を取得する\n",
        "    print(f'{postcode} は正しい郵便番号のフォーマットです')\n",
        "else:\n",
        "    print(f'{text} は正しい郵便番号のフォーマットではありません')"
      ],
      "execution_count": null,
      "outputs": []
    },
    {
      "cell_type": "markdown",
      "metadata": {
        "colab_type": "text",
        "id": "FdJzO9f5tiaL"
      },
      "source": [
        "---\n",
        "---\n",
        "---\n",
        "---\n",
        "---\n",
        "# 4.いろんなファイルの操作"
      ]
    },
    {
      "cell_type": "markdown",
      "metadata": {
        "colab_type": "text",
        "id": "dMRX7qAktj-H"
      },
      "source": [
        "## 4.1 はじめに\n",
        "\n",
        "pythonにはバイナリファイルやテキスト以外のファイル形式をサポートするライブラリが存在します。\n",
        "\n",
        "ここでは利用頻度の高いcsv（またはtsv）ファイルや、Excel,PDF,WordとGoogleスプレッドシートの操作について学びます。"
      ]
    },
    {
      "cell_type": "markdown",
      "metadata": {
        "id": "71gBidoIvvX5",
        "colab_type": "text"
      },
      "source": [
        "## 4.2 CSVファイル"
      ]
    },
    {
      "cell_type": "markdown",
      "metadata": {
        "colab_type": "text",
        "id": "kZHkEoqm7-8N"
      },
      "source": [
        "CSVファイルを操作するにはpandasライブラリを使うのがお薦めです。\n",
        "\n",
        "今回は、CSVファイルを読み込んで中身を表示してみましょう。\n",
        "\n",
        "**（CSVファイルの読み込み）**\n",
        "\n",
        "```python\n",
        "▶ import pandas as pd\n",
        "▶ df = pd.read_csv('store.csv', encoding='utf-8', header=0) #←先頭行がヘッダー行\n",
        "▶ df\n",
        "店舗名\t期首在庫数\t売上数\t仕入数\n",
        "0\t新宿店\t100\t50\t100\n",
        "1\t池袋店\t500\t200\t1000\n",
        "2\t銀座店\t800\t300\t600\n",
        "3\t秋葉原店\t300\t100\t500\n",
        "4\t大手町店\t700\t200\t1000\n",
        "```\n",
        "（コードを書いて実際に確認してみよう）"
      ]
    },
    {
      "cell_type": "code",
      "metadata": {
        "id": "zZdDpBk4iI6v",
        "colab_type": "code",
        "colab": {}
      },
      "source": [
        "# （ここに記述）"
      ],
      "execution_count": null,
      "outputs": []
    },
    {
      "cell_type": "markdown",
      "metadata": {
        "colab_type": "text",
        "id": "Be_g8q7t7oB_"
      },
      "source": [
        "続いて売上数列の合計を算出してみましょう。\n",
        "\n",
        "今回は、CSVファイルを読み込んで中身を表示してみましょう。\n",
        "\n",
        "**（売り上げ数合計算出）**\n",
        "\n",
        "```python\n",
        "▶sales = sum(df['売上数'])\n",
        "▶print(f'売上数合計: {sales}')\n",
        "売上数合計: 850\n",
        "```\n",
        "（コードを書いて実際に確認してみよう）"
      ]
    },
    {
      "cell_type": "code",
      "metadata": {
        "id": "WLgOHI2uiRUg",
        "colab_type": "code",
        "colab": {}
      },
      "source": [
        "# （ここに記述）"
      ],
      "execution_count": null,
      "outputs": []
    },
    {
      "cell_type": "markdown",
      "metadata": {
        "id": "xz7B-nOPvv0B",
        "colab_type": "text"
      },
      "source": [
        "## 4.3 Excelファイル\n"
      ]
    },
    {
      "cell_type": "markdown",
      "metadata": {
        "colab_type": "text",
        "id": "EjYNUsRw7_U8"
      },
      "source": [
        "Excelファイルを操作するにはopexpyxlライブラリを使います。\n",
        "\n",
        "今回は、Excelのシート名の一覧を取得したり、セルの内容を表示してみましょう。\n",
        "\n",
        "PDFファイルはトヨタ自動車の2020年3月期の有価証券報告書です。\n",
        "\n",
        "**（Excelファイルの内容表示）**\n",
        "\n",
        "```python\n",
        "▶ from openpyxl import load_workbook\n",
        "▶ \n",
        "▶ wb = load_workbook('store.xlsx', read_only=True)        #←ワークブックを読み込む\n",
        "▶ \n",
        "▶ for ws in wb.worksheets:        #←すべてのワークシートの列と行の情報を調べる\n",
        "▶     print(f'ワークシート名: {ws.title}')\n",
        "▶     print(f'- 列の値 最小:{ws.min_column}, 最大:{ws.max_column}')\n",
        "▶     print(f'- 行の値 最小:{ws.min_row}, 最大:{ws.max_row}')\n",
        "▶ \n",
        "▶ ws0 = wb.worksheets[0]        #←最初のワークシートを取得する\n",
        "▶ print(f'{ws0.title} のセルを1行ずつ表示します')\n",
        "▶ for row in ws0:        #←行を読み込む\n",
        "▶     values = [str(column.value) for column in row]        #←列を読み込む\n",
        "▶     print(values)\n",
        "ワークシート名: 売り上げ\n",
        "- 列の値 最小:1, 最大:4\n",
        "- 行の値 最小:1, 最大:6\n",
        "ワークシート名: 社員数\n",
        "- 列の値 最小:1, 最大:2\n",
        "- 行の値 最小:1, 最大:6\n",
        "売り上げ のセルを1行ずつ表示します\n",
        "['店舗名', '期首在庫数', '売上数', '仕入数']\n",
        "['新宿店', '100', '50', '100']\n",
        "['池袋店', '500', '200', '1000']\n",
        "['銀座店', '800', '300', '600']\n",
        "['秋葉原店', '300', '100', '500']\n",
        "['大手町店', '700', '200', '1000']\n",
        "```\n",
        "（コードを書いて実際に確認してみよう）"
      ]
    },
    {
      "cell_type": "code",
      "metadata": {
        "id": "Ezro8w5Ko06N",
        "colab_type": "code",
        "colab": {}
      },
      "source": [
        "# （ここに記述）"
      ],
      "execution_count": null,
      "outputs": []
    },
    {
      "cell_type": "markdown",
      "metadata": {
        "id": "LIekrx-cvwF3",
        "colab_type": "text"
      },
      "source": [
        "## 4.4 PDFファイル"
      ]
    },
    {
      "cell_type": "markdown",
      "metadata": {
        "colab_type": "text",
        "id": "dhuTEkrt8AFE"
      },
      "source": [
        "PDFファイルを操作するにはpdfminerライブラリを使います。\n",
        "\n",
        "今回は、PDFの中からテキストを抽出するサンプルを実行してみましょう。\n",
        "\n",
        "PDFファイルはトヨタ自動車の2020年3月期の有価証券報告書です。\n",
        "\n",
        "**（パッケージをインストール）**\n",
        "\n",
        "```bash\n",
        "▶ !pip install pdfminer.six\n",
        "```\n",
        "（以下のコマンドを実行してパッケージをインストールしてください）"
      ]
    },
    {
      "cell_type": "code",
      "metadata": {
        "id": "c0RNhxur2q_K",
        "colab_type": "code",
        "colab": {}
      },
      "source": [
        "!pip install pdfminer.six"
      ],
      "execution_count": null,
      "outputs": []
    },
    {
      "cell_type": "markdown",
      "metadata": {
        "colab_type": "text",
        "id": "V4dskKTf3L-R"
      },
      "source": [
        "**（PDFからテキストを抽出）**\n",
        "\n",
        "```python\n",
        "▶ import sys\n",
        "▶ from pdfminer.converter import TextConverter\n",
        "▶ from pdfminer.layout import LAParams\n",
        "▶ from pdfminer.pdfdocument import PDFDocument\n",
        "▶ from pdfminer.pdfinterp import PDFResourceManager, PDFPageInterpreter\n",
        "▶ from pdfminer.pdfpage import PDFPage\n",
        "▶ from pdfminer.pdfparser import PDFParser\n",
        "▶ \n",
        "▶ def read_body(f):\n",
        "▶     parser = PDFParser(f)\n",
        "▶     document = PDFDocument(parser)\n",
        "▶     if not document.is_extractable:\n",
        "▶         print(f'このPDF文書はテキスト抽出できません')\n",
        "▶         return\n",
        "▶ \n",
        "▶     resource_manager = PDFResourceManager()\n",
        "▶     device = TextConverter(resource_manager, sys.stdout, codec='utf-8',\n",
        "▶                            laparams=LAParams())\n",
        "▶     interpreter = PDFPageInterpreter(resource_manager, device)\n",
        "▶     for i, page in enumerate(PDFPage.create_pages(document), 1):\n",
        "▶         interpreter.process_page(page)\n",
        "▶ \n",
        "▶     device.close()\n",
        "▶ \n",
        "▶ with open('archives_2020_03.pdf', 'rb') as f:\n",
        "▶         read_body(f)\n",
        "（PDFのテキスト箇所が抽出されます）\n",
        "```\n",
        "（今回は、以下のプログラムを直接実行してみてください）"
      ]
    },
    {
      "cell_type": "code",
      "metadata": {
        "id": "GzoKv8662dG6",
        "colab_type": "code",
        "colab": {}
      },
      "source": [
        "import sys\n",
        "from pdfminer.converter import TextConverter\n",
        "from pdfminer.layout import LAParams\n",
        "from pdfminer.pdfdocument import PDFDocument\n",
        "from pdfminer.pdfinterp import PDFResourceManager, PDFPageInterpreter\n",
        "from pdfminer.pdfpage import PDFPage\n",
        "from pdfminer.pdfparser import PDFParser\n",
        "\n",
        "def read_body(f):\n",
        "    parser = PDFParser(f)\n",
        "    document = PDFDocument(parser)\n",
        "    if not document.is_extractable:\n",
        "        print(f'このPDF文書はテキスト抽出できません')\n",
        "        return\n",
        "\n",
        "    resource_manager = PDFResourceManager()\n",
        "    device = TextConverter(resource_manager, sys.stdout, codec='utf-8',\n",
        "                           laparams=LAParams())\n",
        "    interpreter = PDFPageInterpreter(resource_manager, device)\n",
        "    for i, page in enumerate(PDFPage.create_pages(document), 1):\n",
        "        interpreter.process_page(page)\n",
        "\n",
        "    device.close()\n",
        "\n",
        "with open('archives_2020_03.pdf', 'rb') as f:\n",
        "        read_body(f)"
      ],
      "execution_count": null,
      "outputs": []
    },
    {
      "cell_type": "markdown",
      "metadata": {
        "id": "diRRVMXgvwW8",
        "colab_type": "text"
      },
      "source": [
        "## 4.5 Word"
      ]
    },
    {
      "cell_type": "markdown",
      "metadata": {
        "colab_type": "text",
        "id": "0CDP8_nC8BW4"
      },
      "source": [
        "\n",
        "Wordファイルを操作するにはpython-docxライブラリを使います。\n",
        "\n",
        "今回は、Wordファイルの中からテキストを抽出するサンプルを実行してみましょう。\n",
        "\n",
        "**（パッケージをインストール）**\n",
        "\n",
        "```bash\n",
        "▶ !pip install python-docx\n",
        "```\n",
        "（以下のコマンドを実行してパッケージをインストールしてください）"
      ]
    },
    {
      "cell_type": "code",
      "metadata": {
        "id": "HK-vA5V9i6sR",
        "colab_type": "code",
        "colab": {}
      },
      "source": [
        "!pip install python-docx"
      ],
      "execution_count": null,
      "outputs": []
    },
    {
      "cell_type": "markdown",
      "metadata": {
        "colab_type": "text",
        "id": "a1d0oJBT5mpm"
      },
      "source": [
        "**（Wordファイルの読み込み）**\n",
        "\n",
        "```python\n",
        "▶ import docx\n",
        "▶ doc = docx.Document('sample_word.docx')\n",
        "▶ all_body = '\\n'.join(paragraph.text for paragraph in doc.paragraphs)\n",
        "▶ print(all_body)\n",
        "皆様、お疲れ様です。Python講義のスケジュールについてお知らせします。年内は10回の開催を予定しております。\n",
        "\n",
        "1.\tスケジュール\n",
        "　　　　　　　　　　　　　　：\n",
        "　　　　　　　　　　　　　　：\n",
        "```\n",
        "（コードを書いて実際に確認してみよう）"
      ]
    },
    {
      "cell_type": "code",
      "metadata": {
        "id": "SFGhE3kgjeNI",
        "colab_type": "code",
        "colab": {}
      },
      "source": [
        "# （ここに記述）"
      ],
      "execution_count": null,
      "outputs": []
    },
    {
      "cell_type": "markdown",
      "metadata": {
        "id": "ABWX9Zihvwjg",
        "colab_type": "text"
      },
      "source": [
        "## 4.6 Google スプレッドシート"
      ]
    },
    {
      "cell_type": "markdown",
      "metadata": {
        "colab_type": "text",
        "id": "gzRAS7QQ8C_S"
      },
      "source": [
        "\n",
        "Googleのスプレッドファイルを操作するにはgspredライブラリを使います。\n",
        "\n",
        "今回は、Googleのスプレッドファイルのデータをpandasに取り込むサンプルを実行してみましょう。\n",
        "\n",
        "**（パッケージをインストール）**\n",
        "\n",
        "```bash\n",
        "▶ !!pip install gspread\n",
        "```\n",
        "（コードを書いて実際に確認してみよう）"
      ]
    },
    {
      "cell_type": "code",
      "metadata": {
        "id": "uVaLDRGt451f",
        "colab_type": "code",
        "colab": {}
      },
      "source": [
        "!pip install gspread"
      ],
      "execution_count": null,
      "outputs": []
    },
    {
      "cell_type": "markdown",
      "metadata": {
        "id": "QNOXoePK98hQ",
        "colab_type": "text"
      },
      "source": [
        "**（パッケージをインストール）**\n",
        "\n",
        "```python\n",
        "▶ import gspread\n",
        "```\n",
        "（コードを書いて実際に確認してみよう）"
      ]
    },
    {
      "cell_type": "code",
      "metadata": {
        "id": "0tTNeOsg4-sq",
        "colab_type": "code",
        "colab": {}
      },
      "source": [
        "import gspread"
      ],
      "execution_count": null,
      "outputs": []
    },
    {
      "cell_type": "markdown",
      "metadata": {
        "id": "C6esoiXx-Gwe",
        "colab_type": "text"
      },
      "source": [
        "**おまじない**\n",
        "\n",
        "Google ColabからGoogleスプレッドシートにアクセスするにはまずはGoogle認証が必要になります。\n",
        "\n",
        "以下の処理を実行すると、リンクが表示されるのでクリックを行います。\n",
        "\n",
        "するとアクセス権限の確認ページが表示され、スプレッドシートにアクセスしていいかの承認確認があるので許可してください。\n",
        "\n",
        "許可すると、認証用のコードが生成されたページが表示されるので、このコマンドでコードを入力する欄がでてくるのでそこにコードを入力して承認を得ましょう。\n",
        "\n",
        "**（Google認証）**\n",
        "\n",
        "```python\n",
        "▶ from google.colab import auth\n",
        "▶ from oauth2client.client import GoogleCredentials\n",
        "▶ import gspread\n",
        "▶ import random\n",
        "▶ import pandas as pd\n",
        "▶ \n",
        "▶ auth.authenticate_user()\n",
        "▶ gc = gspread.authorize(GoogleCredentials.get_application_default())\n",
        "Go to the following link in your browser:\n",
        "\n",
        "    https://xxxxxx ←　ここにでてくるURLをクリックしてコードを取得します。\n",
        "\n",
        "\n",
        "Enter verification code: 　[（ここにコードを入力）]\n",
        "```\n",
        "（コードを書いて実際に確認してみよう）"
      ]
    },
    {
      "cell_type": "code",
      "metadata": {
        "id": "K4AM9Z_q5G8A",
        "colab_type": "code",
        "colab": {}
      },
      "source": [
        "# （ここに記述）"
      ],
      "execution_count": null,
      "outputs": []
    },
    {
      "cell_type": "markdown",
      "metadata": {
        "id": "1cJPz0Ok_rm2",
        "colab_type": "text"
      },
      "source": [
        "自分でなにか適当にGoogleスプレッドシートを作成してデータを入力してください。\n",
        "\n",
        "そのGoogleスプレッドシートのURLを指定して、pandasデータに取り込みます。\n",
        "\n",
        "**（Googleスプレッドシートのpandas取り込み）**\n",
        "\n",
        "```python\n",
        "▶ worksheet = gc.open_by_url( ★自分のスプレッドシートのURL★ ).sheet1\n",
        "▶ #worksheet = gc.open_by_url('https://docs.google.com/spreadsheets/d/1YV9L2nvrtA9SCfjoMpvE5H9zgAFNP4X_kA6o8oS36y0/edit').sheet1\n",
        "▶ rows = worksheet.get_all_values()\n",
        "▶ \n",
        "▶ df = pd.DataFrame.from_records(rows)\n",
        "▶ print(df)\n",
        "```"
      ]
    },
    {
      "cell_type": "code",
      "metadata": {
        "id": "cG05NxfG5L9c",
        "colab_type": "code",
        "colab": {}
      },
      "source": [
        "# （ここに記述）"
      ],
      "execution_count": null,
      "outputs": []
    },
    {
      "cell_type": "markdown",
      "metadata": {
        "id": "JRc7jFZ1ZfBh",
        "colab_type": "text"
      },
      "source": [
        "---\n",
        "---\n",
        "---\n",
        "---\n",
        "---\n",
        "---\n",
        "---\n",
        "# 補足 Pythonの公式な言語リファレンス\n",
        "\n",
        "* 公式なマニュアルはこちらですが、内容は難しいので最初はわかりやすい情報や、本などを参考にしましょう。\n",
        "* 英語\n",
        " * https://docs.python.org/3/reference/index.html\n",
        "* 日本語\n",
        " * https://docs.python.org/ja/3/reference/index.html"
      ]
    },
    {
      "cell_type": "code",
      "metadata": {
        "id": "Dy0XMN2kKODY",
        "colab_type": "code",
        "colab": {}
      },
      "source": [
        ""
      ],
      "execution_count": null,
      "outputs": []
    }
  ]
}

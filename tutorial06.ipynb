{
  "nbformat": 4,
  "nbformat_minor": 0,
  "metadata": {
    "colab": {
      "name": " tutorial06.ipynb",
      "provenance": [],
      "collapsed_sections": [],
      "toc_visible": true,
      "include_colab_link": true
    },
    "kernelspec": {
      "name": "python3",
      "display_name": "Python 3"
    }
  },
  "cells": [
    {
      "cell_type": "markdown",
      "metadata": {
        "id": "view-in-github",
        "colab_type": "text"
      },
      "source": [
        "<a href=\"https://colab.research.google.com/github/abenben/starproject-python/blob/master/tutorial06.ipynb\" target=\"_parent\"><img src=\"https://colab.research.google.com/assets/colab-badge.svg\" alt=\"Open In Colab\"/></a>"
      ]
    },
    {
      "cell_type": "markdown",
      "metadata": {
        "id": "vGWEolnGYIUx"
      },
      "source": [
        "**Python基礎講座（5日目）**\n",
        "\n",
        "* [「Python・ブロックチェーン講座」の日程](https://www.facebook.com/photo.php?fbid=1186715631679052&set=gm.752573365315679&type=3&theater&ifg=1)"
      ]
    },
    {
      "cell_type": "markdown",
      "metadata": {
        "id": "C2oU4zK9lO2n"
      },
      "source": [
        "---\n",
        "---\n",
        "---\n",
        "本日の講義\n",
        "---\n",
        "---\n",
        "---\n",
        "---\n"
      ]
    },
    {
      "cell_type": "markdown",
      "metadata": {
        "id": "BUfkwIDS5qrs"
      },
      "source": [
        "# 1.アルゴリズム"
      ]
    },
    {
      "cell_type": "markdown",
      "metadata": {
        "id": "ZjmfqBtRHOjO"
      },
      "source": [
        "## 1.1 ファイルクローズ忘れを回避する方法\n",
        "\n",
        "withブロックを使うと、ブロックの終了時に自動的にファイルをクローズしてくれます。\n",
        "\n",
        "コレによって、close()を書き漏らしを回避することができます。"
      ]
    },
    {
      "cell_type": "markdown",
      "metadata": {
        "id": "Nkhksqo-Hgdi"
      },
      "source": [
        "\n",
        "```python\n",
        "▶ with open('sample.txt','r') as f:\n",
        "▶     for line in f:\n",
        "▶         print(line.strip())\n",
        "（ファイルの内容が表示）\n",
        "```\n",
        "\n",
        "（コードを書いて実際に確認してみよう）"
      ]
    },
    {
      "cell_type": "code",
      "metadata": {
        "id": "NMhHG4PKH8Yq"
      },
      "source": [
        "# （ここに記述）"
      ],
      "execution_count": null,
      "outputs": []
    },
    {
      "cell_type": "markdown",
      "metadata": {
        "id": "kXUYhd4vlPki"
      },
      "source": [
        "---\n",
        "---\n",
        "---\n",
        "---\n",
        "---\n",
        "# 2.数学"
      ]
    },
    {
      "cell_type": "markdown",
      "metadata": {
        "id": "kbeT6ctT5BHi"
      },
      "source": [
        "## 3.3  OS モジュール\n"
      ]
    },
    {
      "cell_type": "markdown",
      "metadata": {
        "id": "l8lRHCQq7pTN"
      },
      "source": [
        "\n",
        "osモジュールはオペレーションシステムに関連する処理を集めたものです。\n",
        "\n",
        "ファイルやフォルダ、プロセスなどの情報を参照したり、操作します。\n",
        "\n",
        "**（OSライブラリのインポート）**\n",
        "\n",
        "```python\n",
        "▶ import os\n",
        "```\n",
        "（コードを書いて実際に確認してみよう）"
      ]
    },
    {
      "cell_type": "code",
      "metadata": {
        "id": "BJwDioEWaqaW"
      },
      "source": [
        "import os"
      ],
      "execution_count": null,
      "outputs": []
    },
    {
      "cell_type": "markdown",
      "metadata": {
        "id": "76OPkRGpE9nm"
      },
      "source": [
        "【ファイルの存在チェック】\n",
        "\n",
        "```python\n",
        "▶ print(\"exists() : \",os.path.exists(\"hello.txt\"))\n",
        "exists() True\n",
        "```\n",
        "（コードを書いて実際に確認してみよう）"
      ]
    },
    {
      "cell_type": "code",
      "metadata": {
        "id": "mlFUnWaBa1ev"
      },
      "source": [
        "#ここにコードを記述"
      ],
      "execution_count": null,
      "outputs": []
    },
    {
      "cell_type": "markdown",
      "metadata": {
        "id": "sxiN_qdtLdsV"
      },
      "source": [
        "【ファイルなのか、フォルダなのかのチェック】\n",
        "\n",
        "```python\n",
        "▶ print(\"isfile() : \",os.path.isfile(\"hello.txt\"))\n",
        "▶ print(\"isdir() : \",os.path.isdir(\"sample_data\"))\n",
        "isfile() :  True\n",
        "isdir() :  True\n",
        "```\n",
        "（コードを書いて実際に確認してみよう）"
      ]
    },
    {
      "cell_type": "code",
      "metadata": {
        "id": "lD9m8x6Ka94S"
      },
      "source": [
        "#ここにコードを記述"
      ],
      "execution_count": null,
      "outputs": []
    },
    {
      "cell_type": "markdown",
      "metadata": {
        "id": "xjtuW0CcLFqD"
      },
      "source": [
        "【フォルダ名とパスを分割】\n",
        "\n",
        "```python\n",
        "▶ dir_path_name, file_name = os.path.split(\"./sample_data/mnist_test.csv\")\n",
        "▶ dir_path_name, file_name\n",
        "('./sample_data', 'mnist_test.csv')\n",
        "```\n",
        "（コードを書いて実際に確認してみよう）"
      ]
    },
    {
      "cell_type": "code",
      "metadata": {
        "id": "73Xj9sAvbtPS"
      },
      "source": [
        "# ここにコードを記述"
      ],
      "execution_count": null,
      "outputs": []
    },
    {
      "cell_type": "markdown",
      "metadata": {
        "id": "0nTYWz_P5BqH"
      },
      "source": [
        "## 3.4  PathLib モジュール\n"
      ]
    },
    {
      "cell_type": "markdown",
      "metadata": {
        "id": "NgTY5ORb7717"
      },
      "source": [
        "\n",
        "PathLibはファイルやディレクトリのパス情報を加工したり、チェック（存在チェックなど）できる機能です。\n",
        "\n",
        "パスに関するいろいろなことができますが、今回のサンプルではカレントパス上のファイルやフォルダの一覧を表示してましょう。\n",
        "\n",
        "**（PathLibライブラリのインポート）**\n",
        "\n",
        "```python\n",
        "▶ import pathlib\n",
        "```\n",
        "（コードを書いて実際に確認してみよう）"
      ]
    },
    {
      "cell_type": "code",
      "metadata": {
        "id": "nIP3RrRychyn"
      },
      "source": [
        "import pathlib"
      ],
      "execution_count": null,
      "outputs": []
    },
    {
      "cell_type": "markdown",
      "metadata": {
        "id": "dfVxlAZEHQEA"
      },
      "source": [
        "**（カレントフォルダ上のファイルやフォルダ名を表示する）**\n",
        "\n",
        "```python\n",
        "▶ p = pathlib.Path('.')\n",
        "▶ for fd in p.iterdir():\n",
        "▶     print(fd)\n",
        ".config\n",
        "sample_word.docx\n",
        "sample.txt\n",
        "hello.txt\n",
        "store.csv\n",
        "store.tsv\n",
        "store.xlsx\n",
        "archives_2020_03.pdf\n",
        "sample_data\n",
        "```\n",
        "（コードを書いて実際に確認してみよう）"
      ]
    },
    {
      "cell_type": "code",
      "metadata": {
        "id": "SEea08p-cp1H"
      },
      "source": [
        "# （ここに記述）"
      ],
      "execution_count": null,
      "outputs": []
    },
    {
      "cell_type": "markdown",
      "metadata": {
        "id": "JRc7jFZ1ZfBh"
      },
      "source": [
        "---\n",
        "---\n",
        "---\n",
        "---\n",
        "---\n",
        "---\n",
        "---\n",
        "# 補足 Pythonの公式な言語リファレンス\n",
        "\n",
        "* 公式なマニュアルはこちらですが、内容は難しいので最初はわかりやすい情報や、本などを参考にしましょう。\n",
        "* 英語\n",
        " * https://docs.python.org/3/reference/index.html\n",
        "* 日本語\n",
        " * https://docs.python.org/ja/3/reference/index.html"
      ]
    },
    {
      "cell_type": "code",
      "metadata": {
        "id": "Dy0XMN2kKODY"
      },
      "source": [
        ""
      ],
      "execution_count": null,
      "outputs": []
    }
  ]
}
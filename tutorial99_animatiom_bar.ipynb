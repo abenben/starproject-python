{
  "nbformat": 4,
  "nbformat_minor": 0,
  "metadata": {
    "colab": {
      "name": "tutorial99_animatiom_bar.ipynb",
      "provenance": [],
      "authorship_tag": "ABX9TyOLHZNdh1GP4cfs/F19qWFd",
      "include_colab_link": true
    },
    "kernelspec": {
      "name": "python3",
      "display_name": "Python 3"
    }
  },
  "cells": [
    {
      "cell_type": "markdown",
      "metadata": {
        "id": "view-in-github",
        "colab_type": "text"
      },
      "source": [
        "<a href=\"https://colab.research.google.com/github/abenben/starproject-python/blob/master/tutorial99_animatiom_bar.ipynb\" target=\"_parent\"><img src=\"https://colab.research.google.com/assets/colab-badge.svg\" alt=\"Open In Colab\"/></a>"
      ]
    },
    {
      "cell_type": "markdown",
      "metadata": {
        "id": "gIBpoloy3eI8"
      },
      "source": [
        "# 棒グラフをアニメーションで表示する\n",
        "\n",
        "* GoogleがCovid-19の向こう28日間予測\n",
        "\n",
        "* 参考URL : https://qiita.com/decr/items/afb5c9ab7dca419c5403"
      ]
    },
    {
      "cell_type": "code",
      "metadata": {
        "id": "Cra5dF9f3hLN"
      },
      "source": [
        "!pip install bar_chart_race"
      ],
      "execution_count": null,
      "outputs": []
    },
    {
      "cell_type": "code",
      "metadata": {
        "id": "8QlVGQCE3hr_"
      },
      "source": [
        "import pandas as pd\n",
        "import bar_chart_race as bcr\n",
        "df = pd.read_csv('https://storage.googleapis.com/covid-external/forecast_JAPAN_PREFECTURE_28.csv')\n",
        "df = df.pivot_table(index='target_prediction_date', \n",
        "    columns='prefecture_name',\n",
        "    values='cumulative_confirmed')\n",
        "bcr.bar_chart_race(df=df, n_bars=10)"
      ],
      "execution_count": null,
      "outputs": []
    }
  ]
}
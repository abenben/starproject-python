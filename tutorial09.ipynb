{
  "nbformat": 4,
  "nbformat_minor": 0,
  "metadata": {
    "colab": {
      "name": "tutorial09.ipynb",
      "provenance": [],
      "collapsed_sections": [],
      "toc_visible": true,
      "include_colab_link": true
    },
    "kernelspec": {
      "name": "python3",
      "display_name": "Python 3"
    }
  },
  "cells": [
    {
      "cell_type": "markdown",
      "metadata": {
        "id": "view-in-github",
        "colab_type": "text"
      },
      "source": [
        "<a href=\"https://colab.research.google.com/github/abenben/starproject-python/blob/master/tutorial09.ipynb\" target=\"_parent\"><img src=\"https://colab.research.google.com/assets/colab-badge.svg\" alt=\"Open In Colab\"/></a>"
      ]
    },
    {
      "cell_type": "markdown",
      "metadata": {
        "id": "vGWEolnGYIUx"
      },
      "source": [
        "**Python基礎講座（8日目）**\n",
        "\n",
        "* [「Python・ブロックチェーン講座」の日程](https://www.facebook.com/photo.php?fbid=1186715631679052&set=gm.752573365315679&type=3&theater&ifg=1)"
      ]
    },
    {
      "cell_type": "markdown",
      "metadata": {
        "id": "C2oU4zK9lO2n"
      },
      "source": [
        "---\n",
        "---\n",
        "---\n",
        "本日の講義（データ処理）\n",
        "---\n",
        "---\n",
        "---\n",
        "---\n"
      ]
    },
    {
      "cell_type": "markdown",
      "metadata": {
        "id": "BUfkwIDS5qrs"
      },
      "source": [
        "# 1.データベース"
      ]
    },
    {
      "cell_type": "markdown",
      "metadata": {
        "id": "3TiayxkHSO7f"
      },
      "source": [
        "## 1.1 リレーショナルデータベースをPythonから操作しよう"
      ]
    },
    {
      "cell_type": "markdown",
      "metadata": {
        "id": "Y7R_vjyZR9S_"
      },
      "source": [
        "[シェル実行] チュートリアルの事前準備（不要ファイルの削除）"
      ]
    },
    {
      "cell_type": "code",
      "metadata": {
        "id": "pRsn_PhCJ2t0"
      },
      "source": [
        "!rm -r test.db"
      ],
      "execution_count": 2,
      "outputs": []
    },
    {
      "cell_type": "markdown",
      "metadata": {
        "id": "wO83ZEPhSCdw"
      },
      "source": [
        "[シェル実行] リレーショナルデータベース（SQLite）のインストール"
      ]
    },
    {
      "cell_type": "code",
      "metadata": {
        "id": "dlluq1hwIdiA",
        "outputId": "ff1f8671-bd91-4d77-d133-1b36314cfe24",
        "colab": {
          "base_uri": "https://localhost:8080/"
        }
      },
      "source": [
        "!sudo apt-get install -y sqlite3"
      ],
      "execution_count": 3,
      "outputs": [
        {
          "output_type": "stream",
          "text": [
            "Reading package lists... Done\n",
            "Building dependency tree       \n",
            "Reading state information... Done\n",
            "sqlite3 is already the newest version (3.22.0-1ubuntu0.4).\n",
            "0 upgraded, 0 newly installed, 0 to remove and 14 not upgraded.\n"
          ],
          "name": "stdout"
        }
      ]
    },
    {
      "cell_type": "markdown",
      "metadata": {
        "id": "HEO1lnzJScMq"
      },
      "source": [
        "1.1.0 パッケージのインポート"
      ]
    },
    {
      "cell_type": "markdown",
      "metadata": {
        "id": "4mf9oGUMVSxh"
      },
      "source": [
        "\n",
        "```python\n",
        "[プログラム]\n",
        "import sqlite3\n",
        "```\n",
        "\n",
        "（コードを実際に実行してみましょう）"
      ]
    },
    {
      "cell_type": "code",
      "metadata": {
        "id": "XtdLZTywN-gz"
      },
      "source": [
        "import sqlite3"
      ],
      "execution_count": 4,
      "outputs": []
    },
    {
      "cell_type": "markdown",
      "metadata": {
        "id": "c_eB0jK0sthD"
      },
      "source": [
        "何のドメイン（業務やサービスの種類）かに併せてデータベース名を決める"
      ]
    },
    {
      "cell_type": "code",
      "metadata": {
        "id": "LtiNHrZ2OYMV"
      },
      "source": [
        "dbname = 'test.db'"
      ],
      "execution_count": 5,
      "outputs": []
    },
    {
      "cell_type": "markdown",
      "metadata": {
        "id": "IRHDFWUSPOy2"
      },
      "source": [
        "### 1.1.1 データベース作成"
      ]
    },
    {
      "cell_type": "code",
      "metadata": {
        "id": "McjZ0poYsASF"
      },
      "source": [
        "dbname = 'test.db'\n",
        "con=sqlite3.connect(dbname)"
      ],
      "execution_count": 6,
      "outputs": []
    },
    {
      "cell_type": "markdown",
      "metadata": {
        "id": "JeWII-JRR3Bk"
      },
      "source": [
        "[シェル実行] コマンドからテーブルの有無を確認"
      ]
    },
    {
      "cell_type": "code",
      "metadata": {
        "id": "z7UEdYQlIlZr"
      },
      "source": [
        "!sqlite3 test.db \".tables\""
      ],
      "execution_count": 7,
      "outputs": []
    },
    {
      "cell_type": "markdown",
      "metadata": {
        "id": "76M4tDNCsEAk"
      },
      "source": [
        "### 1.1.2 テーブル作成（DDL）"
      ]
    },
    {
      "cell_type": "code",
      "metadata": {
        "id": "fGIAPNuQN71y"
      },
      "source": [
        "con=sqlite3.connect(dbname)\n",
        "cur = con.cursor()\n",
        "sql = \"create table fruits(name text, price int);\"\n",
        "cur.execute(sql)\n",
        "con.close()"
      ],
      "execution_count": 8,
      "outputs": []
    },
    {
      "cell_type": "markdown",
      "metadata": {
        "id": "MunOclrxRx6u"
      },
      "source": [
        "[シェル実行] コマンドからテーブルの有無を確認"
      ]
    },
    {
      "cell_type": "code",
      "metadata": {
        "id": "UBJ7edw2RF3u",
        "outputId": "ffc5bd1b-b9cf-47f3-b9a2-37c82009be38",
        "colab": {
          "base_uri": "https://localhost:8080/"
        }
      },
      "source": [
        "!sqlite3 test.db \".tables\""
      ],
      "execution_count": 9,
      "outputs": [
        {
          "output_type": "stream",
          "text": [
            "fruits\n"
          ],
          "name": "stdout"
        }
      ]
    },
    {
      "cell_type": "markdown",
      "metadata": {
        "id": "KQUgrBPbsfME"
      },
      "source": [
        "###1.1.3 データ追加（DML）"
      ]
    },
    {
      "cell_type": "markdown",
      "metadata": {
        "id": "hccs_czgPTUq"
      },
      "source": [
        "#### 1.1.3(a) 1レコード追加"
      ]
    },
    {
      "cell_type": "code",
      "metadata": {
        "id": "BgcxvC52OFoI"
      },
      "source": [
        "con=sqlite3.connect(dbname)\n",
        "cur = con.cursor()\n",
        "sql = \"insert into fruits values('apple', 100)\"\n",
        "cur.execute(sql)\n",
        "\n",
        "# コミット（DCL：制御の確定）\n",
        "con.commit()\n",
        "con.close()"
      ],
      "execution_count": 10,
      "outputs": []
    },
    {
      "cell_type": "markdown",
      "metadata": {
        "id": "tU9SCcBgTGM1"
      },
      "source": [
        "[シェル実行] コマンドから fruits テーブルの内容を確認"
      ]
    },
    {
      "cell_type": "code",
      "metadata": {
        "id": "590UORzATJWP",
        "outputId": "73265ad7-30f4-438c-8db6-aabd73aaa0cb",
        "colab": {
          "base_uri": "https://localhost:8080/"
        }
      },
      "source": [
        "!sqlite3 test.db \"select * from fruits\""
      ],
      "execution_count": 11,
      "outputs": [
        {
          "output_type": "stream",
          "text": [
            "apple|100\n"
          ],
          "name": "stdout"
        }
      ]
    },
    {
      "cell_type": "markdown",
      "metadata": {
        "id": "KdHyPCDWsMb-"
      },
      "source": [
        "####1.1.3(b) 一括追加"
      ]
    },
    {
      "cell_type": "code",
      "metadata": {
        "id": "TcjOitdsOIRz"
      },
      "source": [
        "con=sqlite3.connect(dbname)\n",
        "cur = con.cursor()\n",
        "sql = \"insert into fruits values('apple', 100)\"\n",
        "cur.executemany(\"insert into fruits values(?, ?)\", [('orange', 150), ('banana', 200), ('melon', 800)])\n",
        "\n",
        "# コミット（DCL：制御の確定）\n",
        "con.commit()\n",
        "con.close()"
      ],
      "execution_count": 12,
      "outputs": []
    },
    {
      "cell_type": "markdown",
      "metadata": {
        "id": "HcsOAK1uRuUl"
      },
      "source": [
        "[シェル実行] コマンドから fruits テーブルの内容を確認"
      ]
    },
    {
      "cell_type": "code",
      "metadata": {
        "id": "-shK91eYRSs6",
        "outputId": "1221b874-bc6d-4ecf-e372-b5822f8c529b",
        "colab": {
          "base_uri": "https://localhost:8080/"
        }
      },
      "source": [
        "!sqlite3 test.db \"select * from fruits\""
      ],
      "execution_count": 13,
      "outputs": [
        {
          "output_type": "stream",
          "text": [
            "apple|100\n",
            "orange|150\n",
            "banana|200\n",
            "melon|800\n"
          ],
          "name": "stdout"
        }
      ]
    },
    {
      "cell_type": "markdown",
      "metadata": {
        "id": "YYoAjyT1sS6a"
      },
      "source": [
        "### 1.1.4 データ参照（DML）"
      ]
    },
    {
      "cell_type": "markdown",
      "metadata": {
        "id": "UPaZnNBfT8Lu"
      },
      "source": [
        "#### 1.1.4(a) 全権取得"
      ]
    },
    {
      "cell_type": "code",
      "metadata": {
        "id": "_Bxz7QxrOdKb",
        "colab": {
          "base_uri": "https://localhost:8080/"
        },
        "outputId": "222a75c5-81ba-4e62-c590-422ce752958f"
      },
      "source": [
        "con=sqlite3.connect(dbname)\n",
        "cur = con.cursor()\n",
        "sql = \"select * from fruits\"\n",
        "cur.execute(sql)\n",
        "for row in cur:\n",
        "    print(row[0], row[1])\n",
        "con.close()"
      ],
      "execution_count": 14,
      "outputs": [
        {
          "output_type": "stream",
          "text": [
            "apple 100\n",
            "orange 150\n",
            "banana 200\n",
            "melon 800\n"
          ],
          "name": "stdout"
        }
      ]
    },
    {
      "cell_type": "markdown",
      "metadata": {
        "id": "DjbZ5bDgT_cv"
      },
      "source": [
        "#### 1.1.4(b) 検索条件を指定して取得"
      ]
    },
    {
      "cell_type": "code",
      "metadata": {
        "id": "Y0dW_TocUFCu",
        "outputId": "b52f6f48-d4ac-4449-f6c2-18bd64c9db45",
        "colab": {
          "base_uri": "https://localhost:8080/"
        }
      },
      "source": [
        "con=sqlite3.connect(dbname)\n",
        "cur = con.cursor()\n",
        "sql = \"select * from fruits where name = 'banana'\"\n",
        "cur.execute(sql)\n",
        "for row in cur:\n",
        "    print(row[0], row[1])\n",
        "con.close()"
      ],
      "execution_count": 15,
      "outputs": [
        {
          "output_type": "stream",
          "text": [
            "banana 200\n"
          ],
          "name": "stdout"
        }
      ]
    },
    {
      "cell_type": "markdown",
      "metadata": {
        "id": "XQ7Qy298UR3F"
      },
      "source": [
        "### 1.1.5 データ更新（DML）"
      ]
    },
    {
      "cell_type": "markdown",
      "metadata": {
        "id": "QtlSiwXkVCto"
      },
      "source": [
        "メロン値上げ"
      ]
    },
    {
      "cell_type": "code",
      "metadata": {
        "id": "ti7QTZE4UZZv"
      },
      "source": [
        "con=sqlite3.connect(dbname)\n",
        "cur = con.cursor()\n",
        "sql = \"update fruits set price = 900 where name = 'melon'\"\n",
        "cur.execute(sql)\n",
        "\n",
        "# コミット（DCL：制御の確定）\n",
        "con.commit()\n",
        "con.close()"
      ],
      "execution_count": 16,
      "outputs": []
    },
    {
      "cell_type": "markdown",
      "metadata": {
        "id": "3roN5C3-U1KV"
      },
      "source": [
        "[シェル実行] コマンドから fruits テーブルの内容を確認"
      ]
    },
    {
      "cell_type": "code",
      "metadata": {
        "id": "PYKMjsDCU2-F",
        "outputId": "041f982b-fb43-4c4c-aad1-1cc0fb6ac103",
        "colab": {
          "base_uri": "https://localhost:8080/"
        }
      },
      "source": [
        "!sqlite3 test.db \"select * from fruits\""
      ],
      "execution_count": 17,
      "outputs": [
        {
          "output_type": "stream",
          "text": [
            "apple|100\n",
            "orange|150\n",
            "banana|200\n",
            "melon|900\n"
          ],
          "name": "stdout"
        }
      ]
    },
    {
      "cell_type": "markdown",
      "metadata": {
        "id": "mFmZQKY1VZmH"
      },
      "source": [
        "### 1.1.6 データ削除（DML）"
      ]
    },
    {
      "cell_type": "markdown",
      "metadata": {
        "id": "gM4-uPNyWL_9"
      },
      "source": [
        "オレンジはいらない"
      ]
    },
    {
      "cell_type": "code",
      "metadata": {
        "id": "k2XXZD5XVjTo"
      },
      "source": [
        "con=sqlite3.connect(dbname)\n",
        "cur = con.cursor()\n",
        "sql = \"delete from fruits where name = 'orange'\"\n",
        "cur.execute(sql)\n",
        "\n",
        "# コミット（DCL：制御の確定）\n",
        "con.commit()\n",
        "con.close()"
      ],
      "execution_count": 20,
      "outputs": []
    },
    {
      "cell_type": "markdown",
      "metadata": {
        "id": "wU1pZx2TV5n-"
      },
      "source": [
        "[シェル実行] コマンドから fruits テーブルの内容を確認"
      ]
    },
    {
      "cell_type": "code",
      "metadata": {
        "id": "WfcARbekV8db",
        "outputId": "81ff9e5c-f4ba-49cb-c0ed-6d46648e8236",
        "colab": {
          "base_uri": "https://localhost:8080/"
        }
      },
      "source": [
        "!sqlite3 test.db \"select * from fruits\""
      ],
      "execution_count": 19,
      "outputs": [
        {
          "output_type": "stream",
          "text": [
            "apple|100\n",
            "banana|200\n",
            "melon|900\n"
          ],
          "name": "stdout"
        }
      ]
    },
    {
      "cell_type": "markdown",
      "metadata": {
        "id": "zz6A0QERYr9J"
      },
      "source": [
        "### 1.1.7 テーブル削除（DDL）"
      ]
    },
    {
      "cell_type": "code",
      "metadata": {
        "id": "W8GjoA1VYx1X"
      },
      "source": [
        "con=sqlite3.connect(dbname)\n",
        "cur = con.cursor()\n",
        "sql = \"drop table fruits\"\n",
        "cur.execute(sql)\n",
        "con.close()"
      ],
      "execution_count": 21,
      "outputs": []
    },
    {
      "cell_type": "markdown",
      "metadata": {
        "id": "h3D7I2rWY2Fy"
      },
      "source": [
        "[シェル実行] コマンドからテーブルの有無を確認"
      ]
    },
    {
      "cell_type": "code",
      "metadata": {
        "id": "DebFtklcY8mM"
      },
      "source": [
        "!sqlite3 test.db \".tables\""
      ],
      "execution_count": 22,
      "outputs": []
    },
    {
      "cell_type": "markdown",
      "metadata": {
        "id": "JRc7jFZ1ZfBh"
      },
      "source": [
        "---\n",
        "---\n",
        "---\n",
        "---\n",
        "---\n",
        "---\n",
        "---\n",
        "# 補足 Pythonの公式な言語リファレンス\n",
        "\n",
        "* 公式なマニュアルはこちらですが、内容は難しいので最初はわかりやすい情報や、本などを参考にしましょう。\n",
        "* 英語\n",
        " * https://docs.python.org/3/reference/index.html\n",
        "* 日本語\n",
        " * https://docs.python.org/ja/3/reference/index.html"
      ]
    }
  ]
}
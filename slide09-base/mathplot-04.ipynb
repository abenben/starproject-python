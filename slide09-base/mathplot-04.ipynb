{
  "nbformat": 4,
  "nbformat_minor": 0,
  "metadata": {
    "kernelspec": {
      "display_name": "Python 3",
      "language": "python",
      "name": "python3"
    },
    "language_info": {
      "codemirror_mode": {
        "name": "ipython",
        "version": 3
      },
      "file_extension": ".py",
      "mimetype": "text/x-python",
      "name": "python",
      "nbconvert_exporter": "python",
      "pygments_lexer": "ipython3",
      "version": "3.8.2"
    },
    "colab": {
      "name": "mathplot-04.ipynb",
      "provenance": [],
      "include_colab_link": true
    }
  },
  "cells": [
    {
      "cell_type": "markdown",
      "metadata": {
        "id": "view-in-github",
        "colab_type": "text"
      },
      "source": [
        "<a href=\"https://colab.research.google.com/github/abenben/starproject-python/blob/master/slide09-base/mathplot-04.ipynb\" target=\"_parent\"><img src=\"https://colab.research.google.com/assets/colab-badge.svg\" alt=\"Open In Colab\"/></a>"
      ]
    },
    {
      "cell_type": "markdown",
      "metadata": {
        "id": "kJCBWDQnNjkr"
      },
      "source": [
        "## 2.4.棒グラフ(matplotlib)"
      ]
    },
    {
      "cell_type": "code",
      "metadata": {
        "id": "4F5CJuN0N-TO"
      },
      "source": [
        "import matplotlib.pyplot as plt\n",
        "\n",
        "import warnings\n",
        "warnings.filterwarnings(\"ignore\", module=\"matplotlib\")\n",
        "\n",
        "%matplotlib inline"
      ],
      "execution_count": 1,
      "outputs": []
    },
    {
      "cell_type": "code",
      "metadata": {
        "id": "on-LcNLTNjkr",
        "outputId": "588bcb6e-09be-412f-f7f6-b7f591f648df",
        "colab": {
          "base_uri": "https://localhost:8080/",
          "height": 283
        }
      },
      "source": [
        "# 2.4.1　棒グラフの描画\n",
        "\n",
        "\n",
        "# 棒グラフの描画\n",
        "fig, ax = plt.subplots(1, 1)\n",
        "ticks = [1, 2, 3]\n",
        "values = [100, 200, 250]\n",
        "ax.bar(ticks, values)"
      ],
      "execution_count": 2,
      "outputs": [
        {
          "output_type": "execute_result",
          "data": {
            "text/plain": [
              "<BarContainer object of 3 artists>"
            ]
          },
          "metadata": {
            "tags": []
          },
          "execution_count": 2
        },
        {
          "output_type": "display_data",
          "data": {
            "image/png": "[encoded data removed]",
            "text/plain": [
              "<Figure size 432x288 with 1 Axes>"
            ]
          },
          "metadata": {
            "tags": [],
            "needs_background": "light"
          }
        }
      ]
    },
    {
      "cell_type": "code",
      "metadata": {
        "id": "Qd5LqZXtNjks",
        "outputId": "bccd60ce-42d4-4491-a965-2bf0934c53c0",
        "colab": {
          "base_uri": "https://localhost:8080/",
          "height": 283
        }
      },
      "source": [
        "# 2.4.2　目盛りラベルを設定した棒グラフの描画\n",
        "\n",
        "fig, ax = plt.subplots(1, 1)\n",
        "ax.bar(ticks, values, tick_label=ticks)"
      ],
      "execution_count": 3,
      "outputs": [
        {
          "output_type": "execute_result",
          "data": {
            "text/plain": [
              "<BarContainer object of 3 artists>"
            ]
          },
          "metadata": {
            "tags": []
          },
          "execution_count": 3
        },
        {
          "output_type": "display_data",
          "data": {
            "image/png": "[encoded data removed]",
            "text/plain": [
              "<Figure size 432x288 with 1 Axes>"
            ]
          },
          "metadata": {
            "tags": [],
            "needs_background": "light"
          }
        }
      ]
    },
    {
      "cell_type": "code",
      "metadata": {
        "id": "Kqlb8rlpNjks",
        "outputId": "cd7bf214-f2c4-4769-9fc3-1fc551b20a12",
        "colab": {
          "base_uri": "https://localhost:8080/",
          "height": 283
        }
      },
      "source": [
        "# 2.4.3　横向きの棒グラフの描画\n",
        "\n",
        "fig, ax = plt.subplots(1, 1)\n",
        "ax.barh(ticks, values, tick_label=ticks)"
      ],
      "execution_count": 4,
      "outputs": [
        {
          "output_type": "execute_result",
          "data": {
            "text/plain": [
              "<BarContainer object of 3 artists>"
            ]
          },
          "metadata": {
            "tags": []
          },
          "execution_count": 4
        },
        {
          "output_type": "display_data",
          "data": {
            "image/png": "[encoded data removed]",
            "text/plain": [
              "<Figure size 432x288 with 1 Axes>"
            ]
          },
          "metadata": {
            "tags": [],
            "needs_background": "light"
          }
        }
      ]
    },
    {
      "cell_type": "code",
      "metadata": {
        "id": "no1qA0lMNjkt",
        "outputId": "cf1ffa20-93da-4b33-9777-e97744af8ba6",
        "colab": {
          "base_uri": "https://localhost:8080/",
          "height": 283
        }
      },
      "source": [
        "# 2.4.4　X 値として文字列を指定して棒グラフを描画\n",
        "\n",
        "fig, ax = plt.subplots(1, 1)\n",
        "labels = [\"Orange\", \"Lemon\", \"Lime\"]\n",
        "values = [100, 200, 250]\n",
        "ax.bar(labels, values)"
      ],
      "execution_count": 5,
      "outputs": [
        {
          "output_type": "execute_result",
          "data": {
            "text/plain": [
              "<BarContainer object of 3 artists>"
            ]
          },
          "metadata": {
            "tags": []
          },
          "execution_count": 5
        },
        {
          "output_type": "display_data",
          "data": {
            "image/png": "[encoded data removed]",
            "text/plain": [
              "<Figure size 432x288 with 1 Axes>"
            ]
          },
          "metadata": {
            "tags": [],
            "needs_background": "light"
          }
        }
      ]
    },
    {
      "cell_type": "code",
      "metadata": {
        "id": "qEYCw8PLNjkt",
        "outputId": "a982e08c-aefe-40d7-c4e8-a36d3bd0f813",
        "colab": {
          "base_uri": "https://localhost:8080/",
          "height": 283
        }
      },
      "source": [
        "# 2.4.5　辞書形式のデータを使ってラベルを指定\n",
        "\n",
        "fig, ax = plt.subplots(1, 1)\n",
        "data = {\"Orange\": 100, \"Lemon\": 200, \"Lime\": 250}\n",
        "ax.bar(data.keys(), data.values())"
      ],
      "execution_count": 6,
      "outputs": [
        {
          "output_type": "execute_result",
          "data": {
            "text/plain": [
              "<BarContainer object of 3 artists>"
            ]
          },
          "metadata": {
            "tags": []
          },
          "execution_count": 6
        },
        {
          "output_type": "display_data",
          "data": {
            "image/png": "[encoded data removed]",
            "text/plain": [
              "<Figure size 432x288 with 1 Axes>"
            ]
          },
          "metadata": {
            "tags": [],
            "needs_background": "light"
          }
        }
      ]
    },
    {
      "cell_type": "code",
      "metadata": {
        "id": "4P8XP1DlNjkt",
        "outputId": "7b780578-191b-48c3-e45b-efc863631a82",
        "colab": {
          "base_uri": "https://localhost:8080/",
          "height": 283
        }
      },
      "source": [
        "# 2.4.6　複数グループの棒グラフを描画（失敗例）\n",
        "\n",
        "import numpy as np\n",
        "\n",
        "# データセットの作成\n",
        "x = [1, 2]\n",
        "y1 = [1, 4]\n",
        "y2 = [2, 5]\n",
        "y3 = [3, 6]\n",
        "labels = [\"A\", \"B\"]\n",
        "\n",
        "# 複数グループの棒グラフの描画\n",
        "fig, ax = plt.subplots(1, 1)\n",
        "ax.bar(x, y1, label=\"y1\", tick_label=labels)\n",
        "ax.bar(x, y2, label=\"y2\")\n",
        "ax.bar(x, y3, label=\"y3\")\n",
        "ax.legend(bbox_to_anchor=(1, 1))"
      ],
      "execution_count": 7,
      "outputs": [
        {
          "output_type": "execute_result",
          "data": {
            "text/plain": [
              "<matplotlib.legend.Legend at 0x7f6b4c95bb00>"
            ]
          },
          "metadata": {
            "tags": []
          },
          "execution_count": 7
        },
        {
          "output_type": "display_data",
          "data": {
            "image/png": "[encoded data removed]",
            "text/plain": [
              "<Figure size 432x288 with 1 Axes>"
            ]
          },
          "metadata": {
            "tags": [],
            "needs_background": "light"
          }
        }
      ]
    },
    {
      "cell_type": "code",
      "metadata": {
        "id": "3ANefacYNjkt",
        "outputId": "08bd9d82-8da4-42a6-da8f-94e11d051148",
        "colab": {
          "base_uri": "https://localhost:8080/",
          "height": 283
        }
      },
      "source": [
        "# 2.4.7　複数グループの棒グラフの描画\n",
        "\n",
        "fig, ax = plt.subplots(1, 1)\n",
        "\n",
        "# データセットの作成\n",
        "array_x = np.array(x)\n",
        "array_y1 = np.array(y1)\n",
        "array_y2 = np.array(y2)\n",
        "array_y3 = np.array(y3)\n",
        "labels = [\"A\", \"B\"]\n",
        "\n",
        "# 棒の幅\n",
        "bar_width = 0.3\n",
        "\n",
        "# 棒グラフの描画\n",
        "ax.bar(array_x, array_y1, width=bar_width, label=\"y1\")\n",
        "ax.bar(\n",
        "    array_x + bar_width,\n",
        "    array_y2,\n",
        "    width=bar_width,\n",
        "    label=\"y2\",\n",
        "    tick_label=labels,\n",
        ")\n",
        "ax.bar(array_x + bar_width * 2, array_y3, width=bar_width, label=\"y3\")\n",
        "ax.legend()"
      ],
      "execution_count": 8,
      "outputs": [
        {
          "output_type": "execute_result",
          "data": {
            "text/plain": [
              "<matplotlib.legend.Legend at 0x7f6b4c8d8a58>"
            ]
          },
          "metadata": {
            "tags": []
          },
          "execution_count": 8
        },
        {
          "output_type": "display_data",
          "data": {
            "image/png": "[encoded data removed]",
            "text/plain": [
              "<Figure size 432x288 with 1 Axes>"
            ]
          },
          "metadata": {
            "tags": [],
            "needs_background": "light"
          }
        }
      ]
    },
    {
      "cell_type": "code",
      "metadata": {
        "id": "b2-PJtTaNjkt",
        "outputId": "211cbc97-6e64-41f8-ff49-a6ecff0a6cb9",
        "colab": {
          "base_uri": "https://localhost:8080/",
          "height": 283
        }
      },
      "source": [
        "# 2.4.8　積み上げ棒グラフの描画\n",
        "\n",
        "# 積み上げ棒グラフの描画\n",
        "fig, ax = plt.subplots(1, 1)\n",
        "sum_y1y2 = array_y1 + array_y2\n",
        "sum_y1y2y3 = sum_y1y2 + array_y3\n",
        "ax.bar(array_x, sum_y1y2y3, label=\"y3\", tick_label=x)\n",
        "ax.bar(array_x, sum_y1y2, label=\"y2\")\n",
        "ax.bar(array_x, array_y1, label=\"y1\")\n",
        "ax.legend()"
      ],
      "execution_count": 9,
      "outputs": [
        {
          "output_type": "execute_result",
          "data": {
            "text/plain": [
              "<matplotlib.legend.Legend at 0x7f6b4c89cc50>"
            ]
          },
          "metadata": {
            "tags": []
          },
          "execution_count": 9
        },
        {
          "output_type": "display_data",
          "data": {
            "image/png": "[encoded data removed]",
            "text/plain": [
              "<Figure size 432x288 with 1 Axes>"
            ]
          },
          "metadata": {
            "tags": [],
            "needs_background": "light"
          }
        }
      ]
    },
    {
      "cell_type": "code",
      "metadata": {
        "id": "3YIsfppANjkt",
        "outputId": "a6086f79-5af0-4911-9044-68245aec0ec3",
        "colab": {
          "base_uri": "https://localhost:8080/",
          "height": 283
        }
      },
      "source": [
        "# 2.4.9　bottom オプションを用いて積み上げ棒グラフを描画\n",
        "\n",
        "figure, ax = plt.subplots(1, 1)\n",
        "ax.bar(array_x, sum_y1y2y3, label=\"y3\", tick_label=x)\n",
        "ax.bar(array_x, array_y2, bottom=y1, label=\"y2\")\n",
        "ax.bar(array_x, array_y1, label=\"y1\")\n",
        "ax.legend()"
      ],
      "execution_count": 10,
      "outputs": [
        {
          "output_type": "execute_result",
          "data": {
            "text/plain": [
              "<matplotlib.legend.Legend at 0x7f6b4c835fd0>"
            ]
          },
          "metadata": {
            "tags": []
          },
          "execution_count": 10
        },
        {
          "output_type": "display_data",
          "data": {
            "image/png": "[encoded data removed]",
            "text/plain": [
              "<Figure size 432x288 with 1 Axes>"
            ]
          },
          "metadata": {
            "tags": [],
            "needs_background": "light"
          }
        }
      ]
    },
    {
      "cell_type": "code",
      "metadata": {
        "id": "7NDn4m2iNjkt",
        "outputId": "36c20b1f-c997-4baf-9686-8d25751f1f39",
        "colab": {
          "base_uri": "https://localhost:8080/",
          "height": 204
        }
      },
      "source": [
        "# 2.4.10　anime_master.csv ファイルの読み込み\n",
        "\n",
        "from urllib.parse import urljoin\n",
        "import pandas as pd\n",
        "\n",
        "base_url = \"https://raw.githubusercontent.com/practical-jupyter/sample-data/master/anime/\"\n",
        "anime_master_csv = urljoin(base_url, \"anime_master.csv\")\n",
        "df_master = pd.read_csv(anime_master_csv)\n",
        "df_master.head()"
      ],
      "execution_count": 11,
      "outputs": [
        {
          "output_type": "execute_result",
          "data": {
            "text/html": [
              "<div>\n",
              "<style scoped>\n",
              "    .dataframe tbody tr th:only-of-type {\n",
              "        vertical-align: middle;\n",
              "    }\n",
              "\n",
              "    .dataframe tbody tr th {\n",
              "        vertical-align: top;\n",
              "    }\n",
              "\n",
              "    .dataframe thead th {\n",
              "        text-align: right;\n",
              "    }\n",
              "</style>\n",
              "<table border=\"1\" class=\"dataframe\">\n",
              "  <thead>\n",
              "    <tr style=\"text-align: right;\">\n",
              "      <th></th>\n",
              "      <th>anime_id</th>\n",
              "      <th>name</th>\n",
              "      <th>genre</th>\n",
              "      <th>type</th>\n",
              "      <th>episodes</th>\n",
              "      <th>rating</th>\n",
              "      <th>members</th>\n",
              "    </tr>\n",
              "  </thead>\n",
              "  <tbody>\n",
              "    <tr>\n",
              "      <th>0</th>\n",
              "      <td>32281</td>\n",
              "      <td>Kimi no Na wa.</td>\n",
              "      <td>Drama, Romance, School, Supernatural</td>\n",
              "      <td>Movie</td>\n",
              "      <td>1</td>\n",
              "      <td>9.37</td>\n",
              "      <td>200630</td>\n",
              "    </tr>\n",
              "    <tr>\n",
              "      <th>1</th>\n",
              "      <td>5114</td>\n",
              "      <td>Fullmetal Alchemist: Brotherhood</td>\n",
              "      <td>Action, Adventure, Drama, Fantasy, Magic, Mili...</td>\n",
              "      <td>TV</td>\n",
              "      <td>64</td>\n",
              "      <td>9.26</td>\n",
              "      <td>793665</td>\n",
              "    </tr>\n",
              "    <tr>\n",
              "      <th>2</th>\n",
              "      <td>28977</td>\n",
              "      <td>Gintama°</td>\n",
              "      <td>Action, Comedy, Historical, Parody, Samurai, S...</td>\n",
              "      <td>TV</td>\n",
              "      <td>51</td>\n",
              "      <td>9.25</td>\n",
              "      <td>114262</td>\n",
              "    </tr>\n",
              "    <tr>\n",
              "      <th>3</th>\n",
              "      <td>9253</td>\n",
              "      <td>Steins;Gate</td>\n",
              "      <td>Sci-Fi, Thriller</td>\n",
              "      <td>TV</td>\n",
              "      <td>24</td>\n",
              "      <td>9.17</td>\n",
              "      <td>673572</td>\n",
              "    </tr>\n",
              "    <tr>\n",
              "      <th>4</th>\n",
              "      <td>9969</td>\n",
              "      <td>Gintama'</td>\n",
              "      <td>Action, Comedy, Historical, Parody, Samurai, S...</td>\n",
              "      <td>TV</td>\n",
              "      <td>51</td>\n",
              "      <td>9.16</td>\n",
              "      <td>151266</td>\n",
              "    </tr>\n",
              "  </tbody>\n",
              "</table>\n",
              "</div>"
            ],
            "text/plain": [
              "   anime_id                              name  ... rating members\n",
              "0     32281                    Kimi no Na wa.  ...   9.37  200630\n",
              "1      5114  Fullmetal Alchemist: Brotherhood  ...   9.26  793665\n",
              "2     28977                          Gintama°  ...   9.25  114262\n",
              "3      9253                       Steins;Gate  ...   9.17  673572\n",
              "4      9969                          Gintama'  ...   9.16  151266\n",
              "\n",
              "[5 rows x 7 columns]"
            ]
          },
          "metadata": {
            "tags": []
          },
          "execution_count": 11
        }
      ]
    },
    {
      "cell_type": "code",
      "metadata": {
        "id": "s78EzBq5Njkt",
        "outputId": "22d52200-f262-4ac0-d6f2-e09865cff858",
        "colab": {
          "base_uri": "https://localhost:8080/",
          "height": 294
        }
      },
      "source": [
        "# 2.4.11　メディア種別ごとの合計メンバ数の棒グラフを描画\n",
        "\n",
        "fig, ax = plt.subplots(1, 1)\n",
        "y = df_master.groupby(\"type\")[\"members\"].sum()\n",
        "x = y.index\n",
        "ax.bar(x, y)\n",
        "ax.set_ylabel(\"合計のべメンバ数\")"
      ],
      "execution_count": 12,
      "outputs": [
        {
          "output_type": "execute_result",
          "data": {
            "text/plain": [
              "Text(0, 0.5, '合計のべメンバ数')"
            ]
          },
          "metadata": {
            "tags": []
          },
          "execution_count": 12
        },
        {
          "output_type": "display_data",
          "data": {
            "image/png": "[encoded data removed]",
            "text/plain": [
              "<Figure size 432x288 with 1 Axes>"
            ]
          },
          "metadata": {
            "tags": [],
            "needs_background": "light"
          }
        }
      ]
    },
    {
      "cell_type": "code",
      "metadata": {
        "id": "GUicje34Njkt",
        "outputId": "a2682d96-5cfe-4b1c-9869-4ef115eb0bd4",
        "colab": {
          "base_uri": "https://localhost:8080/",
          "height": 390
        }
      },
      "source": [
        "# 2.4.12　anime_genre_top10_pivoted.csv ファイルの読み込み\n",
        "\n",
        "base_url = \"https://raw.githubusercontent.com/practical-jupyter/sample-data/master/anime/\"\n",
        "anime_genre_top10_pivoted_csv = urljoin(\n",
        "    base_url, \"anime_genre_top10_pivoted.csv\"\n",
        ")\n",
        "df_master_genre = pd.read_csv(anime_genre_top10_pivoted_csv, index_col=\"genre\")\n",
        "df_master_genre"
      ],
      "execution_count": 13,
      "outputs": [
        {
          "output_type": "execute_result",
          "data": {
            "text/html": [
              "<div>\n",
              "<style scoped>\n",
              "    .dataframe tbody tr th:only-of-type {\n",
              "        vertical-align: middle;\n",
              "    }\n",
              "\n",
              "    .dataframe tbody tr th {\n",
              "        vertical-align: top;\n",
              "    }\n",
              "\n",
              "    .dataframe thead th {\n",
              "        text-align: right;\n",
              "    }\n",
              "</style>\n",
              "<table border=\"1\" class=\"dataframe\">\n",
              "  <thead>\n",
              "    <tr style=\"text-align: right;\">\n",
              "      <th></th>\n",
              "      <th>Movie</th>\n",
              "      <th>Music</th>\n",
              "      <th>ONA</th>\n",
              "      <th>OVA</th>\n",
              "      <th>Special</th>\n",
              "      <th>TV</th>\n",
              "    </tr>\n",
              "    <tr>\n",
              "      <th>genre</th>\n",
              "      <th></th>\n",
              "      <th></th>\n",
              "      <th></th>\n",
              "      <th></th>\n",
              "      <th></th>\n",
              "      <th></th>\n",
              "    </tr>\n",
              "  </thead>\n",
              "  <tbody>\n",
              "    <tr>\n",
              "      <th>Comedy</th>\n",
              "      <td>7293127.0</td>\n",
              "      <td>20860.0</td>\n",
              "      <td>1477266.0</td>\n",
              "      <td>5614758.0</td>\n",
              "      <td>6659293.0</td>\n",
              "      <td>65420862.0</td>\n",
              "    </tr>\n",
              "    <tr>\n",
              "      <th>Action</th>\n",
              "      <td>10224960.0</td>\n",
              "      <td>77054.0</td>\n",
              "      <td>524907.0</td>\n",
              "      <td>5793680.0</td>\n",
              "      <td>3412689.0</td>\n",
              "      <td>63364032.0</td>\n",
              "    </tr>\n",
              "    <tr>\n",
              "      <th>Drama</th>\n",
              "      <td>9034099.0</td>\n",
              "      <td>100734.0</td>\n",
              "      <td>188427.0</td>\n",
              "      <td>3043374.0</td>\n",
              "      <td>1915578.0</td>\n",
              "      <td>41011557.0</td>\n",
              "    </tr>\n",
              "    <tr>\n",
              "      <th>Romance</th>\n",
              "      <td>5245386.0</td>\n",
              "      <td>42811.0</td>\n",
              "      <td>411331.0</td>\n",
              "      <td>3143167.0</td>\n",
              "      <td>2015820.0</td>\n",
              "      <td>40703388.0</td>\n",
              "    </tr>\n",
              "    <tr>\n",
              "      <th>Supernatural</th>\n",
              "      <td>5452779.0</td>\n",
              "      <td>9189.0</td>\n",
              "      <td>192989.0</td>\n",
              "      <td>2696715.0</td>\n",
              "      <td>2336723.0</td>\n",
              "      <td>38956520.0</td>\n",
              "    </tr>\n",
              "    <tr>\n",
              "      <th>Fantasy</th>\n",
              "      <td>8019406.0</td>\n",
              "      <td>43962.0</td>\n",
              "      <td>188937.0</td>\n",
              "      <td>2754224.0</td>\n",
              "      <td>2504131.0</td>\n",
              "      <td>34932563.0</td>\n",
              "    </tr>\n",
              "    <tr>\n",
              "      <th>Shounen</th>\n",
              "      <td>5698808.0</td>\n",
              "      <td>NaN</td>\n",
              "      <td>97833.0</td>\n",
              "      <td>3861296.0</td>\n",
              "      <td>2591988.0</td>\n",
              "      <td>35532847.0</td>\n",
              "    </tr>\n",
              "    <tr>\n",
              "      <th>School</th>\n",
              "      <td>1512533.0</td>\n",
              "      <td>5496.0</td>\n",
              "      <td>523223.0</td>\n",
              "      <td>2417660.0</td>\n",
              "      <td>2661425.0</td>\n",
              "      <td>35489099.0</td>\n",
              "    </tr>\n",
              "    <tr>\n",
              "      <th>Adventure</th>\n",
              "      <td>9485223.0</td>\n",
              "      <td>42829.0</td>\n",
              "      <td>70431.0</td>\n",
              "      <td>2373765.0</td>\n",
              "      <td>2052024.0</td>\n",
              "      <td>27529975.0</td>\n",
              "    </tr>\n",
              "    <tr>\n",
              "      <th>Sci-Fi</th>\n",
              "      <td>6967146.0</td>\n",
              "      <td>154801.0</td>\n",
              "      <td>415311.0</td>\n",
              "      <td>3358525.0</td>\n",
              "      <td>1616450.0</td>\n",
              "      <td>28072322.0</td>\n",
              "    </tr>\n",
              "  </tbody>\n",
              "</table>\n",
              "</div>"
            ],
            "text/plain": [
              "                   Movie     Music        ONA        OVA    Special          TV\n",
              "genre                                                                          \n",
              "Comedy         7293127.0   20860.0  1477266.0  5614758.0  6659293.0  65420862.0\n",
              "Action        10224960.0   77054.0   524907.0  5793680.0  3412689.0  63364032.0\n",
              "Drama          9034099.0  100734.0   188427.0  3043374.0  1915578.0  41011557.0\n",
              "Romance        5245386.0   42811.0   411331.0  3143167.0  2015820.0  40703388.0\n",
              "Supernatural   5452779.0    9189.0   192989.0  2696715.0  2336723.0  38956520.0\n",
              "Fantasy        8019406.0   43962.0   188937.0  2754224.0  2504131.0  34932563.0\n",
              "Shounen        5698808.0       NaN    97833.0  3861296.0  2591988.0  35532847.0\n",
              "School         1512533.0    5496.0   523223.0  2417660.0  2661425.0  35489099.0\n",
              "Adventure      9485223.0   42829.0    70431.0  2373765.0  2052024.0  27529975.0\n",
              "Sci-Fi         6967146.0  154801.0   415311.0  3358525.0  1616450.0  28072322.0"
            ]
          },
          "metadata": {
            "tags": []
          },
          "execution_count": 13
        }
      ]
    },
    {
      "cell_type": "code",
      "metadata": {
        "id": "MC1FPdSaNjku",
        "outputId": "dcd6a719-e4bf-4750-cf10-824731917ea7",
        "colab": {
          "base_uri": "https://localhost:8080/",
          "height": 240
        }
      },
      "source": [
        "# 2.4.13　メディア種別・ジャンル別棒グラフの描画\n",
        "\n",
        "genres = df_master_genre.index  # ジャンルリスト\n",
        "types = df_master_genre.columns  # メディア種別リスト\n",
        "genre_number = len(genres)  # ジャンル数\n",
        "type_number = len(types)  # メディア種別数\n",
        "fig, ax = plt.subplots(1, 1, figsize=(16, 3))\n",
        "total_bar_width = 0.8  # ジャンルグループ全体の棒の幅\n",
        "bar_width = total_bar_width / type_number  # 各メディア種別の棒の幅\n",
        "x = np.arange(1, genre_number + 1)  # 各ジャンルのX基準位置\n",
        "\n",
        "for type_ in types:\n",
        "    data = df_master_genre[type_]\n",
        "    ax.bar(x, data, width=bar_width, align=\"edge\", label=type_)\n",
        "    x = x + bar_width\n",
        "\n",
        "ax.set_xticks(x + total_bar_width / 2)\n",
        "ax.set_xticklabels(genres)\n",
        "ax.set_ylabel(\"のべメンバ数\")\n",
        "ax.legend()"
      ],
      "execution_count": 14,
      "outputs": [
        {
          "output_type": "execute_result",
          "data": {
            "text/plain": [
              "<matplotlib.legend.Legend at 0x7f6b4c16f898>"
            ]
          },
          "metadata": {
            "tags": []
          },
          "execution_count": 14
        },
        {
          "output_type": "display_data",
          "data": {
            "image/png": "[encoded data removed]",
            "text/plain": [
              "<Figure size 1152x216 with 1 Axes>"
            ]
          },
          "metadata": {
            "tags": [],
            "needs_background": "light"
          }
        }
      ]
    },
    {
      "cell_type": "code",
      "metadata": {
        "id": "ZDoawVF3Njku",
        "outputId": "50665869-a100-4ee6-8107-5dd5def8ef73",
        "colab": {
          "base_uri": "https://localhost:8080/",
          "height": 234
        }
      },
      "source": [
        "# 2.4.14　メディア種別・ジャンル別棒グラフの描画（対数軸）\n",
        "\n",
        "fig, ax = plt.subplots(1, 1, figsize=(16, 3))\n",
        "\n",
        "for type_ in types:\n",
        "    data = df_master_genre[type_]\n",
        "    ax.bar(x, data, width=bar_width, align=\"edge\", label=type_)\n",
        "    x = x + bar_width\n",
        "\n",
        "ax.set_yscale(\"log\")\n",
        "ax.set_xticks(x + total_bar_width / 2)\n",
        "ax.set_xticklabels(genres)\n",
        "ax.set_ylabel(\"のべメンバ数\")\n",
        "ax.legend(bbox_to_anchor=(1, 1))"
      ],
      "execution_count": 15,
      "outputs": [
        {
          "output_type": "execute_result",
          "data": {
            "text/plain": [
              "<matplotlib.legend.Legend at 0x7f6b4c9286a0>"
            ]
          },
          "metadata": {
            "tags": []
          },
          "execution_count": 15
        },
        {
          "output_type": "display_data",
          "data": {
            "image/png": "[encoded data removed]",
            "text/plain": [
              "<Figure size 1152x216 with 1 Axes>"
            ]
          },
          "metadata": {
            "tags": [],
            "needs_background": "light"
          }
        }
      ]
    },
    {
      "cell_type": "code",
      "metadata": {
        "id": "z02UQGPMNjku",
        "outputId": "51ce27d2-05a9-4a3c-98ed-98361814bee5",
        "colab": {
          "base_uri": "https://localhost:8080/",
          "height": 240
        }
      },
      "source": [
        "# 2.4.15　メディア種別・ジャンル別積み上げ棒グラフの描画\n",
        "\n",
        "fig, ax = plt.subplots(1, 1, figsize=(15, 3))\n",
        "\n",
        "for i, type_ in enumerate(types):\n",
        "    # i列目から最終列までの和を計算\n",
        "    values = df_master_genre.iloc[:, i:type_number].sum(axis=1)\n",
        "    ax.bar(genres, values, label=type_)\n",
        "\n",
        "ax.set_ylabel(\"のべメンバ数\")\n",
        "ax.legend(bbox_to_anchor=(1, 1))"
      ],
      "execution_count": 16,
      "outputs": [
        {
          "output_type": "execute_result",
          "data": {
            "text/plain": [
              "<matplotlib.legend.Legend at 0x7f6b4ca61fd0>"
            ]
          },
          "metadata": {
            "tags": []
          },
          "execution_count": 16
        },
        {
          "output_type": "display_data",
          "data": {
            "image/png": "[encoded data removed]",
            "text/plain": [
              "<Figure size 1080x216 with 1 Axes>"
            ]
          },
          "metadata": {
            "tags": [],
            "needs_background": "light"
          }
        }
      ]
    }
  ]
}
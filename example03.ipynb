{
  "nbformat": 4,
  "nbformat_minor": 0,
  "metadata": {
    "colab": {
      "name": "example03.ipynb",
      "provenance": [],
      "authorship_tag": "ABX9TyPJMCj7v9BOBJ94kF7+9lwY",
      "include_colab_link": true
    },
    "kernelspec": {
      "name": "python3",
      "display_name": "Python 3"
    }
  },
  "cells": [
    {
      "cell_type": "markdown",
      "metadata": {
        "id": "view-in-github",
        "colab_type": "text"
      },
      "source": [
        "<a href=\"https://colab.research.google.com/github/abenben/starproject-python/blob/master/example03.ipynb\" target=\"_parent\"><img src=\"https://colab.research.google.com/assets/colab-badge.svg\" alt=\"Open In Colab\"/></a>"
      ]
    },
    {
      "cell_type": "code",
      "metadata": {
        "colab": {
          "base_uri": "https://localhost:8080/"
        },
        "id": "fkMQpDz7C79U",
        "outputId": "a682344d-bf23-4ddf-f8c9-9364b2db10c8"
      },
      "source": [
        "!pip install pandas dash jupyter-dash"
      ],
      "execution_count": 1,
      "outputs": [
        {
          "output_type": "stream",
          "text": [
            "Requirement already satisfied: pandas in /usr/local/lib/python3.6/dist-packages (1.1.5)\n",
            "Collecting dash\n",
            "\u001b[?25l  Downloading https://files.pythonhosted.org/packages/dd/17/55244363969638edd1151de0ea4aa10e6a7849b42d7d0994e3082514e19d/dash-1.18.1.tar.gz (74kB)\n",
            "\u001b[K     |████████████████████████████████| 81kB 3.4MB/s \n",
            "\u001b[?25hCollecting jupyter-dash\n",
            "\u001b[?25l  Downloading https://files.pythonhosted.org/packages/b9/b9/5f9499a0154124a262c85e3a99033b9b3a20dc3d2707b587f52b32b60d76/jupyter_dash-0.3.1-py3-none-any.whl (49kB)\n",
            "\u001b[K     |████████████████████████████████| 51kB 3.9MB/s \n",
            "\u001b[?25hRequirement already satisfied: pytz>=2017.2 in /usr/local/lib/python3.6/dist-packages (from pandas) (2018.9)\n",
            "Requirement already satisfied: python-dateutil>=2.7.3 in /usr/local/lib/python3.6/dist-packages (from pandas) (2.8.1)\n",
            "Requirement already satisfied: numpy>=1.15.4 in /usr/local/lib/python3.6/dist-packages (from pandas) (1.19.4)\n",
            "Requirement already satisfied: Flask>=1.0.4 in /usr/local/lib/python3.6/dist-packages (from dash) (1.1.2)\n",
            "Collecting flask-compress\n",
            "  Downloading https://files.pythonhosted.org/packages/b2/7a/9c4641f975fb9daaf945dc39da6a52fd5693ab3bbc2d53780eab3b5106f4/Flask_Compress-1.8.0-py3-none-any.whl\n",
            "Requirement already satisfied: plotly in /usr/local/lib/python3.6/dist-packages (from dash) (4.4.1)\n",
            "Collecting dash_renderer==1.8.3\n",
            "\u001b[?25l  Downloading https://files.pythonhosted.org/packages/72/fe/59a322edb128ad15205002c7b81e3f5e580f6791c4a100183289e05dbfcb/dash_renderer-1.8.3.tar.gz (1.0MB)\n",
            "\u001b[K     |████████████████████████████████| 1.0MB 6.4MB/s \n",
            "\u001b[?25hCollecting dash-core-components==1.14.1\n",
            "\u001b[?25l  Downloading https://files.pythonhosted.org/packages/0f/ab/5ffeeed41117383d02485f5b9204dcfaa074bfbb3ff2559afac7b904ad5c/dash_core_components-1.14.1.tar.gz (3.5MB)\n",
            "\u001b[K     |████████████████████████████████| 3.5MB 8.5MB/s \n",
            "\u001b[?25hCollecting dash-html-components==1.1.1\n",
            "\u001b[?25l  Downloading https://files.pythonhosted.org/packages/02/ba/bb9427c62feb25bfbaf243894eeeb4e7c67a92b426ed0575a167100e436e/dash_html_components-1.1.1.tar.gz (188kB)\n",
            "\u001b[K     |████████████████████████████████| 194kB 39.6MB/s \n",
            "\u001b[?25hCollecting dash-table==4.11.1\n",
            "\u001b[?25l  Downloading https://files.pythonhosted.org/packages/79/4b/de20584b7dc82dc6e572e8b596d21b1c6e39f13d19e8c9e6f1d67bed67fd/dash_table-4.11.1.tar.gz (1.8MB)\n",
            "\u001b[K     |████████████████████████████████| 1.8MB 22.1MB/s \n",
            "\u001b[?25hRequirement already satisfied: future in /usr/local/lib/python3.6/dist-packages (from dash) (0.16.0)\n",
            "Requirement already satisfied: retrying in /usr/local/lib/python3.6/dist-packages (from jupyter-dash) (1.3.3)\n",
            "Requirement already satisfied: ipykernel in /usr/local/lib/python3.6/dist-packages (from jupyter-dash) (4.10.1)\n",
            "Collecting ansi2html\n",
            "  Downloading https://files.pythonhosted.org/packages/c6/85/3a46be84afbb16b392a138cd396117f438c7b2e91d8dc327621d1ae1b5dc/ansi2html-1.6.0-py3-none-any.whl\n",
            "Requirement already satisfied: requests in /usr/local/lib/python3.6/dist-packages (from jupyter-dash) (2.23.0)\n",
            "Requirement already satisfied: ipython in /usr/local/lib/python3.6/dist-packages (from jupyter-dash) (5.5.0)\n",
            "Requirement already satisfied: six>=1.5 in /usr/local/lib/python3.6/dist-packages (from python-dateutil>=2.7.3->pandas) (1.15.0)\n",
            "Requirement already satisfied: click>=5.1 in /usr/local/lib/python3.6/dist-packages (from Flask>=1.0.4->dash) (7.1.2)\n",
            "Requirement already satisfied: Jinja2>=2.10.1 in /usr/local/lib/python3.6/dist-packages (from Flask>=1.0.4->dash) (2.11.2)\n",
            "Requirement already satisfied: Werkzeug>=0.15 in /usr/local/lib/python3.6/dist-packages (from Flask>=1.0.4->dash) (1.0.1)\n",
            "Requirement already satisfied: itsdangerous>=0.24 in /usr/local/lib/python3.6/dist-packages (from Flask>=1.0.4->dash) (1.1.0)\n",
            "Collecting brotli\n",
            "\u001b[?25l  Downloading https://files.pythonhosted.org/packages/b4/d3/7c98f05b7b9103e2f3a112ba42f269c798155b3e5404fb80bb8f823aaebe/Brotli-1.0.9-cp36-cp36m-manylinux1_x86_64.whl (357kB)\n",
            "\u001b[K     |████████████████████████████████| 358kB 52.3MB/s \n",
            "\u001b[?25hRequirement already satisfied: traitlets>=4.1.0 in /usr/local/lib/python3.6/dist-packages (from ipykernel->jupyter-dash) (4.3.3)\n",
            "Requirement already satisfied: tornado>=4.0 in /usr/local/lib/python3.6/dist-packages (from ipykernel->jupyter-dash) (5.1.1)\n",
            "Requirement already satisfied: jupyter-client in /usr/local/lib/python3.6/dist-packages (from ipykernel->jupyter-dash) (5.3.5)\n",
            "Requirement already satisfied: idna<3,>=2.5 in /usr/local/lib/python3.6/dist-packages (from requests->jupyter-dash) (2.10)\n",
            "Requirement already satisfied: chardet<4,>=3.0.2 in /usr/local/lib/python3.6/dist-packages (from requests->jupyter-dash) (3.0.4)\n",
            "Requirement already satisfied: urllib3!=1.25.0,!=1.25.1,<1.26,>=1.21.1 in /usr/local/lib/python3.6/dist-packages (from requests->jupyter-dash) (1.24.3)\n",
            "Requirement already satisfied: certifi>=2017.4.17 in /usr/local/lib/python3.6/dist-packages (from requests->jupyter-dash) (2020.12.5)\n",
            "Requirement already satisfied: pexpect; sys_platform != \"win32\" in /usr/local/lib/python3.6/dist-packages (from ipython->jupyter-dash) (4.8.0)\n",
            "Requirement already satisfied: pygments in /usr/local/lib/python3.6/dist-packages (from ipython->jupyter-dash) (2.6.1)\n",
            "Requirement already satisfied: pickleshare in /usr/local/lib/python3.6/dist-packages (from ipython->jupyter-dash) (0.7.5)\n",
            "Requirement already satisfied: decorator in /usr/local/lib/python3.6/dist-packages (from ipython->jupyter-dash) (4.4.2)\n",
            "Requirement already satisfied: simplegeneric>0.8 in /usr/local/lib/python3.6/dist-packages (from ipython->jupyter-dash) (0.8.1)\n",
            "Requirement already satisfied: setuptools>=18.5 in /usr/local/lib/python3.6/dist-packages (from ipython->jupyter-dash) (51.0.0)\n",
            "Requirement already satisfied: prompt-toolkit<2.0.0,>=1.0.4 in /usr/local/lib/python3.6/dist-packages (from ipython->jupyter-dash) (1.0.18)\n",
            "Requirement already satisfied: MarkupSafe>=0.23 in /usr/local/lib/python3.6/dist-packages (from Jinja2>=2.10.1->Flask>=1.0.4->dash) (1.1.1)\n",
            "Requirement already satisfied: ipython-genutils in /usr/local/lib/python3.6/dist-packages (from traitlets>=4.1.0->ipykernel->jupyter-dash) (0.2.0)\n",
            "Requirement already satisfied: jupyter-core>=4.6.0 in /usr/local/lib/python3.6/dist-packages (from jupyter-client->ipykernel->jupyter-dash) (4.7.0)\n",
            "Requirement already satisfied: pyzmq>=13 in /usr/local/lib/python3.6/dist-packages (from jupyter-client->ipykernel->jupyter-dash) (20.0.0)\n",
            "Requirement already satisfied: ptyprocess>=0.5 in /usr/local/lib/python3.6/dist-packages (from pexpect; sys_platform != \"win32\"->ipython->jupyter-dash) (0.6.0)\n",
            "Requirement already satisfied: wcwidth in /usr/local/lib/python3.6/dist-packages (from prompt-toolkit<2.0.0,>=1.0.4->ipython->jupyter-dash) (0.2.5)\n",
            "Building wheels for collected packages: dash, dash-renderer, dash-core-components, dash-html-components, dash-table\n",
            "  Building wheel for dash (setup.py) ... \u001b[?25l\u001b[?25hdone\n",
            "  Created wheel for dash: filename=dash-1.18.1-cp36-none-any.whl size=83681 sha256=f76249c29c04228ff4dde8b67c41467eed585f11f0321127ce26ececb615437b\n",
            "  Stored in directory: /root/.cache/pip/wheels/eb/56/fb/79b2169ce9fcb79753ec57a16abb8f0b7750b4c63d7eb3cea9\n",
            "  Building wheel for dash-renderer (setup.py) ... \u001b[?25l\u001b[?25hdone\n",
            "  Created wheel for dash-renderer: filename=dash_renderer-1.8.3-cp36-none-any.whl size=1013945 sha256=9440f7db24d795f6453c3879471a711dbef038e5e8aa306115757d6855bdc574\n",
            "  Stored in directory: /root/.cache/pip/wheels/cf/2b/5f/0928a6d1b7ebf280f21a2e925f36d662e6ba83e00b82c6b6bf\n",
            "  Building wheel for dash-core-components (setup.py) ... \u001b[?25l\u001b[?25hdone\n",
            "  Created wheel for dash-core-components: filename=dash_core_components-1.14.1-cp36-none-any.whl size=3525927 sha256=75b0be28724135a942f44962f092b14f06d981faef3930115eb115987b96d210\n",
            "  Stored in directory: /root/.cache/pip/wheels/e3/20/48/9022e1f2cb2fed4d9925370d0e17cbb3ab1164f3742d9b5e5a\n",
            "  Building wheel for dash-html-components (setup.py) ... \u001b[?25l\u001b[?25hdone\n",
            "  Created wheel for dash-html-components: filename=dash_html_components-1.1.1-cp36-none-any.whl size=427894 sha256=d0f2a04df670e04685514a8c993317771af50ca29a48edbf8ae7474102656393\n",
            "  Stored in directory: /root/.cache/pip/wheels/8d/01/46/78e4de185a8a4a2da8ba31da16c52170f036d4cebeeb6e07a2\n",
            "  Building wheel for dash-table (setup.py) ... \u001b[?25l\u001b[?25hdone\n",
            "  Created wheel for dash-table: filename=dash_table-4.11.1-cp36-none-any.whl size=1839869 sha256=f1901510499e03be2925bc91720b5e4b561563454d0d18b88ed7440678789941\n",
            "  Stored in directory: /root/.cache/pip/wheels/53/a0/0e/1105943524ee7060c5c45a22e45c77777a3d8801f2fe49e445\n",
            "Successfully built dash dash-renderer dash-core-components dash-html-components dash-table\n",
            "Installing collected packages: brotli, flask-compress, dash-renderer, dash-core-components, dash-html-components, dash-table, dash, ansi2html, jupyter-dash\n",
            "Successfully installed ansi2html-1.6.0 brotli-1.0.9 dash-1.18.1 dash-core-components-1.14.1 dash-html-components-1.1.1 dash-renderer-1.8.3 dash-table-4.11.1 flask-compress-1.8.0 jupyter-dash-0.3.1\n"
          ],
          "name": "stdout"
        }
      ]
    },
    {
      "cell_type": "code",
      "metadata": {
        "id": "D_r1V6yhC_Hs"
      },
      "source": [
        "from jupyter_dash import JupyterDash\n",
        "import dash\n",
        "import dash_table\n",
        "import pandas as pd\n",
        "from sklearn.datasets import load_boston\n",
        "\n",
        "app = JupyterDash()\n",
        "boston = load_boston()\n",
        "df = pd.DataFrame(boston.data, columns = boston.feature_names)\n",
        "df['MEDV'] = boston.target"
      ],
      "execution_count": 2,
      "outputs": []
    },
    {
      "cell_type": "code",
      "metadata": {
        "colab": {
          "base_uri": "https://localhost:8080/",
          "height": 670
        },
        "id": "aLXUnhQ9DJbz",
        "outputId": "cadf7c2b-2e70-475c-b467-032f63c4fe2e"
      },
      "source": [
        "app.layout = dash_table.DataTable(\n",
        "    id = 'table', \n",
        "    columns = [{\"name\": i, \"id\": j} for i,j in zip(df, df.columns)],\n",
        "    data=df.to_dict('records'),\n",
        ")\n",
        "app.run_server(mode=\"inline\")"
      ],
      "execution_count": 3,
      "outputs": [
        {
          "output_type": "display_data",
          "data": {
            "application/javascript": [
              "(async (port, path, width, height, cache, element) => {\n",
              "    if (!google.colab.kernel.accessAllowed && !cache) {\n",
              "      return;\n",
              "    }\n",
              "    element.appendChild(document.createTextNode(''));\n",
              "    const url = await google.colab.kernel.proxyPort(port, {cache});\n",
              "    const iframe = document.createElement('iframe');\n",
              "    iframe.src = url + path;\n",
              "    iframe.height = height;\n",
              "    iframe.width = width;\n",
              "    iframe.style.border = 0;\n",
              "    element.appendChild(iframe);\n",
              "  })(8050, \"/\", \"100%\", 650, false, window.element)"
            ],
            "text/plain": [
              "<IPython.core.display.Javascript object>"
            ]
          },
          "metadata": {
            "tags": []
          }
        }
      ]
    },
    {
      "cell_type": "code",
      "metadata": {
        "colab": {
          "base_uri": "https://localhost:8080/",
          "height": 670
        },
        "id": "mBhl9klUDPgs",
        "outputId": "d8456cfe-1f48-4c4a-e5a3-21eb37866fc4"
      },
      "source": [
        "app.layout = dash_table.DataTable(\n",
        "    id = 'table',\n",
        "    columns = [{\"name\": i, \"id\": j} for i,j in zip(df,df.columns)],\n",
        "    data=df.to_dict('records'),\n",
        "    page_size = 10\n",
        ")\n",
        "\n",
        "app.run_server(mode=\"inline\")"
      ],
      "execution_count": 4,
      "outputs": [
        {
          "output_type": "display_data",
          "data": {
            "application/javascript": [
              "(async (port, path, width, height, cache, element) => {\n",
              "    if (!google.colab.kernel.accessAllowed && !cache) {\n",
              "      return;\n",
              "    }\n",
              "    element.appendChild(document.createTextNode(''));\n",
              "    const url = await google.colab.kernel.proxyPort(port, {cache});\n",
              "    const iframe = document.createElement('iframe');\n",
              "    iframe.src = url + path;\n",
              "    iframe.height = height;\n",
              "    iframe.width = width;\n",
              "    iframe.style.border = 0;\n",
              "    element.appendChild(iframe);\n",
              "  })(8050, \"/\", \"100%\", 650, false, window.element)"
            ],
            "text/plain": [
              "<IPython.core.display.Javascript object>"
            ]
          },
          "metadata": {
            "tags": []
          }
        }
      ]
    },
    {
      "cell_type": "code",
      "metadata": {
        "colab": {
          "base_uri": "https://localhost:8080/",
          "height": 670
        },
        "id": "1kCS-8oCDZHi",
        "outputId": "9effa62d-b69c-4fe3-ea7a-88b01618af48"
      },
      "source": [
        "app.layout = dash_table.DataTable(\n",
        "    id='table',\n",
        "    columns = [{\"name\": i, \"id\": j} for i,j in zip(df,df.columns)],\n",
        "    data=df.to_dict('records'),\n",
        "    page_size = 10,\n",
        "    filter_action = 'native'\n",
        ")\n",
        "\n",
        "app.run_server(mode=\"inline\")"
      ],
      "execution_count": 5,
      "outputs": [
        {
          "output_type": "display_data",
          "data": {
            "application/javascript": [
              "(async (port, path, width, height, cache, element) => {\n",
              "    if (!google.colab.kernel.accessAllowed && !cache) {\n",
              "      return;\n",
              "    }\n",
              "    element.appendChild(document.createTextNode(''));\n",
              "    const url = await google.colab.kernel.proxyPort(port, {cache});\n",
              "    const iframe = document.createElement('iframe');\n",
              "    iframe.src = url + path;\n",
              "    iframe.height = height;\n",
              "    iframe.width = width;\n",
              "    iframe.style.border = 0;\n",
              "    element.appendChild(iframe);\n",
              "  })(8050, \"/\", \"100%\", 650, false, window.element)"
            ],
            "text/plain": [
              "<IPython.core.display.Javascript object>"
            ]
          },
          "metadata": {
            "tags": []
          }
        }
      ]
    },
    {
      "cell_type": "code",
      "metadata": {
        "colab": {
          "base_uri": "https://localhost:8080/",
          "height": 670
        },
        "id": "iDsb25HTDgwH",
        "outputId": "6b34aa40-71bd-496a-908c-69d53314e6a9"
      },
      "source": [
        "app.layout = dash_table.DataTable(\n",
        "    id='table',\n",
        "    columns = [{\"name\": i, \"id\": j} for i,j in zip(df,df.columns)],\n",
        "    data=df.to_dict('records'),\n",
        "    page_size = 10,\n",
        "    sort_action='native'\n",
        ")\n",
        "\n",
        "app.run_server(mode=\"inline\")"
      ],
      "execution_count": 6,
      "outputs": [
        {
          "output_type": "display_data",
          "data": {
            "application/javascript": [
              "(async (port, path, width, height, cache, element) => {\n",
              "    if (!google.colab.kernel.accessAllowed && !cache) {\n",
              "      return;\n",
              "    }\n",
              "    element.appendChild(document.createTextNode(''));\n",
              "    const url = await google.colab.kernel.proxyPort(port, {cache});\n",
              "    const iframe = document.createElement('iframe');\n",
              "    iframe.src = url + path;\n",
              "    iframe.height = height;\n",
              "    iframe.width = width;\n",
              "    iframe.style.border = 0;\n",
              "    element.appendChild(iframe);\n",
              "  })(8050, \"/\", \"100%\", 650, false, window.element)"
            ],
            "text/plain": [
              "<IPython.core.display.Javascript object>"
            ]
          },
          "metadata": {
            "tags": []
          }
        }
      ]
    },
    {
      "cell_type": "code",
      "metadata": {
        "colab": {
          "base_uri": "https://localhost:8080/",
          "height": 670
        },
        "id": "Tpguk2mgD0dO",
        "outputId": "ba0e3ebd-f872-49cf-ac30-287da01ae5b1"
      },
      "source": [
        "app.layout = dash_table.DataTable(\n",
        "    data=df.to_dict('records'),\n",
        "    columns=[{'id': c, 'name': c} for c in df.columns],\n",
        "\n",
        "    tooltip_header={i: j for i,j in zip(df.columns,[\n",
        "        '犯罪発生率',\n",
        "        '25,000平方フィート以上の住宅区画の割合',\n",
        "        '非小売業種の土地面積の割合',\n",
        "        'チャールズ川沿いか否か',\n",
        "        '窒素酸化物の濃度',\n",
        "        '平均部屋数',\n",
        "        '1940年より前に建てられた建物の割合',\n",
        "        '5つのボストンの雇用施設への重み付き距離',\n",
        "        '高速道路へのアクセスのしやすさ',\n",
        "        '10,000ドルあたりの不動産税率',\n",
        "        '生徒と教師の割合',\n",
        "        '黒人の割合',\n",
        "        '低所得者の割合'\n",
        "    ])},\n",
        "\n",
        "    # Style headers with a dotted underline to indicate a tooltip\n",
        "    style_header={\n",
        "        'textDecoration': 'underline',\n",
        "        'textDecorationStyle': 'dotted',\n",
        "    },\n",
        "\n",
        "    # Overflow into ellipsis\n",
        "    style_cell={\n",
        "        'overflow': 'hidden',\n",
        "        'textOverflow': 'ellipsis',\n",
        "        'maxWidth': 0,\n",
        "    },\n",
        "    tooltip_delay=0,\n",
        "    tooltip_duration=None\n",
        ")\n",
        "app.run_server(mode=\"inline\")"
      ],
      "execution_count": 7,
      "outputs": [
        {
          "output_type": "display_data",
          "data": {
            "application/javascript": [
              "(async (port, path, width, height, cache, element) => {\n",
              "    if (!google.colab.kernel.accessAllowed && !cache) {\n",
              "      return;\n",
              "    }\n",
              "    element.appendChild(document.createTextNode(''));\n",
              "    const url = await google.colab.kernel.proxyPort(port, {cache});\n",
              "    const iframe = document.createElement('iframe');\n",
              "    iframe.src = url + path;\n",
              "    iframe.height = height;\n",
              "    iframe.width = width;\n",
              "    iframe.style.border = 0;\n",
              "    element.appendChild(iframe);\n",
              "  })(8050, \"/\", \"100%\", 650, false, window.element)"
            ],
            "text/plain": [
              "<IPython.core.display.Javascript object>"
            ]
          },
          "metadata": {
            "tags": []
          }
        }
      ]
    },
    {
      "cell_type": "code",
      "metadata": {
        "colab": {
          "base_uri": "https://localhost:8080/",
          "height": 670
        },
        "id": "npZA8w3bEAzw",
        "outputId": "90ca71e6-9528-45b3-c8fc-54840d7db222"
      },
      "source": [
        "import dash\n",
        "import dash_html_components as html\n",
        "import dash_table\n",
        "import pandas as pd\n",
        "from collections import OrderedDict\n",
        "\n",
        "\n",
        "app = JupyterDash()\n",
        "boston = load_boston()\n",
        "df = pd.DataFrame(boston.data, columns = boston.feature_names)\n",
        "df['MEDV'] = boston.target\n",
        "\n",
        "df = pd.DataFrame(OrderedDict([\n",
        "    ('climate', ['Sunny', 'Snowy', 'Sunny', 'Rainy']),\n",
        "    ('temperature', [13, 43, 50, 30]),\n",
        "    ('city', ['NYC', 'Montreal', 'Miami', 'NYC'])\n",
        "]))\n",
        "\n",
        "\n",
        "app.layout = html.Div([\n",
        "    dash_table.DataTable(\n",
        "        id='table-dropdown',\n",
        "        data=df.to_dict('records'),\n",
        "        columns=[\n",
        "            {'id': 'climate', 'name': 'climate', 'presentation': 'dropdown'},\n",
        "            {'id': 'temperature', 'name': 'temperature'},\n",
        "            {'id': 'city', 'name': 'city', 'presentation': 'dropdown'},\n",
        "        ],\n",
        "\n",
        "        editable=True,\n",
        "        dropdown={\n",
        "            'climate': {\n",
        "                'options': [\n",
        "                    {'label': i, 'value': i}\n",
        "                    for i in df['climate'].unique()\n",
        "                ]\n",
        "            },\n",
        "            'city': {\n",
        "                 'options': [\n",
        "                    {'label': i, 'value': i}\n",
        "                    for i in df['city'].unique()\n",
        "                ]\n",
        "            }\n",
        "        }\n",
        "    ),\n",
        "    html.Div(id='table-dropdown-container')\n",
        "])\n",
        "\n",
        "\n",
        "app.run_server(mode=\"inline\")"
      ],
      "execution_count": 11,
      "outputs": [
        {
          "output_type": "display_data",
          "data": {
            "application/javascript": [
              "(async (port, path, width, height, cache, element) => {\n",
              "    if (!google.colab.kernel.accessAllowed && !cache) {\n",
              "      return;\n",
              "    }\n",
              "    element.appendChild(document.createTextNode(''));\n",
              "    const url = await google.colab.kernel.proxyPort(port, {cache});\n",
              "    const iframe = document.createElement('iframe');\n",
              "    iframe.src = url + path;\n",
              "    iframe.height = height;\n",
              "    iframe.width = width;\n",
              "    iframe.style.border = 0;\n",
              "    element.appendChild(iframe);\n",
              "  })(8050, \"/\", \"100%\", 650, false, window.element)"
            ],
            "text/plain": [
              "<IPython.core.display.Javascript object>"
            ]
          },
          "metadata": {
            "tags": []
          }
        }
      ]
    },
    {
      "cell_type": "code",
      "metadata": {
        "colab": {
          "base_uri": "https://localhost:8080/",
          "height": 670
        },
        "id": "YGNrAzdHEWA2",
        "outputId": "2c5135bd-17ce-44e0-bc88-092df27ef49f"
      },
      "source": [
        "import dash\n",
        "import dash_html_components as html\n",
        "import dash_table\n",
        "import pandas as pd\n",
        "from collections import OrderedDict\n",
        "\n",
        "app = JupyterDash()\n",
        "boston = load_boston()\n",
        "df = pd.DataFrame(boston.data, columns = boston.feature_names)\n",
        "df['MEDV'] = boston.target\n",
        "\n",
        "df_per_row_dropdown = pd.DataFrame(OrderedDict([\n",
        "    ('City', ['NYC', 'Montreal', 'Los Angeles']),\n",
        "    ('Neighborhood', ['Brooklyn', 'Mile End', 'Venice']),\n",
        "    ('Temperature (F)', [70, 60, 90]),\n",
        "]))\n",
        "\n",
        "\n",
        "app.layout = html.Div([\n",
        "    dash_table.DataTable(\n",
        "        id='dropdown_per_row',\n",
        "        data=df_per_row_dropdown.to_dict('records'),\n",
        "        columns=[\n",
        "            {'id': 'City', 'name': 'City'},\n",
        "            {'id': 'Neighborhood', 'name': 'Neighborhood', 'presentation': 'dropdown'},\n",
        "            {'id': 'Temperature (F)', 'name': 'Temperature (F)'}\n",
        "        ],\n",
        "\n",
        "        editable=True,\n",
        "        dropdown_conditional=[{\n",
        "            'if': {\n",
        "                'column_id': 'Neighborhood',\n",
        "                'filter_query': '{City} eq \"NYC\"'\n",
        "            },\n",
        "            'options': [\n",
        "                            {'label': i, 'value': i}\n",
        "                            for i in [\n",
        "                                'Brooklyn',\n",
        "                                'Queens',\n",
        "                                'Staten Island'\n",
        "                            ]\n",
        "                        ]\n",
        "        }, {\n",
        "            'if': {\n",
        "                'column_id': 'Neighborhood',\n",
        "                'filter_query': '{City} eq \"Montreal\"'\n",
        "            },\n",
        "            'options': [\n",
        "                            {'label': i, 'value': i}\n",
        "                            for i in [\n",
        "                                'Mile End',\n",
        "                                'Plateau',\n",
        "                                'Hochelaga'\n",
        "                            ]\n",
        "                        ] \n",
        "        },\n",
        "        {\n",
        "            'if': {\n",
        "                'column_id': 'Neighborhood',\n",
        "                'filter_query': '{City} eq \"Los Angeles\"'\n",
        "            },\n",
        "            'options': [\n",
        "                            {'label': i, 'value': i}\n",
        "                            for i in [\n",
        "                                'Venice',\n",
        "                                'Hollywood',\n",
        "                                'Los Feliz'\n",
        "                            ]\n",
        "                        ] \n",
        "        }]\n",
        "    ),\n",
        "    html.Div(id='dropdown_per_row_container')\n",
        "])\n",
        "\n",
        "app.run_server(mode=\"inline\")"
      ],
      "execution_count": 13,
      "outputs": [
        {
          "output_type": "display_data",
          "data": {
            "application/javascript": [
              "(async (port, path, width, height, cache, element) => {\n",
              "    if (!google.colab.kernel.accessAllowed && !cache) {\n",
              "      return;\n",
              "    }\n",
              "    element.appendChild(document.createTextNode(''));\n",
              "    const url = await google.colab.kernel.proxyPort(port, {cache});\n",
              "    const iframe = document.createElement('iframe');\n",
              "    iframe.src = url + path;\n",
              "    iframe.height = height;\n",
              "    iframe.width = width;\n",
              "    iframe.style.border = 0;\n",
              "    element.appendChild(iframe);\n",
              "  })(8050, \"/\", \"100%\", 650, false, window.element)"
            ],
            "text/plain": [
              "<IPython.core.display.Javascript object>"
            ]
          },
          "metadata": {
            "tags": []
          }
        }
      ]
    },
    {
      "cell_type": "code",
      "metadata": {
        "id": "17CzmvaFE4NV"
      },
      "source": [
        ""
      ],
      "execution_count": null,
      "outputs": []
    }
  ]
}
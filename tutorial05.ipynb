{
  "nbformat": 4,
  "nbformat_minor": 0,
  "metadata": {
    "colab": {
      "name": " tutorial05.ipynb",
      "provenance": [],
      "collapsed_sections": [],
      "toc_visible": true,
      "include_colab_link": true
    },
    "kernelspec": {
      "name": "python3",
      "display_name": "Python 3"
    }
  },
  "cells": [
    {
      "cell_type": "markdown",
      "metadata": {
        "id": "view-in-github",
        "colab_type": "text"
      },
      "source": [
        "<a href=\"https://colab.research.google.com/github/abenben/starproject-python/blob/master/tutorial05.ipynb\" target=\"_parent\"><img src=\"https://colab.research.google.com/assets/colab-badge.svg\" alt=\"Open In Colab\"/></a>"
      ]
    },
    {
      "cell_type": "markdown",
      "metadata": {
        "id": "vGWEolnGYIUx"
      },
      "source": [
        "**Python基礎講座（5日目）**\n",
        "\n",
        "* [「Python・ブロックチェーン講座」の日程](https://www.facebook.com/photo.php?fbid=1186715631679052&set=gm.752573365315679&type=3&theater&ifg=1)"
      ]
    },
    {
      "cell_type": "markdown",
      "metadata": {
        "id": "C2oU4zK9lO2n"
      },
      "source": [
        "---\n",
        "---\n",
        "---\n",
        "本日の講義\n",
        "---\n",
        "---\n",
        "---\n",
        "---\n"
      ]
    },
    {
      "cell_type": "markdown",
      "metadata": {
        "id": "BUfkwIDS5qrs"
      },
      "source": [
        "# 1.アルゴリズム"
      ]
    },
    {
      "cell_type": "markdown",
      "metadata": {
        "id": "ZjmfqBtRHOjO"
      },
      "source": [
        "## 1.1 ソートアルゴリズム\n",
        "\n"
      ]
    },
    {
      "cell_type": "markdown",
      "metadata": {
        "id": "DNCvwdUDEEeY"
      },
      "source": [
        "### 1.1.1 名前でソートする"
      ]
    },
    {
      "cell_type": "markdown",
      "metadata": {
        "id": "Nkhksqo-Hgdi"
      },
      "source": [
        "\n",
        "```python\n",
        "▶ import pprint\n",
        "▶ l = [{'Name': 'Suzuki', 'Age': 40, 'Point': 80},\n",
        "▶      {'Name': 'Tanaka', 'Age': 26},\n",
        "▶      {'Name': 'Watanabe', 'Age': 20},\n",
        "▶      {'Name': 'Sato', 'Age': 30, 'Point': 70}]\n",
        "▶ print(\"[ソート前]\")\n",
        "▶ pprint.pprint(l)\n",
        "▶ print(\"[ソート後]\")\n",
        "▶ pprint.pprint(sorted(l, key=lambda x: x['Age'], reverse=True))\n",
        "[ソート前]\n",
        "[{'Age': 40, 'Name': 'Suzuki', 'Point': 80},\n",
        "{'Age': 26, 'Name': 'Tanaka'},\n",
        "{'Age': 20, 'Name': 'Watanabe'},\n",
        "{'Age': 30, 'Name': 'Sato', 'Point': 70}]\n",
        "[ソート後]\n",
        "[{'Age': 40, 'Name': 'Suzuki', 'Point': 80},\n",
        "{'Age': 30, 'Name': 'Sato', 'Point': 70},\n",
        "{'Age': 26, 'Name': 'Tanaka'},\n",
        "{'Age': 20, 'Name': 'Watanabe'}]\n",
        "```\n",
        "\n",
        "（コードを書いて実際に確認してみよう）"
      ]
    },
    {
      "cell_type": "code",
      "metadata": {
        "id": "NMhHG4PKH8Yq"
      },
      "source": [
        "# （ここに記述）"
      ],
      "execution_count": null,
      "outputs": []
    },
    {
      "cell_type": "markdown",
      "metadata": {
        "id": "kXUYhd4vlPki"
      },
      "source": [
        "---\n",
        "---\n",
        "---\n",
        "---\n",
        "---\n",
        "# 2.数学"
      ]
    },
    {
      "cell_type": "markdown",
      "metadata": {
        "id": "kbeT6ctT5BHi"
      },
      "source": [
        "## 2.1 方程式\n"
      ]
    },
    {
      "cell_type": "markdown",
      "metadata": {
        "id": "xOoZ9OmAExhA"
      },
      "source": [
        "### 2.1.1 連立方程式（sympy）"
      ]
    },
    {
      "cell_type": "markdown",
      "metadata": {
        "id": "l8lRHCQq7pTN"
      },
      "source": [
        "\n",
        "```python\n",
        "▶ import os\n",
        "▶ from sympy import Symbol, solve\n",
        "▶ a = Symbol('a')\n",
        "▶ b = Symbol('b')\n",
        "▶ ex1 = a + b - 1\n",
        "▶ ex2 = 5*a + b - 3\n",
        "▶ print(solve((ex1,ex2)))\n",
        "{a: 1/2, b: 1/2}\n",
        "```\n",
        "（コードを書いて実際に確認してみよう）"
      ]
    },
    {
      "cell_type": "code",
      "metadata": {
        "id": "BJwDioEWaqaW"
      },
      "source": [
        "# （ここに記述）"
      ],
      "execution_count": null,
      "outputs": []
    },
    {
      "cell_type": "markdown",
      "metadata": {
        "id": "0nTYWz_P5BqH"
      },
      "source": [
        "## 2.2 行列\n"
      ]
    },
    {
      "cell_type": "markdown",
      "metadata": {
        "id": "7GLHAurOFKpQ"
      },
      "source": [
        "### 2.2.1 行列の積"
      ]
    },
    {
      "cell_type": "markdown",
      "metadata": {
        "id": "NgTY5ORb7717"
      },
      "source": [
        "\n",
        "**（PathLibライブラリのインポート）**\n",
        "\n",
        "```python\n",
        "▶ mport numpy as np\n",
        "▶ A = np.matrix([[1,3],[2,1]])\n",
        "▶ B = np.matrix([[150,250],[130,230]])\n",
        "▶ A * B\n",
        "matrix([[540, 940],\n",
        "        [430, 730]])\n",
        "```\n",
        "（コードを書いて実際に確認してみよう）"
      ]
    },
    {
      "cell_type": "code",
      "metadata": {
        "id": "nIP3RrRychyn"
      },
      "source": [
        "# （ここに記述）"
      ],
      "execution_count": null,
      "outputs": []
    },
    {
      "cell_type": "markdown",
      "metadata": {
        "id": "JRc7jFZ1ZfBh"
      },
      "source": [
        "---\n",
        "---\n",
        "---\n",
        "---\n",
        "---\n",
        "---\n",
        "---\n",
        "# 補足 Pythonの公式な言語リファレンス\n",
        "\n",
        "* 公式なマニュアルはこちらですが、内容は難しいので最初はわかりやすい情報や、本などを参考にしましょう。\n",
        "* 英語\n",
        " * https://docs.python.org/3/reference/index.html\n",
        "* 日本語\n",
        " * https://docs.python.org/ja/3/reference/index.html"
      ]
    }
  ]
}

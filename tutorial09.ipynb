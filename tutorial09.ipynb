{
  "nbformat": 4,
  "nbformat_minor": 0,
  "metadata": {
    "colab": {
      "name": "tutorial09.ipynb",
      "provenance": [],
      "collapsed_sections": [],
      "toc_visible": true,
      "include_colab_link": true
    },
    "kernelspec": {
      "name": "python3",
      "display_name": "Python 3"
    }
  },
  "cells": [
    {
      "cell_type": "markdown",
      "metadata": {
        "id": "view-in-github",
        "colab_type": "text"
      },
      "source": [
        "<a href=\"https://colab.research.google.com/github/abenben/starproject-python/blob/master/tutorial09.ipynb\" target=\"_parent\"><img src=\"https://colab.research.google.com/assets/colab-badge.svg\" alt=\"Open In Colab\"/></a>"
      ]
    },
    {
      "cell_type": "markdown",
      "metadata": {
        "id": "vGWEolnGYIUx"
      },
      "source": [
        "**Python基礎講座（8日目）**\n",
        "\n",
        "* [「Python・ブロックチェーン講座」の日程](https://www.facebook.com/photo.php?fbid=1186715631679052&set=gm.752573365315679&type=3&theater&ifg=1)"
      ]
    },
    {
      "cell_type": "markdown",
      "metadata": {
        "id": "C2oU4zK9lO2n"
      },
      "source": [
        "---\n",
        "---\n",
        "---\n",
        "本日の講義（データ処理）\n",
        "---\n",
        "---\n",
        "---\n",
        "---\n"
      ]
    },
    {
      "cell_type": "markdown",
      "metadata": {
        "id": "BUfkwIDS5qrs"
      },
      "source": [
        "# 1.データベース"
      ]
    },
    {
      "cell_type": "markdown",
      "metadata": {
        "id": "4mf9oGUMVSxh"
      },
      "source": [
        "## 1.1 Sqlite3\n",
        "\n",
        "Sqlite3\n",
        "\n",
        "```python\n",
        "[プログラム]\n",
        "import sqlite3\n",
        "```\n",
        "\n",
        "（コードを実際に実行してみましょう）"
      ]
    },
    {
      "cell_type": "code",
      "metadata": {
        "id": "XtdLZTywN-gz"
      },
      "source": [
        "import sqlite3"
      ],
      "execution_count": 2,
      "outputs": []
    },
    {
      "cell_type": "code",
      "metadata": {
        "id": "vrS3hSBUV9t8"
      },
      "source": [
        "# （実行しましょう）\n",
        "#from google.colab import files\n",
        "#uploaded = files.upload()"
      ],
      "execution_count": 3,
      "outputs": []
    },
    {
      "cell_type": "markdown",
      "metadata": {
        "id": "c_eB0jK0sthD"
      },
      "source": [
        "データベース名を決める"
      ]
    },
    {
      "cell_type": "code",
      "metadata": {
        "id": "LtiNHrZ2OYMV"
      },
      "source": [
        "dbname = 'trains.db'"
      ],
      "execution_count": 4,
      "outputs": []
    },
    {
      "cell_type": "markdown",
      "metadata": {
        "id": "IRHDFWUSPOy2"
      },
      "source": [
        "### 1.1.1 データベース作成"
      ]
    },
    {
      "cell_type": "code",
      "metadata": {
        "id": "McjZ0poYsASF"
      },
      "source": [
        "dbname = 'trains.db'\n",
        "con=sqlite3.connect(dbname)"
      ],
      "execution_count": 5,
      "outputs": []
    },
    {
      "cell_type": "markdown",
      "metadata": {
        "id": "76M4tDNCsEAk"
      },
      "source": [
        "### 1.1.2 テーブル作成"
      ]
    },
    {
      "cell_type": "code",
      "metadata": {
        "id": "fGIAPNuQN71y"
      },
      "source": [
        "dbname = 'trains.db'\n",
        "con=sqlite3.connect(dbname)\n",
        "cur = con.cursor()\n",
        "sql = \"create table fruits(name text, price text);\"\n",
        "cur.execute(sql)\n",
        "con.close()"
      ],
      "execution_count": 7,
      "outputs": []
    },
    {
      "cell_type": "markdown",
      "metadata": {
        "id": "KQUgrBPbsfME"
      },
      "source": [
        "###1.1.3 データ追加"
      ]
    },
    {
      "cell_type": "markdown",
      "metadata": {
        "id": "hccs_czgPTUq"
      },
      "source": [
        "#### 1.1.3(a) 1レコード追加"
      ]
    },
    {
      "cell_type": "code",
      "metadata": {
        "id": "BgcxvC52OFoI"
      },
      "source": [
        "con=sqlite3.connect(dbname)\n",
        "cur = con.cursor()\n",
        "sql = \"insert into fruits values('apple', '100yen')\"\n",
        "cur.execute(sql)\n",
        "con.commit()\n",
        "con.close()"
      ],
      "execution_count": 8,
      "outputs": []
    },
    {
      "cell_type": "markdown",
      "metadata": {
        "id": "KdHyPCDWsMb-"
      },
      "source": [
        "####1.1.3(b) 一括追加"
      ]
    },
    {
      "cell_type": "code",
      "metadata": {
        "id": "TcjOitdsOIRz"
      },
      "source": [
        "con=sqlite3.connect(dbname)\n",
        "cur = con.cursor()\n",
        "sql = \"insert into fruits values('apple', '100yen')\"\n",
        "cur.executemany(\"insert into fruits values(?, ?)\", [('orange', '150yen'), ('banana', '200yen')])\n",
        "con.commit()\n",
        "con.close()"
      ],
      "execution_count": 9,
      "outputs": []
    },
    {
      "cell_type": "markdown",
      "metadata": {
        "id": "YYoAjyT1sS6a"
      },
      "source": [
        "### 1.1.4 データ参照"
      ]
    },
    {
      "cell_type": "code",
      "metadata": {
        "id": "_Bxz7QxrOdKb",
        "outputId": "e6a84d80-93f6-4ce8-f891-d258de28dbe5",
        "colab": {
          "base_uri": "https://localhost:8080/"
        }
      },
      "source": [
        "con=sqlite3.connect(dbname)\n",
        "cur = con.cursor()\n",
        "sql = \"select * from fruits\"\n",
        "cur.execute(sql)\n",
        "for row in cur:\n",
        "    print(row[0], row[1])\n",
        "con.close()"
      ],
      "execution_count": 10,
      "outputs": [
        {
          "output_type": "stream",
          "text": [
            "apple 100yen\n",
            "orange 150yen\n",
            "banana 200yen\n"
          ],
          "name": "stdout"
        }
      ]
    },
    {
      "cell_type": "markdown",
      "metadata": {
        "id": "uiOKNgrNO4kj"
      },
      "source": [
        "## 1.2 PoStgresql"
      ]
    },
    {
      "cell_type": "markdown",
      "metadata": {
        "id": "VEsFE4Y7PEex"
      },
      "source": [
        "### 1.2.1 接続・参照"
      ]
    },
    {
      "cell_type": "markdown",
      "metadata": {
        "id": "ZjmfqBtRHOjO"
      },
      "source": [
        "## 1.3 MySQL\n",
        "\n"
      ]
    },
    {
      "cell_type": "markdown",
      "metadata": {
        "id": "DNCvwdUDEEeY"
      },
      "source": [
        "### 1.3.1 接続・参照\n"
      ]
    },
    {
      "cell_type": "markdown",
      "metadata": {
        "id": "hJ3EO7x3Ox3D"
      },
      "source": [
        ""
      ]
    },
    {
      "cell_type": "code",
      "metadata": {
        "id": "La_9oDAhWMz6"
      },
      "source": [
        "# （ここに記述）"
      ],
      "execution_count": null,
      "outputs": []
    },
    {
      "cell_type": "code",
      "metadata": {
        "id": "np4pR446X66s"
      },
      "source": [
        "# （ここに記述）"
      ],
      "execution_count": null,
      "outputs": []
    },
    {
      "cell_type": "markdown",
      "metadata": {
        "id": "JRc7jFZ1ZfBh"
      },
      "source": [
        "---\n",
        "---\n",
        "---\n",
        "---\n",
        "---\n",
        "---\n",
        "---\n",
        "# 補足 Pythonの公式な言語リファレンス\n",
        "\n",
        "* 公式なマニュアルはこちらですが、内容は難しいので最初はわかりやすい情報や、本などを参考にしましょう。\n",
        "* 英語\n",
        " * https://docs.python.org/3/reference/index.html\n",
        "* 日本語\n",
        " * https://docs.python.org/ja/3/reference/index.html"
      ]
    }
  ]
}
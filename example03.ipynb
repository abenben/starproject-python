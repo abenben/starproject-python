{
  "nbformat": 4,
  "nbformat_minor": 0,
  "metadata": {
    "colab": {
      "name": "example03.ipynb",
      "provenance": [],
      "authorship_tag": "ABX9TyPJMCj7v9BOBJ94kF7+9lwY",
      "include_colab_link": true
    },
    "kernelspec": {
      "name": "python3",
      "display_name": "Python 3"
    }
  },
  "cells": [
    {
      "cell_type": "markdown",
      "metadata": {
        "id": "view-in-github",
        "colab_type": "text"
      },
      "source": [
        "<a href=\"https://colab.research.google.com/github/abenben/starproject-python/blob/master/example03.ipynb\" target=\"_parent\"><img src=\"https://colab.research.google.com/assets/colab-badge.svg\" alt=\"Open In Colab\"/></a>"
      ]
    },
    {
      "cell_type": "code",
      "metadata": {
        "id": "fkMQpDz7C79U"
      },
      "source": [
        "!pip install pandas dash jupyter-dash"
      ],
      "execution_count": null,
      "outputs": []
    },
    {
      "cell_type": "code",
      "metadata": {
        "id": "D_r1V6yhC_Hs"
      },
      "source": [
        "from jupyter_dash import JupyterDash\n",
        "import dash\n",
        "import dash_table\n",
        "import pandas as pd\n",
        "from sklearn.datasets import load_boston\n",
        "\n",
        "app = JupyterDash()\n",
        "boston = load_boston()\n",
        "df = pd.DataFrame(boston.data, columns = boston.feature_names)\n",
        "df['MEDV'] = boston.target"
      ],
      "execution_count": null,
      "outputs": []
    },
    {
      "cell_type": "code",
      "metadata": {
        "id": "aLXUnhQ9DJbz"
      },
      "source": [
        "app.layout = dash_table.DataTable(\n",
        "    id = 'table', \n",
        "    columns = [{\"name\": i, \"id\": j} for i,j in zip(df, df.columns)],\n",
        "    data=df.to_dict('records'),\n",
        ")\n",
        "app.run_server(mode=\"inline\")"
      ],
      "execution_count": null,
      "outputs": []
    },
    {
      "cell_type": "code",
      "metadata": {
        "id": "mBhl9klUDPgs"
      },
      "source": [
        "app.layout = dash_table.DataTable(\n",
        "    id = 'table',\n",
        "    columns = [{\"name\": i, \"id\": j} for i,j in zip(df,df.columns)],\n",
        "    data=df.to_dict('records'),\n",
        "    page_size = 10\n",
        ")\n",
        "\n",
        "app.run_server(mode=\"inline\")"
      ],
      "execution_count": null,
      "outputs": []
    },
    {
      "cell_type": "code",
      "metadata": {
        "id": "1kCS-8oCDZHi"
      },
      "source": [
        "app.layout = dash_table.DataTable(\n",
        "    id='table',\n",
        "    columns = [{\"name\": i, \"id\": j} for i,j in zip(df,df.columns)],\n",
        "    data=df.to_dict('records'),\n",
        "    page_size = 10,\n",
        "    filter_action = 'native'\n",
        ")\n",
        "\n",
        "app.run_server(mode=\"inline\")"
      ],
      "execution_count": null,
      "outputs": []
    },
    {
      "cell_type": "code",
      "metadata": {
        "id": "iDsb25HTDgwH"
      },
      "source": [
        "app.layout = dash_table.DataTable(\n",
        "    id='table',\n",
        "    columns = [{\"name\": i, \"id\": j} for i,j in zip(df,df.columns)],\n",
        "    data=df.to_dict('records'),\n",
        "    page_size = 10,\n",
        "    sort_action='native'\n",
        ")\n",
        "\n",
        "app.run_server(mode=\"inline\")"
      ],
      "execution_count": null,
      "outputs": []
    },
    {
      "cell_type": "code",
      "metadata": {
        "id": "Tpguk2mgD0dO"
      },
      "source": [
        "app.layout = dash_table.DataTable(\n",
        "    data=df.to_dict('records'),\n",
        "    columns=[{'id': c, 'name': c} for c in df.columns],\n",
        "\n",
        "    tooltip_header={i: j for i,j in zip(df.columns,[\n",
        "        '犯罪発生率',\n",
        "        '25,000平方フィート以上の住宅区画の割合',\n",
        "        '非小売業種の土地面積の割合',\n",
        "        'チャールズ川沿いか否か',\n",
        "        '窒素酸化物の濃度',\n",
        "        '平均部屋数',\n",
        "        '1940年より前に建てられた建物の割合',\n",
        "        '5つのボストンの雇用施設への重み付き距離',\n",
        "        '高速道路へのアクセスのしやすさ',\n",
        "        '10,000ドルあたりの不動産税率',\n",
        "        '生徒と教師の割合',\n",
        "        '黒人の割合',\n",
        "        '低所得者の割合'\n",
        "    ])},\n",
        "\n",
        "    # Style headers with a dotted underline to indicate a tooltip\n",
        "    style_header={\n",
        "        'textDecoration': 'underline',\n",
        "        'textDecorationStyle': 'dotted',\n",
        "    },\n",
        "\n",
        "    # Overflow into ellipsis\n",
        "    style_cell={\n",
        "        'overflow': 'hidden',\n",
        "        'textOverflow': 'ellipsis',\n",
        "        'maxWidth': 0,\n",
        "    },\n",
        "    tooltip_delay=0,\n",
        "    tooltip_duration=None\n",
        ")\n",
        "app.run_server(mode=\"inline\")"
      ],
      "execution_count": null,
      "outputs": []
    },
    {
      "cell_type": "code",
      "metadata": {
        "id": "npZA8w3bEAzw"
      },
      "source": [
        "import dash\n",
        "import dash_html_components as html\n",
        "import dash_table\n",
        "import pandas as pd\n",
        "from collections import OrderedDict\n",
        "\n",
        "\n",
        "app = JupyterDash()\n",
        "boston = load_boston()\n",
        "df = pd.DataFrame(boston.data, columns = boston.feature_names)\n",
        "df['MEDV'] = boston.target\n",
        "\n",
        "df = pd.DataFrame(OrderedDict([\n",
        "    ('climate', ['Sunny', 'Snowy', 'Sunny', 'Rainy']),\n",
        "    ('temperature', [13, 43, 50, 30]),\n",
        "    ('city', ['NYC', 'Montreal', 'Miami', 'NYC'])\n",
        "]))\n",
        "\n",
        "\n",
        "app.layout = html.Div([\n",
        "    dash_table.DataTable(\n",
        "        id='table-dropdown',\n",
        "        data=df.to_dict('records'),\n",
        "        columns=[\n",
        "            {'id': 'climate', 'name': 'climate', 'presentation': 'dropdown'},\n",
        "            {'id': 'temperature', 'name': 'temperature'},\n",
        "            {'id': 'city', 'name': 'city', 'presentation': 'dropdown'},\n",
        "        ],\n",
        "\n",
        "        editable=True,\n",
        "        dropdown={\n",
        "            'climate': {\n",
        "                'options': [\n",
        "                    {'label': i, 'value': i}\n",
        "                    for i in df['climate'].unique()\n",
        "                ]\n",
        "            },\n",
        "            'city': {\n",
        "                 'options': [\n",
        "                    {'label': i, 'value': i}\n",
        "                    for i in df['city'].unique()\n",
        "                ]\n",
        "            }\n",
        "        }\n",
        "    ),\n",
        "    html.Div(id='table-dropdown-container')\n",
        "])\n",
        "\n",
        "\n",
        "app.run_server(mode=\"inline\")"
      ],
      "execution_count": null,
      "outputs": []
    },
    {
      "cell_type": "code",
      "metadata": {
        "id": "YGNrAzdHEWA2"
      },
      "source": [
        "import dash\n",
        "import dash_html_components as html\n",
        "import dash_table\n",
        "import pandas as pd\n",
        "from collections import OrderedDict\n",
        "\n",
        "app = JupyterDash()\n",
        "boston = load_boston()\n",
        "df = pd.DataFrame(boston.data, columns = boston.feature_names)\n",
        "df['MEDV'] = boston.target\n",
        "\n",
        "df_per_row_dropdown = pd.DataFrame(OrderedDict([\n",
        "    ('City', ['NYC', 'Montreal', 'Los Angeles']),\n",
        "    ('Neighborhood', ['Brooklyn', 'Mile End', 'Venice']),\n",
        "    ('Temperature (F)', [70, 60, 90]),\n",
        "]))\n",
        "\n",
        "\n",
        "app.layout = html.Div([\n",
        "    dash_table.DataTable(\n",
        "        id='dropdown_per_row',\n",
        "        data=df_per_row_dropdown.to_dict('records'),\n",
        "        columns=[\n",
        "            {'id': 'City', 'name': 'City'},\n",
        "            {'id': 'Neighborhood', 'name': 'Neighborhood', 'presentation': 'dropdown'},\n",
        "            {'id': 'Temperature (F)', 'name': 'Temperature (F)'}\n",
        "        ],\n",
        "\n",
        "        editable=True,\n",
        "        dropdown_conditional=[{\n",
        "            'if': {\n",
        "                'column_id': 'Neighborhood',\n",
        "                'filter_query': '{City} eq \"NYC\"'\n",
        "            },\n",
        "            'options': [\n",
        "                            {'label': i, 'value': i}\n",
        "                            for i in [\n",
        "                                'Brooklyn',\n",
        "                                'Queens',\n",
        "                                'Staten Island'\n",
        "                            ]\n",
        "                        ]\n",
        "        }, {\n",
        "            'if': {\n",
        "                'column_id': 'Neighborhood',\n",
        "                'filter_query': '{City} eq \"Montreal\"'\n",
        "            },\n",
        "            'options': [\n",
        "                            {'label': i, 'value': i}\n",
        "                            for i in [\n",
        "                                'Mile End',\n",
        "                                'Plateau',\n",
        "                                'Hochelaga'\n",
        "                            ]\n",
        "                        ] \n",
        "        },\n",
        "        {\n",
        "            'if': {\n",
        "                'column_id': 'Neighborhood',\n",
        "                'filter_query': '{City} eq \"Los Angeles\"'\n",
        "            },\n",
        "            'options': [\n",
        "                            {'label': i, 'value': i}\n",
        "                            for i in [\n",
        "                                'Venice',\n",
        "                                'Hollywood',\n",
        "                                'Los Feliz'\n",
        "                            ]\n",
        "                        ] \n",
        "        }]\n",
        "    ),\n",
        "    html.Div(id='dropdown_per_row_container')\n",
        "])\n",
        "\n",
        "app.run_server(mode=\"inline\")"
      ],
      "execution_count": null,
      "outputs": []
    },
    {
      "cell_type": "code",
      "metadata": {
        "id": "17CzmvaFE4NV"
      },
      "source": [
        ""
      ],
      "execution_count": null,
      "outputs": []
    }
  ]
}
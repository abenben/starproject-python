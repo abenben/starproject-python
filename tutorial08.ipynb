{
  "nbformat": 4,
  "nbformat_minor": 0,
  "metadata": {
    "colab": {
      "name": "tutorial08.ipynb",
      "provenance": [],
      "collapsed_sections": [],
      "toc_visible": true,
      "include_colab_link": true
    },
    "kernelspec": {
      "name": "python3",
      "display_name": "Python 3"
    }
  },
  "cells": [
    {
      "cell_type": "markdown",
      "metadata": {
        "id": "view-in-github",
        "colab_type": "text"
      },
      "source": [
        "<a href=\"https://colab.research.google.com/github/abenben/starproject-python/blob/master/tutorial08.ipynb\" target=\"_parent\"><img src=\"https://colab.research.google.com/assets/colab-badge.svg\" alt=\"Open In Colab\"/></a>"
      ]
    },
    {
      "cell_type": "markdown",
      "metadata": {
        "id": "vGWEolnGYIUx"
      },
      "source": [
        "**Python基礎講座（8日目）**\n",
        "\n",
        "* [「Python・ブロックチェーン講座」の日程](https://www.facebook.com/photo.php?fbid=1186715631679052&set=gm.752573365315679&type=3&theater&ifg=1)"
      ]
    },
    {
      "cell_type": "markdown",
      "metadata": {
        "id": "C2oU4zK9lO2n"
      },
      "source": [
        "---\n",
        "---\n",
        "---\n",
        "本日の講義（データ処理）\n",
        "---\n",
        "---\n",
        "---\n",
        "---\n"
      ]
    },
    {
      "cell_type": "markdown",
      "metadata": {
        "id": "BUfkwIDS5qrs"
      },
      "source": [
        "# 1.Pandas（ファイル入出力編）"
      ]
    },
    {
      "cell_type": "markdown",
      "metadata": {
        "id": "4mf9oGUMVSxh"
      },
      "source": [
        "## 1.0 宣言\n",
        "\n",
        "pandas\n",
        "\n",
        "```python\n",
        "[プログラム]\n",
        "import pandas as pd\n",
        "```\n",
        "\n",
        "（コードを実際に実行してみましょう）"
      ]
    },
    {
      "cell_type": "code",
      "metadata": {
        "id": "vrS3hSBUV9t8"
      },
      "source": [
        "# （実行しましょう）\n",
        "import pandas as pd"
      ],
      "execution_count": 2,
      "outputs": []
    },
    {
      "cell_type": "markdown",
      "metadata": {
        "id": "ZjmfqBtRHOjO"
      },
      "source": [
        "## 1.1 ファイル読み込み\n",
        "\n"
      ]
    },
    {
      "cell_type": "markdown",
      "metadata": {
        "id": "DNCvwdUDEEeY"
      },
      "source": [
        "### 1.1.1 CSV、TSVファイル読み込み\n",
        "\n",
        "* CSV、TSVファイルの読み込みにはread_csv()を利用する。\n",
        "\n",
        "```python\n",
        "[プログラム]\n",
        "csv_file='https://github.com/abenben/starproject-python/raw/master/sampledata/tutorial05/store.csv'\n",
        "df=pd.read_csv(csv_file)\n",
        "df\n",
        "```\n",
        "\n",
        "||店舗名|期首在庫数|売上数|仕入数|\n",
        "|---|---|---|---|---|\n",
        "|**0**|新宿店|100|50|100|\n",
        "|**1**|池袋店|500|200|1000|\n",
        "|**2**|銀座店|800|300|600|\n",
        "|**3**|秋葉原店|300|100|500|\n",
        "|**4**|大手町店|700|200|1000|\n",
        "\n",
        "（コードを書いて実際に確認してみよう）"
      ]
    },
    {
      "cell_type": "code",
      "metadata": {
        "id": "La_9oDAhWMz6"
      },
      "source": [
        "# （ここに記述）"
      ],
      "execution_count": null,
      "outputs": []
    },
    {
      "cell_type": "markdown",
      "metadata": {
        "id": "NWJidQYVqHYb"
      },
      "source": [
        "#### 1.1.1(a) ヘッダー、カラムを指定\n",
        "\n",
        "* ヘッダーやカラムに指定したい位置（インデック番号）を指定する\n",
        "\n",
        "```python\n",
        "[プログラム]\n",
        "csv_file='https://github.com/abenben/starproject-python/raw/master/sampledata/tutorial05/store.csv'\n",
        "df=pd.read_csv(csv_file,index_col=0,header=0)\n",
        "df\n",
        "```\n",
        "\n",
        "|**店舗名**|期首在庫数|売上数|仕入数|\n",
        "|---|---|---|---|\n",
        "|**新宿店**|100|50|100|\n",
        "|**池袋店**|500|200|1000|\n",
        "|**銀座店**|800|300|600|\n",
        "|**秋葉原店**|300|100|500|\n",
        "|**大手町店**|700|200|1000|\n",
        "\n",
        "（コードを書いて実際に確認してみよう）"
      ]
    },
    {
      "cell_type": "code",
      "metadata": {
        "id": "LmWIkzC8h1vl"
      },
      "source": [
        "# （ここに記述）"
      ],
      "execution_count": null,
      "outputs": []
    },
    {
      "cell_type": "markdown",
      "metadata": {
        "id": "fu3-lGuoWc8B"
      },
      "source": [
        "#### 1.1.1(b) ヘッダー・カラムの指定無し\n",
        "\n",
        "* header=Noneを指定する。\n",
        "\n",
        "```python\n",
        "[プログラム]\n",
        "csv_file='https://github.com/abenben/starproject-python/raw/master/sampledata/tutorial05/store.csv'\n",
        "df=pd.read_csv(csv_file,index_col=None,header=None)\n",
        "df\n",
        "```\n",
        "\n",
        "||0|1|2|3|\n",
        "|---|---|---|---|---|\n",
        "|**0**|店舗名|期首在庫数|売上数|仕入数|\n",
        "|**1**|新宿店|100|50|100|\n",
        "|**2**|池袋店|500|200|1000|\n",
        "|**3**|銀座店|800|300|600|\n",
        "|**4**|秋葉原店|300|100|500|\n",
        "|**5**|大手町店|700|200|1000|\n",
        "\n",
        "（コードを書いて実際に確認してみよう）"
      ]
    },
    {
      "cell_type": "code",
      "metadata": {
        "id": "893o2ZQJsVVr"
      },
      "source": [
        "# （ここに記述）"
      ],
      "execution_count": 16,
      "outputs": []
    },
    {
      "cell_type": "markdown",
      "metadata": {
        "id": "mO6ejvB_0QZ1"
      },
      "source": [
        "#### 1.1.1(c) 任意のヘッダーを指定する\n",
        "\n",
        "* namesを利用する。\n",
        "\n",
        "```python\n",
        "[プログラム]\n",
        "csv_file='https://github.com/abenben/starproject-python/raw/master/sampledata/tutorial05/store.csv'\n",
        "df=pd.read_csv(csv_file, index_col=0, header=0,names=list(['店','在庫','売上','仕入']))\n",
        "df\n",
        "```\n",
        "\n",
        "|**店**|在庫|売上|仕入|\n",
        "|---|---|---|---|\n",
        "|**新宿店**|100|50|100|\n",
        "|**池袋店**|500|200|1000|\n",
        "|**銀座店**|800|300|600|\n",
        "|**秋葉原店**|300|100|500|\n",
        "|**大手町店**|700|200|1000|\n",
        "\n",
        "（コードを書いて実際に確認してみよう）"
      ]
    },
    {
      "cell_type": "code",
      "metadata": {
        "id": "IEgk65rZ0T6r"
      },
      "source": [
        "# （ここに記述）"
      ],
      "execution_count": null,
      "outputs": []
    },
    {
      "cell_type": "markdown",
      "metadata": {
        "id": "wHGj9MYRPSfp"
      },
      "source": [
        "#### 1.1.1(d) 列を絞って読み込む\n",
        "\n",
        "```python\n",
        "[プログラム]\n",
        "csv_file='https://github.com/abenben/starproject-python/raw/master/sampledata/tutorial05/store.csv'\n",
        "df=pd.read_csv(csv_file, usecols=['店舗名','売上数'])\n",
        "df\n",
        "```\n",
        "\n",
        "||店舗名|売上数|\n",
        "|---|---|---|\n",
        "|**0**|新宿店|50|\n",
        "|**1**|池袋店|500|\n",
        "|**2**|銀座店|300|\n",
        "|**3**|秋葉原店|100|\n",
        "|**4**|大手町店|200|\n",
        "\n",
        "（コードを書いて実際に確認してみよう）"
      ]
    },
    {
      "cell_type": "code",
      "metadata": {
        "id": "A1wQEDKEPuPu",
        "outputId": "7ffd62a1-95c1-4f97-b187-886e0913b452",
        "colab": {
          "base_uri": "https://localhost:8080/",
          "height": 204
        }
      },
      "source": [
        "# （ここに記述）"
      ],
      "execution_count": null,
      "outputs": [
        {
          "output_type": "execute_result",
          "data": {
            "text/html": [
              "<div>\n",
              "<style scoped>\n",
              "    .dataframe tbody tr th:only-of-type {\n",
              "        vertical-align: middle;\n",
              "    }\n",
              "\n",
              "    .dataframe tbody tr th {\n",
              "        vertical-align: top;\n",
              "    }\n",
              "\n",
              "    .dataframe thead th {\n",
              "        text-align: right;\n",
              "    }\n",
              "</style>\n",
              "<table border=\"1\" class=\"dataframe\">\n",
              "  <thead>\n",
              "    <tr style=\"text-align: right;\">\n",
              "      <th></th>\n",
              "      <th>店舗名</th>\n",
              "      <th>売上数</th>\n",
              "    </tr>\n",
              "  </thead>\n",
              "  <tbody>\n",
              "    <tr>\n",
              "      <th>0</th>\n",
              "      <td>新宿店</td>\n",
              "      <td>50</td>\n",
              "    </tr>\n",
              "    <tr>\n",
              "      <th>1</th>\n",
              "      <td>池袋店</td>\n",
              "      <td>200</td>\n",
              "    </tr>\n",
              "    <tr>\n",
              "      <th>2</th>\n",
              "      <td>銀座店</td>\n",
              "      <td>300</td>\n",
              "    </tr>\n",
              "    <tr>\n",
              "      <th>3</th>\n",
              "      <td>秋葉原店</td>\n",
              "      <td>100</td>\n",
              "    </tr>\n",
              "    <tr>\n",
              "      <th>4</th>\n",
              "      <td>大手町店</td>\n",
              "      <td>200</td>\n",
              "    </tr>\n",
              "  </tbody>\n",
              "</table>\n",
              "</div>"
            ],
            "text/plain": [
              "    店舗名  売上数\n",
              "0   新宿店   50\n",
              "1   池袋店  200\n",
              "2   銀座店  300\n",
              "3  秋葉原店  100\n",
              "4  大手町店  200"
            ]
          },
          "metadata": {
            "tags": []
          },
          "execution_count": 74
        }
      ]
    },
    {
      "cell_type": "markdown",
      "metadata": {
        "id": "SojBe3fdsS6N"
      },
      "source": [
        "#### 1.1.1(e) TSVファイル読み込み\n",
        "\n",
        "* セパレータにタブ（\\t）を指定する。\n",
        "\n",
        "```python\n",
        "[プログラム]\n",
        "tsv_file='https://github.com/abenben/starproject-python/raw/master/sampledata/tutorial05/store.tsv'\n",
        "df=pd.read_csv(tsv_file, index_col=0,sep='\\t')\n",
        "df\n",
        "```\n",
        "\n",
        "||店舗名|期首在庫数|売上数|仕入数|\n",
        "|---|---|---|---|---|\n",
        "|**0**|新宿店|100|50|100|\n",
        "|**1**|池袋店|500|200|1000|\n",
        "|**2**|銀座店|800|300|600|\n",
        "|**3**|秋葉原店|300|100|500|\n",
        "|**4**|大手町店|700|200|1000|\n",
        "\n",
        "（コードを書いて実際に確認してみよう）"
      ]
    },
    {
      "cell_type": "code",
      "metadata": {
        "id": "NMhHG4PKH8Yq"
      },
      "source": [
        "# （ここに記述）"
      ],
      "execution_count": null,
      "outputs": []
    },
    {
      "cell_type": "markdown",
      "metadata": {
        "id": "ILhsMdsqXExs"
      },
      "source": [
        "### 1.1.2 EXCEL読み込み\n",
        "\n",
        "```python\n",
        "[プログラム]\n",
        "excel_file='https://github.com/abenben/starproject-python/raw/master/sampledata/tutorial05/store.xlsx'\n",
        "df=pd.read_excel(excel_file)\n",
        "df\n",
        "```\n",
        "\n",
        "||店舗名|期首在庫数|売上数|仕入数|\n",
        "|---|---|---|---|---|\n",
        "|**0**|新宿店|100|50|100|\n",
        "|**1**|池袋店|500|200|1000|\n",
        "|**2**|銀座店|800|300|600|\n",
        "|**3**|秋葉原店|300|100|500|\n",
        "|**4**|大手町店|700|200|1000|\n",
        "\n",
        "（コードを書いて実際に確認してみよう）"
      ]
    },
    {
      "cell_type": "code",
      "metadata": {
        "id": "7bGjPEE6XHU1"
      },
      "source": [
        "# （ここに記述）"
      ],
      "execution_count": null,
      "outputs": []
    },
    {
      "cell_type": "markdown",
      "metadata": {
        "id": "18VlDpr1Zcg3"
      },
      "source": [
        "### 1.1.3 jsonデータ読み込み\n",
        "\n",
        "#### JSONとは\n",
        "\n",
        "* JSONとはJavaScriptObjectNotationの略。\n",
        "* データ定義文をベースとした軽量なデータ記述言語の1つ。\n",
        "* JavaScript専用のデータ形式ではなう。\n",
        "* 複数の言語間で円滑にデータの受け渡せるうように設計。\n",
        "* JSONの詳しい扱い方は公式ドキュメントを参照ください。\n",
        "* json.org URL : https://www.json.org/jsonja.html\n",
        "\n",
        "```python\n",
        "json_file2='https://github.com/abenben/starproject-python/raw/master/sampledata/tutorial05/store.json'\n",
        "df=pd.read_json(json_file2)\n",
        "df\n",
        "```\n",
        "\n",
        "||期首在庫数|売上数|仕入数|\n",
        "|---|---|---|---|\n",
        "|新宿店|100|50|100|\n",
        "|池袋店|500|200|1000|\n",
        "|銀座店|800|300|600|\n",
        "\n",
        "（コードを書いて実際に確認してみよう）"
      ]
    },
    {
      "cell_type": "code",
      "metadata": {
        "id": "A31QaQspLxvb"
      },
      "source": [
        "# （ここに記述）"
      ],
      "execution_count": 15,
      "outputs": []
    },
    {
      "cell_type": "markdown",
      "metadata": {
        "id": "KAGtKDluXnA0"
      },
      "source": [
        "### 1.1.4 Webサイト上の表を読み込む\n",
        "\n",
        "* Webサイト上のテーブル(tableタグ)を読み込む\n",
        "* 例：Yahoo!株価情報（銘柄：日立）\n",
        "* 複数まとめて読み込んでくれる（株価は２つ目のテーブル）\n",
        "```python\n",
        "[プログラム]\n",
        "from urllib.request import urlopen\n",
        "url = 'https://stocks.finance.yahoo.co.jp/stocks/history/?code=6501.T'\n",
        "f = urlopen(url)\n",
        "html = f.read()\n",
        "df = pd.io.html.read_html(html)\n",
        "df[1]\n",
        "```\n",
        "\n",
        "||\t日付|\t始値|\t高値|\t安値|\t終値|\t出来高|\t調整後終値*|\n",
        "|--|--|--|--|--|--|--|--\n",
        "|0\t|2020年11月9日|\t3548|\t3606|\t3548|\t3591|\t2175200|\t3591|\n",
        "|　：|：|：|：|：|：|：|：|\n",
        "\n",
        "（コードを書いて実際に確認してみよう）"
      ]
    },
    {
      "cell_type": "code",
      "metadata": {
        "id": "np4pR446X66s"
      },
      "source": [
        "# （ここに記述）"
      ],
      "execution_count": null,
      "outputs": []
    },
    {
      "cell_type": "markdown",
      "metadata": {
        "id": "Q-V9dQ1Cf87x"
      },
      "source": [
        "## 1.2 データのマージ\n",
        "\n",
        "複数のデータフレームに含まれる特定のカラムを基に1つにまとめることをマージという。\n",
        "\n",
        "pandasのマージはmerge()を利用する。\n",
        "\n"
      ]
    },
    {
      "cell_type": "markdown",
      "metadata": {
        "id": "e5nxMLiNYE6A"
      },
      "source": [
        "### 1.2.1 1対1のマージ（同じキー名）\n",
        "\n",
        "同じキー名でマージする場合は、mege関数のonオプションを利用する。\n",
        "\n",
        "```python\n",
        "[プログラム1]\n",
        "leftdf = pd.DataFrame({\n",
        "    '身長':[165,181,173],\n",
        "    '体重':[56,68,73],\n",
        "    '名前':['鈴木洋子','田中二郎','鈴木一郎'],\n",
        "})\n",
        "leftdf\n",
        "```\n",
        "\n",
        "||身長|体重|名前|\n",
        "|-|-|-|-|\n",
        "|0|165|56|鈴木洋子|\n",
        "|1|181|68|田中二郎|\n",
        "|2|173|73|鈴木一郎|\n",
        "\n",
        "（コードを書いて実際に確認してみよう）"
      ]
    },
    {
      "cell_type": "code",
      "metadata": {
        "id": "JjEWeHW8Ya7E"
      },
      "source": [
        "# （[プログラム1]をここに記述）"
      ],
      "execution_count": null,
      "outputs": []
    },
    {
      "cell_type": "markdown",
      "metadata": {
        "id": "LKYCZLv5-dKf"
      },
      "source": [
        "```python\n",
        "[プログラム2]\n",
        "rightdf = pd.DataFrame({\n",
        "    '名前':['鈴木洋子','田中二郎','鈴木一郎'],\n",
        "    '国語':[87,86,65],\n",
        "    '数学':[83,90,74],\n",
        "})\n",
        "rightdf\n",
        "```\n",
        "\n",
        "||名前|国語|数学|\n",
        "|-|-|-|-|\n",
        "|0|鈴木洋子|87|83|\n",
        "|1|田中二郎|86|90|\n",
        "|2|鈴木一郎|65|74|\n",
        "\n",
        "（コードを書いて実際に確認してみよう）"
      ]
    },
    {
      "cell_type": "code",
      "metadata": {
        "id": "hOHItJki1jT4"
      },
      "source": [
        "# （[プログラム2]をここに記述）"
      ],
      "execution_count": null,
      "outputs": []
    },
    {
      "cell_type": "markdown",
      "metadata": {
        "id": "z1e2Amdm-er8"
      },
      "source": [
        "```python\n",
        "[プログラム3]\n",
        "pd.merge(leftdf,rightdf,on='名前')\n",
        "```\n",
        "\n",
        "|身長|体重|名前|国語|数学|\n",
        "|-|-|-|-|-|\n",
        "|0|165|56|鈴木洋子|87|83|\n",
        "|1|181|68|田中二郎|86|90|\n",
        "|2|173|73|鈴木一郎|65|74|\n",
        "\n",
        "（コードを書いて実際に確認してみよう）"
      ]
    },
    {
      "cell_type": "code",
      "metadata": {
        "id": "iMsifd241kFl"
      },
      "source": [
        "# （[プログラム3]をここに記述）"
      ],
      "execution_count": null,
      "outputs": []
    },
    {
      "cell_type": "markdown",
      "metadata": {
        "id": "5oy7PH-628Px"
      },
      "source": [
        "### 1.2.2 1対1のマージ（キー名が異なる）\n",
        "\n",
        "異なるキー名でマージする場合は、mege関数のleft_on,right_onオプションを利用する。\n",
        "\n",
        "```python\n",
        "[プログラム1]\n",
        "leftdf = pd.DataFrame({\n",
        "    '身長':[165,181,173],\n",
        "    '体重':[56,68,73],\n",
        "    '名前':['鈴木洋子','田中二郎','鈴木一郎'],\n",
        "})\n",
        "leftdf\n",
        "```\n",
        "\n",
        "||身長|体重|名前|\n",
        "|-|-|-|-|\n",
        "|0|165|56|鈴木洋子|\n",
        "|1|181|68|田中二郎|\n",
        "|2|173|73|鈴木一郎|\n",
        "\n",
        "（コードを書いて実際に確認してみよう）"
      ]
    },
    {
      "cell_type": "code",
      "metadata": {
        "id": "eGccoR6j3Zos"
      },
      "source": [
        "# （[プログラム1]をここに記述）"
      ],
      "execution_count": null,
      "outputs": []
    },
    {
      "cell_type": "markdown",
      "metadata": {
        "id": "tLfhNhgN9wsf"
      },
      "source": [
        "```python\n",
        "[プログラム2]\n",
        "rightdf = pd.DataFrame({\n",
        "    '国語':[87,86,65],\n",
        "    '数学':[83,90,74],\n",
        "    '氏名':['鈴木洋子','田中二郎','鈴木一郎'],\n",
        "})\n",
        "rightdf\n",
        "```\n",
        "\n",
        "||国語|数学|氏名|\n",
        "|-|-|-|-|\n",
        "|0|87|83|鈴木洋子|\n",
        "|1|86|90|田中二郎|\n",
        "|2|65|74|鈴木一郎|\n",
        "\n",
        "（コードを書いて実際に確認してみよう）"
      ]
    },
    {
      "cell_type": "code",
      "metadata": {
        "id": "LlvYPUbD3Z36"
      },
      "source": [
        "# （[プログラム2]をここに記述）"
      ],
      "execution_count": null,
      "outputs": []
    },
    {
      "cell_type": "markdown",
      "metadata": {
        "id": "jsgI0q5n9yBi"
      },
      "source": [
        "```python\n",
        "[プログラム3]\n",
        "pd.merge(leftdf,rightdf,left_on='名前',right_on='氏名')\n",
        "```\n",
        "\n",
        "||身長|体重|名前|国語|数学|氏名|\n",
        "|-|-|-|-|-|-|-|\n",
        "|0|165|56|鈴木洋子|87|83|鈴木洋子|\n",
        "|1|181|68|田中二郎|86|90|田中二郎|\n",
        "|2|173|73|鈴木一郎|65|74|鈴木一郎|\n",
        "\n",
        "（コードを書いて実際に確認してみよう）"
      ]
    },
    {
      "cell_type": "code",
      "metadata": {
        "id": "uBRmNF3E3aBr"
      },
      "source": [
        "# （[プログラム3]をここに記述）"
      ],
      "execution_count": null,
      "outputs": []
    },
    {
      "cell_type": "markdown",
      "metadata": {
        "id": "P1ojlCaLY2IV"
      },
      "source": [
        "### 1.1.3 1対1のマージ（結合方法）\n",
        "\n",
        "* 結合方法(merge関数のhowオプション）\n",
        "\n",
        "|howオプション|概要|\n",
        "|-|-|\n",
        "|inner|内部結合、両方のデータフレームの積集合|\n",
        "|outer|外部結合、両方のデータフレームの和集合|\n",
        "|left|１番目のデータフレームのキーのみ使用|\n",
        "|right|2番目のデータフレームのキーのみ使用|\n",
        "\n",
        "```python\n",
        "[プログラム1]\n",
        "leftdf = pd.DataFrame({\n",
        "    '身長':[165,181,173,160],\n",
        "    '体重':[56,68,73,54],\n",
        "    '名前':['鈴木洋子','田中二郎','鈴木一郎','斎藤美穂子'],\n",
        "})\n",
        "leftdf\n",
        "```\n",
        "\n",
        "||身長|体重|名前|\n",
        "|-|-|-|-|\n",
        "|0|165|56|鈴木洋子|\n",
        "|1|181|68|田中二郎|\n",
        "|2|173|73|鈴木一郎|\n",
        "|3|160|54|鈴木一郎|\n",
        "\n",
        "（コードを書いて実際に確認してみよう）"
      ]
    },
    {
      "cell_type": "code",
      "metadata": {
        "id": "cVBB9FK1Y959"
      },
      "source": [
        "# （[プログラム1]をここに記述）"
      ],
      "execution_count": 14,
      "outputs": []
    },
    {
      "cell_type": "markdown",
      "metadata": {
        "id": "_D3nXdOZ_QWc"
      },
      "source": [
        "```python\n",
        "[プログラム2]\n",
        "rightdf = pd.DataFrame({\n",
        "    '名前':['鈴木洋子','田中二郎','鈴木一郎','佐藤利夫'],\n",
        "    '国語':[87,86,65,50],\n",
        "    '数学':[83,90,74,61],\n",
        "})\n",
        "rightdf\n",
        "```\n",
        "\n",
        "||名前|国語|数学|\n",
        "|-|-|-|-|\n",
        "|0|鈴木洋子|87|83|\n",
        "|1|田中二郎|86|90|\n",
        "|2|鈴木一郎|65|74|\n",
        "|3|佐藤利夫|50|61|\n",
        "\n",
        "（コードを書いて実際に確認してみよう）"
      ]
    },
    {
      "cell_type": "code",
      "metadata": {
        "id": "FHdvNWy17w_D"
      },
      "source": [
        "# （[プログラム2]をここに記述）"
      ],
      "execution_count": 13,
      "outputs": []
    },
    {
      "cell_type": "markdown",
      "metadata": {
        "id": "LzPNCc5N_Vsq"
      },
      "source": [
        "```python\n",
        "[プログラム3]\n",
        "pd.merge(leftdf,rightdf,on='名前',how='inner')\n",
        "```\n",
        "\n",
        "||身長|体重|名前|国語|数学|氏名|\n",
        "|-|-|-|-|-|-|-|\n",
        "|0|165|56|鈴木洋子|87|83|鈴木洋子|\n",
        "|1|181|68|田中二郎|86|90|田中二郎|\n",
        "|2|173|73|鈴木一郎|65|74|鈴木一郎|\n",
        "\n",
        "\n",
        "（コードを書いて実際に確認してみよう）"
      ]
    },
    {
      "cell_type": "code",
      "metadata": {
        "id": "ACo9uOn478Xv"
      },
      "source": [
        "# （[プログラム3]をここに記述）"
      ],
      "execution_count": null,
      "outputs": []
    },
    {
      "cell_type": "markdown",
      "metadata": {
        "id": "K-a88_AO_Zor"
      },
      "source": [
        "```python\n",
        "[プログラム4]\n",
        "pd.merge(leftdf,rightdf,on='名前',how='outer')\n",
        "```\n",
        "\n",
        "||身長|体重|名前|国語|数学|\n",
        "|-|-|-|-|-|-|\n",
        "|0|165|56|鈴木洋子|87|83|\n",
        "|1|181|68|田中二郎|86|90|\n",
        "|2|173|73|鈴木一郎|65|74|\n",
        "|3|160|54|斎藤美穂子|NaN|NaN|\n",
        "|4|NaN|NaN|佐藤利夫|50.0|61.0|\n",
        "\n",
        "（コードを書いて実際に確認してみよう）"
      ]
    },
    {
      "cell_type": "code",
      "metadata": {
        "id": "dsCi9ANa8LqG"
      },
      "source": [
        "# （[プログラム4]をここに記述）"
      ],
      "execution_count": 12,
      "outputs": []
    },
    {
      "cell_type": "markdown",
      "metadata": {
        "id": "2HTrw-Fx_dHB"
      },
      "source": [
        "```python\n",
        "[プログラム5]\n",
        "pd.merge(leftdf,rightdf,on='名前',how='left')\n",
        "```\n",
        "\n",
        "||身長|体重|名前|国語|数学|\n",
        "|-|-|-|-|-|-|\n",
        "|0|165|56|鈴木洋子|87|83|\n",
        "|1|181|68|田中二郎|86|90|\n",
        "|2|173|73|鈴木一郎|65|74|\n",
        "|3|160|54|斎藤美穂子|NaN|NaN|\n",
        "\n",
        "（コードを書いて実際に確認してみよう）"
      ]
    },
    {
      "cell_type": "code",
      "metadata": {
        "id": "uiBfF4YU8L1j"
      },
      "source": [
        "# （[プログラム5]をここに記述）"
      ],
      "execution_count": 10,
      "outputs": []
    },
    {
      "cell_type": "markdown",
      "metadata": {
        "id": "Db2DFJWc_gRJ"
      },
      "source": [
        "```python\n",
        "[プログラム6]\n",
        "pd.merge(leftdf,rightdf,on='名前',how='right')\n",
        "```\n",
        "\n",
        "||身長|体重|名前|国語|数学|\n",
        "|-|-|-|-|-|-|\n",
        "|0|165|56|鈴木洋子|87|83|\n",
        "|1|181|68|田中二郎|86|90|\n",
        "|2|173|73|鈴木一郎|65|74|\n",
        "|4|NaN|NaN|佐藤利夫|50.0|61.0|\n",
        "\n",
        "（コードを書いて実際に確認してみよう）"
      ]
    },
    {
      "cell_type": "code",
      "metadata": {
        "id": "Q1CCbbZw8L_a"
      },
      "source": [
        "# （[プログラム6]をここに記述）"
      ],
      "execution_count": 11,
      "outputs": []
    },
    {
      "cell_type": "markdown",
      "metadata": {
        "id": "NZQN-U-oISPq"
      },
      "source": [
        "## 1.3 データの集計"
      ]
    },
    {
      "cell_type": "markdown",
      "metadata": {
        "id": "3EsX0TD-Igrc"
      },
      "source": [
        "## 1.3.1 データのピボット集計\n",
        "\n",
        "```python\n",
        ">>> print(ser.index)\n",
        "165\n",
        "```\n",
        "\n",
        "（コードを書いて実際に確認してみよう）"
      ]
    },
    {
      "cell_type": "code",
      "metadata": {
        "id": "jDbWq3KAIGQq",
        "outputId": "2f3f3a1a-07c2-4ba7-c0c3-64e32e7c477f",
        "colab": {
          "base_uri": "https://localhost:8080/",
          "height": 359
        }
      },
      "source": [
        "np.random.seed(seed=1)\n",
        "scores = np.random.randint(60, 100, size=50).reshape(10, 5)\n",
        "subs = ['国語', '数学', '理科', '社会', '英語']\n",
        "df = pd.DataFrame(scores,columns=subs)\n",
        "df['部活'] = np.random.choice(['サッカー','野球', 'テニス'], size=10)\n",
        "df['性別'] = np.random.choice(['男','女'], size=10)\n",
        "df"
      ],
      "execution_count": 52,
      "outputs": [
        {
          "output_type": "execute_result",
          "data": {
            "text/html": [
              "<div>\n",
              "<style scoped>\n",
              "    .dataframe tbody tr th:only-of-type {\n",
              "        vertical-align: middle;\n",
              "    }\n",
              "\n",
              "    .dataframe tbody tr th {\n",
              "        vertical-align: top;\n",
              "    }\n",
              "\n",
              "    .dataframe thead th {\n",
              "        text-align: right;\n",
              "    }\n",
              "</style>\n",
              "<table border=\"1\" class=\"dataframe\">\n",
              "  <thead>\n",
              "    <tr style=\"text-align: right;\">\n",
              "      <th></th>\n",
              "      <th>国語</th>\n",
              "      <th>数学</th>\n",
              "      <th>理科</th>\n",
              "      <th>社会</th>\n",
              "      <th>英語</th>\n",
              "      <th>部活</th>\n",
              "      <th>性別</th>\n",
              "    </tr>\n",
              "  </thead>\n",
              "  <tbody>\n",
              "    <tr>\n",
              "      <th>0</th>\n",
              "      <td>97</td>\n",
              "      <td>72</td>\n",
              "      <td>68</td>\n",
              "      <td>69</td>\n",
              "      <td>71</td>\n",
              "      <td>野球</td>\n",
              "      <td>男</td>\n",
              "    </tr>\n",
              "    <tr>\n",
              "      <th>1</th>\n",
              "      <td>65</td>\n",
              "      <td>75</td>\n",
              "      <td>60</td>\n",
              "      <td>76</td>\n",
              "      <td>61</td>\n",
              "      <td>野球</td>\n",
              "      <td>女</td>\n",
              "    </tr>\n",
              "    <tr>\n",
              "      <th>2</th>\n",
              "      <td>72</td>\n",
              "      <td>67</td>\n",
              "      <td>66</td>\n",
              "      <td>85</td>\n",
              "      <td>80</td>\n",
              "      <td>テニス</td>\n",
              "      <td>女</td>\n",
              "    </tr>\n",
              "    <tr>\n",
              "      <th>3</th>\n",
              "      <td>97</td>\n",
              "      <td>78</td>\n",
              "      <td>80</td>\n",
              "      <td>71</td>\n",
              "      <td>88</td>\n",
              "      <td>サッカー</td>\n",
              "      <td>女</td>\n",
              "    </tr>\n",
              "    <tr>\n",
              "      <th>4</th>\n",
              "      <td>89</td>\n",
              "      <td>74</td>\n",
              "      <td>64</td>\n",
              "      <td>83</td>\n",
              "      <td>83</td>\n",
              "      <td>サッカー</td>\n",
              "      <td>男</td>\n",
              "    </tr>\n",
              "    <tr>\n",
              "      <th>5</th>\n",
              "      <td>90</td>\n",
              "      <td>92</td>\n",
              "      <td>82</td>\n",
              "      <td>73</td>\n",
              "      <td>69</td>\n",
              "      <td>野球</td>\n",
              "      <td>女</td>\n",
              "    </tr>\n",
              "    <tr>\n",
              "      <th>6</th>\n",
              "      <td>67</td>\n",
              "      <td>82</td>\n",
              "      <td>61</td>\n",
              "      <td>60</td>\n",
              "      <td>77</td>\n",
              "      <td>テニス</td>\n",
              "      <td>女</td>\n",
              "    </tr>\n",
              "    <tr>\n",
              "      <th>7</th>\n",
              "      <td>68</td>\n",
              "      <td>84</td>\n",
              "      <td>73</td>\n",
              "      <td>68</td>\n",
              "      <td>90</td>\n",
              "      <td>テニス</td>\n",
              "      <td>男</td>\n",
              "    </tr>\n",
              "    <tr>\n",
              "      <th>8</th>\n",
              "      <td>67</td>\n",
              "      <td>63</td>\n",
              "      <td>66</td>\n",
              "      <td>81</td>\n",
              "      <td>63</td>\n",
              "      <td>野球</td>\n",
              "      <td>女</td>\n",
              "    </tr>\n",
              "    <tr>\n",
              "      <th>9</th>\n",
              "      <td>64</td>\n",
              "      <td>84</td>\n",
              "      <td>72</td>\n",
              "      <td>86</td>\n",
              "      <td>76</td>\n",
              "      <td>サッカー</td>\n",
              "      <td>女</td>\n",
              "    </tr>\n",
              "  </tbody>\n",
              "</table>\n",
              "</div>"
            ],
            "text/plain": [
              "   国語  数学  理科  社会  英語    部活 性別\n",
              "0  97  72  68  69  71    野球  男\n",
              "1  65  75  60  76  61    野球  女\n",
              "2  72  67  66  85  80   テニス  女\n",
              "3  97  78  80  71  88  サッカー  女\n",
              "4  89  74  64  83  83  サッカー  男\n",
              "5  90  92  82  73  69    野球  女\n",
              "6  67  82  61  60  77   テニス  女\n",
              "7  68  84  73  68  90   テニス  男\n",
              "8  67  63  66  81  63    野球  女\n",
              "9  64  84  72  86  76  サッカー  女"
            ]
          },
          "metadata": {
            "tags": []
          },
          "execution_count": 52
        }
      ]
    },
    {
      "cell_type": "code",
      "metadata": {
        "id": "NXemn6MoIxYX",
        "outputId": "91c4d1de-1df0-41d7-a4d1-becc3618e963",
        "colab": {
          "base_uri": "https://localhost:8080/",
          "height": 142
        }
      },
      "source": [
        "pd.pivot_table(df,index='性別',aggfunc=np.mean)"
      ],
      "execution_count": 53,
      "outputs": [
        {
          "output_type": "execute_result",
          "data": {
            "text/html": [
              "<div>\n",
              "<style scoped>\n",
              "    .dataframe tbody tr th:only-of-type {\n",
              "        vertical-align: middle;\n",
              "    }\n",
              "\n",
              "    .dataframe tbody tr th {\n",
              "        vertical-align: top;\n",
              "    }\n",
              "\n",
              "    .dataframe thead th {\n",
              "        text-align: right;\n",
              "    }\n",
              "</style>\n",
              "<table border=\"1\" class=\"dataframe\">\n",
              "  <thead>\n",
              "    <tr style=\"text-align: right;\">\n",
              "      <th></th>\n",
              "      <th>国語</th>\n",
              "      <th>数学</th>\n",
              "      <th>理科</th>\n",
              "      <th>社会</th>\n",
              "      <th>英語</th>\n",
              "    </tr>\n",
              "    <tr>\n",
              "      <th>性別</th>\n",
              "      <th></th>\n",
              "      <th></th>\n",
              "      <th></th>\n",
              "      <th></th>\n",
              "      <th></th>\n",
              "    </tr>\n",
              "  </thead>\n",
              "  <tbody>\n",
              "    <tr>\n",
              "      <th>女</th>\n",
              "      <td>74.571429</td>\n",
              "      <td>77.285714</td>\n",
              "      <td>69.571429</td>\n",
              "      <td>76.000000</td>\n",
              "      <td>73.428571</td>\n",
              "    </tr>\n",
              "    <tr>\n",
              "      <th>男</th>\n",
              "      <td>84.666667</td>\n",
              "      <td>76.666667</td>\n",
              "      <td>68.333333</td>\n",
              "      <td>73.333333</td>\n",
              "      <td>81.333333</td>\n",
              "    </tr>\n",
              "  </tbody>\n",
              "</table>\n",
              "</div>"
            ],
            "text/plain": [
              "           国語         数学         理科         社会         英語\n",
              "性別                                                       \n",
              "女   74.571429  77.285714  69.571429  76.000000  73.428571\n",
              "男   84.666667  76.666667  68.333333  73.333333  81.333333"
            ]
          },
          "metadata": {
            "tags": []
          },
          "execution_count": 53
        }
      ]
    },
    {
      "cell_type": "code",
      "metadata": {
        "id": "X53jTdBeI3fK",
        "outputId": "b3c38915-889b-4989-aaa2-f205e45dee58",
        "colab": {
          "base_uri": "https://localhost:8080/",
          "height": 142
        }
      },
      "source": [
        "pd.pivot_table(df,index='性別',values='数学')"
      ],
      "execution_count": 54,
      "outputs": [
        {
          "output_type": "execute_result",
          "data": {
            "text/html": [
              "<div>\n",
              "<style scoped>\n",
              "    .dataframe tbody tr th:only-of-type {\n",
              "        vertical-align: middle;\n",
              "    }\n",
              "\n",
              "    .dataframe tbody tr th {\n",
              "        vertical-align: top;\n",
              "    }\n",
              "\n",
              "    .dataframe thead th {\n",
              "        text-align: right;\n",
              "    }\n",
              "</style>\n",
              "<table border=\"1\" class=\"dataframe\">\n",
              "  <thead>\n",
              "    <tr style=\"text-align: right;\">\n",
              "      <th></th>\n",
              "      <th>数学</th>\n",
              "    </tr>\n",
              "    <tr>\n",
              "      <th>性別</th>\n",
              "      <th></th>\n",
              "    </tr>\n",
              "  </thead>\n",
              "  <tbody>\n",
              "    <tr>\n",
              "      <th>女</th>\n",
              "      <td>77.285714</td>\n",
              "    </tr>\n",
              "    <tr>\n",
              "      <th>男</th>\n",
              "      <td>76.666667</td>\n",
              "    </tr>\n",
              "  </tbody>\n",
              "</table>\n",
              "</div>"
            ],
            "text/plain": [
              "           数学\n",
              "性別           \n",
              "女   77.285714\n",
              "男   76.666667"
            ]
          },
          "metadata": {
            "tags": []
          },
          "execution_count": 54
        }
      ]
    },
    {
      "cell_type": "code",
      "metadata": {
        "id": "etU5C1GKJBzT",
        "outputId": "1f08c171-8198-454c-d687-b840070bbbbb",
        "colab": {
          "base_uri": "https://localhost:8080/",
          "height": 142
        }
      },
      "source": [
        "pd.pivot_table(df,index='性別',values=['数学','英語'])"
      ],
      "execution_count": 56,
      "outputs": [
        {
          "output_type": "execute_result",
          "data": {
            "text/html": [
              "<div>\n",
              "<style scoped>\n",
              "    .dataframe tbody tr th:only-of-type {\n",
              "        vertical-align: middle;\n",
              "    }\n",
              "\n",
              "    .dataframe tbody tr th {\n",
              "        vertical-align: top;\n",
              "    }\n",
              "\n",
              "    .dataframe thead th {\n",
              "        text-align: right;\n",
              "    }\n",
              "</style>\n",
              "<table border=\"1\" class=\"dataframe\">\n",
              "  <thead>\n",
              "    <tr style=\"text-align: right;\">\n",
              "      <th></th>\n",
              "      <th>数学</th>\n",
              "      <th>英語</th>\n",
              "    </tr>\n",
              "    <tr>\n",
              "      <th>性別</th>\n",
              "      <th></th>\n",
              "      <th></th>\n",
              "    </tr>\n",
              "  </thead>\n",
              "  <tbody>\n",
              "    <tr>\n",
              "      <th>女</th>\n",
              "      <td>77.285714</td>\n",
              "      <td>73.428571</td>\n",
              "    </tr>\n",
              "    <tr>\n",
              "      <th>男</th>\n",
              "      <td>76.666667</td>\n",
              "      <td>81.333333</td>\n",
              "    </tr>\n",
              "  </tbody>\n",
              "</table>\n",
              "</div>"
            ],
            "text/plain": [
              "           数学         英語\n",
              "性別                      \n",
              "女   77.285714  73.428571\n",
              "男   76.666667  81.333333"
            ]
          },
          "metadata": {
            "tags": []
          },
          "execution_count": 56
        }
      ]
    },
    {
      "cell_type": "code",
      "metadata": {
        "id": "KVUC9VOxJKnR",
        "outputId": "c75011b1-5385-43de-c8c5-ae8934e5b713",
        "colab": {
          "base_uri": "https://localhost:8080/",
          "height": 204
        }
      },
      "source": [
        "pd.pivot_table(df,index='部活',columns='性別',aggfunc=np.mean)"
      ],
      "execution_count": 58,
      "outputs": [
        {
          "output_type": "execute_result",
          "data": {
            "text/html": [
              "<div>\n",
              "<style scoped>\n",
              "    .dataframe tbody tr th:only-of-type {\n",
              "        vertical-align: middle;\n",
              "    }\n",
              "\n",
              "    .dataframe tbody tr th {\n",
              "        vertical-align: top;\n",
              "    }\n",
              "\n",
              "    .dataframe thead tr th {\n",
              "        text-align: left;\n",
              "    }\n",
              "\n",
              "    .dataframe thead tr:last-of-type th {\n",
              "        text-align: right;\n",
              "    }\n",
              "</style>\n",
              "<table border=\"1\" class=\"dataframe\">\n",
              "  <thead>\n",
              "    <tr>\n",
              "      <th></th>\n",
              "      <th colspan=\"2\" halign=\"left\">国語</th>\n",
              "      <th colspan=\"2\" halign=\"left\">数学</th>\n",
              "      <th colspan=\"2\" halign=\"left\">理科</th>\n",
              "      <th colspan=\"2\" halign=\"left\">社会</th>\n",
              "      <th colspan=\"2\" halign=\"left\">英語</th>\n",
              "    </tr>\n",
              "    <tr>\n",
              "      <th>性別</th>\n",
              "      <th>女</th>\n",
              "      <th>男</th>\n",
              "      <th>女</th>\n",
              "      <th>男</th>\n",
              "      <th>女</th>\n",
              "      <th>男</th>\n",
              "      <th>女</th>\n",
              "      <th>男</th>\n",
              "      <th>女</th>\n",
              "      <th>男</th>\n",
              "    </tr>\n",
              "    <tr>\n",
              "      <th>部活</th>\n",
              "      <th></th>\n",
              "      <th></th>\n",
              "      <th></th>\n",
              "      <th></th>\n",
              "      <th></th>\n",
              "      <th></th>\n",
              "      <th></th>\n",
              "      <th></th>\n",
              "      <th></th>\n",
              "      <th></th>\n",
              "    </tr>\n",
              "  </thead>\n",
              "  <tbody>\n",
              "    <tr>\n",
              "      <th>サッカー</th>\n",
              "      <td>80.5</td>\n",
              "      <td>89.0</td>\n",
              "      <td>81.000000</td>\n",
              "      <td>74.0</td>\n",
              "      <td>76.000000</td>\n",
              "      <td>64.0</td>\n",
              "      <td>78.500000</td>\n",
              "      <td>83.0</td>\n",
              "      <td>82.000000</td>\n",
              "      <td>83.0</td>\n",
              "    </tr>\n",
              "    <tr>\n",
              "      <th>テニス</th>\n",
              "      <td>69.5</td>\n",
              "      <td>68.0</td>\n",
              "      <td>74.500000</td>\n",
              "      <td>84.0</td>\n",
              "      <td>63.500000</td>\n",
              "      <td>73.0</td>\n",
              "      <td>72.500000</td>\n",
              "      <td>68.0</td>\n",
              "      <td>78.500000</td>\n",
              "      <td>90.0</td>\n",
              "    </tr>\n",
              "    <tr>\n",
              "      <th>野球</th>\n",
              "      <td>74.0</td>\n",
              "      <td>97.0</td>\n",
              "      <td>76.666667</td>\n",
              "      <td>72.0</td>\n",
              "      <td>69.333333</td>\n",
              "      <td>68.0</td>\n",
              "      <td>76.666667</td>\n",
              "      <td>69.0</td>\n",
              "      <td>64.333333</td>\n",
              "      <td>71.0</td>\n",
              "    </tr>\n",
              "  </tbody>\n",
              "</table>\n",
              "</div>"
            ],
            "text/plain": [
              "        国語               数学        ...         社会               英語      \n",
              "性別       女     男          女     男  ...          女     男          女     男\n",
              "部活                                 ...                                  \n",
              "サッカー  80.5  89.0  81.000000  74.0  ...  78.500000  83.0  82.000000  83.0\n",
              "テニス   69.5  68.0  74.500000  84.0  ...  72.500000  68.0  78.500000  90.0\n",
              "野球    74.0  97.0  76.666667  72.0  ...  76.666667  69.0  64.333333  71.0\n",
              "\n",
              "[3 rows x 10 columns]"
            ]
          },
          "metadata": {
            "tags": []
          },
          "execution_count": 58
        }
      ]
    },
    {
      "cell_type": "code",
      "metadata": {
        "id": "hqeyLrkXJWy0",
        "outputId": "4ae6c9b0-927f-47b4-cf41-35a9ff415ebf",
        "colab": {
          "base_uri": "https://localhost:8080/",
          "height": 266
        }
      },
      "source": [
        "pd.pivot_table(df,index=['性別','部活'],aggfunc=np.mean)"
      ],
      "execution_count": 59,
      "outputs": [
        {
          "output_type": "execute_result",
          "data": {
            "text/html": [
              "<div>\n",
              "<style scoped>\n",
              "    .dataframe tbody tr th:only-of-type {\n",
              "        vertical-align: middle;\n",
              "    }\n",
              "\n",
              "    .dataframe tbody tr th {\n",
              "        vertical-align: top;\n",
              "    }\n",
              "\n",
              "    .dataframe thead th {\n",
              "        text-align: right;\n",
              "    }\n",
              "</style>\n",
              "<table border=\"1\" class=\"dataframe\">\n",
              "  <thead>\n",
              "    <tr style=\"text-align: right;\">\n",
              "      <th></th>\n",
              "      <th></th>\n",
              "      <th>国語</th>\n",
              "      <th>数学</th>\n",
              "      <th>理科</th>\n",
              "      <th>社会</th>\n",
              "      <th>英語</th>\n",
              "    </tr>\n",
              "    <tr>\n",
              "      <th>性別</th>\n",
              "      <th>部活</th>\n",
              "      <th></th>\n",
              "      <th></th>\n",
              "      <th></th>\n",
              "      <th></th>\n",
              "      <th></th>\n",
              "    </tr>\n",
              "  </thead>\n",
              "  <tbody>\n",
              "    <tr>\n",
              "      <th rowspan=\"3\" valign=\"top\">女</th>\n",
              "      <th>サッカー</th>\n",
              "      <td>80.5</td>\n",
              "      <td>81.000000</td>\n",
              "      <td>76.000000</td>\n",
              "      <td>78.500000</td>\n",
              "      <td>82.000000</td>\n",
              "    </tr>\n",
              "    <tr>\n",
              "      <th>テニス</th>\n",
              "      <td>69.5</td>\n",
              "      <td>74.500000</td>\n",
              "      <td>63.500000</td>\n",
              "      <td>72.500000</td>\n",
              "      <td>78.500000</td>\n",
              "    </tr>\n",
              "    <tr>\n",
              "      <th>野球</th>\n",
              "      <td>74.0</td>\n",
              "      <td>76.666667</td>\n",
              "      <td>69.333333</td>\n",
              "      <td>76.666667</td>\n",
              "      <td>64.333333</td>\n",
              "    </tr>\n",
              "    <tr>\n",
              "      <th rowspan=\"3\" valign=\"top\">男</th>\n",
              "      <th>サッカー</th>\n",
              "      <td>89.0</td>\n",
              "      <td>74.000000</td>\n",
              "      <td>64.000000</td>\n",
              "      <td>83.000000</td>\n",
              "      <td>83.000000</td>\n",
              "    </tr>\n",
              "    <tr>\n",
              "      <th>テニス</th>\n",
              "      <td>68.0</td>\n",
              "      <td>84.000000</td>\n",
              "      <td>73.000000</td>\n",
              "      <td>68.000000</td>\n",
              "      <td>90.000000</td>\n",
              "    </tr>\n",
              "    <tr>\n",
              "      <th>野球</th>\n",
              "      <td>97.0</td>\n",
              "      <td>72.000000</td>\n",
              "      <td>68.000000</td>\n",
              "      <td>69.000000</td>\n",
              "      <td>71.000000</td>\n",
              "    </tr>\n",
              "  </tbody>\n",
              "</table>\n",
              "</div>"
            ],
            "text/plain": [
              "           国語         数学         理科         社会         英語\n",
              "性別 部活                                                    \n",
              "女  サッカー  80.5  81.000000  76.000000  78.500000  82.000000\n",
              "   テニス   69.5  74.500000  63.500000  72.500000  78.500000\n",
              "   野球    74.0  76.666667  69.333333  76.666667  64.333333\n",
              "男  サッカー  89.0  74.000000  64.000000  83.000000  83.000000\n",
              "   テニス   68.0  84.000000  73.000000  68.000000  90.000000\n",
              "   野球    97.0  72.000000  68.000000  69.000000  71.000000"
            ]
          },
          "metadata": {
            "tags": []
          },
          "execution_count": 59
        }
      ]
    },
    {
      "cell_type": "code",
      "metadata": {
        "id": "xwgz3jn6J9Du",
        "outputId": "ffcc373e-662e-4f1d-cd0b-9cd5f9fe94dc",
        "colab": {
          "base_uri": "https://localhost:8080/",
          "height": 297
        }
      },
      "source": [
        "pd.pivot_table(df,index=['性別','部活'],values='英語',aggfunc=[np.sum,np.max,np.min])"
      ],
      "execution_count": 62,
      "outputs": [
        {
          "output_type": "execute_result",
          "data": {
            "text/html": [
              "<div>\n",
              "<style scoped>\n",
              "    .dataframe tbody tr th:only-of-type {\n",
              "        vertical-align: middle;\n",
              "    }\n",
              "\n",
              "    .dataframe tbody tr th {\n",
              "        vertical-align: top;\n",
              "    }\n",
              "\n",
              "    .dataframe thead tr th {\n",
              "        text-align: left;\n",
              "    }\n",
              "\n",
              "    .dataframe thead tr:last-of-type th {\n",
              "        text-align: right;\n",
              "    }\n",
              "</style>\n",
              "<table border=\"1\" class=\"dataframe\">\n",
              "  <thead>\n",
              "    <tr>\n",
              "      <th></th>\n",
              "      <th></th>\n",
              "      <th>sum</th>\n",
              "      <th>amax</th>\n",
              "      <th>amin</th>\n",
              "    </tr>\n",
              "    <tr>\n",
              "      <th></th>\n",
              "      <th></th>\n",
              "      <th>英語</th>\n",
              "      <th>英語</th>\n",
              "      <th>英語</th>\n",
              "    </tr>\n",
              "    <tr>\n",
              "      <th>性別</th>\n",
              "      <th>部活</th>\n",
              "      <th></th>\n",
              "      <th></th>\n",
              "      <th></th>\n",
              "    </tr>\n",
              "  </thead>\n",
              "  <tbody>\n",
              "    <tr>\n",
              "      <th rowspan=\"3\" valign=\"top\">女</th>\n",
              "      <th>サッカー</th>\n",
              "      <td>164</td>\n",
              "      <td>88</td>\n",
              "      <td>76</td>\n",
              "    </tr>\n",
              "    <tr>\n",
              "      <th>テニス</th>\n",
              "      <td>157</td>\n",
              "      <td>80</td>\n",
              "      <td>77</td>\n",
              "    </tr>\n",
              "    <tr>\n",
              "      <th>野球</th>\n",
              "      <td>193</td>\n",
              "      <td>69</td>\n",
              "      <td>61</td>\n",
              "    </tr>\n",
              "    <tr>\n",
              "      <th rowspan=\"3\" valign=\"top\">男</th>\n",
              "      <th>サッカー</th>\n",
              "      <td>83</td>\n",
              "      <td>83</td>\n",
              "      <td>83</td>\n",
              "    </tr>\n",
              "    <tr>\n",
              "      <th>テニス</th>\n",
              "      <td>90</td>\n",
              "      <td>90</td>\n",
              "      <td>90</td>\n",
              "    </tr>\n",
              "    <tr>\n",
              "      <th>野球</th>\n",
              "      <td>71</td>\n",
              "      <td>71</td>\n",
              "      <td>71</td>\n",
              "    </tr>\n",
              "  </tbody>\n",
              "</table>\n",
              "</div>"
            ],
            "text/plain": [
              "         sum amax amin\n",
              "          英語   英語   英語\n",
              "性別 部活                 \n",
              "女  サッカー  164   88   76\n",
              "   テニス   157   80   77\n",
              "   野球    193   69   61\n",
              "男  サッカー   83   83   83\n",
              "   テニス    90   90   90\n",
              "   野球     71   71   71"
            ]
          },
          "metadata": {
            "tags": []
          },
          "execution_count": 62
        }
      ]
    },
    {
      "cell_type": "code",
      "metadata": {
        "id": "1tLMnupnKP1Q",
        "outputId": "25eccbcb-e8fc-4598-fec9-c3515c9ca129",
        "colab": {
          "base_uri": "https://localhost:8080/",
          "height": 266
        }
      },
      "source": [
        "pd.pivot_table(df,index=['性別','部活'],aggfunc={'英語':np.max,'数学':np.mean})"
      ],
      "execution_count": 63,
      "outputs": [
        {
          "output_type": "execute_result",
          "data": {
            "text/html": [
              "<div>\n",
              "<style scoped>\n",
              "    .dataframe tbody tr th:only-of-type {\n",
              "        vertical-align: middle;\n",
              "    }\n",
              "\n",
              "    .dataframe tbody tr th {\n",
              "        vertical-align: top;\n",
              "    }\n",
              "\n",
              "    .dataframe thead th {\n",
              "        text-align: right;\n",
              "    }\n",
              "</style>\n",
              "<table border=\"1\" class=\"dataframe\">\n",
              "  <thead>\n",
              "    <tr style=\"text-align: right;\">\n",
              "      <th></th>\n",
              "      <th></th>\n",
              "      <th>数学</th>\n",
              "      <th>英語</th>\n",
              "    </tr>\n",
              "    <tr>\n",
              "      <th>性別</th>\n",
              "      <th>部活</th>\n",
              "      <th></th>\n",
              "      <th></th>\n",
              "    </tr>\n",
              "  </thead>\n",
              "  <tbody>\n",
              "    <tr>\n",
              "      <th rowspan=\"3\" valign=\"top\">女</th>\n",
              "      <th>サッカー</th>\n",
              "      <td>81.000000</td>\n",
              "      <td>88</td>\n",
              "    </tr>\n",
              "    <tr>\n",
              "      <th>テニス</th>\n",
              "      <td>74.500000</td>\n",
              "      <td>80</td>\n",
              "    </tr>\n",
              "    <tr>\n",
              "      <th>野球</th>\n",
              "      <td>76.666667</td>\n",
              "      <td>69</td>\n",
              "    </tr>\n",
              "    <tr>\n",
              "      <th rowspan=\"3\" valign=\"top\">男</th>\n",
              "      <th>サッカー</th>\n",
              "      <td>74.000000</td>\n",
              "      <td>83</td>\n",
              "    </tr>\n",
              "    <tr>\n",
              "      <th>テニス</th>\n",
              "      <td>84.000000</td>\n",
              "      <td>90</td>\n",
              "    </tr>\n",
              "    <tr>\n",
              "      <th>野球</th>\n",
              "      <td>72.000000</td>\n",
              "      <td>71</td>\n",
              "    </tr>\n",
              "  </tbody>\n",
              "</table>\n",
              "</div>"
            ],
            "text/plain": [
              "                数学  英語\n",
              "性別 部活                 \n",
              "女  サッカー  81.000000  88\n",
              "   テニス   74.500000  80\n",
              "   野球    76.666667  69\n",
              "男  サッカー  74.000000  83\n",
              "   テニス   84.000000  90\n",
              "   野球    72.000000  71"
            ]
          },
          "metadata": {
            "tags": []
          },
          "execution_count": 63
        }
      ]
    },
    {
      "cell_type": "code",
      "metadata": {
        "id": "ZDfJcIdmLWNP",
        "outputId": "ebceaf19-c62e-413f-9c6b-1bb97ea8cab7",
        "colab": {
          "base_uri": "https://localhost:8080/",
          "height": 204
        }
      },
      "source": [
        "pd.pivot_table(df,index='部活',values='数学',aggfunc=np.mean,margins=True)"
      ],
      "execution_count": 64,
      "outputs": [
        {
          "output_type": "execute_result",
          "data": {
            "text/html": [
              "<div>\n",
              "<style scoped>\n",
              "    .dataframe tbody tr th:only-of-type {\n",
              "        vertical-align: middle;\n",
              "    }\n",
              "\n",
              "    .dataframe tbody tr th {\n",
              "        vertical-align: top;\n",
              "    }\n",
              "\n",
              "    .dataframe thead th {\n",
              "        text-align: right;\n",
              "    }\n",
              "</style>\n",
              "<table border=\"1\" class=\"dataframe\">\n",
              "  <thead>\n",
              "    <tr style=\"text-align: right;\">\n",
              "      <th></th>\n",
              "      <th>数学</th>\n",
              "    </tr>\n",
              "    <tr>\n",
              "      <th>部活</th>\n",
              "      <th></th>\n",
              "    </tr>\n",
              "  </thead>\n",
              "  <tbody>\n",
              "    <tr>\n",
              "      <th>サッカー</th>\n",
              "      <td>78.666667</td>\n",
              "    </tr>\n",
              "    <tr>\n",
              "      <th>テニス</th>\n",
              "      <td>77.666667</td>\n",
              "    </tr>\n",
              "    <tr>\n",
              "      <th>野球</th>\n",
              "      <td>75.500000</td>\n",
              "    </tr>\n",
              "    <tr>\n",
              "      <th>All</th>\n",
              "      <td>77.100000</td>\n",
              "    </tr>\n",
              "  </tbody>\n",
              "</table>\n",
              "</div>"
            ],
            "text/plain": [
              "             数学\n",
              "部活             \n",
              "サッカー  78.666667\n",
              "テニス   77.666667\n",
              "野球    75.500000\n",
              "All   77.100000"
            ]
          },
          "metadata": {
            "tags": []
          },
          "execution_count": 64
        }
      ]
    },
    {
      "cell_type": "code",
      "metadata": {
        "id": "fT0aO10_LdLP",
        "outputId": "1023f46a-2cd7-4a7d-8482-fc1f94be84b4",
        "colab": {
          "base_uri": "https://localhost:8080/",
          "height": 204
        }
      },
      "source": [
        "pd.pivot_table(df,index='部活',columns='性別',values='数学',aggfunc=np.mean,margins=True)"
      ],
      "execution_count": 65,
      "outputs": [
        {
          "output_type": "execute_result",
          "data": {
            "text/html": [
              "<div>\n",
              "<style scoped>\n",
              "    .dataframe tbody tr th:only-of-type {\n",
              "        vertical-align: middle;\n",
              "    }\n",
              "\n",
              "    .dataframe tbody tr th {\n",
              "        vertical-align: top;\n",
              "    }\n",
              "\n",
              "    .dataframe thead th {\n",
              "        text-align: right;\n",
              "    }\n",
              "</style>\n",
              "<table border=\"1\" class=\"dataframe\">\n",
              "  <thead>\n",
              "    <tr style=\"text-align: right;\">\n",
              "      <th>性別</th>\n",
              "      <th>女</th>\n",
              "      <th>男</th>\n",
              "      <th>All</th>\n",
              "    </tr>\n",
              "    <tr>\n",
              "      <th>部活</th>\n",
              "      <th></th>\n",
              "      <th></th>\n",
              "      <th></th>\n",
              "    </tr>\n",
              "  </thead>\n",
              "  <tbody>\n",
              "    <tr>\n",
              "      <th>サッカー</th>\n",
              "      <td>81.000000</td>\n",
              "      <td>74.000000</td>\n",
              "      <td>78.666667</td>\n",
              "    </tr>\n",
              "    <tr>\n",
              "      <th>テニス</th>\n",
              "      <td>74.500000</td>\n",
              "      <td>84.000000</td>\n",
              "      <td>77.666667</td>\n",
              "    </tr>\n",
              "    <tr>\n",
              "      <th>野球</th>\n",
              "      <td>76.666667</td>\n",
              "      <td>72.000000</td>\n",
              "      <td>75.500000</td>\n",
              "    </tr>\n",
              "    <tr>\n",
              "      <th>All</th>\n",
              "      <td>77.285714</td>\n",
              "      <td>76.666667</td>\n",
              "      <td>77.100000</td>\n",
              "    </tr>\n",
              "  </tbody>\n",
              "</table>\n",
              "</div>"
            ],
            "text/plain": [
              "性別            女          男        All\n",
              "部活                                   \n",
              "サッカー  81.000000  74.000000  78.666667\n",
              "テニス   74.500000  84.000000  77.666667\n",
              "野球    76.666667  72.000000  75.500000\n",
              "All   77.285714  76.666667  77.100000"
            ]
          },
          "metadata": {
            "tags": []
          },
          "execution_count": 65
        }
      ]
    },
    {
      "cell_type": "markdown",
      "metadata": {
        "id": "CnB6rDrcaofM"
      },
      "source": [
        "### 1.3.2 データのクロス集計\n",
        "\n",
        "```python\n",
        ">>> print(ser.index)\n",
        "165\n",
        "```\n",
        "\n",
        "（コードを書いて実際に確認してみよう）"
      ]
    },
    {
      "cell_type": "code",
      "metadata": {
        "id": "msM2yLHgawQi",
        "outputId": "d16bc8bb-0065-4ed0-e304-627f26c2bf84",
        "colab": {
          "base_uri": "https://localhost:8080/",
          "height": 359
        }
      },
      "source": [
        "# （ここに記述）\n",
        "import numpy as np\n",
        "np.random.seed(seed = 1)\n",
        "sex = np.random.choice(['男','女'], size=10)\n",
        "eva = np.random.randint(70,100, size=10)\n",
        "city = np.random.choice(['東京','大阪','名古屋'], size=10)\n",
        "div = np.random.choice(['開発','営業','人事','販促'], size=10)\n",
        "dic = {'営業所':city, '部門':div,'性別':sex, '評価':eva}\n",
        "df = pd.DataFrame(dic)\n",
        "df"
      ],
      "execution_count": 71,
      "outputs": [
        {
          "output_type": "execute_result",
          "data": {
            "text/html": [
              "<div>\n",
              "<style scoped>\n",
              "    .dataframe tbody tr th:only-of-type {\n",
              "        vertical-align: middle;\n",
              "    }\n",
              "\n",
              "    .dataframe tbody tr th {\n",
              "        vertical-align: top;\n",
              "    }\n",
              "\n",
              "    .dataframe thead th {\n",
              "        text-align: right;\n",
              "    }\n",
              "</style>\n",
              "<table border=\"1\" class=\"dataframe\">\n",
              "  <thead>\n",
              "    <tr style=\"text-align: right;\">\n",
              "      <th></th>\n",
              "      <th>営業所</th>\n",
              "      <th>部門</th>\n",
              "      <th>性別</th>\n",
              "      <th>評価</th>\n",
              "    </tr>\n",
              "  </thead>\n",
              "  <tbody>\n",
              "    <tr>\n",
              "      <th>0</th>\n",
              "      <td>名古屋</td>\n",
              "      <td>開発</td>\n",
              "      <td>女</td>\n",
              "      <td>86</td>\n",
              "    </tr>\n",
              "    <tr>\n",
              "      <th>1</th>\n",
              "      <td>大阪</td>\n",
              "      <td>販促</td>\n",
              "      <td>女</td>\n",
              "      <td>71</td>\n",
              "    </tr>\n",
              "    <tr>\n",
              "      <th>2</th>\n",
              "      <td>名古屋</td>\n",
              "      <td>販促</td>\n",
              "      <td>男</td>\n",
              "      <td>82</td>\n",
              "    </tr>\n",
              "    <tr>\n",
              "      <th>3</th>\n",
              "      <td>東京</td>\n",
              "      <td>営業</td>\n",
              "      <td>男</td>\n",
              "      <td>77</td>\n",
              "    </tr>\n",
              "    <tr>\n",
              "      <th>4</th>\n",
              "      <td>東京</td>\n",
              "      <td>営業</td>\n",
              "      <td>女</td>\n",
              "      <td>83</td>\n",
              "    </tr>\n",
              "    <tr>\n",
              "      <th>5</th>\n",
              "      <td>名古屋</td>\n",
              "      <td>販促</td>\n",
              "      <td>女</td>\n",
              "      <td>98</td>\n",
              "    </tr>\n",
              "    <tr>\n",
              "      <th>6</th>\n",
              "      <td>東京</td>\n",
              "      <td>人事</td>\n",
              "      <td>女</td>\n",
              "      <td>76</td>\n",
              "    </tr>\n",
              "    <tr>\n",
              "      <th>7</th>\n",
              "      <td>大阪</td>\n",
              "      <td>開発</td>\n",
              "      <td>女</td>\n",
              "      <td>95</td>\n",
              "    </tr>\n",
              "    <tr>\n",
              "      <th>8</th>\n",
              "      <td>名古屋</td>\n",
              "      <td>人事</td>\n",
              "      <td>女</td>\n",
              "      <td>88</td>\n",
              "    </tr>\n",
              "    <tr>\n",
              "      <th>9</th>\n",
              "      <td>名古屋</td>\n",
              "      <td>営業</td>\n",
              "      <td>男</td>\n",
              "      <td>90</td>\n",
              "    </tr>\n",
              "  </tbody>\n",
              "</table>\n",
              "</div>"
            ],
            "text/plain": [
              "   営業所  部門 性別  評価\n",
              "0  名古屋  開発  女  86\n",
              "1   大阪  販促  女  71\n",
              "2  名古屋  販促  男  82\n",
              "3   東京  営業  男  77\n",
              "4   東京  営業  女  83\n",
              "5  名古屋  販促  女  98\n",
              "6   東京  人事  女  76\n",
              "7   大阪  開発  女  95\n",
              "8  名古屋  人事  女  88\n",
              "9  名古屋  営業  男  90"
            ]
          },
          "metadata": {
            "tags": []
          },
          "execution_count": 71
        }
      ]
    },
    {
      "cell_type": "code",
      "metadata": {
        "id": "oMY5h5DKHRsj",
        "outputId": "9c69fbf2-890e-472d-f663-32797e070b62",
        "colab": {
          "base_uri": "https://localhost:8080/",
          "height": 142
        }
      },
      "source": [
        "pd.crosstab(index=df['性別'],columns=df['営業所'])"
      ],
      "execution_count": 73,
      "outputs": [
        {
          "output_type": "execute_result",
          "data": {
            "text/html": [
              "<div>\n",
              "<style scoped>\n",
              "    .dataframe tbody tr th:only-of-type {\n",
              "        vertical-align: middle;\n",
              "    }\n",
              "\n",
              "    .dataframe tbody tr th {\n",
              "        vertical-align: top;\n",
              "    }\n",
              "\n",
              "    .dataframe thead th {\n",
              "        text-align: right;\n",
              "    }\n",
              "</style>\n",
              "<table border=\"1\" class=\"dataframe\">\n",
              "  <thead>\n",
              "    <tr style=\"text-align: right;\">\n",
              "      <th>営業所</th>\n",
              "      <th>名古屋</th>\n",
              "      <th>大阪</th>\n",
              "      <th>東京</th>\n",
              "    </tr>\n",
              "    <tr>\n",
              "      <th>性別</th>\n",
              "      <th></th>\n",
              "      <th></th>\n",
              "      <th></th>\n",
              "    </tr>\n",
              "  </thead>\n",
              "  <tbody>\n",
              "    <tr>\n",
              "      <th>女</th>\n",
              "      <td>3</td>\n",
              "      <td>2</td>\n",
              "      <td>2</td>\n",
              "    </tr>\n",
              "    <tr>\n",
              "      <th>男</th>\n",
              "      <td>2</td>\n",
              "      <td>0</td>\n",
              "      <td>1</td>\n",
              "    </tr>\n",
              "  </tbody>\n",
              "</table>\n",
              "</div>"
            ],
            "text/plain": [
              "営業所  名古屋  大阪  東京\n",
              "性別              \n",
              "女      3   2   2\n",
              "男      2   0   1"
            ]
          },
          "metadata": {
            "tags": []
          },
          "execution_count": 73
        }
      ]
    },
    {
      "cell_type": "code",
      "metadata": {
        "id": "q0DWqrUIHWDC",
        "outputId": "29ae66ef-426e-45b5-bb6f-ed239eff3c5f",
        "colab": {
          "base_uri": "https://localhost:8080/",
          "height": 235
        }
      },
      "source": [
        "pd.crosstab(index=[df['性別'],df['営業所']],columns=df['部門'])"
      ],
      "execution_count": 74,
      "outputs": [
        {
          "output_type": "execute_result",
          "data": {
            "text/html": [
              "<div>\n",
              "<style scoped>\n",
              "    .dataframe tbody tr th:only-of-type {\n",
              "        vertical-align: middle;\n",
              "    }\n",
              "\n",
              "    .dataframe tbody tr th {\n",
              "        vertical-align: top;\n",
              "    }\n",
              "\n",
              "    .dataframe thead th {\n",
              "        text-align: right;\n",
              "    }\n",
              "</style>\n",
              "<table border=\"1\" class=\"dataframe\">\n",
              "  <thead>\n",
              "    <tr style=\"text-align: right;\">\n",
              "      <th></th>\n",
              "      <th>部門</th>\n",
              "      <th>人事</th>\n",
              "      <th>営業</th>\n",
              "      <th>販促</th>\n",
              "      <th>開発</th>\n",
              "    </tr>\n",
              "    <tr>\n",
              "      <th>性別</th>\n",
              "      <th>営業所</th>\n",
              "      <th></th>\n",
              "      <th></th>\n",
              "      <th></th>\n",
              "      <th></th>\n",
              "    </tr>\n",
              "  </thead>\n",
              "  <tbody>\n",
              "    <tr>\n",
              "      <th rowspan=\"3\" valign=\"top\">女</th>\n",
              "      <th>名古屋</th>\n",
              "      <td>1</td>\n",
              "      <td>0</td>\n",
              "      <td>1</td>\n",
              "      <td>1</td>\n",
              "    </tr>\n",
              "    <tr>\n",
              "      <th>大阪</th>\n",
              "      <td>0</td>\n",
              "      <td>0</td>\n",
              "      <td>1</td>\n",
              "      <td>1</td>\n",
              "    </tr>\n",
              "    <tr>\n",
              "      <th>東京</th>\n",
              "      <td>1</td>\n",
              "      <td>1</td>\n",
              "      <td>0</td>\n",
              "      <td>0</td>\n",
              "    </tr>\n",
              "    <tr>\n",
              "      <th rowspan=\"2\" valign=\"top\">男</th>\n",
              "      <th>名古屋</th>\n",
              "      <td>0</td>\n",
              "      <td>1</td>\n",
              "      <td>1</td>\n",
              "      <td>0</td>\n",
              "    </tr>\n",
              "    <tr>\n",
              "      <th>東京</th>\n",
              "      <td>0</td>\n",
              "      <td>1</td>\n",
              "      <td>0</td>\n",
              "      <td>0</td>\n",
              "    </tr>\n",
              "  </tbody>\n",
              "</table>\n",
              "</div>"
            ],
            "text/plain": [
              "部門      人事  営業  販促  開発\n",
              "性別 営業所                \n",
              "女  名古屋   1   0   1   1\n",
              "   大阪    0   0   1   1\n",
              "   東京    1   1   0   0\n",
              "男  名古屋   0   1   1   0\n",
              "   東京    0   1   0   0"
            ]
          },
          "metadata": {
            "tags": []
          },
          "execution_count": 74
        }
      ]
    },
    {
      "cell_type": "code",
      "metadata": {
        "id": "gsSMO2HLHc9u",
        "outputId": "233e6007-7dc5-4113-8202-aee0dbf2890d",
        "colab": {
          "base_uri": "https://localhost:8080/",
          "height": 266
        }
      },
      "source": [
        "pd.crosstab(index=[df['性別'],df['営業所']],columns=df['部門'],margins=True)"
      ],
      "execution_count": 75,
      "outputs": [
        {
          "output_type": "execute_result",
          "data": {
            "text/html": [
              "<div>\n",
              "<style scoped>\n",
              "    .dataframe tbody tr th:only-of-type {\n",
              "        vertical-align: middle;\n",
              "    }\n",
              "\n",
              "    .dataframe tbody tr th {\n",
              "        vertical-align: top;\n",
              "    }\n",
              "\n",
              "    .dataframe thead th {\n",
              "        text-align: right;\n",
              "    }\n",
              "</style>\n",
              "<table border=\"1\" class=\"dataframe\">\n",
              "  <thead>\n",
              "    <tr style=\"text-align: right;\">\n",
              "      <th></th>\n",
              "      <th>部門</th>\n",
              "      <th>人事</th>\n",
              "      <th>営業</th>\n",
              "      <th>販促</th>\n",
              "      <th>開発</th>\n",
              "      <th>All</th>\n",
              "    </tr>\n",
              "    <tr>\n",
              "      <th>性別</th>\n",
              "      <th>営業所</th>\n",
              "      <th></th>\n",
              "      <th></th>\n",
              "      <th></th>\n",
              "      <th></th>\n",
              "      <th></th>\n",
              "    </tr>\n",
              "  </thead>\n",
              "  <tbody>\n",
              "    <tr>\n",
              "      <th rowspan=\"3\" valign=\"top\">女</th>\n",
              "      <th>名古屋</th>\n",
              "      <td>1</td>\n",
              "      <td>0</td>\n",
              "      <td>1</td>\n",
              "      <td>1</td>\n",
              "      <td>3</td>\n",
              "    </tr>\n",
              "    <tr>\n",
              "      <th>大阪</th>\n",
              "      <td>0</td>\n",
              "      <td>0</td>\n",
              "      <td>1</td>\n",
              "      <td>1</td>\n",
              "      <td>2</td>\n",
              "    </tr>\n",
              "    <tr>\n",
              "      <th>東京</th>\n",
              "      <td>1</td>\n",
              "      <td>1</td>\n",
              "      <td>0</td>\n",
              "      <td>0</td>\n",
              "      <td>2</td>\n",
              "    </tr>\n",
              "    <tr>\n",
              "      <th rowspan=\"2\" valign=\"top\">男</th>\n",
              "      <th>名古屋</th>\n",
              "      <td>0</td>\n",
              "      <td>1</td>\n",
              "      <td>1</td>\n",
              "      <td>0</td>\n",
              "      <td>2</td>\n",
              "    </tr>\n",
              "    <tr>\n",
              "      <th>東京</th>\n",
              "      <td>0</td>\n",
              "      <td>1</td>\n",
              "      <td>0</td>\n",
              "      <td>0</td>\n",
              "      <td>1</td>\n",
              "    </tr>\n",
              "    <tr>\n",
              "      <th>All</th>\n",
              "      <th></th>\n",
              "      <td>2</td>\n",
              "      <td>3</td>\n",
              "      <td>3</td>\n",
              "      <td>2</td>\n",
              "      <td>10</td>\n",
              "    </tr>\n",
              "  </tbody>\n",
              "</table>\n",
              "</div>"
            ],
            "text/plain": [
              "部門       人事  営業  販促  開発  All\n",
              "性別  営業所                     \n",
              "女   名古屋   1   0   1   1    3\n",
              "    大阪    0   0   1   1    2\n",
              "    東京    1   1   0   0    2\n",
              "男   名古屋   0   1   1   0    2\n",
              "    東京    0   1   0   0    1\n",
              "All       2   3   3   2   10"
            ]
          },
          "metadata": {
            "tags": []
          },
          "execution_count": 75
        }
      ]
    },
    {
      "cell_type": "code",
      "metadata": {
        "id": "cxDhxehjHli9",
        "outputId": "96a0f251-aa3f-4a79-9369-9b96d17ea284",
        "colab": {
          "base_uri": "https://localhost:8080/",
          "height": 142
        }
      },
      "source": [
        "pd.crosstab(index=df['性別'],columns=df['営業所'],values=df['評価'],aggfunc=np.mean)"
      ],
      "execution_count": 77,
      "outputs": [
        {
          "output_type": "execute_result",
          "data": {
            "text/html": [
              "<div>\n",
              "<style scoped>\n",
              "    .dataframe tbody tr th:only-of-type {\n",
              "        vertical-align: middle;\n",
              "    }\n",
              "\n",
              "    .dataframe tbody tr th {\n",
              "        vertical-align: top;\n",
              "    }\n",
              "\n",
              "    .dataframe thead th {\n",
              "        text-align: right;\n",
              "    }\n",
              "</style>\n",
              "<table border=\"1\" class=\"dataframe\">\n",
              "  <thead>\n",
              "    <tr style=\"text-align: right;\">\n",
              "      <th>営業所</th>\n",
              "      <th>名古屋</th>\n",
              "      <th>大阪</th>\n",
              "      <th>東京</th>\n",
              "    </tr>\n",
              "    <tr>\n",
              "      <th>性別</th>\n",
              "      <th></th>\n",
              "      <th></th>\n",
              "      <th></th>\n",
              "    </tr>\n",
              "  </thead>\n",
              "  <tbody>\n",
              "    <tr>\n",
              "      <th>女</th>\n",
              "      <td>90.666667</td>\n",
              "      <td>83.0</td>\n",
              "      <td>79.5</td>\n",
              "    </tr>\n",
              "    <tr>\n",
              "      <th>男</th>\n",
              "      <td>86.000000</td>\n",
              "      <td>NaN</td>\n",
              "      <td>77.0</td>\n",
              "    </tr>\n",
              "  </tbody>\n",
              "</table>\n",
              "</div>"
            ],
            "text/plain": [
              "営業所        名古屋    大阪    東京\n",
              "性別                        \n",
              "女    90.666667  83.0  79.5\n",
              "男    86.000000   NaN  77.0"
            ]
          },
          "metadata": {
            "tags": []
          },
          "execution_count": 77
        }
      ]
    },
    {
      "cell_type": "markdown",
      "metadata": {
        "id": "JRc7jFZ1ZfBh"
      },
      "source": [
        "---\n",
        "---\n",
        "---\n",
        "---\n",
        "---\n",
        "---\n",
        "---\n",
        "# 補足 Pythonの公式な言語リファレンス\n",
        "\n",
        "* 公式なマニュアルはこちらですが、内容は難しいので最初はわかりやすい情報や、本などを参考にしましょう。\n",
        "* 英語\n",
        " * https://docs.python.org/3/reference/index.html\n",
        "* 日本語\n",
        " * https://docs.python.org/ja/3/reference/index.html"
      ]
    }
  ]
}
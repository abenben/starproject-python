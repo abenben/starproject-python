{
  "nbformat": 4,
  "nbformat_minor": 0,
  "metadata": {
    "colab": {
      "name": " tutorial07.ipynb",
      "provenance": [],
      "collapsed_sections": [],
      "toc_visible": true,
      "include_colab_link": true
    },
    "kernelspec": {
      "name": "python3",
      "display_name": "Python 3"
    }
  },
  "cells": [
    {
      "cell_type": "markdown",
      "metadata": {
        "id": "view-in-github",
        "colab_type": "text"
      },
      "source": [
        "<a href=\"https://colab.research.google.com/github/abenben/starproject-python/blob/master/tutorial07.ipynb\" target=\"_parent\"><img src=\"https://colab.research.google.com/assets/colab-badge.svg\" alt=\"Open In Colab\"/></a>"
      ]
    },
    {
      "cell_type": "markdown",
      "metadata": {
        "id": "vGWEolnGYIUx"
      },
      "source": [
        "**Python基礎講座（6日目）**\n",
        "\n",
        "* [「Python・ブロックチェーン講座」の日程](https://www.facebook.com/photo.php?fbid=1186715631679052&set=gm.752573365315679&type=3&theater&ifg=1)"
      ]
    },
    {
      "cell_type": "markdown",
      "metadata": {
        "id": "C2oU4zK9lO2n"
      },
      "source": [
        "---\n",
        "---\n",
        "---\n",
        "本日の講義（データ処理）\n",
        "---\n",
        "---\n",
        "---\n",
        "---\n"
      ]
    },
    {
      "cell_type": "markdown",
      "metadata": {
        "id": "BUfkwIDS5qrs"
      },
      "source": [
        "# 1.Pandas（Series編）"
      ]
    },
    {
      "cell_type": "markdown",
      "metadata": {
        "id": "ZjmfqBtRHOjO"
      },
      "source": [
        "## 1.1 xxx\n",
        "\n"
      ]
    },
    {
      "cell_type": "markdown",
      "metadata": {
        "id": "DNCvwdUDEEeY"
      },
      "source": [
        "### 1.1.1 xxx"
      ]
    },
    {
      "cell_type": "markdown",
      "metadata": {
        "id": "Nkhksqo-Hgdi"
      },
      "source": [
        "\n",
        "```python\n",
        "▶ \n",
        "▶ \n",
        "▶ \n",
        "▶ \n",
        "▶ \n",
        "\n",
        "\n",
        "\n",
        "\n",
        "```\n",
        "\n",
        "（コードを書いて実際に確認してみよう）"
      ]
    },
    {
      "cell_type": "code",
      "metadata": {
        "id": "NMhHG4PKH8Yq"
      },
      "source": [
        "# （ここに記述）"
      ],
      "execution_count": null,
      "outputs": []
    },
    {
      "cell_type": "markdown",
      "metadata": {
        "id": "kXUYhd4vlPki"
      },
      "source": [
        "---\n",
        "---\n",
        "---\n",
        "---\n",
        "---\n",
        "# 2.Pandas（DataFrame編）"
      ]
    },
    {
      "cell_type": "markdown",
      "metadata": {
        "id": "kbeT6ctT5BHi"
      },
      "source": [
        "## 2.1 xxx\n"
      ]
    },
    {
      "cell_type": "markdown",
      "metadata": {
        "id": "xOoZ9OmAExhA"
      },
      "source": [
        "### 2.1.1 xxx"
      ]
    },
    {
      "cell_type": "markdown",
      "metadata": {
        "id": "l8lRHCQq7pTN"
      },
      "source": [
        "\n",
        "```python\n",
        "▶ \n",
        "▶ \n",
        "▶ \n",
        "▶ \n",
        "▶ \n",
        "\n",
        "\n",
        "\n",
        "\n",
        "\n",
        "```\n",
        "（コードを書いて実際に確認してみよう）"
      ]
    },
    {
      "cell_type": "code",
      "metadata": {
        "id": "BJwDioEWaqaW"
      },
      "source": [
        "# （ここに記述）"
      ],
      "execution_count": null,
      "outputs": []
    },
    {
      "cell_type": "markdown",
      "metadata": {
        "id": "0nTYWz_P5BqH"
      },
      "source": [
        "## 2.2 xxx\n"
      ]
    },
    {
      "cell_type": "markdown",
      "metadata": {
        "id": "7GLHAurOFKpQ"
      },
      "source": [
        "### 2.2.1 xxx"
      ]
    },
    {
      "cell_type": "markdown",
      "metadata": {
        "id": "NgTY5ORb7717"
      },
      "source": [
        "```python\n",
        "▶ \n",
        "▶ \n",
        "▶ \n",
        "▶ \n",
        "▶ \n",
        "\n",
        "\n",
        "\n",
        "\n",
        "\n",
        "```\n",
        "（コードを書いて実際に確認してみよう）"
      ]
    },
    {
      "cell_type": "code",
      "metadata": {
        "id": "nIP3RrRychyn"
      },
      "source": [
        "# （ここに記述）"
      ],
      "execution_count": null,
      "outputs": []
    },
    {
      "cell_type": "markdown",
      "metadata": {
        "id": "JRc7jFZ1ZfBh"
      },
      "source": [
        "---\n",
        "---\n",
        "---\n",
        "---\n",
        "---\n",
        "---\n",
        "---\n",
        "# 補足 Pythonの公式な言語リファレンス\n",
        "\n",
        "* 公式なマニュアルはこちらですが、内容は難しいので最初はわかりやすい情報や、本などを参考にしましょう。\n",
        "* 英語\n",
        " * https://docs.python.org/3/reference/index.html\n",
        "* 日本語\n",
        " * https://docs.python.org/ja/3/reference/index.html"
      ]
    }
  ]
}
{
  "nbformat": 4,
  "nbformat_minor": 0,
  "metadata": {
    "colab": {
      "name": " tutorial05.ipynb",
      "provenance": [],
      "collapsed_sections": [],
      "toc_visible": true,
      "include_colab_link": true
    },
    "kernelspec": {
      "name": "python3",
      "display_name": "Python 3"
    }
  },
  "cells": [
    {
      "cell_type": "markdown",
      "metadata": {
        "id": "view-in-github",
        "colab_type": "text"
      },
      "source": [
        "<a href=\"https://colab.research.google.com/github/abenben/starproject-python/blob/master/tutorial05.ipynb\" target=\"_parent\"><img src=\"https://colab.research.google.com/assets/colab-badge.svg\" alt=\"Open In Colab\"/></a>"
      ]
    },
    {
      "cell_type": "markdown",
      "metadata": {
        "id": "vGWEolnGYIUx",
        "colab_type": "text"
      },
      "source": [
        "**Python基礎講座（4日目）**\n",
        "\n",
        "* [「Python・ブロックチェーン講座」の日程](https://www.facebook.com/photo.php?fbid=1186715631679052&set=gm.752573365315679&type=3&theater&ifg=1)"
      ]
    },
    {
      "cell_type": "markdown",
      "metadata": {
        "id": "lyPRjmkAkvEs",
        "colab_type": "text"
      },
      "source": [
        "---\n",
        "---\n",
        "----\n",
        "# 前回学んだこと\n",
        "---\n",
        "---\n",
        "---"
      ]
    },
    {
      "cell_type": "markdown",
      "metadata": {
        "id": "zKEvQy3qkx7o",
        "colab_type": "text"
      },
      "source": [
        "\n",
        "## 講義のチュートリアル、講義の一覧\n",
        "\n",
        "* 前回（3日目のチュートリアル）\n",
        " * https://github.com/abenben/starproject-python/blob/master/tutorial04.ipynb\n",
        "\n",
        "* [講義の一覧](https://github.com/abenben/starproject-python#3%E3%83%81%E3%83%A5%E3%83%BC%E3%83%88%E3%83%AA%E3%82%A2%E3%83%AB)\n"
      ]
    },
    {
      "cell_type": "markdown",
      "metadata": {
        "id": "GFuFKxqGkz0I",
        "colab_type": "text"
      },
      "source": [
        "## 前回講義のトピック\n",
        "\n",
        "### データ構造（コレクション）\n",
        "\n",
        "* リスト\n",
        "* タプル\n",
        "* セット（集合）\n",
        "* 辞書\n",
        "* numpy\n",
        "*　その他\n",
        "    * グラフ（mathplotlib）の表示\n",
        "    * 乱数の生成\n",
        "\n",
        "### 関数\n",
        "\n",
        "* 関数の作成\n",
        "* 関数の引数\n",
        "* 関数の戻り値"
      ]
    },
    {
      "cell_type": "markdown",
      "metadata": {
        "id": "hx_q8Fk2ijUi",
        "colab_type": "text"
      },
      "source": [
        "---\n",
        "---\n",
        "---\n",
        "# イベントご案内\n",
        "---\n",
        "---\n",
        "---\n",
        "\n",
        "* Pythonイベント(1)\n",
        "    * 2020.10.14(水) 19:00-21:00\n",
        "    * 『みんなのPython勉強会#62』\n",
        "    * https://startpython.connpass.com/event/187062\n",
        "* ブロックチェーンイベント(1)\n",
        "    * 2020.10.13(火) 19:00-21:00\n",
        "    * STARプロジェクトブロックチェーン講義 Vol.2\n",
        "    * タイトル：『（仮）ブロックチェーンビジネス、トークンエコノミー』\n",
        "    * 講師： [株式会社アヤナス](https://www.ayanasu.co/) 代表取締役 川本栄介\n",
        "    * （紹介はSTARプロジェクトFacebookから後日案内します）\n",
        "* フィンテック・金融イベント(1)\n",
        "    * 地方創生と地方金融（企画中）\n",
        "* その他イベント(1)\n",
        "    * 2020.09.30(水) 19:30-21:30\n",
        "    * カテゴリ：デザイン経営\n",
        "    * 『VUCA labo #006 篠原稔和さん「不確実な時代のデザインの役割」』\n",
        "    * https://vucalabo.connpass.com/event/188243/\n",
        "        * (有料ですが若干招待枠があるので個別に連絡下さい。)"
      ]
    },
    {
      "cell_type": "markdown",
      "metadata": {
        "id": "yB-pe2igk_R1",
        "colab_type": "text"
      },
      "source": [
        "---\n",
        "---\n",
        "---\n",
        "# 今日やること（一覧）\n",
        "---\n",
        "---\n",
        "---\n",
        "\n",
        "## 1.ファイル操作\n",
        "\n",
        "* Google Colab特有の前提知識共有\n",
        "* ファイル操作\n",
        "    * ファイル読み込み\n",
        "    * ファイル書き込み\n",
        "\n",
        "## 2.前回までの講義の補足説明\n",
        "\n",
        "*  データ構造\n",
        "    * sum()関数\n",
        "* 関数\n",
        "    * デフォルト引数\n",
        "    * 無名関数\n",
        "* エラー処理\n",
        "    * 例外\n",
        "    * try...catch\n",
        "\n",
        "## 3.標準ライブラリ（その1）\n",
        "\n",
        "* 標準ライブラリの一覧\n",
        "* OS モジュール\n",
        "* PathLib モジュール\n",
        "* Zip モジュール\n",
        "* 正規表現(re) モジュール\n",
        "* datetime<*復習> モジュール\n",
        "* json モジュール\n",
        "\n",
        "## 4.いろんなファイルの操作\n",
        "\n",
        "* CSVファイル\n",
        "* Excelファイル\n",
        "* PDFファイル\n",
        "* Word,Power Point\n",
        "* Google スプレッドシート"
      ]
    },
    {
      "cell_type": "markdown",
      "metadata": {
        "colab_type": "text",
        "id": "C2oU4zK9lO2n"
      },
      "source": [
        "---\n",
        "---\n",
        "---\n",
        "本日の講義\n",
        "---\n",
        "---\n",
        "---\n",
        "---\n"
      ]
    },
    {
      "cell_type": "markdown",
      "metadata": {
        "id": "BUfkwIDS5qrs",
        "colab_type": "text"
      },
      "source": [
        "# 1.ファイル操作"
      ]
    },
    {
      "cell_type": "markdown",
      "metadata": {
        "colab_type": "text",
        "id": "GkX912ERlTzK"
      },
      "source": [
        "## 1.1 はじめに\n",
        "\n",
        "プログラムにはなんらかの入出力が不可欠です。ここでは入力元、出力先としてファイルを操作する方法を説明します。\n",
        "\n",
        "ファイル操作の手順\n",
        "\n",
        "1. ファイルは必ずオープンする必要がある。\n",
        "\n",
        "2. ファイルを読み込んだり、書き込んだり（または追加）できる。\n",
        "\n",
        "3. ファイルはクローズする必要がある。\n"
      ]
    },
    {
      "cell_type": "markdown",
      "metadata": {
        "colab_type": "text",
        "id": "nPEH__x9toSJ"
      },
      "source": [
        "## 1.2 事前準備（おまじない）\n",
        "\n",
        "事前に講師が準備したファイルをGoogle Colabの環境上にアップロードします。\n",
        "\n",
        "以下のコマンドは、本講義の本題とは関係ありませんが、Web上から何らかのファイルを取得するときの方法としてもご参考下さい。\n",
        "\n",
        "では、さっそく csvファイルやtsvファイルをダウンロードします。以下のコマンドをそれぞれ実行して下さい。\n",
        "\n",
        "```bash\n",
        "▶ !rm store.csv store.tsv\n",
        "▶ !wget https://github.com/abenben/starproject-python/raw/master/sampledata/tutorial05/sample.txt\n",
        "▶ !wget https://github.com/abenben/starproject-python/raw/master/sampledata/tutorial05/store.csv\n",
        "▶ !wget https://github.com/abenben/starproject-python/raw/master/sampledata/tutorial05/store.tsv\n",
        "▶ !ls\n",
        "sample_data  store.csv\tstore.tsv\n",
        "```\n",
        "（そのまま以下のコマンドを実行してください）"
      ]
    },
    {
      "cell_type": "code",
      "metadata": {
        "id": "3teBhUKXr-cc",
        "colab_type": "code",
        "colab": {}
      },
      "source": [
        "!rm sample.txt store.csv store.tsv\n",
        "!wget https://github.com/abenben/starproject-python/raw/master/sampledata/tutorial05/sample.txt\n",
        "!wget https://github.com/abenben/starproject-python/raw/master/sampledata/tutorial05/store.csv\n",
        "!wget https://github.com/abenben/starproject-python/raw/master/sampledata/tutorial05/store.tsv\n",
        "!ls"
      ],
      "execution_count": null,
      "outputs": []
    },
    {
      "cell_type": "markdown",
      "metadata": {
        "id": "nrzmOSIgDDKg",
        "colab_type": "text"
      },
      "source": [
        "## 1.3 ファイルの読み込み"
      ]
    },
    {
      "cell_type": "markdown",
      "metadata": {
        "id": "DjzVdGun6j-W",
        "colab_type": "text"
      },
      "source": [
        "### 1.3.1 ファイル全体をまとめて読み込む\n",
        "\n",
        "**read()メソッド**\n",
        "\n",
        "```python\n",
        "▶ f = open('sample.txt')\n",
        "▶ data = f.read()\n",
        "▶ print(data)\n",
        "▶ f.close()\n",
        "（ファイルの内容が表示）\n",
        "```\n",
        "[テキスト](https://github.com/abenben/starproject-python/blob/master/sampledata/tutorial05/sample.txt)の内容が表示されます。\n",
        "\n",
        "（コードを書いて実際に確認してみよう）"
      ]
    },
    {
      "cell_type": "code",
      "metadata": {
        "id": "4dOv7Wch_HYH",
        "colab_type": "code",
        "colab": {}
      },
      "source": [
        "# （ここに記述）"
      ],
      "execution_count": 24,
      "outputs": []
    },
    {
      "cell_type": "markdown",
      "metadata": {
        "colab_type": "text",
        "id": "JYNKaPgxEGyZ"
      },
      "source": [
        "### 1.3.2 テキストファイルを1行だけ読み込む\n",
        "\n",
        "**readline()メソッド**\n",
        "\n",
        "```python\n",
        "▶ f = open('sample.txt','r')\n",
        "▶ data = f.readline()\n",
        "▶ print(data)\n",
        "▶ f.close()\n",
        "（ファイルの内容が表示）\n",
        "```\n",
        "\n",
        "（コードを書いて実際に確認してみよう）"
      ]
    },
    {
      "cell_type": "code",
      "metadata": {
        "colab_type": "code",
        "id": "CzuFfZaaEeyS",
        "colab": {}
      },
      "source": [
        "# （ここに記述）"
      ],
      "execution_count": 36,
      "outputs": []
    },
    {
      "cell_type": "markdown",
      "metadata": {
        "colab_type": "text",
        "id": "cWTamY53EHH_"
      },
      "source": [
        "### 1.3.3 テキストファイルを一気にまとめて読み込む\n",
        "\n",
        "**readlines()メソッド**\n",
        "\n",
        "```python\n",
        "▶ f = open('sample.txt','r')\n",
        "▶ data = f.readlines()\n",
        "▶ print(data)\n",
        "▶ f.close()\n",
        "（ファイルの内容が表示）\n",
        "```\n",
        "\n",
        "（コードを書いて実際に確認してみよう）"
      ]
    },
    {
      "cell_type": "code",
      "metadata": {
        "colab_type": "code",
        "id": "e7HWKJ5jFPtM",
        "colab": {}
      },
      "source": [
        "# （ここに記述）"
      ],
      "execution_count": 35,
      "outputs": []
    },
    {
      "cell_type": "markdown",
      "metadata": {
        "colab_type": "text",
        "id": "bgZPqWauEX4_"
      },
      "source": [
        "### 1.3.4 テキストファイルを一行ずつ読み込む\n",
        "\n",
        "**ストリーム**\n",
        "\n",
        "```python\n",
        "▶ f = open('sample.txt')\n",
        "▶ for line in f:\n",
        "▶     print(line.strip())\n",
        "▶ f.close()\n",
        "（ファイルの内容が表示）\n",
        "```\n",
        "\n",
        "（コードを書いて実際に確認してみよう）"
      ]
    },
    {
      "cell_type": "code",
      "metadata": {
        "colab_type": "code",
        "id": "616oWc1KEf5U",
        "colab": {}
      },
      "source": [
        "# （ここに記述）"
      ],
      "execution_count": 34,
      "outputs": []
    },
    {
      "cell_type": "markdown",
      "metadata": {
        "id": "Zh6YfqGvG-ZC",
        "colab_type": "text"
      },
      "source": [
        "## 1.4 ファイルの書き込み"
      ]
    },
    {
      "cell_type": "markdown",
      "metadata": {
        "id": "6EJbsUgo6ubK",
        "colab_type": "text"
      },
      "source": [
        "## 1.4.1 テキストファイルの新規書き込み\n",
        "\n",
        "（★説明）\n",
        "\n",
        "**（★コードの説明）**\n",
        "\n",
        "```python\n",
        "▶ （★コード）\n",
        "▶ \n",
        "▶ \n",
        "（★アウトプット）\n",
        "```\n",
        "（コードを書いて実際に確認してみよう）"
      ]
    },
    {
      "cell_type": "markdown",
      "metadata": {
        "colab_type": "text",
        "id": "DDTbWt0fHGS6"
      },
      "source": [
        "## 1.4.2 テキストファイルの追加書き込み\n",
        "\n",
        "（★説明）\n",
        "\n",
        "**（★コードの説明）**\n",
        "\n",
        "```python\n",
        "▶ （★コード）\n",
        "▶ \n",
        "▶ \n",
        "（★アウトプット）\n",
        "```\n",
        "（コードを書いて実際に確認してみよう）"
      ]
    },
    {
      "cell_type": "markdown",
      "metadata": {
        "id": "ZjmfqBtRHOjO",
        "colab_type": "text"
      },
      "source": [
        "## 1.5 ファイルクローズ忘れを回避する方法\n",
        "\n",
        "withブロックを使うと、ブロックの終了時に自動的にファイルをクローズしてくれます。\n",
        "\n",
        "コレによって、close()を書き漏らしを回避することができます。"
      ]
    },
    {
      "cell_type": "markdown",
      "metadata": {
        "colab_type": "text",
        "id": "Nkhksqo-Hgdi"
      },
      "source": [
        "\n",
        "```python\n",
        "▶ with open('sample.txt','r') as f:\n",
        "▶     for line in f:\n",
        "▶         print(line.strip())\n",
        "（ファイルの内容が表示）\n",
        "```\n",
        "\n",
        "（コードを書いて実際に確認してみよう）"
      ]
    },
    {
      "cell_type": "code",
      "metadata": {
        "colab_type": "code",
        "id": "NMhHG4PKH8Yq",
        "colab": {}
      },
      "source": [
        "# （ここに記述）"
      ],
      "execution_count": 41,
      "outputs": []
    },
    {
      "cell_type": "markdown",
      "metadata": {
        "id": "Ftkd4F8YjxQt",
        "colab_type": "text"
      },
      "source": [
        "---\n",
        "---\n",
        "---\n",
        "---\n",
        "---\n",
        "# 2.前回までの説明での補足"
      ]
    },
    {
      "cell_type": "markdown",
      "metadata": {
        "id": "RM8q6CcLjxds",
        "colab_type": "text"
      },
      "source": [
        "## 2.1 はじめに\n",
        "\n",
        "xxxxxx"
      ]
    },
    {
      "cell_type": "markdown",
      "metadata": {
        "colab_type": "text",
        "id": "EEq-fmhJ09U8"
      },
      "source": [
        "## 2.2 データ構造（コレクション）\n",
        "\n",
        "xxxxxx"
      ]
    },
    {
      "cell_type": "markdown",
      "metadata": {
        "colab_type": "text",
        "id": "u_btiSiY1EJ3"
      },
      "source": [
        "### 2.2.1 sum()関数\n",
        "\n",
        "\n",
        "（★説明）\n",
        "\n",
        "**（★コードの説明）**\n",
        "\n",
        "```python\n",
        "▶ （★コード）\n",
        "▶ \n",
        "▶ \n",
        "（★アウトプット）\n",
        "```\n",
        "（コードを書いて実際に確認してみよう）"
      ]
    },
    {
      "cell_type": "markdown",
      "metadata": {
        "colab_type": "text",
        "id": "PtS3lhVw09iS"
      },
      "source": [
        "## 2.3 関数\n",
        "\n",
        "xxxxxx"
      ]
    },
    {
      "cell_type": "markdown",
      "metadata": {
        "colab_type": "text",
        "id": "UwQT_tqN1iUo"
      },
      "source": [
        "### 2.3.1 デフォルト引数\n",
        "\n",
        "\n",
        "（★説明）\n",
        "\n",
        "**（★コードの説明）**\n",
        "\n",
        "```python\n",
        "▶ （★コード）\n",
        "▶ \n",
        "▶ \n",
        "（★アウトプット）\n",
        "```\n",
        "（コードを書いて実際に確認してみよう）"
      ]
    },
    {
      "cell_type": "markdown",
      "metadata": {
        "colab_type": "text",
        "id": "MqQ9JAsF1ig4"
      },
      "source": [
        "### 2.3.2 無名関数\n",
        "\n",
        "\n",
        "（★説明）\n",
        "\n",
        "**（★コードの説明）**\n",
        "\n",
        "```python\n",
        "▶ （★コード）\n",
        "▶ \n",
        "▶ \n",
        "（★アウトプット）\n",
        "```\n",
        "（コードを書いて実際に確認してみよう）"
      ]
    },
    {
      "cell_type": "markdown",
      "metadata": {
        "colab_type": "text",
        "id": "_4GZ5FS5090-"
      },
      "source": [
        "## 2.4 制御構文\n",
        "\n",
        "xxxxxx"
      ]
    },
    {
      "cell_type": "markdown",
      "metadata": {
        "colab_type": "text",
        "id": "3lfo_gbB17U9"
      },
      "source": [
        "### 2.4.1 エラー\n",
        "\n",
        "（★エラーの説明）"
      ]
    },
    {
      "cell_type": "markdown",
      "metadata": {
        "id": "d3v-88Pu7bWf",
        "colab_type": "text"
      },
      "source": [
        "\n",
        "（★説明）\n",
        "\n",
        "**（★コードの説明）**\n",
        "\n",
        "```python\n",
        "▶ （★コード）\n",
        "▶ \n",
        "▶ \n",
        "（★アウトプット）\n",
        "```\n",
        "（コードを書いて実際に確認してみよう）"
      ]
    },
    {
      "cell_type": "markdown",
      "metadata": {
        "colab_type": "text",
        "id": "Z8md6Xr417rD"
      },
      "source": [
        "### 2.4.2 例外の種類\n",
        "\n",
        "xxxxxx"
      ]
    },
    {
      "cell_type": "markdown",
      "metadata": {
        "id": "WsLf0mWR7iHJ",
        "colab_type": "text"
      },
      "source": [
        "\n",
        "（★説明）\n",
        "\n",
        "**（★コードの説明）**\n",
        "\n",
        "```python\n",
        "▶ （★コード）\n",
        "▶ \n",
        "▶ \n",
        "（★アウトプット）\n",
        "```\n",
        "（コードを書いて実際に確認してみよう）"
      ]
    },
    {
      "cell_type": "markdown",
      "metadata": {
        "colab_type": "text",
        "id": "c1HHumkW178p"
      },
      "source": [
        "### 2.4.3 例外のハンドリング\n",
        "\n",
        "\n",
        "（★説明）\n",
        "\n",
        "**（★コードの説明）**\n",
        "\n",
        "```python\n",
        "▶ （★コード）\n",
        "▶ \n",
        "▶ \n",
        "（★アウトプット）\n",
        "```\n",
        "（コードを書いて実際に確認してみよう）"
      ]
    },
    {
      "cell_type": "markdown",
      "metadata": {
        "colab_type": "text",
        "id": "kXUYhd4vlPki"
      },
      "source": [
        "---\n",
        "---\n",
        "---\n",
        "---\n",
        "---\n",
        "# 3.標準ライブラリ"
      ]
    },
    {
      "cell_type": "markdown",
      "metadata": {
        "colab_type": "text",
        "id": "d0gA8loWlUMq"
      },
      "source": [
        "## 3.1 はじめに\n",
        "\n",
        "xxxxxx"
      ]
    },
    {
      "cell_type": "markdown",
      "metadata": {
        "id": "sCKkWAtL4p6K",
        "colab_type": "text"
      },
      "source": [
        "## 3.2 標準ライブラリの一覧\n",
        "\n",
        "xxx\n",
        "\n",
        "|カテゴリ|xxxx|xxxx|\n",
        "|---|---|---|\n",
        "|aaaa|saaa|aaa|"
      ]
    },
    {
      "cell_type": "markdown",
      "metadata": {
        "id": "kbeT6ctT5BHi",
        "colab_type": "text"
      },
      "source": [
        "## 3.3  OS モジュール\n"
      ]
    },
    {
      "cell_type": "markdown",
      "metadata": {
        "id": "l8lRHCQq7pTN",
        "colab_type": "text"
      },
      "source": [
        "\n",
        "（★説明）\n",
        "\n",
        "**（★コードの説明）**\n",
        "\n",
        "```python\n",
        "▶ （★コード）\n",
        "▶ \n",
        "▶ \n",
        "（★アウトプット）\n",
        "```\n",
        "（コードを書いて実際に確認してみよう）"
      ]
    },
    {
      "cell_type": "markdown",
      "metadata": {
        "id": "0nTYWz_P5BqH",
        "colab_type": "text"
      },
      "source": [
        "## 3.4  PathLib モジュール\n"
      ]
    },
    {
      "cell_type": "markdown",
      "metadata": {
        "colab_type": "text",
        "id": "NgTY5ORb7717"
      },
      "source": [
        "\n",
        "（★説明）\n",
        "\n",
        "**（★コードの説明）**\n",
        "\n",
        "```python\n",
        "▶ （★コード）\n",
        "▶ \n",
        "▶ \n",
        "（★アウトプット）\n",
        "```\n",
        "（コードを書いて実際に確認してみよう）"
      ]
    },
    {
      "cell_type": "markdown",
      "metadata": {
        "id": "UgjLQPvD5FyX",
        "colab_type": "text"
      },
      "source": [
        "## 3.5  Zip モジュール\n"
      ]
    },
    {
      "cell_type": "markdown",
      "metadata": {
        "colab_type": "text",
        "id": "21wF1xyf78ho"
      },
      "source": [
        "\n",
        "（★説明）\n",
        "\n",
        "**（★コードの説明）**\n",
        "\n",
        "```python\n",
        "▶ （★コード）\n",
        "▶ \n",
        "▶ \n",
        "（★アウトプット）\n",
        "```\n",
        "（コードを書いて実際に確認してみよう）"
      ]
    },
    {
      "cell_type": "markdown",
      "metadata": {
        "id": "ykP9nZLY5JBV",
        "colab_type": "text"
      },
      "source": [
        "## 3.6  正規表現(re) モジュール\n"
      ]
    },
    {
      "cell_type": "markdown",
      "metadata": {
        "colab_type": "text",
        "id": "deS8EU6979Jf"
      },
      "source": [
        "\n",
        "（★説明）\n",
        "\n",
        "**（★コードの説明）**\n",
        "\n",
        "```python\n",
        "▶ （★コード）\n",
        "▶ \n",
        "▶ \n",
        "（★アウトプット）\n",
        "```\n",
        "（コードを書いて実際に確認してみよう）"
      ]
    },
    {
      "cell_type": "markdown",
      "metadata": {
        "id": "mGll79y85Qiq",
        "colab_type": "text"
      },
      "source": [
        "## 3.7  datetime<復習> モジュール"
      ]
    },
    {
      "cell_type": "markdown",
      "metadata": {
        "colab_type": "text",
        "id": "1r_nu_5779iB"
      },
      "source": [
        "\n",
        "（★説明）\n",
        "\n",
        "**（★コードの説明）**\n",
        "\n",
        "```python\n",
        "▶ （★コード）\n",
        "▶ \n",
        "▶ \n",
        "（★アウトプット）\n",
        "```\n",
        "（コードを書いて実際に確認してみよう）"
      ]
    },
    {
      "cell_type": "markdown",
      "metadata": {
        "id": "ra45ooPm5Q9W",
        "colab_type": "text"
      },
      "source": [
        "## 3.8  json モジュール\n"
      ]
    },
    {
      "cell_type": "markdown",
      "metadata": {
        "colab_type": "text",
        "id": "XPci-YOs7-Br"
      },
      "source": [
        "\n",
        "（★説明）\n",
        "\n",
        "**（★コードの説明）**\n",
        "\n",
        "```python\n",
        "▶ （★コード）\n",
        "▶ \n",
        "▶ \n",
        "（★アウトプット）\n",
        "```\n",
        "（コードを書いて実際に確認してみよう）"
      ]
    },
    {
      "cell_type": "markdown",
      "metadata": {
        "colab_type": "text",
        "id": "FdJzO9f5tiaL"
      },
      "source": [
        "---\n",
        "---\n",
        "---\n",
        "---\n",
        "---\n",
        "# 4.いろんなファイルの操作"
      ]
    },
    {
      "cell_type": "markdown",
      "metadata": {
        "colab_type": "text",
        "id": "dMRX7qAktj-H"
      },
      "source": [
        "## 4.1 はじめに\n",
        "\n",
        "pythonにはバイナリファイルやテキスト以外のファイル形式をサポートするライブラリが存在します。\n",
        "\n",
        "ここでは利用頻度の高いcsv（またはtsv）ファイルや、Excel,PDF,Word,Power PointとGoogleスプレッドシートの操作を学びます。"
      ]
    },
    {
      "cell_type": "markdown",
      "metadata": {
        "id": "71gBidoIvvX5",
        "colab_type": "text"
      },
      "source": [
        "## 4.2 CSVファイル"
      ]
    },
    {
      "cell_type": "markdown",
      "metadata": {
        "colab_type": "text",
        "id": "kZHkEoqm7-8N"
      },
      "source": [
        "\n",
        "（★説明）\n",
        "\n",
        "**（★コードの説明）**\n",
        "\n",
        "```python\n",
        "▶ （★コード）\n",
        "▶ \n",
        "▶ \n",
        "（★アウトプット）\n",
        "```\n",
        "（コードを書いて実際に確認してみよう）"
      ]
    },
    {
      "cell_type": "markdown",
      "metadata": {
        "id": "xz7B-nOPvv0B",
        "colab_type": "text"
      },
      "source": [
        "## 4.3 Excelファイル\n"
      ]
    },
    {
      "cell_type": "markdown",
      "metadata": {
        "colab_type": "text",
        "id": "EjYNUsRw7_U8"
      },
      "source": [
        "\n",
        "（★説明）\n",
        "\n",
        "**（★コードの説明）**\n",
        "\n",
        "```python\n",
        "▶ （★コード）\n",
        "▶ \n",
        "▶ \n",
        "（★アウトプット）\n",
        "```\n",
        "（コードを書いて実際に確認してみよう）"
      ]
    },
    {
      "cell_type": "markdown",
      "metadata": {
        "id": "LIekrx-cvwF3",
        "colab_type": "text"
      },
      "source": [
        "## 4.4 PDFファイル"
      ]
    },
    {
      "cell_type": "markdown",
      "metadata": {
        "colab_type": "text",
        "id": "dhuTEkrt8AFE"
      },
      "source": [
        "\n",
        "（★説明）\n",
        "\n",
        "**（★コードの説明）**\n",
        "\n",
        "```python\n",
        "▶ （★コード）\n",
        "▶ \n",
        "▶ \n",
        "（★アウトプット）\n",
        "```\n",
        "（コードを書いて実際に確認してみよう）"
      ]
    },
    {
      "cell_type": "markdown",
      "metadata": {
        "id": "diRRVMXgvwW8",
        "colab_type": "text"
      },
      "source": [
        "## 4.5 Word,Power Point"
      ]
    },
    {
      "cell_type": "markdown",
      "metadata": {
        "colab_type": "text",
        "id": "0CDP8_nC8BW4"
      },
      "source": [
        "\n",
        "（★説明）\n",
        "\n",
        "**（★コードの説明）**\n",
        "\n",
        "```python\n",
        "▶ （★コード）\n",
        "▶ \n",
        "▶ \n",
        "（★アウトプット）\n",
        "```\n",
        "（コードを書いて実際に確認してみよう）"
      ]
    },
    {
      "cell_type": "markdown",
      "metadata": {
        "id": "ABWX9Zihvwjg",
        "colab_type": "text"
      },
      "source": [
        "## 4.6 Google スプレッドシート"
      ]
    },
    {
      "cell_type": "markdown",
      "metadata": {
        "colab_type": "text",
        "id": "gzRAS7QQ8C_S"
      },
      "source": [
        "\n",
        "（★説明）\n",
        "\n",
        "**（★コードの説明）**\n",
        "\n",
        "```python\n",
        "▶ （★コード）\n",
        "▶ \n",
        "▶ \n",
        "（★アウトプット）\n",
        "```\n",
        "（コードを書いて実際に確認してみよう）"
      ]
    },
    {
      "cell_type": "markdown",
      "metadata": {
        "id": "JRc7jFZ1ZfBh",
        "colab_type": "text"
      },
      "source": [
        "---\n",
        "---\n",
        "---\n",
        "---\n",
        "---\n",
        "---\n",
        "---\n",
        "# 補足 Pythonの公式な言語リファレンス\n",
        "\n",
        "* 公式なマニュアルはこちらですが、内容は難しいので最初はわかりやすい情報や、本などを参考にしましょう。\n",
        "* 英語\n",
        " * https://docs.python.org/3/reference/index.html\n",
        "* 日本語\n",
        " * https://docs.python.org/ja/3/reference/index.html"
      ]
    },
    {
      "cell_type": "code",
      "metadata": {
        "id": "Dy0XMN2kKODY",
        "colab_type": "code",
        "colab": {}
      },
      "source": [
        ""
      ],
      "execution_count": null,
      "outputs": []
    }
  ]
}
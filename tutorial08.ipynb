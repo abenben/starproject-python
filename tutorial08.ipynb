{
  "nbformat": 4,
  "nbformat_minor": 0,
  "metadata": {
    "colab": {
      "name": "tutorial08.ipynb",
      "provenance": [],
      "collapsed_sections": [],
      "toc_visible": true,
      "include_colab_link": true
    },
    "kernelspec": {
      "name": "python3",
      "display_name": "Python 3"
    }
  },
  "cells": [
    {
      "cell_type": "markdown",
      "metadata": {
        "id": "view-in-github",
        "colab_type": "text"
      },
      "source": [
        "<a href=\"https://colab.research.google.com/github/abenben/starproject-python/blob/master/tutorial08.ipynb\" target=\"_parent\"><img src=\"https://colab.research.google.com/assets/colab-badge.svg\" alt=\"Open In Colab\"/></a>"
      ]
    },
    {
      "cell_type": "markdown",
      "metadata": {
        "id": "vGWEolnGYIUx"
      },
      "source": [
        "**Python基礎講座（8日目）**\n",
        "\n",
        "* [「Python・ブロックチェーン講座」の日程](https://www.facebook.com/photo.php?fbid=1186715631679052&set=gm.752573365315679&type=3&theater&ifg=1)"
      ]
    },
    {
      "cell_type": "markdown",
      "metadata": {
        "id": "C2oU4zK9lO2n"
      },
      "source": [
        "---\n",
        "---\n",
        "---\n",
        "本日の講義（データ処理）\n",
        "---\n",
        "---\n",
        "---\n",
        "---\n"
      ]
    },
    {
      "cell_type": "markdown",
      "metadata": {
        "id": "BUfkwIDS5qrs"
      },
      "source": [
        "# 1.Pandas（ファイル入出力編）"
      ]
    },
    {
      "cell_type": "markdown",
      "metadata": {
        "id": "4mf9oGUMVSxh"
      },
      "source": [
        "## 1.0 宣言\n",
        "\n",
        "pandas\n",
        "\n",
        "```python\n",
        "[プログラム]\n",
        "import pandas as pd\n",
        "```\n",
        "\n",
        "（コードを実際に実行してみましょう）"
      ]
    },
    {
      "cell_type": "code",
      "metadata": {
        "id": "vrS3hSBUV9t8"
      },
      "source": [
        "# （実行しましょう）\n",
        "import pandas as pd"
      ],
      "execution_count": 2,
      "outputs": []
    },
    {
      "cell_type": "markdown",
      "metadata": {
        "id": "ZjmfqBtRHOjO"
      },
      "source": [
        "## 1.1 ファイル読み込み\n",
        "\n"
      ]
    },
    {
      "cell_type": "markdown",
      "metadata": {
        "id": "DNCvwdUDEEeY"
      },
      "source": [
        "### 1.1.1 CSV、TSVファイル読み込み\n",
        "\n",
        "* CSV、TSVファイルの読み込みにはread_csv()を利用する。\n",
        "\n",
        "```python\n",
        "[プログラム]\n",
        "csv_file='https://github.com/abenben/starproject-python/raw/master/sampledata/tutorial05/store.csv'\n",
        "df=pd.read_csv(csv_file)\n",
        "df\n",
        "```\n",
        "\n",
        "||店舗名|期首在庫数|売上数|仕入数|\n",
        "|---|---|---|---|---|\n",
        "|**0**|新宿店|100|50|100|\n",
        "|**1**|池袋店|500|200|1000|\n",
        "|**2**|銀座店|800|300|600|\n",
        "|**3**|秋葉原店|300|100|500|\n",
        "|**4**|大手町店|700|200|1000|\n",
        "\n",
        "（コードを書いて実際に確認してみよう）"
      ]
    },
    {
      "cell_type": "code",
      "metadata": {
        "id": "La_9oDAhWMz6"
      },
      "source": [
        "# （ここに記述）"
      ],
      "execution_count": null,
      "outputs": []
    },
    {
      "cell_type": "markdown",
      "metadata": {
        "id": "NWJidQYVqHYb"
      },
      "source": [
        "#### 1.1.1(a) ヘッダー、カラムを指定\n",
        "\n",
        "* ヘッダーやカラムに指定したい位置（インデック番号）を指定する\n",
        "\n",
        "```python\n",
        "[プログラム]\n",
        "csv_file='https://github.com/abenben/starproject-python/raw/master/sampledata/tutorial05/store.csv'\n",
        "df=pd.read_csv(csv_file,index_col=0,header=0)\n",
        "df\n",
        "```\n",
        "\n",
        "|**店舗名**|期首在庫数|売上数|仕入数|\n",
        "|---|---|---|---|\n",
        "|**新宿店**|100|50|100|\n",
        "|**池袋店**|500|200|1000|\n",
        "|**銀座店**|800|300|600|\n",
        "|**秋葉原店**|300|100|500|\n",
        "|**大手町店**|700|200|1000|\n",
        "\n",
        "（コードを書いて実際に確認してみよう）"
      ]
    },
    {
      "cell_type": "code",
      "metadata": {
        "id": "LmWIkzC8h1vl"
      },
      "source": [
        "# （ここに記述）"
      ],
      "execution_count": null,
      "outputs": []
    },
    {
      "cell_type": "markdown",
      "metadata": {
        "id": "fu3-lGuoWc8B"
      },
      "source": [
        "#### 1.1.1(b) ヘッダー・カラムの指定無し\n",
        "\n",
        "* header=Noneを指定する。\n",
        "\n",
        "```python\n",
        "[プログラム]\n",
        "csv_file='https://github.com/abenben/starproject-python/raw/master/sampledata/tutorial05/store.csv'\n",
        "df=pd.read_csv(csv_file,index_col=None,header=None)\n",
        "df\n",
        "```\n",
        "\n",
        "||0|1|2|3|\n",
        "|---|---|---|---|---|\n",
        "|**0**|店舗名|期首在庫数|売上数|仕入数|\n",
        "|**1**|新宿店|100|50|100|\n",
        "|**2**|池袋店|500|200|1000|\n",
        "|**3**|銀座店|800|300|600|\n",
        "|**4**|秋葉原店|300|100|500|\n",
        "|**5**|大手町店|700|200|1000|\n",
        "\n",
        "（コードを書いて実際に確認してみよう）"
      ]
    },
    {
      "cell_type": "code",
      "metadata": {
        "id": "893o2ZQJsVVr"
      },
      "source": [
        "# （ここに記述）"
      ],
      "execution_count": 16,
      "outputs": []
    },
    {
      "cell_type": "markdown",
      "metadata": {
        "id": "mO6ejvB_0QZ1"
      },
      "source": [
        "#### 1.1.1(c) 任意のヘッダーを指定する\n",
        "\n",
        "* namesを利用する。\n",
        "\n",
        "```python\n",
        "[プログラム]\n",
        "csv_file='https://github.com/abenben/starproject-python/raw/master/sampledata/tutorial05/store.csv'\n",
        "df=pd.read_csv(csv_file, index_col=0, header=0,names=list(['店','在庫','売上','仕入']))\n",
        "df\n",
        "```\n",
        "\n",
        "|**店**|在庫|売上|仕入|\n",
        "|---|---|---|---|\n",
        "|**新宿店**|100|50|100|\n",
        "|**池袋店**|500|200|1000|\n",
        "|**銀座店**|800|300|600|\n",
        "|**秋葉原店**|300|100|500|\n",
        "|**大手町店**|700|200|1000|\n",
        "\n",
        "（コードを書いて実際に確認してみよう）"
      ]
    },
    {
      "cell_type": "code",
      "metadata": {
        "id": "IEgk65rZ0T6r"
      },
      "source": [
        "# （ここに記述）"
      ],
      "execution_count": null,
      "outputs": []
    },
    {
      "cell_type": "markdown",
      "metadata": {
        "id": "wHGj9MYRPSfp"
      },
      "source": [
        "#### 1.1.1(d) 列を絞って読み込む\n",
        "\n",
        "```python\n",
        "[プログラム]\n",
        "csv_file='https://github.com/abenben/starproject-python/raw/master/sampledata/tutorial05/store.csv'\n",
        "df=pd.read_csv(csv_file, usecols=['店舗名','売上数'])\n",
        "df\n",
        "```\n",
        "\n",
        "||店舗名|売上数|\n",
        "|---|---|---|\n",
        "|**0**|新宿店|50|\n",
        "|**1**|池袋店|500|\n",
        "|**2**|銀座店|300|\n",
        "|**3**|秋葉原店|100|\n",
        "|**4**|大手町店|200|\n",
        "\n",
        "（コードを書いて実際に確認してみよう）"
      ]
    },
    {
      "cell_type": "code",
      "metadata": {
        "id": "A1wQEDKEPuPu",
        "outputId": "7ffd62a1-95c1-4f97-b187-886e0913b452",
        "colab": {
          "base_uri": "https://localhost:8080/",
          "height": 204
        }
      },
      "source": [
        "# （ここに記述）"
      ],
      "execution_count": null,
      "outputs": [
        {
          "output_type": "execute_result",
          "data": {
            "text/html": [
              "<div>\n",
              "<style scoped>\n",
              "    .dataframe tbody tr th:only-of-type {\n",
              "        vertical-align: middle;\n",
              "    }\n",
              "\n",
              "    .dataframe tbody tr th {\n",
              "        vertical-align: top;\n",
              "    }\n",
              "\n",
              "    .dataframe thead th {\n",
              "        text-align: right;\n",
              "    }\n",
              "</style>\n",
              "<table border=\"1\" class=\"dataframe\">\n",
              "  <thead>\n",
              "    <tr style=\"text-align: right;\">\n",
              "      <th></th>\n",
              "      <th>店舗名</th>\n",
              "      <th>売上数</th>\n",
              "    </tr>\n",
              "  </thead>\n",
              "  <tbody>\n",
              "    <tr>\n",
              "      <th>0</th>\n",
              "      <td>新宿店</td>\n",
              "      <td>50</td>\n",
              "    </tr>\n",
              "    <tr>\n",
              "      <th>1</th>\n",
              "      <td>池袋店</td>\n",
              "      <td>200</td>\n",
              "    </tr>\n",
              "    <tr>\n",
              "      <th>2</th>\n",
              "      <td>銀座店</td>\n",
              "      <td>300</td>\n",
              "    </tr>\n",
              "    <tr>\n",
              "      <th>3</th>\n",
              "      <td>秋葉原店</td>\n",
              "      <td>100</td>\n",
              "    </tr>\n",
              "    <tr>\n",
              "      <th>4</th>\n",
              "      <td>大手町店</td>\n",
              "      <td>200</td>\n",
              "    </tr>\n",
              "  </tbody>\n",
              "</table>\n",
              "</div>"
            ],
            "text/plain": [
              "    店舗名  売上数\n",
              "0   新宿店   50\n",
              "1   池袋店  200\n",
              "2   銀座店  300\n",
              "3  秋葉原店  100\n",
              "4  大手町店  200"
            ]
          },
          "metadata": {
            "tags": []
          },
          "execution_count": 74
        }
      ]
    },
    {
      "cell_type": "markdown",
      "metadata": {
        "id": "SojBe3fdsS6N"
      },
      "source": [
        "#### 1.1.1(e) TSVファイル読み込み\n",
        "\n",
        "* セパレータにタブ（\\t）を指定する。\n",
        "\n",
        "```python\n",
        "[プログラム]\n",
        "tsv_file='https://github.com/abenben/starproject-python/raw/master/sampledata/tutorial05/store.tsv'\n",
        "df=pd.read_csv(tsv_file, index_col=0,sep='\\t')\n",
        "df\n",
        "```\n",
        "\n",
        "||店舗名|期首在庫数|売上数|仕入数|\n",
        "|---|---|---|---|---|\n",
        "|**0**|新宿店|100|50|100|\n",
        "|**1**|池袋店|500|200|1000|\n",
        "|**2**|銀座店|800|300|600|\n",
        "|**3**|秋葉原店|300|100|500|\n",
        "|**4**|大手町店|700|200|1000|\n",
        "\n",
        "（コードを書いて実際に確認してみよう）"
      ]
    },
    {
      "cell_type": "code",
      "metadata": {
        "id": "NMhHG4PKH8Yq"
      },
      "source": [
        "# （ここに記述）"
      ],
      "execution_count": null,
      "outputs": []
    },
    {
      "cell_type": "markdown",
      "metadata": {
        "id": "ILhsMdsqXExs"
      },
      "source": [
        "### 1.1.2 EXCEL読み込み\n",
        "\n",
        "```python\n",
        "[プログラム]\n",
        "excel_file='https://github.com/abenben/starproject-python/raw/master/sampledata/tutorial05/store.xlsx'\n",
        "df=pd.read_excel(excel_file)\n",
        "df\n",
        "```\n",
        "\n",
        "||店舗名|期首在庫数|売上数|仕入数|\n",
        "|---|---|---|---|---|\n",
        "|**0**|新宿店|100|50|100|\n",
        "|**1**|池袋店|500|200|1000|\n",
        "|**2**|銀座店|800|300|600|\n",
        "|**3**|秋葉原店|300|100|500|\n",
        "|**4**|大手町店|700|200|1000|\n",
        "\n",
        "（コードを書いて実際に確認してみよう）"
      ]
    },
    {
      "cell_type": "code",
      "metadata": {
        "id": "7bGjPEE6XHU1"
      },
      "source": [
        "# （ここに記述）"
      ],
      "execution_count": null,
      "outputs": []
    },
    {
      "cell_type": "markdown",
      "metadata": {
        "id": "18VlDpr1Zcg3"
      },
      "source": [
        "### 1.1.3 jsonデータ読み込み\n",
        "\n",
        "#### JSONとは\n",
        "\n",
        "* JSONとはJavaScriptObjectNotationの略。\n",
        "* データ定義文をベースとした軽量なデータ記述言語の1つ。\n",
        "* JavaScript専用のデータ形式ではなう。\n",
        "* 複数の言語間で円滑にデータの受け渡せるうように設計。\n",
        "* JSONの詳しい扱い方は公式ドキュメントを参照ください。\n",
        "* json.org URL : https://www.json.org/jsonja.html\n",
        "\n",
        "```python\n",
        "json_file2='https://github.com/abenben/starproject-python/raw/master/sampledata/tutorial05/store.json'\n",
        "df=pd.read_json(json_file2)\n",
        "df\n",
        "```\n",
        "\n",
        "||期首在庫数|売上数|仕入数|\n",
        "|---|---|---|---|\n",
        "|新宿店|100|50|100|\n",
        "|池袋店|500|200|1000|\n",
        "|銀座店|800|300|600|\n",
        "\n",
        "（コードを書いて実際に確認してみよう）"
      ]
    },
    {
      "cell_type": "code",
      "metadata": {
        "id": "A31QaQspLxvb"
      },
      "source": [
        "# （ここに記述）"
      ],
      "execution_count": 15,
      "outputs": []
    },
    {
      "cell_type": "markdown",
      "metadata": {
        "id": "KAGtKDluXnA0"
      },
      "source": [
        "### 1.1.4 Webサイト上の表を読み込む\n",
        "\n",
        "* Webサイト上のテーブル(tableタグ)を読み込む\n",
        "* 例：Yahoo!株価情報（銘柄：日立）\n",
        "* 複数まとめて読み込んでくれる（株価は２つ目のテーブル）\n",
        "```python\n",
        "[プログラム]\n",
        "from urllib.request import urlopen\n",
        "url = 'https://stocks.finance.yahoo.co.jp/stocks/history/?code=6501.T'\n",
        "f = urlopen(url)\n",
        "html = f.read()\n",
        "df = pd.io.html.read_html(html)\n",
        "df[1]\n",
        "```\n",
        "\n",
        "||\t日付|\t始値|\t高値|\t安値|\t終値|\t出来高|\t調整後終値*|\n",
        "|--|--|--|--|--|--|--|--\n",
        "|0\t|2020年11月9日|\t3548|\t3606|\t3548|\t3591|\t2175200|\t3591|\n",
        "|　：|：|：|：|：|：|：|：|\n",
        "\n",
        "（コードを書いて実際に確認してみよう）"
      ]
    },
    {
      "cell_type": "code",
      "metadata": {
        "id": "np4pR446X66s"
      },
      "source": [
        "# （ここに記述）"
      ],
      "execution_count": null,
      "outputs": []
    },
    {
      "cell_type": "markdown",
      "metadata": {
        "id": "Q-V9dQ1Cf87x"
      },
      "source": [
        "## 1.2 データのマージ\n",
        "\n",
        "複数のデータフレームに含まれる特定のカラムを基に1つにまとめることをマージという。\n",
        "\n",
        "pandasのマージはmerge()を利用する。\n",
        "\n"
      ]
    },
    {
      "cell_type": "markdown",
      "metadata": {
        "id": "e5nxMLiNYE6A"
      },
      "source": [
        "### 1.2.1 1対1のマージ（同じキー名）\n",
        "\n",
        "同じキー名でマージする場合は、mege関数のonオプションを利用する。\n",
        "\n",
        "```python\n",
        "[プログラム1]\n",
        "leftdf = pd.DataFrame({\n",
        "    '身長':[165,181,173],\n",
        "    '体重':[56,68,73],\n",
        "    '名前':['鈴木洋子','田中二郎','鈴木一郎'],\n",
        "})\n",
        "leftdf\n",
        "```\n",
        "\n",
        "||身長|体重|名前|\n",
        "|-|-|-|-|\n",
        "|0|165|56|鈴木洋子|\n",
        "|1|181|68|田中二郎|\n",
        "|2|173|73|鈴木一郎|\n",
        "\n",
        "（コードを書いて実際に確認してみよう）"
      ]
    },
    {
      "cell_type": "code",
      "metadata": {
        "id": "JjEWeHW8Ya7E"
      },
      "source": [
        "# （[プログラム1]をここに記述）"
      ],
      "execution_count": null,
      "outputs": []
    },
    {
      "cell_type": "markdown",
      "metadata": {
        "id": "LKYCZLv5-dKf"
      },
      "source": [
        "```python\n",
        "[プログラム2]\n",
        "rightdf = pd.DataFrame({\n",
        "    '名前':['鈴木洋子','田中二郎','鈴木一郎'],\n",
        "    '国語':[87,86,65],\n",
        "    '数学':[83,90,74],\n",
        "})\n",
        "rightdf\n",
        "```\n",
        "\n",
        "||名前|国語|数学|\n",
        "|-|-|-|-|\n",
        "|0|鈴木洋子|87|83|\n",
        "|1|田中二郎|86|90|\n",
        "|2|鈴木一郎|65|74|\n",
        "\n",
        "（コードを書いて実際に確認してみよう）"
      ]
    },
    {
      "cell_type": "code",
      "metadata": {
        "id": "hOHItJki1jT4"
      },
      "source": [
        "# （[プログラム2]をここに記述）"
      ],
      "execution_count": null,
      "outputs": []
    },
    {
      "cell_type": "markdown",
      "metadata": {
        "id": "z1e2Amdm-er8"
      },
      "source": [
        "```python\n",
        "[プログラム3]\n",
        "pd.merge(leftdf,rightdf,on='名前')\n",
        "```\n",
        "\n",
        "|身長|体重|名前|国語|数学|\n",
        "|-|-|-|-|-|\n",
        "|0|165|56|鈴木洋子|87|83|\n",
        "|1|181|68|田中二郎|86|90|\n",
        "|2|173|73|鈴木一郎|65|74|\n",
        "\n",
        "（コードを書いて実際に確認してみよう）"
      ]
    },
    {
      "cell_type": "code",
      "metadata": {
        "id": "iMsifd241kFl"
      },
      "source": [
        "# （[プログラム3]をここに記述）"
      ],
      "execution_count": null,
      "outputs": []
    },
    {
      "cell_type": "markdown",
      "metadata": {
        "id": "5oy7PH-628Px"
      },
      "source": [
        "### 1.2.2 1対1のマージ（キー名が異なる）\n",
        "\n",
        "異なるキー名でマージする場合は、mege関数のleft_on,right_onオプションを利用する。\n",
        "\n",
        "```python\n",
        "[プログラム1]\n",
        "leftdf = pd.DataFrame({\n",
        "    '身長':[165,181,173],\n",
        "    '体重':[56,68,73],\n",
        "    '名前':['鈴木洋子','田中二郎','鈴木一郎'],\n",
        "})\n",
        "leftdf\n",
        "```\n",
        "\n",
        "||身長|体重|名前|\n",
        "|-|-|-|-|\n",
        "|0|165|56|鈴木洋子|\n",
        "|1|181|68|田中二郎|\n",
        "|2|173|73|鈴木一郎|\n",
        "\n",
        "（コードを書いて実際に確認してみよう）"
      ]
    },
    {
      "cell_type": "code",
      "metadata": {
        "id": "eGccoR6j3Zos"
      },
      "source": [
        "# （[プログラム1]をここに記述）"
      ],
      "execution_count": null,
      "outputs": []
    },
    {
      "cell_type": "markdown",
      "metadata": {
        "id": "tLfhNhgN9wsf"
      },
      "source": [
        "```python\n",
        "[プログラム2]\n",
        "rightdf = pd.DataFrame({\n",
        "    '国語':[87,86,65],\n",
        "    '数学':[83,90,74],\n",
        "    '氏名':['鈴木洋子','田中二郎','鈴木一郎'],\n",
        "})\n",
        "rightdf\n",
        "```\n",
        "\n",
        "||国語|数学|氏名|\n",
        "|-|-|-|-|\n",
        "|0|87|83|鈴木洋子|\n",
        "|1|86|90|田中二郎|\n",
        "|2|65|74|鈴木一郎|\n",
        "\n",
        "（コードを書いて実際に確認してみよう）"
      ]
    },
    {
      "cell_type": "code",
      "metadata": {
        "id": "LlvYPUbD3Z36"
      },
      "source": [
        "# （[プログラム2]をここに記述）"
      ],
      "execution_count": null,
      "outputs": []
    },
    {
      "cell_type": "markdown",
      "metadata": {
        "id": "jsgI0q5n9yBi"
      },
      "source": [
        "```python\n",
        "[プログラム3]\n",
        "pd.merge(leftdf,rightdf,left_on='名前',right_on='氏名')\n",
        "```\n",
        "\n",
        "||身長|体重|名前|国語|数学|氏名|\n",
        "|-|-|-|-|-|-|-|\n",
        "|0|165|56|鈴木洋子|87|83|鈴木洋子|\n",
        "|1|181|68|田中二郎|86|90|田中二郎|\n",
        "|2|173|73|鈴木一郎|65|74|鈴木一郎|\n",
        "\n",
        "（コードを書いて実際に確認してみよう）"
      ]
    },
    {
      "cell_type": "code",
      "metadata": {
        "id": "uBRmNF3E3aBr"
      },
      "source": [
        "# （[プログラム3]をここに記述）"
      ],
      "execution_count": null,
      "outputs": []
    },
    {
      "cell_type": "markdown",
      "metadata": {
        "id": "P1ojlCaLY2IV"
      },
      "source": [
        "### 1.1.3 1対1のマージ（結合方法）\n",
        "\n",
        "* 結合方法(merge関数のhowオプション）\n",
        "\n",
        "|howオプション|概要|\n",
        "|-|-|\n",
        "|inner|内部結合、両方のデータフレームの積集合|\n",
        "|outer|外部結合、両方のデータフレームの和集合|\n",
        "|left|１番目のデータフレームのキーのみ使用|\n",
        "|right|2番目のデータフレームのキーのみ使用|\n",
        "\n",
        "```python\n",
        "[プログラム1]\n",
        "leftdf = pd.DataFrame({\n",
        "    '身長':[165,181,173,160],\n",
        "    '体重':[56,68,73,54],\n",
        "    '名前':['鈴木洋子','田中二郎','鈴木一郎','斎藤美穂子'],\n",
        "})\n",
        "leftdf\n",
        "```\n",
        "\n",
        "||身長|体重|名前|\n",
        "|-|-|-|-|\n",
        "|0|165|56|鈴木洋子|\n",
        "|1|181|68|田中二郎|\n",
        "|2|173|73|鈴木一郎|\n",
        "|3|160|54|鈴木一郎|\n",
        "\n",
        "（コードを書いて実際に確認してみよう）"
      ]
    },
    {
      "cell_type": "code",
      "metadata": {
        "id": "cVBB9FK1Y959"
      },
      "source": [
        "# （[プログラム1]をここに記述）"
      ],
      "execution_count": 14,
      "outputs": []
    },
    {
      "cell_type": "markdown",
      "metadata": {
        "id": "_D3nXdOZ_QWc"
      },
      "source": [
        "```python\n",
        "[プログラム2]\n",
        "rightdf = pd.DataFrame({\n",
        "    '名前':['鈴木洋子','田中二郎','鈴木一郎','佐藤利夫'],\n",
        "    '国語':[87,86,65,50],\n",
        "    '数学':[83,90,74,61],\n",
        "})\n",
        "rightdf\n",
        "```\n",
        "\n",
        "||名前|国語|数学|\n",
        "|-|-|-|-|\n",
        "|0|鈴木洋子|87|83|\n",
        "|1|田中二郎|86|90|\n",
        "|2|鈴木一郎|65|74|\n",
        "|3|佐藤利夫|50|61|\n",
        "\n",
        "（コードを書いて実際に確認してみよう）"
      ]
    },
    {
      "cell_type": "code",
      "metadata": {
        "id": "FHdvNWy17w_D"
      },
      "source": [
        "# （[プログラム2]をここに記述）"
      ],
      "execution_count": 13,
      "outputs": []
    },
    {
      "cell_type": "markdown",
      "metadata": {
        "id": "LzPNCc5N_Vsq"
      },
      "source": [
        "```python\n",
        "[プログラム3]\n",
        "pd.merge(leftdf,rightdf,on='名前',how='inner')\n",
        "```\n",
        "\n",
        "||身長|体重|名前|国語|数学|氏名|\n",
        "|-|-|-|-|-|-|-|\n",
        "|0|165|56|鈴木洋子|87|83|鈴木洋子|\n",
        "|1|181|68|田中二郎|86|90|田中二郎|\n",
        "|2|173|73|鈴木一郎|65|74|鈴木一郎|\n",
        "\n",
        "\n",
        "（コードを書いて実際に確認してみよう）"
      ]
    },
    {
      "cell_type": "code",
      "metadata": {
        "id": "ACo9uOn478Xv"
      },
      "source": [
        "# （[プログラム3]をここに記述）"
      ],
      "execution_count": null,
      "outputs": []
    },
    {
      "cell_type": "markdown",
      "metadata": {
        "id": "K-a88_AO_Zor"
      },
      "source": [
        "```python\n",
        "[プログラム4]\n",
        "pd.merge(leftdf,rightdf,on='名前',how='outer')\n",
        "```\n",
        "\n",
        "||身長|体重|名前|国語|数学|\n",
        "|-|-|-|-|-|-|\n",
        "|0|165|56|鈴木洋子|87|83|\n",
        "|1|181|68|田中二郎|86|90|\n",
        "|2|173|73|鈴木一郎|65|74|\n",
        "|3|160|54|斎藤美穂子|NaN|NaN|\n",
        "|4|NaN|NaN|佐藤利夫|50.0|61.0|\n",
        "\n",
        "（コードを書いて実際に確認してみよう）"
      ]
    },
    {
      "cell_type": "code",
      "metadata": {
        "id": "dsCi9ANa8LqG"
      },
      "source": [
        "# （[プログラム4]をここに記述）"
      ],
      "execution_count": 12,
      "outputs": []
    },
    {
      "cell_type": "markdown",
      "metadata": {
        "id": "2HTrw-Fx_dHB"
      },
      "source": [
        "```python\n",
        "[プログラム5]\n",
        "pd.merge(leftdf,rightdf,on='名前',how='left')\n",
        "```\n",
        "\n",
        "||身長|体重|名前|国語|数学|\n",
        "|-|-|-|-|-|-|\n",
        "|0|165|56|鈴木洋子|87|83|\n",
        "|1|181|68|田中二郎|86|90|\n",
        "|2|173|73|鈴木一郎|65|74|\n",
        "|3|160|54|斎藤美穂子|NaN|NaN|\n",
        "\n",
        "（コードを書いて実際に確認してみよう）"
      ]
    },
    {
      "cell_type": "code",
      "metadata": {
        "id": "uiBfF4YU8L1j"
      },
      "source": [
        "# （[プログラム5]をここに記述）"
      ],
      "execution_count": 10,
      "outputs": []
    },
    {
      "cell_type": "markdown",
      "metadata": {
        "id": "Db2DFJWc_gRJ"
      },
      "source": [
        "```python\n",
        "[プログラム6]\n",
        "pd.merge(leftdf,rightdf,on='名前',how='right')\n",
        "```\n",
        "\n",
        "||身長|体重|名前|国語|数学|\n",
        "|-|-|-|-|-|-|\n",
        "|0|165|56|鈴木洋子|87|83|\n",
        "|1|181|68|田中二郎|86|90|\n",
        "|2|173|73|鈴木一郎|65|74|\n",
        "|4|NaN|NaN|佐藤利夫|50.0|61.0|\n",
        "\n",
        "（コードを書いて実際に確認してみよう）"
      ]
    },
    {
      "cell_type": "code",
      "metadata": {
        "id": "Q1CCbbZw8L_a"
      },
      "source": [
        "# （[プログラム6]をここに記述）"
      ],
      "execution_count": 11,
      "outputs": []
    },
    {
      "cell_type": "markdown",
      "metadata": {
        "id": "NZQN-U-oISPq"
      },
      "source": [
        "## 1.3 データの集計"
      ]
    },
    {
      "cell_type": "markdown",
      "metadata": {
        "id": "3EsX0TD-Igrc"
      },
      "source": [
        "### 1.3.1 データのピボット集計\n",
        "\n",
        "```python\n",
        "[プログラム1]\n",
        "np.random.seed(seed=1)\n",
        "scores = np.random.randint(60, 100, size=50).reshape(10, 5)\n",
        "subs = ['国語', '数学', '理科', '社会', '英語']\n",
        "df = pd.DataFrame(scores,columns=subs)\n",
        "df['部活'] = np.random.choice(['サッカー','野球', 'テニス'], size=10)\n",
        "df['性別'] = np.random.choice(['男','女'], size=10)\n",
        "df\n",
        "```\n",
        "\n",
        "|   |国語|数学|理科|社会|英語|  部活  |性別|\n",
        "|--:|---:|---:|---:|---:|---:|--------|----|\n",
        "|  0|  97|  72|  68|  69|  71|野球    |男  |\n",
        "|  1|  65|  75|  60|  76|  61|野球    |女  |\n",
        "|  2|  72|  67|  66|  85|  80|テニス  |女  |\n",
        "|  3|  97|  78|  80|  71|  88|サッカー|女  |\n",
        "|  4|  89|  74|  64|  83|  83|サッカー|男  |\n",
        "|  5|  90|  92|  82|  73|  69|野球    |女  |\n",
        "|  6|  67|  82|  61|  60|  77|テニス  |女  |\n",
        "|  7|  68|  84|  73|  68|  90|テニス  |男  |\n",
        "|  8|  67|  63|  66|  81|  63|野球    |女  |\n",
        "|  9|  64|  84|  72|  86|  76|サッカー|女  |\n",
        "\n",
        "（コードを書いて実際に確認してみよう）"
      ]
    },
    {
      "cell_type": "code",
      "metadata": {
        "id": "jDbWq3KAIGQq"
      },
      "source": [
        "# （[プログラム1]をここに記述）"
      ],
      "execution_count": 110,
      "outputs": []
    },
    {
      "cell_type": "markdown",
      "metadata": {
        "id": "FpUlbMGeyoDc"
      },
      "source": [
        "```python\n",
        "[プログラム2]\n",
        "pd.pivot_table(df,index='性別',aggfunc=np.mean)\n",
        "```\n",
        "\n",
        "|   |国語 |数学 |理科 |社会 |英語 |\n",
        "|---|----:|----:|----:|----:|----:|\n",
        "|女 |74.57|77.29|69.57|76.00|73.43|\n",
        "|男 |84.67|76.67|68.33|73.33|81.33|\n",
        "\n",
        "（コードを書いて実際に確認してみよう）"
      ]
    },
    {
      "cell_type": "code",
      "metadata": {
        "id": "NXemn6MoIxYX"
      },
      "source": [
        "# （[プログラム2]をここに記述）"
      ],
      "execution_count": 111,
      "outputs": []
    },
    {
      "cell_type": "markdown",
      "metadata": {
        "id": "ex132MUUyrsj"
      },
      "source": [
        "```python\n",
        "[プログラム3]\n",
        "pd.pivot_table(df,index='性別',values='数学')\n",
        "```\n",
        "\n",
        "|   |数学 |\n",
        "|---|----:|\n",
        "|女 |77.29|\n",
        "|男 |76.67|\n",
        "\n",
        "（コードを書いて実際に確認してみよう）"
      ]
    },
    {
      "cell_type": "code",
      "metadata": {
        "id": "X53jTdBeI3fK"
      },
      "source": [
        "# （[プログラム3]をここに記述）"
      ],
      "execution_count": 112,
      "outputs": []
    },
    {
      "cell_type": "markdown",
      "metadata": {
        "id": "2VscyxHtyy4V"
      },
      "source": [
        "```python\n",
        "[プログラム4]\n",
        "pd.pivot_table(df,index='性別',values=['数学','英語'])\n",
        "```\n",
        "\n",
        "|   |数学 |英語 |\n",
        "|---|----:|----:|\n",
        "|女 |77.29|73.43|\n",
        "|男 |76.67|81.33|\n",
        "\n",
        "（コードを書いて実際に確認してみよう）"
      ]
    },
    {
      "cell_type": "code",
      "metadata": {
        "id": "etU5C1GKJBzT"
      },
      "source": [
        "# （[プログラム4]をここに記述）"
      ],
      "execution_count": 113,
      "outputs": []
    },
    {
      "cell_type": "markdown",
      "metadata": {
        "id": "cGP7xt-Iy1ao"
      },
      "source": [
        "```python\n",
        "[プログラム5]\n",
        "pd.pivot_table(df,index='部活',columns='性別',aggfunc=np.mean)\n",
        "```\n",
        "\n",
        "|        |('国語', '女')|('国語', '男')|('数学', '女')|('数学', '男')|('理科', '女')|('理科', '男')|('社会', '女')|('社会', '男')|('英語', '女')|('英語', '男')|\n",
        "|--------|-------------:|-------------:|-------------:|-------------:|-------------:|-------------:|-------------:|-------------:|-------------:|-------------:|\n",
        "|サッカー|          80.5|            89|         81.00|            74|         76.00|            64|         78.50|            83|         82.00|            83|\n",
        "|テニス  |          69.5|            68|         74.50|            84|         63.50|            73|         72.50|            68|         78.50|            90|\n",
        "|野球    |          74.0|            97|         76.67|            72|         69.33|            68|         76.67|            69|         64.33|            71|\n",
        "\n",
        "（コードを書いて実際に確認してみよう）"
      ]
    },
    {
      "cell_type": "code",
      "metadata": {
        "id": "KVUC9VOxJKnR"
      },
      "source": [
        "# （[プログラム5]をここに記述）"
      ],
      "execution_count": 114,
      "outputs": []
    },
    {
      "cell_type": "markdown",
      "metadata": {
        "id": "_Z1fRZF5y35X"
      },
      "source": [
        "```python\n",
        "[プログラム6]\n",
        "pd.pivot_table(df,index=['性別','部活'],aggfunc=np.mean)\n",
        "```\n",
        "\n",
        "|                  |国語|数学 |理科 |社会 |英語 |\n",
        "|------------------|---:|----:|----:|----:|----:|\n",
        "|('女', 'サッカー')|80.5|81.00|76.00|78.50|82.00|\n",
        "|('女', 'テニス')  |69.5|74.50|63.50|72.50|78.50|\n",
        "|('女', '野球')    |74.0|76.67|69.33|76.67|64.33|\n",
        "|('男', 'サッカー')|89.0|74.00|64.00|83.00|83.00|\n",
        "|('男', 'テニス')  |68.0|84.00|73.00|68.00|90.00|\n",
        "|('男', '野球')    |97.0|72.00|68.00|69.00|71.00|\n",
        "\n",
        "（コードを書いて実際に確認してみよう）"
      ]
    },
    {
      "cell_type": "code",
      "metadata": {
        "id": "hqeyLrkXJWy0"
      },
      "source": [
        "# （[プログラム6]をここに記述）"
      ],
      "execution_count": 116,
      "outputs": []
    },
    {
      "cell_type": "markdown",
      "metadata": {
        "id": "jMkXwVY4y52D"
      },
      "source": [
        "```python\n",
        "[プログラム7]\n",
        "pd.pivot_table(df,index=['性別','部活'],values='英語',aggfunc=[np.sum,np.max,np.min])\n",
        "```\n",
        "\n",
        "|                  |('sum', '英語')|('amax', '英語')|('amin', '英語')|\n",
        "|------------------|--------------:|---------------:|---------------:|\n",
        "|('女', 'サッカー')|            164|              88|              76|\n",
        "|('女', 'テニス')  |            157|              80|              77|\n",
        "|('女', '野球')    |            193|              69|              61|\n",
        "|('男', 'サッカー')|             83|              83|              83|\n",
        "|('男', 'テニス')  |             90|              90|              90|\n",
        "|('男', '野球')    |             71|              71|              71|\n",
        "\n",
        "（コードを書いて実際に確認してみよう）"
      ]
    },
    {
      "cell_type": "code",
      "metadata": {
        "id": "xwgz3jn6J9Du"
      },
      "source": [
        "# （[プログラム7]をここに記述）"
      ],
      "execution_count": 117,
      "outputs": []
    },
    {
      "cell_type": "markdown",
      "metadata": {
        "id": "xyTeH3q9y7iI"
      },
      "source": [
        "```python\n",
        "[プログラム8]\n",
        "pd.pivot_table(df,index=['性別','部活'],aggfunc={'英語':np.max,'数学':np.mean})\n",
        "```\n",
        "\n",
        "|                  |('sum', '英語')|('amax', '英語')|('amin', '英語')|\n",
        "|------------------|--------------:|---------------:|---------------:|\n",
        "|('女', 'サッカー')|            164|              88|              76|\n",
        "|('女', 'テニス')  |            157|              80|              77|\n",
        "|('女', '野球')    |            193|              69|              61|\n",
        "|('男', 'サッカー')|             83|              83|              83|\n",
        "|('男', 'テニス')  |             90|              90|              90|\n",
        "|('男', '野球')    |             71|              71|              71|\n",
        "\n",
        "（コードを書いて実際に確認してみよう）"
      ]
    },
    {
      "cell_type": "code",
      "metadata": {
        "id": "1tLMnupnKP1Q"
      },
      "source": [
        "# （[プログラム8]をここに記述）"
      ],
      "execution_count": 118,
      "outputs": []
    },
    {
      "cell_type": "markdown",
      "metadata": {
        "id": "kKdzqnNby9Ta"
      },
      "source": [
        "```python\n",
        "[プログラム9]\n",
        "pd.pivot_table(df,index='部活',values='数学',aggfunc=np.mean,margins=True)\n",
        "```\n",
        "\n",
        "|                  |('sum', '英語')|('amax', '英語')|('amin', '英語')|\n",
        "|------------------|--------------:|---------------:|---------------:|\n",
        "|('女', 'サッカー')|            164|              88|              76|\n",
        "|('女', 'テニス')  |            157|              80|              77|\n",
        "|('女', '野球')    |            193|              69|              61|\n",
        "|('男', 'サッカー')|             83|              83|              83|\n",
        "|('男', 'テニス')  |             90|              90|              90|\n",
        "|('男', '野球')    |             71|              71|              71|\n",
        "\n",
        "（コードを書いて実際に確認してみよう）"
      ]
    },
    {
      "cell_type": "code",
      "metadata": {
        "id": "ZDfJcIdmLWNP"
      },
      "source": [
        "# （[プログラム9]をここに記述）"
      ],
      "execution_count": 119,
      "outputs": []
    },
    {
      "cell_type": "markdown",
      "metadata": {
        "id": "popqY2UMy-5P"
      },
      "source": [
        "```python\n",
        "[プログラム10]\n",
        "pd.pivot_table(df,index='部活',columns='性別',values='数学',aggfunc=np.mean,margins=True)\n",
        "```\n",
        "\n",
        "|                  |('sum', '英語')|('amax', '英語')|('amin', '英語')|\n",
        "|------------------|--------------:|---------------:|---------------:|\n",
        "|('女', 'サッカー')|            164|              88|              76|\n",
        "|('女', 'テニス')  |            157|              80|              77|\n",
        "|('女', '野球')    |            193|              69|              61|\n",
        "|('男', 'サッカー')|             83|              83|              83|\n",
        "|('男', 'テニス')  |             90|              90|              90|\n",
        "|('男', '野球')    |             71|              71|              71|\n",
        "\n",
        "（コードを書いて実際に確認してみよう）"
      ]
    },
    {
      "cell_type": "code",
      "metadata": {
        "id": "fT0aO10_LdLP"
      },
      "source": [
        "# （[プログラム10]をここに記述）"
      ],
      "execution_count": 120,
      "outputs": []
    },
    {
      "cell_type": "markdown",
      "metadata": {
        "id": "CnB6rDrcaofM"
      },
      "source": [
        "### 1.3.2 データのクロス集計\n",
        "\n",
        "```python\n",
        "[プログラム1]\n",
        "import numpy as np\n",
        "np.random.seed(seed = 1)\n",
        "sex = np.random.choice(['男','女'], size=10)\n",
        "eva = np.random.randint(70,100, size=10)\n",
        "city = np.random.choice(['東京','大阪','名古屋'], size=10)\n",
        "div = np.random.choice(['開発','営業','人事','販促'], size=10)\n",
        "dic = {'営業所':city, '部門':div,'性別':sex, '評価':eva}\n",
        "df = pd.DataFrame(dic)\n",
        "df\n",
        "```\n",
        "\n",
        "|   |営業所|部門|性別|評価|\n",
        "|--:|------|----|----|---:|\n",
        "|  0|名古屋|開発|女  |  86|\n",
        "|  1|大阪  |販促|女  |  71|\n",
        "|  2|名古屋|販促|男  |  82|\n",
        "|  3|東京  |営業|男  |  77|\n",
        "|  4|東京  |営業|女  |  83|\n",
        "|  5|名古屋|販促|女  |  98|\n",
        "|  6|東京  |人事|女  |  76|\n",
        "|  7|大阪  |開発|女  |  95|\n",
        "|  8|名古屋|人事|女  |  88|\n",
        "|  9|名古屋|営業|男  |  90|\n",
        "\n",
        "（コードを書いて実際に確認してみよう）"
      ]
    },
    {
      "cell_type": "code",
      "metadata": {
        "id": "msM2yLHgawQi"
      },
      "source": [
        "# （[プログラム1]をここに記述）"
      ],
      "execution_count": 127,
      "outputs": []
    },
    {
      "cell_type": "markdown",
      "metadata": {
        "id": "IW0ONmAuzFA2"
      },
      "source": [
        "```python\n",
        "[プログラム2]\n",
        "pd.crosstab(index=df['性別'],columns=df['営業所'])\n",
        "```\n",
        "\n",
        "|   |名古屋|大阪|東京|\n",
        "|---|-----:|---:|---:|\n",
        "|女 |     3|   2|   2|\n",
        "|男 |     2|   0|   1|\n",
        "\n",
        "（コードを書いて実際に確認してみよう）"
      ]
    },
    {
      "cell_type": "code",
      "metadata": {
        "id": "oMY5h5DKHRsj"
      },
      "source": [
        "# （[プログラム2]をここに記述）"
      ],
      "execution_count": 128,
      "outputs": []
    },
    {
      "cell_type": "markdown",
      "metadata": {
        "id": "JICsG7z4zGQj"
      },
      "source": [
        "```python\n",
        "[プログラム3]\n",
        "pd.crosstab(index=[df['性別'],df['営業所']],columns=df['部門'])\n",
        "```\n",
        "\n",
        "|                |人事|営業|販促|開発|\n",
        "|----------------|---:|---:|---:|---:|\n",
        "|('女', '名古屋')|   1|   0|   1|   1|\n",
        "|('女', '大阪')  |   0|   0|   1|   1|\n",
        "|('女', '東京')  |   1|   1|   0|   0|\n",
        "|('男', '名古屋')|   0|   1|   1|   0|\n",
        "|('男', '東京')  |   0|   1|   0|   0|\n",
        "\n",
        "（コードを書いて実際に確認してみよう）"
      ]
    },
    {
      "cell_type": "code",
      "metadata": {
        "id": "q0DWqrUIHWDC"
      },
      "source": [
        "# （[プログラム3]をここに記述）"
      ],
      "execution_count": 129,
      "outputs": []
    },
    {
      "cell_type": "markdown",
      "metadata": {
        "id": "qYHPtn1ZzHtF"
      },
      "source": [
        "```python\n",
        "[プログラム4]\n",
        "pd.crosstab(index=[df['性別'],df['営業所']],columns=df['部門'],margins=True)\n",
        "```\n",
        "\n",
        "|                |人事|営業|販促|開発|All|\n",
        "|----------------|---:|---:|---:|---:|--:|\n",
        "|('女', '名古屋')|   1|   0|   1|   1|  3|\n",
        "|('女', '大阪')  |   0|   0|   1|   1|  2|\n",
        "|('女', '東京')  |   1|   1|   0|   0|  2|\n",
        "|('男', '名古屋')|   0|   1|   1|   0|  2|\n",
        "|('男', '東京')  |   0|   1|   0|   0|  1|\n",
        "|('All', '')     |   2|   3|   3|   2| 10|\n",
        "\n",
        "（コードを書いて実際に確認してみよう）"
      ]
    },
    {
      "cell_type": "code",
      "metadata": {
        "id": "gsSMO2HLHc9u"
      },
      "source": [
        "# （[プログラム4]をここに記述）"
      ],
      "execution_count": 130,
      "outputs": []
    },
    {
      "cell_type": "markdown",
      "metadata": {
        "id": "Pyw1JGjRzJEO"
      },
      "source": [
        "```python\n",
        "[プログラム5]\n",
        "pd.crosstab(index=df['性別'],columns=df['営業所'],values=df['評価'],aggfunc=np.mean)\n",
        "```\n",
        "\n",
        "|   |名古屋|大阪|東京|\n",
        "|---|-----:|---:|---:|\n",
        "|女 | 90.67|  83|79.5|\n",
        "|男 | 86.00| NaN|77.0|\n",
        "\n",
        "（コードを書いて実際に確認してみよう）"
      ]
    },
    {
      "cell_type": "code",
      "metadata": {
        "id": "cxDhxehjHli9"
      },
      "source": [
        "# （[プログラム5]をここに記述）"
      ],
      "execution_count": 131,
      "outputs": []
    },
    {
      "cell_type": "markdown",
      "metadata": {
        "id": "JRc7jFZ1ZfBh"
      },
      "source": [
        "---\n",
        "---\n",
        "---\n",
        "---\n",
        "---\n",
        "---\n",
        "---\n",
        "# 補足 Pythonの公式な言語リファレンス\n",
        "\n",
        "* 公式なマニュアルはこちらですが、内容は難しいので最初はわかりやすい情報や、本などを参考にしましょう。\n",
        "* 英語\n",
        " * https://docs.python.org/3/reference/index.html\n",
        "* 日本語\n",
        " * https://docs.python.org/ja/3/reference/index.html"
      ]
    }
  ]
}
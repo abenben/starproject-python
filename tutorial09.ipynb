{
  "nbformat": 4,
  "nbformat_minor": 0,
  "metadata": {
    "colab": {
      "name": "tutorial09.ipynb",
      "provenance": [],
      "collapsed_sections": [],
      "toc_visible": true,
      "include_colab_link": true
    },
    "kernelspec": {
      "name": "python3",
      "display_name": "Python 3"
    }
  },
  "cells": [
    {
      "cell_type": "markdown",
      "metadata": {
        "id": "view-in-github",
        "colab_type": "text"
      },
      "source": [
        "<a href=\"https://colab.research.google.com/github/abenben/starproject-python/blob/master/tutorial09.ipynb\" target=\"_parent\"><img src=\"https://colab.research.google.com/assets/colab-badge.svg\" alt=\"Open In Colab\"/></a>"
      ]
    },
    {
      "cell_type": "markdown",
      "metadata": {
        "id": "vGWEolnGYIUx"
      },
      "source": [
        "**Python基礎講座（9日目）**\n",
        "\n",
        "* [「Python・ブロックチェーン講座」の日程](https://www.facebook.com/photo.php?fbid=1186715631679052&set=gm.752573365315679&type=3&theater&ifg=1)"
      ]
    },
    {
      "cell_type": "markdown",
      "metadata": {
        "id": "C2oU4zK9lO2n"
      },
      "source": [
        "---\n",
        "---\n",
        "---\n",
        "本日の講義（データの可視化・Webデータの取得）\n",
        "---\n",
        "---\n",
        "---\n",
        "---\n"
      ]
    },
    {
      "cell_type": "markdown",
      "metadata": {
        "id": "_0sb3Be09QJx"
      },
      "source": [
        "# 1.データの可視化"
      ]
    },
    {
      "cell_type": "markdown",
      "metadata": {
        "id": "BUfkwIDS5qrs"
      },
      "source": [
        "# 2.*Webデータの取得*"
      ]
    },
    {
      "cell_type": "markdown",
      "metadata": {
        "id": "3TiayxkHSO7f"
      },
      "source": [
        "## 1.1 リレーショナルデータベースをPythonから操作しよう"
      ]
    },
    {
      "cell_type": "markdown",
      "metadata": {
        "id": "Y7R_vjyZR9S_"
      },
      "source": [
        "[シェル実行] チュートリアルの事前準備（不要ファイルの削除）"
      ]
    },
    {
      "cell_type": "code",
      "metadata": {
        "id": "pRsn_PhCJ2t0"
      },
      "source": [
        "!rm -r test.db"
      ],
      "execution_count": null,
      "outputs": []
    },
    {
      "cell_type": "markdown",
      "metadata": {
        "id": "wO83ZEPhSCdw"
      },
      "source": [
        "[シェル実行] リレーショナルデータベース（SQLite）のインストール"
      ]
    },
    {
      "cell_type": "code",
      "metadata": {
        "id": "dlluq1hwIdiA"
      },
      "source": [
        "!sudo apt-get install -y sqlite3"
      ],
      "execution_count": null,
      "outputs": []
    },
    {
      "cell_type": "markdown",
      "metadata": {
        "id": "HEO1lnzJScMq"
      },
      "source": [
        "1.1.0 パッケージのインポート"
      ]
    },
    {
      "cell_type": "markdown",
      "metadata": {
        "id": "4mf9oGUMVSxh"
      },
      "source": [
        "\n",
        "```python\n",
        "[プログラム]\n",
        "import sqlite3\n",
        "```\n",
        "\n",
        "（コードを実際に実行してみましょう）"
      ]
    },
    {
      "cell_type": "code",
      "metadata": {
        "id": "XtdLZTywN-gz"
      },
      "source": [
        "import sqlite3"
      ],
      "execution_count": null,
      "outputs": []
    },
    {
      "cell_type": "markdown",
      "metadata": {
        "id": "c_eB0jK0sthD"
      },
      "source": [
        "何のドメイン（業務やサービスの種類）かに併せてデータベース名を決める"
      ]
    },
    {
      "cell_type": "code",
      "metadata": {
        "id": "LtiNHrZ2OYMV"
      },
      "source": [
        "dbname = 'test.db'"
      ],
      "execution_count": null,
      "outputs": []
    },
    {
      "cell_type": "markdown",
      "metadata": {
        "id": "IRHDFWUSPOy2"
      },
      "source": [
        "### 1.1.1 データベース作成"
      ]
    },
    {
      "cell_type": "code",
      "metadata": {
        "id": "McjZ0poYsASF"
      },
      "source": [
        "dbname = 'test.db'\n",
        "con=sqlite3.connect(dbname)"
      ],
      "execution_count": null,
      "outputs": []
    },
    {
      "cell_type": "markdown",
      "metadata": {
        "id": "JeWII-JRR3Bk"
      },
      "source": [
        "[シェル実行] コマンドからテーブルの有無を確認"
      ]
    },
    {
      "cell_type": "code",
      "metadata": {
        "id": "z7UEdYQlIlZr"
      },
      "source": [
        "!sqlite3 test.db \".tables\""
      ],
      "execution_count": null,
      "outputs": []
    },
    {
      "cell_type": "markdown",
      "metadata": {
        "id": "JRc7jFZ1ZfBh"
      },
      "source": [
        "---\n",
        "---\n",
        "---\n",
        "---\n",
        "---\n",
        "---\n",
        "---\n",
        "# 補足 Pythonの公式な言語リファレンス\n",
        "\n",
        "* 公式なマニュアルはこちらですが、内容は難しいので最初はわかりやすい情報や、本などを参考にしましょう。\n",
        "* 英語\n",
        " * https://docs.python.org/3/reference/index.html\n",
        "* 日本語\n",
        " * https://docs.python.org/ja/3/reference/index.html"
      ]
    }
  ]
}

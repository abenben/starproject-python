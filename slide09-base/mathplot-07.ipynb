{
  "nbformat": 4,
  "nbformat_minor": 0,
  "metadata": {
    "kernelspec": {
      "display_name": "Python 3",
      "language": "python",
      "name": "python3"
    },
    "language_info": {
      "codemirror_mode": {
        "name": "ipython",
        "version": 3
      },
      "file_extension": ".py",
      "mimetype": "text/x-python",
      "name": "python",
      "nbconvert_exporter": "python",
      "pygments_lexer": "ipython3",
      "version": "3.8.2"
    },
    "colab": {
      "name": "mathplot-07.ipynb",
      "provenance": [],
      "include_colab_link": true
    }
  },
  "cells": [
    {
      "cell_type": "markdown",
      "metadata": {
        "id": "view-in-github",
        "colab_type": "text"
      },
      "source": [
        "<a href=\"https://colab.research.google.com/github/abenben/starproject-python/blob/master/slide09-base/mathplot-07.ipynb\" target=\"_parent\"><img src=\"https://colab.research.google.com/assets/colab-badge.svg\" alt=\"Open In Colab\"/></a>"
      ]
    },
    {
      "cell_type": "markdown",
      "metadata": {
        "id": "VAw38kJvSxoo"
      },
      "source": [
        "## 2.7.円グラフ(matplotlib)"
      ]
    },
    {
      "cell_type": "code",
      "metadata": {
        "id": "gIZ-e6lLVA6j",
        "outputId": "fcaeeff6-25c0-474b-e8f7-677b91b5c824",
        "colab": {
          "base_uri": "https://localhost:8080/"
        }
      },
      "source": [
        "!pip install japanize-matplotlib"
      ],
      "execution_count": 1,
      "outputs": [
        {
          "output_type": "stream",
          "text": [
            "Requirement already satisfied: japanize-matplotlib in /usr/local/lib/python3.6/dist-packages (1.1.3)\n",
            "Requirement already satisfied: matplotlib in /usr/local/lib/python3.6/dist-packages (from japanize-matplotlib) (3.2.2)\n",
            "Requirement already satisfied: kiwisolver>=1.0.1 in /usr/local/lib/python3.6/dist-packages (from matplotlib->japanize-matplotlib) (1.3.1)\n",
            "Requirement already satisfied: numpy>=1.11 in /usr/local/lib/python3.6/dist-packages (from matplotlib->japanize-matplotlib) (1.18.5)\n",
            "Requirement already satisfied: cycler>=0.10 in /usr/local/lib/python3.6/dist-packages (from matplotlib->japanize-matplotlib) (0.10.0)\n",
            "Requirement already satisfied: pyparsing!=2.0.4,!=2.1.2,!=2.1.6,>=2.0.1 in /usr/local/lib/python3.6/dist-packages (from matplotlib->japanize-matplotlib) (2.4.7)\n",
            "Requirement already satisfied: python-dateutil>=2.1 in /usr/local/lib/python3.6/dist-packages (from matplotlib->japanize-matplotlib) (2.8.1)\n",
            "Requirement already satisfied: six in /usr/local/lib/python3.6/dist-packages (from cycler>=0.10->matplotlib->japanize-matplotlib) (1.15.0)\n"
          ],
          "name": "stdout"
        }
      ]
    },
    {
      "cell_type": "code",
      "metadata": {
        "id": "yvp3CkDBUJxI"
      },
      "source": [
        "import matplotlib.pyplot as plt\n",
        "import japanize_matplotlib \n",
        "\n",
        "import warnings\n",
        "warnings.filterwarnings(\"ignore\", module=\"matplotlib\")\n",
        "\n",
        "%matplotlib inline"
      ],
      "execution_count": 2,
      "outputs": []
    },
    {
      "cell_type": "code",
      "metadata": {
        "id": "SqwB09TySxoo",
        "outputId": "4eb8db48-6a3c-4ee5-fc22-21962f6a3f90",
        "colab": {
          "base_uri": "https://localhost:8080/",
          "height": 356
        }
      },
      "source": [
        "# 2.7.1　円グラフの描画\n",
        "\n",
        "# データの作成\n",
        "labels = [\"バス\", \"車\", \"自転車\"]\n",
        "sizes = [320, 270, 150]\n",
        "fig, ax = plt.subplots(1, 1)\n",
        "\n",
        "# 円グラフの描画\n",
        "ax.pie(sizes, labels=labels)"
      ],
      "execution_count": 3,
      "outputs": [
        {
          "output_type": "execute_result",
          "data": {
            "text/plain": [
              "([<matplotlib.patches.Wedge at 0x7fdb70448b00>,\n",
              "  <matplotlib.patches.Wedge at 0x7fdb7045c080>,\n",
              "  <matplotlib.patches.Wedge at 0x7fdb7045c588>],\n",
              " [Text(0.231747161621997, 1.0753107704659841, 'バス'),\n",
              "  Text(-0.8257395081931929, -0.7267422270715141, '車'),\n",
              "  Text(0.8843968467139554, -0.6540964894588664, '自転車')])"
            ]
          },
          "metadata": {
            "tags": []
          },
          "execution_count": 3
        },
        {
          "output_type": "display_data",
          "data": {
            "image/png": "[encoded data removed]",
            "text/plain": [
              "<Figure size 432x288 with 1 Axes>"
            ]
          },
          "metadata": {
            "tags": []
          }
        }
      ]
    },
    {
      "cell_type": "code",
      "metadata": {
        "id": "r2LH6xAmSxoq",
        "outputId": "f0e7da28-7768-45dd-fc6c-a0c69d14cda6",
        "colab": {
          "base_uri": "https://localhost:8080/",
          "height": 508
        }
      },
      "source": [
        "# 2.7.2　円グラフと軸の関係を描画\n",
        "\n",
        "fig, ax = plt.subplots(1, 1)\n",
        "ax.pie(sizes, labels=labels, frame=True)\n",
        "ax.text(-0.3, 0, \"(0, 0)\", fontsize=9)"
      ],
      "execution_count": 4,
      "outputs": [
        {
          "output_type": "execute_result",
          "data": {
            "text/plain": [
              "Text(-0.3, 0, '(0, 0)')"
            ]
          },
          "metadata": {
            "tags": []
          },
          "execution_count": 4
        },
        {
          "output_type": "display_data",
          "data": {
            "image/png": "[encoded data removed]",
            "text/plain": [
              "<Figure size 432x288 with 1 Axes>"
            ]
          },
          "metadata": {
            "tags": [],
            "needs_background": "light"
          }
        }
      ]
    },
    {
      "cell_type": "code",
      "metadata": {
        "id": "3wIp7ds0Sxoq",
        "outputId": "223be27f-9ffa-4c21-ec6b-f903d75cd86b",
        "colab": {
          "base_uri": "https://localhost:8080/",
          "height": 390
        }
      },
      "source": [
        "# 2.7.3　anime_genre_top10_pivoted.csv ファイルの読み込み\n",
        "\n",
        "from urllib.parse import urljoin\n",
        "import pandas as pd\n",
        "\n",
        "base_url = \"https://raw.githubusercontent.com/practical-jupyter/sample-data/master/anime/\"\n",
        "anime_genre_top10_pivoted_csv = urljoin(\n",
        "    base_url, \"anime_genre_top10_pivoted.csv\"\n",
        ")\n",
        "df = pd.read_csv(anime_genre_top10_pivoted_csv, index_col=\"genre\")\n",
        "df"
      ],
      "execution_count": 5,
      "outputs": [
        {
          "output_type": "execute_result",
          "data": {
            "text/html": [
              "<div>\n",
              "<style scoped>\n",
              "    .dataframe tbody tr th:only-of-type {\n",
              "        vertical-align: middle;\n",
              "    }\n",
              "\n",
              "    .dataframe tbody tr th {\n",
              "        vertical-align: top;\n",
              "    }\n",
              "\n",
              "    .dataframe thead th {\n",
              "        text-align: right;\n",
              "    }\n",
              "</style>\n",
              "<table border=\"1\" class=\"dataframe\">\n",
              "  <thead>\n",
              "    <tr style=\"text-align: right;\">\n",
              "      <th></th>\n",
              "      <th>Movie</th>\n",
              "      <th>Music</th>\n",
              "      <th>ONA</th>\n",
              "      <th>OVA</th>\n",
              "      <th>Special</th>\n",
              "      <th>TV</th>\n",
              "    </tr>\n",
              "    <tr>\n",
              "      <th>genre</th>\n",
              "      <th></th>\n",
              "      <th></th>\n",
              "      <th></th>\n",
              "      <th></th>\n",
              "      <th></th>\n",
              "      <th></th>\n",
              "    </tr>\n",
              "  </thead>\n",
              "  <tbody>\n",
              "    <tr>\n",
              "      <th>Comedy</th>\n",
              "      <td>7293127.0</td>\n",
              "      <td>20860.0</td>\n",
              "      <td>1477266.0</td>\n",
              "      <td>5614758.0</td>\n",
              "      <td>6659293.0</td>\n",
              "      <td>65420862.0</td>\n",
              "    </tr>\n",
              "    <tr>\n",
              "      <th>Action</th>\n",
              "      <td>10224960.0</td>\n",
              "      <td>77054.0</td>\n",
              "      <td>524907.0</td>\n",
              "      <td>5793680.0</td>\n",
              "      <td>3412689.0</td>\n",
              "      <td>63364032.0</td>\n",
              "    </tr>\n",
              "    <tr>\n",
              "      <th>Drama</th>\n",
              "      <td>9034099.0</td>\n",
              "      <td>100734.0</td>\n",
              "      <td>188427.0</td>\n",
              "      <td>3043374.0</td>\n",
              "      <td>1915578.0</td>\n",
              "      <td>41011557.0</td>\n",
              "    </tr>\n",
              "    <tr>\n",
              "      <th>Romance</th>\n",
              "      <td>5245386.0</td>\n",
              "      <td>42811.0</td>\n",
              "      <td>411331.0</td>\n",
              "      <td>3143167.0</td>\n",
              "      <td>2015820.0</td>\n",
              "      <td>40703388.0</td>\n",
              "    </tr>\n",
              "    <tr>\n",
              "      <th>Supernatural</th>\n",
              "      <td>5452779.0</td>\n",
              "      <td>9189.0</td>\n",
              "      <td>192989.0</td>\n",
              "      <td>2696715.0</td>\n",
              "      <td>2336723.0</td>\n",
              "      <td>38956520.0</td>\n",
              "    </tr>\n",
              "    <tr>\n",
              "      <th>Fantasy</th>\n",
              "      <td>8019406.0</td>\n",
              "      <td>43962.0</td>\n",
              "      <td>188937.0</td>\n",
              "      <td>2754224.0</td>\n",
              "      <td>2504131.0</td>\n",
              "      <td>34932563.0</td>\n",
              "    </tr>\n",
              "    <tr>\n",
              "      <th>Shounen</th>\n",
              "      <td>5698808.0</td>\n",
              "      <td>NaN</td>\n",
              "      <td>97833.0</td>\n",
              "      <td>3861296.0</td>\n",
              "      <td>2591988.0</td>\n",
              "      <td>35532847.0</td>\n",
              "    </tr>\n",
              "    <tr>\n",
              "      <th>School</th>\n",
              "      <td>1512533.0</td>\n",
              "      <td>5496.0</td>\n",
              "      <td>523223.0</td>\n",
              "      <td>2417660.0</td>\n",
              "      <td>2661425.0</td>\n",
              "      <td>35489099.0</td>\n",
              "    </tr>\n",
              "    <tr>\n",
              "      <th>Adventure</th>\n",
              "      <td>9485223.0</td>\n",
              "      <td>42829.0</td>\n",
              "      <td>70431.0</td>\n",
              "      <td>2373765.0</td>\n",
              "      <td>2052024.0</td>\n",
              "      <td>27529975.0</td>\n",
              "    </tr>\n",
              "    <tr>\n",
              "      <th>Sci-Fi</th>\n",
              "      <td>6967146.0</td>\n",
              "      <td>154801.0</td>\n",
              "      <td>415311.0</td>\n",
              "      <td>3358525.0</td>\n",
              "      <td>1616450.0</td>\n",
              "      <td>28072322.0</td>\n",
              "    </tr>\n",
              "  </tbody>\n",
              "</table>\n",
              "</div>"
            ],
            "text/plain": [
              "                   Movie     Music        ONA        OVA    Special          TV\n",
              "genre                                                                          \n",
              "Comedy         7293127.0   20860.0  1477266.0  5614758.0  6659293.0  65420862.0\n",
              "Action        10224960.0   77054.0   524907.0  5793680.0  3412689.0  63364032.0\n",
              "Drama          9034099.0  100734.0   188427.0  3043374.0  1915578.0  41011557.0\n",
              "Romance        5245386.0   42811.0   411331.0  3143167.0  2015820.0  40703388.0\n",
              "Supernatural   5452779.0    9189.0   192989.0  2696715.0  2336723.0  38956520.0\n",
              "Fantasy        8019406.0   43962.0   188937.0  2754224.0  2504131.0  34932563.0\n",
              "Shounen        5698808.0       NaN    97833.0  3861296.0  2591988.0  35532847.0\n",
              "School         1512533.0    5496.0   523223.0  2417660.0  2661425.0  35489099.0\n",
              "Adventure      9485223.0   42829.0    70431.0  2373765.0  2052024.0  27529975.0\n",
              "Sci-Fi         6967146.0  154801.0   415311.0  3358525.0  1616450.0  28072322.0"
            ]
          },
          "metadata": {
            "tags": []
          },
          "execution_count": 5
        }
      ]
    },
    {
      "cell_type": "code",
      "metadata": {
        "id": "lkrzaqScSxoq"
      },
      "source": [
        "# 2.7.4　データの並べ替え\n",
        "\n",
        "# TV\n",
        "df_tv = df[\"TV\"].sort_values(ascending=False)\n",
        "\n",
        "# Movie\n",
        "df_movie = df[\"Movie\"].sort_values(ascending=False)"
      ],
      "execution_count": 6,
      "outputs": []
    },
    {
      "cell_type": "code",
      "metadata": {
        "id": "nBnBS9O3Sxoq",
        "outputId": "6967dd4e-9836-4ec8-8fec-d5f1b7bd2990",
        "colab": {
          "base_uri": "https://localhost:8080/"
        }
      },
      "source": [
        "# 2.7.5　データを降順に並べ替え（TV および Movie）\n",
        "df_tv, df_movie"
      ],
      "execution_count": 7,
      "outputs": [
        {
          "output_type": "execute_result",
          "data": {
            "text/plain": [
              "(genre\n",
              " Comedy          65420862.0\n",
              " Action          63364032.0\n",
              " Drama           41011557.0\n",
              " Romance         40703388.0\n",
              " Supernatural    38956520.0\n",
              " Shounen         35532847.0\n",
              " School          35489099.0\n",
              " Fantasy         34932563.0\n",
              " Sci-Fi          28072322.0\n",
              " Adventure       27529975.0\n",
              " Name: TV, dtype: float64, genre\n",
              " Action          10224960.0\n",
              " Adventure        9485223.0\n",
              " Drama            9034099.0\n",
              " Fantasy          8019406.0\n",
              " Comedy           7293127.0\n",
              " Sci-Fi           6967146.0\n",
              " Shounen          5698808.0\n",
              " Supernatural     5452779.0\n",
              " Romance          5245386.0\n",
              " School           1512533.0\n",
              " Name: Movie, dtype: float64)"
            ]
          },
          "metadata": {
            "tags": []
          },
          "execution_count": 7
        }
      ]
    },
    {
      "cell_type": "code",
      "metadata": {
        "id": "Rohbuo8USxoq",
        "outputId": "d1f2516d-d6f1-423b-a993-763d1138d9bc",
        "colab": {
          "base_uri": "https://localhost:8080/",
          "height": 216
        }
      },
      "source": [
        "# 2.7.6　TV と Movie とのジャンル内訳比較のための円グラフを描画（デフォルト）\n",
        "\n",
        "fig, axes = plt.subplots(1, 2)\n",
        "\n",
        "# TVの円グラフ\n",
        "axes[0].pie(df_tv, labels=df_tv.index, startangle=90, counterclock=False)\n",
        "\n",
        "# Movieの円グラフ\n",
        "axes[1].pie(df_movie, labels=df_movie.index, startangle=90, counterclock=False)\n",
        "axes[0].set_title(\"TV\")\n",
        "axes[1].set_title(\"Movie\")"
      ],
      "execution_count": 8,
      "outputs": [
        {
          "output_type": "execute_result",
          "data": {
            "text/plain": [
              "Text(0.5, 1.0, 'Movie')"
            ]
          },
          "metadata": {
            "tags": []
          },
          "execution_count": 8
        },
        {
          "output_type": "display_data",
          "data": {
            "image/png": "[encoded data removed]",
            "text/plain": [
              "<Figure size 432x288 with 2 Axes>"
            ]
          },
          "metadata": {
            "tags": []
          }
        }
      ]
    },
    {
      "cell_type": "code",
      "metadata": {
        "id": "QPt-tXUeSxoq",
        "outputId": "791ed5fe-7c24-4638-b8ff-431b1ce8338a",
        "colab": {
          "base_uri": "https://localhost:8080/",
          "height": 390
        }
      },
      "source": [
        "# 2.7.7　Color 列の追加\n",
        "\n",
        "df[\"Color\"] = [\n",
        "    \"gold\",\n",
        "    \"orangered\",\n",
        "    \"plum\",\n",
        "    \"pink\",\n",
        "    \"orchid\",\n",
        "    \"lightseagreen\",\n",
        "    \"lightskyblue\",\n",
        "    \"yellowgreen\",\n",
        "    \"coral\",\n",
        "    \"cornflowerblue\",\n",
        "]\n",
        "df"
      ],
      "execution_count": 9,
      "outputs": [
        {
          "output_type": "execute_result",
          "data": {
            "text/html": [
              "<div>\n",
              "<style scoped>\n",
              "    .dataframe tbody tr th:only-of-type {\n",
              "        vertical-align: middle;\n",
              "    }\n",
              "\n",
              "    .dataframe tbody tr th {\n",
              "        vertical-align: top;\n",
              "    }\n",
              "\n",
              "    .dataframe thead th {\n",
              "        text-align: right;\n",
              "    }\n",
              "</style>\n",
              "<table border=\"1\" class=\"dataframe\">\n",
              "  <thead>\n",
              "    <tr style=\"text-align: right;\">\n",
              "      <th></th>\n",
              "      <th>Movie</th>\n",
              "      <th>Music</th>\n",
              "      <th>ONA</th>\n",
              "      <th>OVA</th>\n",
              "      <th>Special</th>\n",
              "      <th>TV</th>\n",
              "      <th>Color</th>\n",
              "    </tr>\n",
              "    <tr>\n",
              "      <th>genre</th>\n",
              "      <th></th>\n",
              "      <th></th>\n",
              "      <th></th>\n",
              "      <th></th>\n",
              "      <th></th>\n",
              "      <th></th>\n",
              "      <th></th>\n",
              "    </tr>\n",
              "  </thead>\n",
              "  <tbody>\n",
              "    <tr>\n",
              "      <th>Comedy</th>\n",
              "      <td>7293127.0</td>\n",
              "      <td>20860.0</td>\n",
              "      <td>1477266.0</td>\n",
              "      <td>5614758.0</td>\n",
              "      <td>6659293.0</td>\n",
              "      <td>65420862.0</td>\n",
              "      <td>gold</td>\n",
              "    </tr>\n",
              "    <tr>\n",
              "      <th>Action</th>\n",
              "      <td>10224960.0</td>\n",
              "      <td>77054.0</td>\n",
              "      <td>524907.0</td>\n",
              "      <td>5793680.0</td>\n",
              "      <td>3412689.0</td>\n",
              "      <td>63364032.0</td>\n",
              "      <td>orangered</td>\n",
              "    </tr>\n",
              "    <tr>\n",
              "      <th>Drama</th>\n",
              "      <td>9034099.0</td>\n",
              "      <td>100734.0</td>\n",
              "      <td>188427.0</td>\n",
              "      <td>3043374.0</td>\n",
              "      <td>1915578.0</td>\n",
              "      <td>41011557.0</td>\n",
              "      <td>plum</td>\n",
              "    </tr>\n",
              "    <tr>\n",
              "      <th>Romance</th>\n",
              "      <td>5245386.0</td>\n",
              "      <td>42811.0</td>\n",
              "      <td>411331.0</td>\n",
              "      <td>3143167.0</td>\n",
              "      <td>2015820.0</td>\n",
              "      <td>40703388.0</td>\n",
              "      <td>pink</td>\n",
              "    </tr>\n",
              "    <tr>\n",
              "      <th>Supernatural</th>\n",
              "      <td>5452779.0</td>\n",
              "      <td>9189.0</td>\n",
              "      <td>192989.0</td>\n",
              "      <td>2696715.0</td>\n",
              "      <td>2336723.0</td>\n",
              "      <td>38956520.0</td>\n",
              "      <td>orchid</td>\n",
              "    </tr>\n",
              "    <tr>\n",
              "      <th>Fantasy</th>\n",
              "      <td>8019406.0</td>\n",
              "      <td>43962.0</td>\n",
              "      <td>188937.0</td>\n",
              "      <td>2754224.0</td>\n",
              "      <td>2504131.0</td>\n",
              "      <td>34932563.0</td>\n",
              "      <td>lightseagreen</td>\n",
              "    </tr>\n",
              "    <tr>\n",
              "      <th>Shounen</th>\n",
              "      <td>5698808.0</td>\n",
              "      <td>NaN</td>\n",
              "      <td>97833.0</td>\n",
              "      <td>3861296.0</td>\n",
              "      <td>2591988.0</td>\n",
              "      <td>35532847.0</td>\n",
              "      <td>lightskyblue</td>\n",
              "    </tr>\n",
              "    <tr>\n",
              "      <th>School</th>\n",
              "      <td>1512533.0</td>\n",
              "      <td>5496.0</td>\n",
              "      <td>523223.0</td>\n",
              "      <td>2417660.0</td>\n",
              "      <td>2661425.0</td>\n",
              "      <td>35489099.0</td>\n",
              "      <td>yellowgreen</td>\n",
              "    </tr>\n",
              "    <tr>\n",
              "      <th>Adventure</th>\n",
              "      <td>9485223.0</td>\n",
              "      <td>42829.0</td>\n",
              "      <td>70431.0</td>\n",
              "      <td>2373765.0</td>\n",
              "      <td>2052024.0</td>\n",
              "      <td>27529975.0</td>\n",
              "      <td>coral</td>\n",
              "    </tr>\n",
              "    <tr>\n",
              "      <th>Sci-Fi</th>\n",
              "      <td>6967146.0</td>\n",
              "      <td>154801.0</td>\n",
              "      <td>415311.0</td>\n",
              "      <td>3358525.0</td>\n",
              "      <td>1616450.0</td>\n",
              "      <td>28072322.0</td>\n",
              "      <td>cornflowerblue</td>\n",
              "    </tr>\n",
              "  </tbody>\n",
              "</table>\n",
              "</div>"
            ],
            "text/plain": [
              "                   Movie     Music  ...          TV           Color\n",
              "genre                               ...                            \n",
              "Comedy         7293127.0   20860.0  ...  65420862.0            gold\n",
              "Action        10224960.0   77054.0  ...  63364032.0       orangered\n",
              "Drama          9034099.0  100734.0  ...  41011557.0            plum\n",
              "Romance        5245386.0   42811.0  ...  40703388.0            pink\n",
              "Supernatural   5452779.0    9189.0  ...  38956520.0          orchid\n",
              "Fantasy        8019406.0   43962.0  ...  34932563.0   lightseagreen\n",
              "Shounen        5698808.0       NaN  ...  35532847.0    lightskyblue\n",
              "School         1512533.0    5496.0  ...  35489099.0     yellowgreen\n",
              "Adventure      9485223.0   42829.0  ...  27529975.0           coral\n",
              "Sci-Fi         6967146.0  154801.0  ...  28072322.0  cornflowerblue\n",
              "\n",
              "[10 rows x 7 columns]"
            ]
          },
          "metadata": {
            "tags": []
          },
          "execution_count": 9
        }
      ]
    },
    {
      "cell_type": "code",
      "metadata": {
        "id": "Dhnu_PU9Sxoq"
      },
      "source": [
        "# 2.7.8　データを降順にソート\n",
        "\n",
        "# TV\n",
        "df_tv_color = df[[\"TV\", \"Color\"]].sort_values(by=\"TV\", ascending=False)\n",
        "\n",
        "# Movie\n",
        "df_movie_color = df[[\"Movie\", \"Color\"]].sort_values(by=\"Movie\", ascending=False)"
      ],
      "execution_count": 10,
      "outputs": []
    },
    {
      "cell_type": "code",
      "metadata": {
        "id": "FpeeuecnSxoq",
        "outputId": "64bc4a40-fe6c-4dbe-ce9c-505ec2e4967c",
        "colab": {
          "base_uri": "https://localhost:8080/",
          "height": 170
        }
      },
      "source": [
        "# 2.7.9　TV と Movie とのジャンル内訳比較のための円グラフを描画\n",
        "\n",
        "fig, axes = plt.subplots(1, 2)\n",
        "\n",
        "# TVの円グラフ\n",
        "axes[0].pie(\n",
        "    df_tv_color[\"TV\"],\n",
        "    labels=df_tv_color.index,\n",
        "    colors=df_tv_color[\"Color\"],\n",
        "    autopct=\"%1.0f%%\",\n",
        "    startangle=90,\n",
        "    counterclock=False,\n",
        ")\n",
        "\n",
        "# Movieの円グラフ\n",
        "axes[1].pie(\n",
        "    df_movie_color[\"Movie\"],\n",
        "    labels=df_movie_color.index,\n",
        "    colors=df_movie_color[\"Color\"],\n",
        "    autopct=\"%1.0f%%\",\n",
        "    startangle=90,\n",
        "    counterclock=False,\n",
        ")\n",
        "axes[0].set_title(\"TV\")\n",
        "axes[1].set_title(\"Movie\")\n",
        "\n",
        "# サブプロット間のスペース調整\n",
        "fig.subplots_adjust(wspace=0.7)"
      ],
      "execution_count": 11,
      "outputs": [
        {
          "output_type": "display_data",
          "data": {
            "image/png": "[encoded data removed]",
            "text/plain": [
              "<Figure size 432x288 with 2 Axes>"
            ]
          },
          "metadata": {
            "tags": []
          }
        }
      ]
    }
  ]
}